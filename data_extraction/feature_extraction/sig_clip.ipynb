{
 "cells": [
  {
   "cell_type": "code",
   "id": "initial_id",
   "metadata": {
    "collapsed": true,
    "ExecuteTime": {
     "end_time": "2024-10-13T18:14:59.403261Z",
     "start_time": "2024-10-13T18:14:58.138879Z"
    }
   },
   "source": [
    "import os\n",
    "import glob\n",
    "import torch\n",
    "import torch.nn.functional as F\n",
    "import numpy as np\n",
    "from PIL import Image\n",
    "from open_clip import create_model_from_pretrained\n",
    "from tqdm import tqdm\n",
    "\n",
    "class FeatureExtractor:\n",
    "    def __init__(self, model_name=\"hf-hub:timm/ViT-SO400M-14-SigLIP-384\", keyframes_dir=None, device=None):\n",
    "        self.device = device if device else ('cuda' if torch.cuda.is_available() else 'cpu')\n",
    "        print(f\"Using device: {self.device}\")\n",
    "        \n",
    "        # Initialize model and preprocessor\n",
    "        self.model, self.preprocess = create_model_from_pretrained(model_name)\n",
    "        self.model = self.model.to(self.device)\n",
    "        self.model.eval()\n",
    "\n",
    "        self.keyframes_dir = keyframes_dir\n",
    "        self.keyframe_paths = self._collect_keyframe_paths()\n",
    "\n",
    "    def _collect_keyframe_paths(self):\n",
    "        \"\"\"\n",
    "        Collects all keyframe paths from the specified directory.\n",
    "\n",
    "        Output:\n",
    "            - A dictionary where each key corresponds to a part (e.g., 'part_x') and\n",
    "              each value is another dictionary mapping video IDs to a list of keyframe paths.\n",
    "\n",
    "        Example Output Format:\n",
    "            {\n",
    "                'part_1': {\n",
    "                    'video_001': ['/path/to/keyframe1.jpg', '/path/to/keyframe2.jpg', ...],\n",
    "                    'video_002': [...],\n",
    "                    ...\n",
    "                },\n",
    "                'part_2': {...},\n",
    "                ...\n",
    "            }\n",
    "        \"\"\"\n",
    "        keyframe_paths = dict()\n",
    "        for part in sorted(os.listdir(self.keyframes_dir)):\n",
    "            keyframe_paths[part] = dict()\n",
    "\n",
    "        for part in sorted(keyframe_paths.keys()):\n",
    "            part_path = os.path.join(self.keyframes_dir, part)\n",
    "            video_dirs = sorted(os.listdir(part_path))\n",
    "            video_ids = [video_dir.split('_')[-1] for video_dir in video_dirs]\n",
    "            for video_id, video_dir in zip(video_ids, video_dirs):\n",
    "                paths = sorted(glob.glob(f'{part_path}/{video_dir}/*.jpg'))\n",
    "                keyframe_paths[part][video_id] = paths\n",
    "\n",
    "        return keyframe_paths\n",
    "\n",
    "    def preprocess_images(self, image_paths):\n",
    "        images = [self.preprocess(Image.open(path).convert(\"RGB\")).unsqueeze(0) for path in image_paths]\n",
    "        return torch.cat(images, dim=0).to(self.device)\n",
    "\n",
    "    def extract_features(self, save_dir, batch_size=4):\n",
    "        if not os.path.exists(save_dir):\n",
    "            os.makedirs(save_dir)\n",
    "\n",
    "        for part, videos in self.keyframe_paths.items():\n",
    "            part_save_dir = os.path.join(save_dir, part)\n",
    "            if not os.path.exists(part_save_dir):\n",
    "                os.makedirs(part_save_dir)\n",
    "\n",
    "            for video_id, image_paths in tqdm(videos.items(), desc=f\"Processing {part}\"):\n",
    "                video_features = []\n",
    "                for i in range(0, len(image_paths), batch_size):\n",
    "                    batch_paths = image_paths[i:i+batch_size]\n",
    "                    images = self.preprocess_images(batch_paths)\n",
    "                    \n",
    "                    with torch.no_grad(), torch.cuda.amp.autocast():\n",
    "                        features = self.model.encode_image(images)\n",
    "                        features = F.normalize(features, dim=-1)\n",
    "                    \n",
    "                    video_features.append(features.cpu().numpy())\n",
    "\n",
    "                video_features = np.vstack(video_features)\n",
    "                \n",
    "                # Save features for this video\n",
    "                save_path = os.path.join(part_save_dir, f\"{video_id}.npy\")\n",
    "                np.save(save_path, video_features)\n",
    "\n",
    "        print(\"Feature extraction and saving completed.\")\n",
    "\n",
    "\n",
    "   \n"
   ],
   "outputs": [],
   "execution_count": 1
  },
  {
   "metadata": {
    "ExecuteTime": {
     "end_time": "2024-10-14T00:19:43.846168Z",
     "start_time": "2024-10-13T18:14:59.407463Z"
    }
   },
   "cell_type": "code",
   "source": [
    " # Specify the directories\n",
    "keyframes_dir = '/media/daoan/T7 Shield2/AI_Challenge_2024_DATA/Keyframes'\n",
    "save_dir = '/media/daoan/T7 Shield2/AI_Challenge_2024_DATA/SIG_CLIP_features'\n",
    "extractor = FeatureExtractor(keyframes_dir=keyframes_dir)\n",
    "    \n",
    "\n",
    "extractor.extract_features(save_dir, batch_size=16)\n",
    "\n",
    "print(\"Feature extraction process completed.\")\n",
    "print(f\"Features saved in: {save_dir}\")"
   ],
   "id": "5d49ce777d69cea6",
   "outputs": [
    {
     "name": "stdout",
     "output_type": "stream",
     "text": [
      "Using device: cuda\n"
     ]
    },
    {
     "name": "stderr",
     "output_type": "stream",
     "text": [
      "Processing L01_extra: 100%|██████████| 31/31 [11:53<00:00, 23.01s/it]\n",
      "Processing L02_extra: 100%|██████████| 31/31 [12:28<00:00, 24.15s/it]\n",
      "Processing L03_extra: 100%|██████████| 30/30 [11:31<00:00, 23.05s/it]\n",
      "Processing L04_extra: 100%|██████████| 30/30 [12:33<00:00, 25.11s/it]\n",
      "Processing L05_extra: 100%|██████████| 31/31 [12:16<00:00, 23.76s/it]\n",
      "Processing L06_extra: 100%|██████████| 31/31 [13:56<00:00, 26.98s/it]\n",
      "Processing L07_extra: 100%|██████████| 31/31 [12:41<00:00, 24.58s/it]\n",
      "Processing L08_extra: 100%|██████████| 30/30 [12:58<00:00, 25.94s/it]\n",
      "Processing L09_extra: 100%|██████████| 29/29 [12:32<00:00, 25.93s/it]\n",
      "Processing L10_extra: 100%|██████████| 29/29 [13:11<00:00, 27.28s/it]\n",
      "Processing L11_extra: 100%|██████████| 30/30 [12:00<00:00, 24.03s/it]\n",
      "Processing L12_extra: 100%|██████████| 30/30 [13:02<00:00, 26.08s/it]\n",
      "Processing L13_extra: 100%|██████████| 30/30 [11:23<00:00, 22.79s/it]\n",
      "Processing L14_extra: 100%|██████████| 27/27 [11:34<00:00, 25.74s/it]\n",
      "Processing L15_extra: 100%|██████████| 31/31 [11:25<00:00, 22.13s/it]\n",
      "Processing L16_extra: 100%|██████████| 31/31 [12:52<00:00, 24.93s/it]\n",
      "Processing L17_extra: 100%|██████████| 28/28 [09:56<00:00, 21.32s/it]\n",
      "Processing L18_extra: 100%|██████████| 29/29 [12:27<00:00, 25.79s/it]\n",
      "Processing L19_extra: 100%|██████████| 30/30 [10:28<00:00, 20.95s/it]\n",
      "Processing L20_extra: 100%|██████████| 29/29 [11:07<00:00, 23.03s/it]\n",
      "Processing L21_extra: 100%|██████████| 29/29 [10:14<00:00, 21.20s/it]\n",
      "Processing L22_extra: 100%|██████████| 31/31 [12:34<00:00, 24.34s/it]\n",
      "Processing L23_extra: 100%|██████████| 25/25 [00:56<00:00,  2.25s/it]\n",
      "Processing L24_extra: 100%|██████████| 43/43 [03:00<00:00,  4.19s/it]\n",
      "Processing L25_extra: 100%|██████████| 88/88 [12:33<00:00,  8.56s/it]\n",
      "Processing L26_extra: 100%|██████████| 498/498 [1:01:15<00:00,  7.38s/it]\n",
      "Processing L27_extra: 100%|██████████| 16/16 [03:27<00:00, 12.97s/it]\n",
      "Processing L28_extra: 100%|██████████| 24/24 [06:33<00:00, 16.41s/it]\n",
      "Processing L29_extra: 100%|██████████| 23/23 [06:06<00:00, 15.92s/it]\n",
      "Processing L30_extra: 100%|██████████| 96/96 [05:22<00:00,  3.36s/it]"
     ]
    },
    {
     "name": "stdout",
     "output_type": "stream",
     "text": [
      "Feature extraction and saving completed.\n",
      "Feature extraction process completed.\n",
      "Features saved in: /media/daoan/T7 Shield2/AI_Challenge_2024_DATA/SIG_CLIP_features\n"
     ]
    },
    {
     "name": "stderr",
     "output_type": "stream",
     "text": [
      "\n"
     ]
    }
   ],
   "execution_count": 2
  }
 ],
 "metadata": {
  "kernelspec": {
   "display_name": "Python 3",
   "language": "python",
   "name": "python3"
  },
  "language_info": {
   "codemirror_mode": {
    "name": "ipython",
    "version": 2
   },
   "file_extension": ".py",
   "mimetype": "text/x-python",
   "name": "python",
   "nbconvert_exporter": "python",
   "pygments_lexer": "ipython2",
   "version": "2.7.6"
  }
 },
 "nbformat": 4,
 "nbformat_minor": 5
}
