{
 "cells": [
  {
   "metadata": {
    "ExecuteTime": {
     "end_time": "2024-08-22T01:53:34.792375Z",
     "start_time": "2024-08-22T01:53:31.706369Z"
    }
   },
   "cell_type": "code",
   "source": [
    "import torch\n",
    "import requests\n",
    "\n",
    "from PIL import Image, ImageDraw, ImageFont\n",
    "from transformers import RTDetrForObjectDetection, RTDetrImageProcessor\n",
    "\n",
    "image = Image.open(\"/home/daoan/Pictures/Screenshots/Screenshot from 2024-08-21 21-21-32.png\").convert(\"RGB\")\n",
    "\n",
    "image_processor = RTDetrImageProcessor.from_pretrained(\"PekingU/rtdetr_r101vd_coco_o365\")\n",
    "model = RTDetrForObjectDetection.from_pretrained(\"PekingU/rtdetr_r101vd_coco_o365\")\n",
    "\n",
    "\n",
    "inputs = image_processor(images=image, return_tensors=\"pt\")\n",
    "\n",
    "with torch.no_grad():\n",
    "    outputs = model(**inputs)\n",
    "\n",
    "results = image_processor.post_process_object_detection(outputs, target_sizes=torch.tensor([image.size[::-1]]), threshold=0.3)\n",
    "\n",
    "# Draw bounding boxes and labels on the image\n",
    "draw = ImageDraw.Draw(image)\n",
    "font = ImageFont.load_default()\n",
    "\n",
    "for result in results:\n",
    "    for score, label_id, box in zip(result[\"scores\"], result[\"labels\"], result[\"boxes\"]):\n",
    "        score, label = score.item(), label_id.item()\n",
    "        box = [round(i, 2) for i in box.tolist()]\n",
    "        label_text = f\"{model.config.id2label[label]}: {score:.2f}\"\n",
    "        \n",
    "        # Draw bounding box\n",
    "        draw.rectangle(box, outline=\"red\", width=2)\n",
    "        \n",
    "        # Draw label\n",
    "        draw.text((box[0], box[1]), label_text, fill=\"red\", font=font)\n",
    "        print(label_text)\n",
    "\n",
    "image.show()  # To display the image"
   ],
   "id": "b207e816289d6fa",
   "outputs": [
    {
     "name": "stderr",
     "output_type": "stream",
     "text": [
      "Could not load the custom kernel for multi-scale deformable attention: /home/daoan/.cache/torch_extensions/py310_cu118/MultiScaleDeformableAttention/MultiScaleDeformableAttention.so: cannot open shared object file: No such file or directory\n",
      "Could not load the custom kernel for multi-scale deformable attention: /home/daoan/.cache/torch_extensions/py310_cu118/MultiScaleDeformableAttention/MultiScaleDeformableAttention.so: cannot open shared object file: No such file or directory\n",
      "Could not load the custom kernel for multi-scale deformable attention: /home/daoan/.cache/torch_extensions/py310_cu118/MultiScaleDeformableAttention/MultiScaleDeformableAttention.so: cannot open shared object file: No such file or directory\n",
      "Could not load the custom kernel for multi-scale deformable attention: /home/daoan/.cache/torch_extensions/py310_cu118/MultiScaleDeformableAttention/MultiScaleDeformableAttention.so: cannot open shared object file: No such file or directory\n",
      "Could not load the custom kernel for multi-scale deformable attention: /home/daoan/.cache/torch_extensions/py310_cu118/MultiScaleDeformableAttention/MultiScaleDeformableAttention.so: cannot open shared object file: No such file or directory\n",
      "Could not load the custom kernel for multi-scale deformable attention: /home/daoan/.cache/torch_extensions/py310_cu118/MultiScaleDeformableAttention/MultiScaleDeformableAttention.so: cannot open shared object file: No such file or directory\n"
     ]
    },
    {
     "name": "stdout",
     "output_type": "stream",
     "text": [
      "microwave: 0.90\n",
      "microwave: 0.75\n",
      "vase: 0.68\n",
      "pottedplant: 0.65\n",
      "pottedplant: 0.57\n",
      "pottedplant: 0.55\n",
      "pottedplant: 0.53\n",
      "pottedplant: 0.50\n",
      "vase: 0.49\n",
      "pottedplant: 0.45\n",
      "oven: 0.43\n",
      "vase: 0.43\n",
      "vase: 0.41\n",
      "vase: 0.40\n",
      "vase: 0.40\n",
      "vase: 0.39\n",
      "vase: 0.38\n",
      "vase: 0.38\n",
      "vase: 0.37\n",
      "vase: 0.37\n",
      "oven: 0.36\n",
      "vase: 0.36\n",
      "vase: 0.35\n",
      "cup: 0.35\n",
      "cup: 0.32\n",
      "vase: 0.32\n",
      "pottedplant: 0.30\n"
     ]
    }
   ],
   "execution_count": 4
  },
  {
   "metadata": {},
   "cell_type": "code",
   "outputs": [],
   "execution_count": null,
   "source": "!pip install -U sahi",
   "id": "9c337be30e01056d"
  },
  {
   "metadata": {},
   "cell_type": "code",
   "outputs": [],
   "execution_count": null,
   "source": "",
   "id": "776632e842dc593f"
  }
 ],
 "metadata": {
  "kernelspec": {
   "display_name": "Python 3",
   "language": "python",
   "name": "python3"
  },
  "language_info": {
   "codemirror_mode": {
    "name": "ipython",
    "version": 2
   },
   "file_extension": ".py",
   "mimetype": "text/x-python",
   "name": "python",
   "nbconvert_exporter": "python",
   "pygments_lexer": "ipython2",
   "version": "2.7.6"
  }
 },
 "nbformat": 4,
 "nbformat_minor": 5
}
