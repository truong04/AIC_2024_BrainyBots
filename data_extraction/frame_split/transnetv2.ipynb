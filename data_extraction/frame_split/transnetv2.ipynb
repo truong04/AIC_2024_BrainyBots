{
 "cells": [
  {
   "cell_type": "code",
   "id": "initial_id",
   "metadata": {
    "collapsed": true,
    "ExecuteTime": {
     "end_time": "2024-08-20T12:21:57.740891Z",
     "start_time": "2024-08-20T12:21:54.291873Z"
    }
   },
   "source": [
    "!pip install ffmpeg-python pillow opencv-python\n",
    "!git clone https://github.com/soCzech/TransNetV2.git\n",
    "%cd TransNetV2/inference"
   ],
   "outputs": [
    {
     "name": "stdout",
     "output_type": "stream",
     "text": [
      "Looking in indexes: https://pypi.org/simple, https://pypi.ngc.nvidia.com\r\n",
      "Requirement already satisfied: ffmpeg-python in /home/daoan/Projects/AI_Challenge_HCMC_2024/.venv/lib/python3.10/site-packages (0.2.0)\r\n",
      "Requirement already satisfied: pillow in /home/daoan/Projects/AI_Challenge_HCMC_2024/.venv/lib/python3.10/site-packages (10.2.0)\r\n",
      "Requirement already satisfied: opencv-python in /home/daoan/Projects/AI_Challenge_HCMC_2024/.venv/lib/python3.10/site-packages (4.6.0.66)\r\n",
      "Requirement already satisfied: future in /home/daoan/Projects/AI_Challenge_HCMC_2024/.venv/lib/python3.10/site-packages (from ffmpeg-python) (1.0.0)\r\n",
      "Requirement already satisfied: numpy>=1.21.2 in /home/daoan/Projects/AI_Challenge_HCMC_2024/.venv/lib/python3.10/site-packages (from opencv-python) (1.24.4)\r\n",
      "\r\n",
      "\u001B[1m[\u001B[0m\u001B[34;49mnotice\u001B[0m\u001B[1;39;49m]\u001B[0m\u001B[39;49m A new release of pip is available: \u001B[0m\u001B[31;49m23.2.1\u001B[0m\u001B[39;49m -> \u001B[0m\u001B[32;49m24.2\u001B[0m\r\n",
      "\u001B[1m[\u001B[0m\u001B[34;49mnotice\u001B[0m\u001B[1;39;49m]\u001B[0m\u001B[39;49m To update, run: \u001B[0m\u001B[32;49mpip install --upgrade pip\u001B[0m\r\n",
      "fatal: destination path 'TransNetV2' already exists and is not an empty directory.\r\n",
      "/home/daoan/Projects/AI_Challenge_HCMC_2024/data_extraction/frame_split/TransNetV2/inference\n"
     ]
    },
    {
     "name": "stderr",
     "output_type": "stream",
     "text": [
      "/home/daoan/Projects/AI_Challenge_HCMC_2024/.venv/lib/python3.10/site-packages/IPython/core/magics/osm.py:417: UserWarning: This is now an optional IPython functionality, setting dhist requires you to install the `pickleshare` library.\n",
      "  self.shell.db['dhist'] = compress_dhist(dhist)[-100:]\n"
     ]
    }
   ],
   "execution_count": 2
  },
  {
   "metadata": {},
   "cell_type": "code",
   "outputs": [],
   "execution_count": null,
   "source": "",
   "id": "b54e680da25398b2"
  },
  {
   "metadata": {
    "ExecuteTime": {
     "end_time": "2024-08-21T08:55:53.162805Z",
     "start_time": "2024-08-21T08:55:52.742120Z"
    }
   },
   "cell_type": "code",
   "source": "",
   "id": "6623e3d22b74de8d",
   "outputs": [
    {
     "data": {
      "text/plain": [
       "'hello.'"
      ]
     },
     "execution_count": 1,
     "metadata": {},
     "output_type": "execute_result"
    }
   ],
   "execution_count": 1
  },
  {
   "metadata": {
    "ExecuteTime": {
     "end_time": "2024-10-12T07:53:16.329759Z",
     "start_time": "2024-10-12T07:53:16.322119Z"
    }
   },
   "cell_type": "code",
   "source": [
    "%cd TransNetV2/inference\n",
    "%pwd"
   ],
   "id": "d32cda5a7ba46c7",
   "outputs": [
    {
     "name": "stdout",
     "output_type": "stream",
     "text": [
      "/home/daoan/Projects/AI_Challenge_HCMC_2024/data_extraction/frame_split/TransNetV2/inference\n"
     ]
    },
    {
     "name": "stderr",
     "output_type": "stream",
     "text": [
      "/home/daoan/Projects/AI_Challenge_HCMC_2024/.venv/lib/python3.10/site-packages/IPython/core/magics/osm.py:417: UserWarning: This is now an optional IPython functionality, setting dhist requires you to install the `pickleshare` library.\n",
      "  self.shell.db['dhist'] = compress_dhist(dhist)[-100:]\n"
     ]
    },
    {
     "data": {
      "text/plain": [
       "'/home/daoan/Projects/AI_Challenge_HCMC_2024/data_extraction/frame_split/TransNetV2/inference'"
      ]
     },
     "execution_count": 1,
     "metadata": {},
     "output_type": "execute_result"
    }
   ],
   "execution_count": 1
  },
  {
   "metadata": {
    "ExecuteTime": {
     "end_time": "2024-10-12T07:53:21.700760Z",
     "start_time": "2024-10-12T07:53:20.097084Z"
    }
   },
   "cell_type": "code",
   "source": [
    "# Import module\n",
    "import os\n",
    "import cv2\n",
    "import json\n",
    "import glob\n",
    "import ffmpeg\n",
    "import numpy as np\n",
    "from tqdm import tqdm\n",
    "from transnetv2 import TransNetV2"
   ],
   "id": "fb95654926e1cc04",
   "outputs": [
    {
     "name": "stderr",
     "output_type": "stream",
     "text": [
      "2024-10-12 14:53:20.334434: I tensorflow/core/util/port.cc:153] oneDNN custom operations are on. You may see slightly different numerical results due to floating-point round-off errors from different computation orders. To turn them off, set the environment variable `TF_ENABLE_ONEDNN_OPTS=0`.\n",
      "2024-10-12 14:53:20.370037: E external/local_xla/xla/stream_executor/cuda/cuda_fft.cc:485] Unable to register cuFFT factory: Attempting to register factory for plugin cuFFT when one has already been registered\n",
      "2024-10-12 14:53:20.381296: E external/local_xla/xla/stream_executor/cuda/cuda_dnn.cc:8454] Unable to register cuDNN factory: Attempting to register factory for plugin cuDNN when one has already been registered\n",
      "2024-10-12 14:53:20.383824: E external/local_xla/xla/stream_executor/cuda/cuda_blas.cc:1452] Unable to register cuBLAS factory: Attempting to register factory for plugin cuBLAS when one has already been registered\n",
      "2024-10-12 14:53:20.399562: I tensorflow/core/platform/cpu_feature_guard.cc:210] This TensorFlow binary is optimized to use available CPU instructions in performance-critical operations.\n",
      "To enable the following instructions: AVX2 AVX_VNNI FMA, in other operations, rebuild TensorFlow with the appropriate compiler flags.\n",
      "2024-10-12 14:53:20.995248: W tensorflow/compiler/tf2tensorrt/utils/py_utils.cc:38] TF-TRT Warning: Could not find TensorRT\n"
     ]
    }
   ],
   "execution_count": 2
  },
  {
   "metadata": {
    "ExecuteTime": {
     "end_time": "2024-10-12T07:53:23.853470Z",
     "start_time": "2024-10-12T07:53:23.695256Z"
    }
   },
   "cell_type": "code",
   "source": [
    "import tensorflow as tf\n",
    "print(tf.__version__)\n",
    "print(tf.config.list_physical_devices('GPU'))"
   ],
   "id": "90cf29fb802158d8",
   "outputs": [
    {
     "name": "stdout",
     "output_type": "stream",
     "text": [
      "2.17.0\n",
      "[PhysicalDevice(name='/physical_device:GPU:0', device_type='GPU')]\n"
     ]
    },
    {
     "name": "stderr",
     "output_type": "stream",
     "text": [
      "WARNING: All log messages before absl::InitializeLog() is called are written to STDERR\n",
      "I0000 00:00:1728719603.725067 2639220 cuda_executor.cc:1015] successful NUMA node read from SysFS had negative value (-1), but there must be at least one NUMA node, so returning NUMA node zero. See more at https://github.com/torvalds/linux/blob/v6.0/Documentation/ABI/testing/sysfs-bus-pci#L344-L355\n",
      "I0000 00:00:1728719603.851631 2639220 cuda_executor.cc:1015] successful NUMA node read from SysFS had negative value (-1), but there must be at least one NUMA node, so returning NUMA node zero. See more at https://github.com/torvalds/linux/blob/v6.0/Documentation/ABI/testing/sysfs-bus-pci#L344-L355\n",
      "I0000 00:00:1728719603.851728 2639220 cuda_executor.cc:1015] successful NUMA node read from SysFS had negative value (-1), but there must be at least one NUMA node, so returning NUMA node zero. See more at https://github.com/torvalds/linux/blob/v6.0/Documentation/ABI/testing/sysfs-bus-pci#L344-L355\n"
     ]
    }
   ],
   "execution_count": 3
  },
  {
   "metadata": {
    "ExecuteTime": {
     "end_time": "2024-10-12T07:53:53.198198Z",
     "start_time": "2024-10-12T07:53:53.194019Z"
    }
   },
   "cell_type": "code",
   "source": [
    "videos_dir = '/media/daoan/T7 Shield2/AI_Challenge_2024_DATA/video_with_audio'\n",
    "all_video_paths = dict()\n",
    "for part in sorted(os.listdir(videos_dir)):\n",
    "    data_part = part.split('_')[-1] # L01, L02 for ex\n",
    "    if int(data_part.replace('L', '')) >= 25: \n",
    "        all_video_paths[data_part] =  dict()\n",
    "\n",
    "for data_part in sorted(all_video_paths.keys()):\n",
    "    data_part_path = f'{videos_dir}/Videos_{data_part}/video'\n",
    "    video_paths = sorted(os.listdir(data_part_path))\n",
    "    video_ids = [video_path.replace('.mp4', '').split('_')[-1] for video_path in video_paths]\n",
    "    for video_id, video_path in zip(video_ids, video_paths):\n",
    "        video_path_full = f'{data_part_path}/{video_path}'\n",
    "        all_video_paths[data_part][video_id] = video_path_full"
   ],
   "id": "9482bb4f2ad904d",
   "outputs": [],
   "execution_count": 4
  },
  {
   "metadata": {
    "ExecuteTime": {
     "end_time": "2024-10-12T09:01:06.057398Z",
     "start_time": "2024-10-12T07:54:00.213768Z"
    }
   },
   "cell_type": "code",
   "source": [
    "model = TransNetV2()\n",
    "\n",
    "save_dir = './SceneJSON_2024'\n",
    "if not os.path.exists(save_dir):\n",
    "    os.mkdir(save_dir)\n",
    "\n",
    "for key, video_paths_dict in tqdm(all_video_paths.items()):\n",
    "    video_ids = sorted(video_paths_dict.keys())\n",
    "\n",
    "    if not os.path.exists(os.path.join(save_dir, key)):\n",
    "        os.mkdir(os.path.join(save_dir, key))\n",
    "\n",
    "    for video_id in tqdm(video_ids):\n",
    "        video_path = video_paths_dict[video_id]\n",
    "        _, single_frame_predictions, _ = model.predict_video(video_path)\n",
    "\n",
    "        # Generate list of scenes from predictions, returns tuples of (start frame, end frame)\n",
    "        scenes = model.predictions_to_scenes(single_frame_predictions)\n",
    "        print(f\"{save_dir}/{key}/{video_id}.json\")\n",
    "        with open(f\"{save_dir}/{key}/{video_id}.json\", 'w') as f:\n",
    "            json.dump(scenes.tolist(), f)"
   ],
   "id": "71fc31cdd5b2eb53",
   "outputs": [
    {
     "name": "stdout",
     "output_type": "stream",
     "text": [
      "[TransNetV2] Using weights from /home/daoan/Projects/AI_Challenge_HCMC_2024/data_extraction/frame_split/TransNetV2/inference/transnetv2-weights/.\n"
     ]
    },
    {
     "name": "stderr",
     "output_type": "stream",
     "text": [
      "I0000 00:00:1728719640.286651 2639220 cuda_executor.cc:1015] successful NUMA node read from SysFS had negative value (-1), but there must be at least one NUMA node, so returning NUMA node zero. See more at https://github.com/torvalds/linux/blob/v6.0/Documentation/ABI/testing/sysfs-bus-pci#L344-L355\n",
      "I0000 00:00:1728719640.286769 2639220 cuda_executor.cc:1015] successful NUMA node read from SysFS had negative value (-1), but there must be at least one NUMA node, so returning NUMA node zero. See more at https://github.com/torvalds/linux/blob/v6.0/Documentation/ABI/testing/sysfs-bus-pci#L344-L355\n",
      "I0000 00:00:1728719640.286812 2639220 cuda_executor.cc:1015] successful NUMA node read from SysFS had negative value (-1), but there must be at least one NUMA node, so returning NUMA node zero. See more at https://github.com/torvalds/linux/blob/v6.0/Documentation/ABI/testing/sysfs-bus-pci#L344-L355\n",
      "I0000 00:00:1728719640.336155 2639220 cuda_executor.cc:1015] successful NUMA node read from SysFS had negative value (-1), but there must be at least one NUMA node, so returning NUMA node zero. See more at https://github.com/torvalds/linux/blob/v6.0/Documentation/ABI/testing/sysfs-bus-pci#L344-L355\n",
      "I0000 00:00:1728719640.336232 2639220 cuda_executor.cc:1015] successful NUMA node read from SysFS had negative value (-1), but there must be at least one NUMA node, so returning NUMA node zero. See more at https://github.com/torvalds/linux/blob/v6.0/Documentation/ABI/testing/sysfs-bus-pci#L344-L355\n",
      "I0000 00:00:1728719640.336280 2639220 cuda_executor.cc:1015] successful NUMA node read from SysFS had negative value (-1), but there must be at least one NUMA node, so returning NUMA node zero. See more at https://github.com/torvalds/linux/blob/v6.0/Documentation/ABI/testing/sysfs-bus-pci#L344-L355\n",
      "2024-10-12 14:54:00.336682: I tensorflow/core/common_runtime/gpu/gpu_device.cc:2021] Created device /job:localhost/replica:0/task:0/device:GPU:0 with 19522 MB memory:  -> device: 0, name: NVIDIA GeForce RTX 4090, pci bus id: 0000:01:00.0, compute capability: 8.9\n",
      "  0%|          | 0/6 [00:00<?, ?it/s]\n",
      "  0%|          | 0/88 [00:00<?, ?it/s]\u001B[A"
     ]
    },
    {
     "name": "stdout",
     "output_type": "stream",
     "text": [
      "[TransNetV2] Extracting frames from /media/daoan/T7 Shield2/AI_Challenge_2024_DATA/video_with_audio/Videos_L25/video/L25_V001.mp4\n"
     ]
    },
    {
     "name": "stderr",
     "output_type": "stream",
     "text": [
      "2024-10-12 14:54:14.308730: I external/local_xla/xla/stream_executor/cuda/cuda_dnn.cc:531] Loaded cuDNN version 8907\n",
      "W0000 00:00:1728719654.457003 2639690 gpu_timer.cc:114] Skipping the delay kernel, measurement accuracy will be reduced\n",
      "W0000 00:00:1728719654.519876 2639690 gpu_timer.cc:114] Skipping the delay kernel, measurement accuracy will be reduced\n",
      "W0000 00:00:1728719654.521730 2639690 gpu_timer.cc:114] Skipping the delay kernel, measurement accuracy will be reduced\n",
      "W0000 00:00:1728719654.535702 2639690 gpu_timer.cc:114] Skipping the delay kernel, measurement accuracy will be reduced\n",
      "W0000 00:00:1728719654.535888 2639690 gpu_timer.cc:114] Skipping the delay kernel, measurement accuracy will be reduced\n",
      "W0000 00:00:1728719654.536071 2639690 gpu_timer.cc:114] Skipping the delay kernel, measurement accuracy will be reduced\n",
      "W0000 00:00:1728719654.592813 2639690 gpu_timer.cc:114] Skipping the delay kernel, measurement accuracy will be reduced\n",
      "W0000 00:00:1728719654.594304 2639690 gpu_timer.cc:114] Skipping the delay kernel, measurement accuracy will be reduced\n",
      "W0000 00:00:1728719654.603263 2639690 gpu_timer.cc:114] Skipping the delay kernel, measurement accuracy will be reduced\n",
      "W0000 00:00:1728719654.603508 2639690 gpu_timer.cc:114] Skipping the delay kernel, measurement accuracy will be reduced\n",
      "W0000 00:00:1728719654.604958 2639690 gpu_timer.cc:114] Skipping the delay kernel, measurement accuracy will be reduced\n",
      "W0000 00:00:1728719654.606393 2639690 gpu_timer.cc:114] Skipping the delay kernel, measurement accuracy will be reduced\n",
      "W0000 00:00:1728719654.606694 2639690 gpu_timer.cc:114] Skipping the delay kernel, measurement accuracy will be reduced\n",
      "W0000 00:00:1728719654.608408 2639690 gpu_timer.cc:114] Skipping the delay kernel, measurement accuracy will be reduced\n",
      "W0000 00:00:1728719654.609992 2639690 gpu_timer.cc:114] Skipping the delay kernel, measurement accuracy will be reduced\n",
      "W0000 00:00:1728719654.630007 2639690 gpu_timer.cc:114] Skipping the delay kernel, measurement accuracy will be reduced\n",
      "W0000 00:00:1728719654.631629 2639690 gpu_timer.cc:114] Skipping the delay kernel, measurement accuracy will be reduced\n",
      "W0000 00:00:1728719654.828415 2639690 gpu_timer.cc:114] Skipping the delay kernel, measurement accuracy will be reduced\n",
      "W0000 00:00:1728719654.828681 2639690 gpu_timer.cc:114] Skipping the delay kernel, measurement accuracy will be reduced\n",
      "W0000 00:00:1728719654.829048 2639690 gpu_timer.cc:114] Skipping the delay kernel, measurement accuracy will be reduced\n",
      "W0000 00:00:1728719654.830576 2639690 gpu_timer.cc:114] Skipping the delay kernel, measurement accuracy will be reduced\n",
      "W0000 00:00:1728719654.830800 2639690 gpu_timer.cc:114] Skipping the delay kernel, measurement accuracy will be reduced\n",
      "W0000 00:00:1728719654.831052 2639690 gpu_timer.cc:114] Skipping the delay kernel, measurement accuracy will be reduced\n",
      "W0000 00:00:1728719654.831279 2639690 gpu_timer.cc:114] Skipping the delay kernel, measurement accuracy will be reduced\n",
      "W0000 00:00:1728719654.831588 2639690 gpu_timer.cc:114] Skipping the delay kernel, measurement accuracy will be reduced\n",
      "W0000 00:00:1728719654.831815 2639690 gpu_timer.cc:114] Skipping the delay kernel, measurement accuracy will be reduced\n",
      "W0000 00:00:1728719654.832755 2639690 gpu_timer.cc:114] Skipping the delay kernel, measurement accuracy will be reduced\n",
      "W0000 00:00:1728719654.832951 2639690 gpu_timer.cc:114] Skipping the delay kernel, measurement accuracy will be reduced\n",
      "W0000 00:00:1728719654.833331 2639690 gpu_timer.cc:114] Skipping the delay kernel, measurement accuracy will be reduced\n",
      "W0000 00:00:1728719654.833556 2639690 gpu_timer.cc:114] Skipping the delay kernel, measurement accuracy will be reduced\n",
      "W0000 00:00:1728719654.833738 2639690 gpu_timer.cc:114] Skipping the delay kernel, measurement accuracy will be reduced\n",
      "W0000 00:00:1728719654.833912 2639690 gpu_timer.cc:114] Skipping the delay kernel, measurement accuracy will be reduced\n",
      "W0000 00:00:1728719654.834218 2639690 gpu_timer.cc:114] Skipping the delay kernel, measurement accuracy will be reduced\n",
      "W0000 00:00:1728719654.834465 2639690 gpu_timer.cc:114] Skipping the delay kernel, measurement accuracy will be reduced\n",
      "W0000 00:00:1728719654.834639 2639690 gpu_timer.cc:114] Skipping the delay kernel, measurement accuracy will be reduced\n",
      "W0000 00:00:1728719654.834879 2639690 gpu_timer.cc:114] Skipping the delay kernel, measurement accuracy will be reduced\n",
      "W0000 00:00:1728719654.835139 2639690 gpu_timer.cc:114] Skipping the delay kernel, measurement accuracy will be reduced\n",
      "W0000 00:00:1728719654.835975 2639690 gpu_timer.cc:114] Skipping the delay kernel, measurement accuracy will be reduced\n",
      "W0000 00:00:1728719654.843437 2639690 gpu_timer.cc:114] Skipping the delay kernel, measurement accuracy will be reduced\n",
      "W0000 00:00:1728719654.843790 2639690 gpu_timer.cc:114] Skipping the delay kernel, measurement accuracy will be reduced\n",
      "W0000 00:00:1728719654.844036 2639690 gpu_timer.cc:114] Skipping the delay kernel, measurement accuracy will be reduced\n",
      "W0000 00:00:1728719654.844303 2639690 gpu_timer.cc:114] Skipping the delay kernel, measurement accuracy will be reduced\n",
      "W0000 00:00:1728719654.844609 2639690 gpu_timer.cc:114] Skipping the delay kernel, measurement accuracy will be reduced\n",
      "W0000 00:00:1728719654.844831 2639690 gpu_timer.cc:114] Skipping the delay kernel, measurement accuracy will be reduced\n",
      "W0000 00:00:1728719654.845087 2639690 gpu_timer.cc:114] Skipping the delay kernel, measurement accuracy will be reduced\n",
      "W0000 00:00:1728719654.845317 2639690 gpu_timer.cc:114] Skipping the delay kernel, measurement accuracy will be reduced\n",
      "W0000 00:00:1728719654.845547 2639690 gpu_timer.cc:114] Skipping the delay kernel, measurement accuracy will be reduced\n",
      "W0000 00:00:1728719654.845850 2639690 gpu_timer.cc:114] Skipping the delay kernel, measurement accuracy will be reduced\n",
      "W0000 00:00:1728719654.846242 2639690 gpu_timer.cc:114] Skipping the delay kernel, measurement accuracy will be reduced\n",
      "W0000 00:00:1728719654.846447 2639690 gpu_timer.cc:114] Skipping the delay kernel, measurement accuracy will be reduced\n",
      "W0000 00:00:1728719654.846831 2639690 gpu_timer.cc:114] Skipping the delay kernel, measurement accuracy will be reduced\n",
      "W0000 00:00:1728719654.847139 2639690 gpu_timer.cc:114] Skipping the delay kernel, measurement accuracy will be reduced\n",
      "W0000 00:00:1728719654.847368 2639690 gpu_timer.cc:114] Skipping the delay kernel, measurement accuracy will be reduced\n",
      "W0000 00:00:1728719654.847577 2639690 gpu_timer.cc:114] Skipping the delay kernel, measurement accuracy will be reduced\n",
      "W0000 00:00:1728719654.847747 2639690 gpu_timer.cc:114] Skipping the delay kernel, measurement accuracy will be reduced\n",
      "W0000 00:00:1728719654.848107 2639690 gpu_timer.cc:114] Skipping the delay kernel, measurement accuracy will be reduced\n",
      "W0000 00:00:1728719654.848275 2639690 gpu_timer.cc:114] Skipping the delay kernel, measurement accuracy will be reduced\n",
      "W0000 00:00:1728719654.848453 2639690 gpu_timer.cc:114] Skipping the delay kernel, measurement accuracy will be reduced\n",
      "W0000 00:00:1728719654.848632 2639690 gpu_timer.cc:114] Skipping the delay kernel, measurement accuracy will be reduced\n",
      "W0000 00:00:1728719654.851304 2639690 gpu_timer.cc:114] Skipping the delay kernel, measurement accuracy will be reduced\n",
      "W0000 00:00:1728719654.860338 2639690 gpu_timer.cc:114] Skipping the delay kernel, measurement accuracy will be reduced\n",
      "W0000 00:00:1728719654.860702 2639690 gpu_timer.cc:114] Skipping the delay kernel, measurement accuracy will be reduced\n",
      "W0000 00:00:1728719654.861126 2639690 gpu_timer.cc:114] Skipping the delay kernel, measurement accuracy will be reduced\n",
      "W0000 00:00:1728719654.861402 2639690 gpu_timer.cc:114] Skipping the delay kernel, measurement accuracy will be reduced\n",
      "W0000 00:00:1728719654.861717 2639690 gpu_timer.cc:114] Skipping the delay kernel, measurement accuracy will be reduced\n",
      "W0000 00:00:1728719654.861948 2639690 gpu_timer.cc:114] Skipping the delay kernel, measurement accuracy will be reduced\n",
      "W0000 00:00:1728719654.862213 2639690 gpu_timer.cc:114] Skipping the delay kernel, measurement accuracy will be reduced\n",
      "W0000 00:00:1728719654.862455 2639690 gpu_timer.cc:114] Skipping the delay kernel, measurement accuracy will be reduced\n",
      "W0000 00:00:1728719654.862693 2639690 gpu_timer.cc:114] Skipping the delay kernel, measurement accuracy will be reduced\n",
      "W0000 00:00:1728719654.863002 2639690 gpu_timer.cc:114] Skipping the delay kernel, measurement accuracy will be reduced\n",
      "W0000 00:00:1728719654.863408 2639690 gpu_timer.cc:114] Skipping the delay kernel, measurement accuracy will be reduced\n",
      "W0000 00:00:1728719654.863627 2639690 gpu_timer.cc:114] Skipping the delay kernel, measurement accuracy will be reduced\n",
      "W0000 00:00:1728719654.864031 2639690 gpu_timer.cc:114] Skipping the delay kernel, measurement accuracy will be reduced\n",
      "W0000 00:00:1728719654.864345 2639690 gpu_timer.cc:114] Skipping the delay kernel, measurement accuracy will be reduced\n",
      "W0000 00:00:1728719654.864590 2639690 gpu_timer.cc:114] Skipping the delay kernel, measurement accuracy will be reduced\n",
      "W0000 00:00:1728719654.864835 2639690 gpu_timer.cc:114] Skipping the delay kernel, measurement accuracy will be reduced\n",
      "W0000 00:00:1728719654.865031 2639690 gpu_timer.cc:114] Skipping the delay kernel, measurement accuracy will be reduced\n",
      "W0000 00:00:1728719654.865260 2639690 gpu_timer.cc:114] Skipping the delay kernel, measurement accuracy will be reduced\n",
      "W0000 00:00:1728719654.865454 2639690 gpu_timer.cc:114] Skipping the delay kernel, measurement accuracy will be reduced\n",
      "W0000 00:00:1728719654.865665 2639690 gpu_timer.cc:114] Skipping the delay kernel, measurement accuracy will be reduced\n",
      "W0000 00:00:1728719654.865876 2639690 gpu_timer.cc:114] Skipping the delay kernel, measurement accuracy will be reduced\n",
      "W0000 00:00:1728719654.868668 2639690 gpu_timer.cc:114] Skipping the delay kernel, measurement accuracy will be reduced\n",
      "W0000 00:00:1728719654.872481 2639690 gpu_timer.cc:114] Skipping the delay kernel, measurement accuracy will be reduced\n",
      "W0000 00:00:1728719654.873152 2639690 gpu_timer.cc:114] Skipping the delay kernel, measurement accuracy will be reduced\n",
      "W0000 00:00:1728719654.874079 2639690 gpu_timer.cc:114] Skipping the delay kernel, measurement accuracy will be reduced\n",
      "W0000 00:00:1728719654.874343 2639690 gpu_timer.cc:114] Skipping the delay kernel, measurement accuracy will be reduced\n",
      "W0000 00:00:1728719654.874650 2639690 gpu_timer.cc:114] Skipping the delay kernel, measurement accuracy will be reduced\n",
      "W0000 00:00:1728719654.875141 2639690 gpu_timer.cc:114] Skipping the delay kernel, measurement accuracy will be reduced\n",
      "W0000 00:00:1728719654.875404 2639690 gpu_timer.cc:114] Skipping the delay kernel, measurement accuracy will be reduced\n",
      "W0000 00:00:1728719654.875644 2639690 gpu_timer.cc:114] Skipping the delay kernel, measurement accuracy will be reduced\n",
      "W0000 00:00:1728719654.875884 2639690 gpu_timer.cc:114] Skipping the delay kernel, measurement accuracy will be reduced\n",
      "W0000 00:00:1728719654.876183 2639690 gpu_timer.cc:114] Skipping the delay kernel, measurement accuracy will be reduced\n",
      "W0000 00:00:1728719654.876570 2639690 gpu_timer.cc:114] Skipping the delay kernel, measurement accuracy will be reduced\n",
      "W0000 00:00:1728719654.876777 2639690 gpu_timer.cc:114] Skipping the delay kernel, measurement accuracy will be reduced\n",
      "W0000 00:00:1728719654.877161 2639690 gpu_timer.cc:114] Skipping the delay kernel, measurement accuracy will be reduced\n",
      "W0000 00:00:1728719654.877632 2639690 gpu_timer.cc:114] Skipping the delay kernel, measurement accuracy will be reduced\n",
      "W0000 00:00:1728719654.877872 2639690 gpu_timer.cc:114] Skipping the delay kernel, measurement accuracy will be reduced\n",
      "W0000 00:00:1728719654.878088 2639690 gpu_timer.cc:114] Skipping the delay kernel, measurement accuracy will be reduced\n",
      "W0000 00:00:1728719654.878264 2639690 gpu_timer.cc:114] Skipping the delay kernel, measurement accuracy will be reduced\n",
      "W0000 00:00:1728719654.878466 2639690 gpu_timer.cc:114] Skipping the delay kernel, measurement accuracy will be reduced\n",
      "W0000 00:00:1728719654.878635 2639690 gpu_timer.cc:114] Skipping the delay kernel, measurement accuracy will be reduced\n",
      "W0000 00:00:1728719654.878817 2639690 gpu_timer.cc:114] Skipping the delay kernel, measurement accuracy will be reduced\n",
      "W0000 00:00:1728719654.879002 2639690 gpu_timer.cc:114] Skipping the delay kernel, measurement accuracy will be reduced\n",
      "W0000 00:00:1728719654.881679 2639690 gpu_timer.cc:114] Skipping the delay kernel, measurement accuracy will be reduced\n",
      "W0000 00:00:1728719654.937998 2639690 gpu_timer.cc:114] Skipping the delay kernel, measurement accuracy will be reduced\n",
      "W0000 00:00:1728719654.938374 2639690 gpu_timer.cc:114] Skipping the delay kernel, measurement accuracy will be reduced\n",
      "W0000 00:00:1728719654.938758 2639690 gpu_timer.cc:114] Skipping the delay kernel, measurement accuracy will be reduced\n",
      "W0000 00:00:1728719654.939819 2639690 gpu_timer.cc:114] Skipping the delay kernel, measurement accuracy will be reduced\n",
      "W0000 00:00:1728719654.940178 2639690 gpu_timer.cc:114] Skipping the delay kernel, measurement accuracy will be reduced\n",
      "W0000 00:00:1728719654.940807 2639690 gpu_timer.cc:114] Skipping the delay kernel, measurement accuracy will be reduced\n",
      "W0000 00:00:1728719654.941192 2639690 gpu_timer.cc:114] Skipping the delay kernel, measurement accuracy will be reduced\n",
      "W0000 00:00:1728719654.941561 2639690 gpu_timer.cc:114] Skipping the delay kernel, measurement accuracy will be reduced\n",
      "W0000 00:00:1728719654.942056 2639690 gpu_timer.cc:114] Skipping the delay kernel, measurement accuracy will be reduced\n",
      "W0000 00:00:1728719654.942552 2639690 gpu_timer.cc:114] Skipping the delay kernel, measurement accuracy will be reduced\n",
      "W0000 00:00:1728719654.943075 2639690 gpu_timer.cc:114] Skipping the delay kernel, measurement accuracy will be reduced\n",
      "W0000 00:00:1728719654.943465 2639690 gpu_timer.cc:114] Skipping the delay kernel, measurement accuracy will be reduced\n",
      "W0000 00:00:1728719654.944055 2639690 gpu_timer.cc:114] Skipping the delay kernel, measurement accuracy will be reduced\n",
      "W0000 00:00:1728719654.944815 2639690 gpu_timer.cc:114] Skipping the delay kernel, measurement accuracy will be reduced\n",
      "W0000 00:00:1728719654.945339 2639690 gpu_timer.cc:114] Skipping the delay kernel, measurement accuracy will be reduced\n",
      "W0000 00:00:1728719654.945934 2639690 gpu_timer.cc:114] Skipping the delay kernel, measurement accuracy will be reduced\n",
      "W0000 00:00:1728719654.947185 2639690 gpu_timer.cc:114] Skipping the delay kernel, measurement accuracy will be reduced\n",
      "W0000 00:00:1728719654.949563 2639690 gpu_timer.cc:114] Skipping the delay kernel, measurement accuracy will be reduced\n",
      "W0000 00:00:1728719654.950336 2639690 gpu_timer.cc:114] Skipping the delay kernel, measurement accuracy will be reduced\n",
      "W0000 00:00:1728719654.951255 2639690 gpu_timer.cc:114] Skipping the delay kernel, measurement accuracy will be reduced\n",
      "W0000 00:00:1728719654.952114 2639690 gpu_timer.cc:114] Skipping the delay kernel, measurement accuracy will be reduced\n",
      "W0000 00:00:1728719654.953317 2639690 gpu_timer.cc:114] Skipping the delay kernel, measurement accuracy will be reduced\n",
      "W0000 00:00:1728719654.980606 2639690 gpu_timer.cc:114] Skipping the delay kernel, measurement accuracy will be reduced\n",
      "W0000 00:00:1728719654.980821 2639690 gpu_timer.cc:114] Skipping the delay kernel, measurement accuracy will be reduced\n",
      "W0000 00:00:1728719654.981139 2639690 gpu_timer.cc:114] Skipping the delay kernel, measurement accuracy will be reduced\n",
      "W0000 00:00:1728719654.981325 2639690 gpu_timer.cc:114] Skipping the delay kernel, measurement accuracy will be reduced\n",
      "W0000 00:00:1728719654.981503 2639690 gpu_timer.cc:114] Skipping the delay kernel, measurement accuracy will be reduced\n",
      "W0000 00:00:1728719654.981970 2639690 gpu_timer.cc:114] Skipping the delay kernel, measurement accuracy will be reduced\n",
      "W0000 00:00:1728719654.982171 2639690 gpu_timer.cc:114] Skipping the delay kernel, measurement accuracy will be reduced\n",
      "W0000 00:00:1728719654.982520 2639690 gpu_timer.cc:114] Skipping the delay kernel, measurement accuracy will be reduced\n",
      "W0000 00:00:1728719654.982912 2639690 gpu_timer.cc:114] Skipping the delay kernel, measurement accuracy will be reduced\n",
      "W0000 00:00:1728719654.983131 2639690 gpu_timer.cc:114] Skipping the delay kernel, measurement accuracy will be reduced\n",
      "W0000 00:00:1728719654.983322 2639690 gpu_timer.cc:114] Skipping the delay kernel, measurement accuracy will be reduced\n",
      "W0000 00:00:1728719654.983523 2639690 gpu_timer.cc:114] Skipping the delay kernel, measurement accuracy will be reduced\n",
      "W0000 00:00:1728719654.983718 2639690 gpu_timer.cc:114] Skipping the delay kernel, measurement accuracy will be reduced\n",
      "W0000 00:00:1728719654.983909 2639690 gpu_timer.cc:114] Skipping the delay kernel, measurement accuracy will be reduced\n",
      "W0000 00:00:1728719654.984160 2639690 gpu_timer.cc:114] Skipping the delay kernel, measurement accuracy will be reduced\n",
      "W0000 00:00:1728719654.984369 2639690 gpu_timer.cc:114] Skipping the delay kernel, measurement accuracy will be reduced\n",
      "W0000 00:00:1728719654.984622 2639690 gpu_timer.cc:114] Skipping the delay kernel, measurement accuracy will be reduced\n",
      "W0000 00:00:1728719654.984958 2639690 gpu_timer.cc:114] Skipping the delay kernel, measurement accuracy will be reduced\n",
      "W0000 00:00:1728719654.985337 2639690 gpu_timer.cc:114] Skipping the delay kernel, measurement accuracy will be reduced\n",
      "W0000 00:00:1728719654.985655 2639690 gpu_timer.cc:114] Skipping the delay kernel, measurement accuracy will be reduced\n",
      "W0000 00:00:1728719654.986045 2639690 gpu_timer.cc:114] Skipping the delay kernel, measurement accuracy will be reduced\n",
      "W0000 00:00:1728719654.987413 2639690 gpu_timer.cc:114] Skipping the delay kernel, measurement accuracy will be reduced\n",
      "W0000 00:00:1728719654.995266 2639690 gpu_timer.cc:114] Skipping the delay kernel, measurement accuracy will be reduced\n",
      "W0000 00:00:1728719654.995457 2639690 gpu_timer.cc:114] Skipping the delay kernel, measurement accuracy will be reduced\n",
      "W0000 00:00:1728719654.995609 2639690 gpu_timer.cc:114] Skipping the delay kernel, measurement accuracy will be reduced\n",
      "W0000 00:00:1728719654.995785 2639690 gpu_timer.cc:114] Skipping the delay kernel, measurement accuracy will be reduced\n",
      "W0000 00:00:1728719654.995937 2639690 gpu_timer.cc:114] Skipping the delay kernel, measurement accuracy will be reduced\n",
      "W0000 00:00:1728719654.996103 2639690 gpu_timer.cc:114] Skipping the delay kernel, measurement accuracy will be reduced\n",
      "W0000 00:00:1728719654.996266 2639690 gpu_timer.cc:114] Skipping the delay kernel, measurement accuracy will be reduced\n",
      "W0000 00:00:1728719654.996431 2639690 gpu_timer.cc:114] Skipping the delay kernel, measurement accuracy will be reduced\n",
      "W0000 00:00:1728719654.996584 2639690 gpu_timer.cc:114] Skipping the delay kernel, measurement accuracy will be reduced\n",
      "W0000 00:00:1728719654.996726 2639690 gpu_timer.cc:114] Skipping the delay kernel, measurement accuracy will be reduced\n",
      "W0000 00:00:1728719654.996876 2639690 gpu_timer.cc:114] Skipping the delay kernel, measurement accuracy will be reduced\n",
      "W0000 00:00:1728719654.997057 2639690 gpu_timer.cc:114] Skipping the delay kernel, measurement accuracy will be reduced\n",
      "W0000 00:00:1728719654.997211 2639690 gpu_timer.cc:114] Skipping the delay kernel, measurement accuracy will be reduced\n",
      "W0000 00:00:1728719654.997359 2639690 gpu_timer.cc:114] Skipping the delay kernel, measurement accuracy will be reduced\n",
      "W0000 00:00:1728719654.997507 2639690 gpu_timer.cc:114] Skipping the delay kernel, measurement accuracy will be reduced\n",
      "W0000 00:00:1728719654.997718 2639690 gpu_timer.cc:114] Skipping the delay kernel, measurement accuracy will be reduced\n",
      "W0000 00:00:1728719654.997917 2639690 gpu_timer.cc:114] Skipping the delay kernel, measurement accuracy will be reduced\n",
      "W0000 00:00:1728719654.998074 2639690 gpu_timer.cc:114] Skipping the delay kernel, measurement accuracy will be reduced\n",
      "W0000 00:00:1728719654.998250 2639690 gpu_timer.cc:114] Skipping the delay kernel, measurement accuracy will be reduced\n",
      "W0000 00:00:1728719654.998424 2639690 gpu_timer.cc:114] Skipping the delay kernel, measurement accuracy will be reduced\n",
      "W0000 00:00:1728719654.999398 2639690 gpu_timer.cc:114] Skipping the delay kernel, measurement accuracy will be reduced\n",
      "W0000 00:00:1728719655.004024 2639690 gpu_timer.cc:114] Skipping the delay kernel, measurement accuracy will be reduced\n",
      "W0000 00:00:1728719655.004244 2639690 gpu_timer.cc:114] Skipping the delay kernel, measurement accuracy will be reduced\n",
      "W0000 00:00:1728719655.004421 2639690 gpu_timer.cc:114] Skipping the delay kernel, measurement accuracy will be reduced\n",
      "W0000 00:00:1728719655.004597 2639690 gpu_timer.cc:114] Skipping the delay kernel, measurement accuracy will be reduced\n",
      "W0000 00:00:1728719655.004810 2639690 gpu_timer.cc:114] Skipping the delay kernel, measurement accuracy will be reduced\n",
      "W0000 00:00:1728719655.004966 2639690 gpu_timer.cc:114] Skipping the delay kernel, measurement accuracy will be reduced\n",
      "W0000 00:00:1728719655.005133 2639690 gpu_timer.cc:114] Skipping the delay kernel, measurement accuracy will be reduced\n",
      "W0000 00:00:1728719655.005293 2639690 gpu_timer.cc:114] Skipping the delay kernel, measurement accuracy will be reduced\n",
      "W0000 00:00:1728719655.005447 2639690 gpu_timer.cc:114] Skipping the delay kernel, measurement accuracy will be reduced\n",
      "W0000 00:00:1728719655.005615 2639690 gpu_timer.cc:114] Skipping the delay kernel, measurement accuracy will be reduced\n",
      "W0000 00:00:1728719655.005799 2639690 gpu_timer.cc:114] Skipping the delay kernel, measurement accuracy will be reduced\n",
      "W0000 00:00:1728719655.006391 2639690 gpu_timer.cc:114] Skipping the delay kernel, measurement accuracy will be reduced\n",
      "W0000 00:00:1728719655.007191 2639690 gpu_timer.cc:114] Skipping the delay kernel, measurement accuracy will be reduced\n",
      "W0000 00:00:1728719655.007371 2639690 gpu_timer.cc:114] Skipping the delay kernel, measurement accuracy will be reduced\n",
      "W0000 00:00:1728719655.007522 2639690 gpu_timer.cc:114] Skipping the delay kernel, measurement accuracy will be reduced\n",
      "W0000 00:00:1728719655.007679 2639690 gpu_timer.cc:114] Skipping the delay kernel, measurement accuracy will be reduced\n",
      "W0000 00:00:1728719655.007822 2639690 gpu_timer.cc:114] Skipping the delay kernel, measurement accuracy will be reduced\n",
      "W0000 00:00:1728719655.007972 2639690 gpu_timer.cc:114] Skipping the delay kernel, measurement accuracy will be reduced\n",
      "W0000 00:00:1728719655.008118 2639690 gpu_timer.cc:114] Skipping the delay kernel, measurement accuracy will be reduced\n",
      "W0000 00:00:1728719655.008265 2639690 gpu_timer.cc:114] Skipping the delay kernel, measurement accuracy will be reduced\n",
      "W0000 00:00:1728719655.008424 2639690 gpu_timer.cc:114] Skipping the delay kernel, measurement accuracy will be reduced\n",
      "W0000 00:00:1728719655.010008 2639690 gpu_timer.cc:114] Skipping the delay kernel, measurement accuracy will be reduced\n",
      "W0000 00:00:1728719655.013590 2639690 gpu_timer.cc:114] Skipping the delay kernel, measurement accuracy will be reduced\n",
      "W0000 00:00:1728719655.013812 2639690 gpu_timer.cc:114] Skipping the delay kernel, measurement accuracy will be reduced\n",
      "W0000 00:00:1728719655.013988 2639690 gpu_timer.cc:114] Skipping the delay kernel, measurement accuracy will be reduced\n",
      "W0000 00:00:1728719655.014164 2639690 gpu_timer.cc:114] Skipping the delay kernel, measurement accuracy will be reduced\n",
      "W0000 00:00:1728719655.014376 2639690 gpu_timer.cc:114] Skipping the delay kernel, measurement accuracy will be reduced\n",
      "W0000 00:00:1728719655.014531 2639690 gpu_timer.cc:114] Skipping the delay kernel, measurement accuracy will be reduced\n",
      "W0000 00:00:1728719655.014697 2639690 gpu_timer.cc:114] Skipping the delay kernel, measurement accuracy will be reduced\n",
      "W0000 00:00:1728719655.014857 2639690 gpu_timer.cc:114] Skipping the delay kernel, measurement accuracy will be reduced\n",
      "W0000 00:00:1728719655.015268 2639690 gpu_timer.cc:114] Skipping the delay kernel, measurement accuracy will be reduced\n",
      "W0000 00:00:1728719655.015447 2639690 gpu_timer.cc:114] Skipping the delay kernel, measurement accuracy will be reduced\n",
      "W0000 00:00:1728719655.015630 2639690 gpu_timer.cc:114] Skipping the delay kernel, measurement accuracy will be reduced\n",
      "W0000 00:00:1728719655.015782 2639690 gpu_timer.cc:114] Skipping the delay kernel, measurement accuracy will be reduced\n",
      "W0000 00:00:1728719655.015961 2639690 gpu_timer.cc:114] Skipping the delay kernel, measurement accuracy will be reduced\n",
      "W0000 00:00:1728719655.016129 2639690 gpu_timer.cc:114] Skipping the delay kernel, measurement accuracy will be reduced\n",
      "W0000 00:00:1728719655.016280 2639690 gpu_timer.cc:114] Skipping the delay kernel, measurement accuracy will be reduced\n",
      "W0000 00:00:1728719655.016437 2639690 gpu_timer.cc:114] Skipping the delay kernel, measurement accuracy will be reduced\n",
      "W0000 00:00:1728719655.016581 2639690 gpu_timer.cc:114] Skipping the delay kernel, measurement accuracy will be reduced\n",
      "W0000 00:00:1728719655.016730 2639690 gpu_timer.cc:114] Skipping the delay kernel, measurement accuracy will be reduced\n",
      "W0000 00:00:1728719655.016914 2639690 gpu_timer.cc:114] Skipping the delay kernel, measurement accuracy will be reduced\n",
      "W0000 00:00:1728719655.017068 2639690 gpu_timer.cc:114] Skipping the delay kernel, measurement accuracy will be reduced\n",
      "W0000 00:00:1728719655.017227 2639690 gpu_timer.cc:114] Skipping the delay kernel, measurement accuracy will be reduced\n",
      "W0000 00:00:1728719655.018845 2639690 gpu_timer.cc:114] Skipping the delay kernel, measurement accuracy will be reduced\n",
      "W0000 00:00:1728719655.022338 2639690 gpu_timer.cc:114] Skipping the delay kernel, measurement accuracy will be reduced\n",
      "W0000 00:00:1728719655.022914 2639690 gpu_timer.cc:114] Skipping the delay kernel, measurement accuracy will be reduced\n",
      "W0000 00:00:1728719655.023098 2639690 gpu_timer.cc:114] Skipping the delay kernel, measurement accuracy will be reduced\n",
      "W0000 00:00:1728719655.023279 2639690 gpu_timer.cc:114] Skipping the delay kernel, measurement accuracy will be reduced\n",
      "W0000 00:00:1728719655.023491 2639690 gpu_timer.cc:114] Skipping the delay kernel, measurement accuracy will be reduced\n",
      "W0000 00:00:1728719655.023647 2639690 gpu_timer.cc:114] Skipping the delay kernel, measurement accuracy will be reduced\n",
      "W0000 00:00:1728719655.023815 2639690 gpu_timer.cc:114] Skipping the delay kernel, measurement accuracy will be reduced\n",
      "W0000 00:00:1728719655.023977 2639690 gpu_timer.cc:114] Skipping the delay kernel, measurement accuracy will be reduced\n",
      "W0000 00:00:1728719655.024135 2639690 gpu_timer.cc:114] Skipping the delay kernel, measurement accuracy will be reduced\n",
      "W0000 00:00:1728719655.024304 2639690 gpu_timer.cc:114] Skipping the delay kernel, measurement accuracy will be reduced\n",
      "W0000 00:00:1728719655.024503 2639690 gpu_timer.cc:114] Skipping the delay kernel, measurement accuracy will be reduced\n",
      "W0000 00:00:1728719655.024660 2639690 gpu_timer.cc:114] Skipping the delay kernel, measurement accuracy will be reduced\n",
      "W0000 00:00:1728719655.024843 2639690 gpu_timer.cc:114] Skipping the delay kernel, measurement accuracy will be reduced\n",
      "W0000 00:00:1728719655.025015 2639690 gpu_timer.cc:114] Skipping the delay kernel, measurement accuracy will be reduced\n",
      "W0000 00:00:1728719655.025177 2639690 gpu_timer.cc:114] Skipping the delay kernel, measurement accuracy will be reduced\n",
      "W0000 00:00:1728719655.025398 2639690 gpu_timer.cc:114] Skipping the delay kernel, measurement accuracy will be reduced\n",
      "W0000 00:00:1728719655.025602 2639690 gpu_timer.cc:114] Skipping the delay kernel, measurement accuracy will be reduced\n",
      "W0000 00:00:1728719655.025792 2639690 gpu_timer.cc:114] Skipping the delay kernel, measurement accuracy will be reduced\n",
      "W0000 00:00:1728719655.025970 2639690 gpu_timer.cc:114] Skipping the delay kernel, measurement accuracy will be reduced\n",
      "W0000 00:00:1728719655.026150 2639690 gpu_timer.cc:114] Skipping the delay kernel, measurement accuracy will be reduced\n",
      "W0000 00:00:1728719655.026339 2639690 gpu_timer.cc:114] Skipping the delay kernel, measurement accuracy will be reduced\n",
      "W0000 00:00:1728719655.028127 2639690 gpu_timer.cc:114] Skipping the delay kernel, measurement accuracy will be reduced\n",
      "W0000 00:00:1728719655.032682 2639690 gpu_timer.cc:114] Skipping the delay kernel, measurement accuracy will be reduced\n",
      "W0000 00:00:1728719655.033017 2639690 gpu_timer.cc:114] Skipping the delay kernel, measurement accuracy will be reduced\n",
      "W0000 00:00:1728719655.033400 2639690 gpu_timer.cc:114] Skipping the delay kernel, measurement accuracy will be reduced\n",
      "W0000 00:00:1728719655.033669 2639690 gpu_timer.cc:114] Skipping the delay kernel, measurement accuracy will be reduced\n",
      "W0000 00:00:1728719655.033926 2639690 gpu_timer.cc:114] Skipping the delay kernel, measurement accuracy will be reduced\n",
      "W0000 00:00:1728719655.034557 2639690 gpu_timer.cc:114] Skipping the delay kernel, measurement accuracy will be reduced\n",
      "W0000 00:00:1728719655.034858 2639690 gpu_timer.cc:114] Skipping the delay kernel, measurement accuracy will be reduced\n",
      "W0000 00:00:1728719655.035216 2639690 gpu_timer.cc:114] Skipping the delay kernel, measurement accuracy will be reduced\n",
      "W0000 00:00:1728719655.035537 2639690 gpu_timer.cc:114] Skipping the delay kernel, measurement accuracy will be reduced\n",
      "W0000 00:00:1728719655.035884 2639690 gpu_timer.cc:114] Skipping the delay kernel, measurement accuracy will be reduced\n",
      "W0000 00:00:1728719655.036206 2639690 gpu_timer.cc:114] Skipping the delay kernel, measurement accuracy will be reduced\n",
      "W0000 00:00:1728719655.036466 2639690 gpu_timer.cc:114] Skipping the delay kernel, measurement accuracy will be reduced\n",
      "W0000 00:00:1728719655.036751 2639690 gpu_timer.cc:114] Skipping the delay kernel, measurement accuracy will be reduced\n",
      "W0000 00:00:1728719655.037030 2639690 gpu_timer.cc:114] Skipping the delay kernel, measurement accuracy will be reduced\n",
      "W0000 00:00:1728719655.037313 2639690 gpu_timer.cc:114] Skipping the delay kernel, measurement accuracy will be reduced\n",
      "W0000 00:00:1728719655.037695 2639690 gpu_timer.cc:114] Skipping the delay kernel, measurement accuracy will be reduced\n",
      "W0000 00:00:1728719655.038410 2639690 gpu_timer.cc:114] Skipping the delay kernel, measurement accuracy will be reduced\n",
      "W0000 00:00:1728719655.042185 2639690 gpu_timer.cc:114] Skipping the delay kernel, measurement accuracy will be reduced\n",
      "W0000 00:00:1728719655.045555 2639690 gpu_timer.cc:114] Skipping the delay kernel, measurement accuracy will be reduced\n",
      "W0000 00:00:1728719655.048597 2639690 gpu_timer.cc:114] Skipping the delay kernel, measurement accuracy will be reduced\n",
      "W0000 00:00:1728719655.055389 2639690 gpu_timer.cc:114] Skipping the delay kernel, measurement accuracy will be reduced\n",
      "W0000 00:00:1728719655.071576 2639690 gpu_timer.cc:114] Skipping the delay kernel, measurement accuracy will be reduced\n",
      "W0000 00:00:1728719655.075421 2639690 gpu_timer.cc:114] Skipping the delay kernel, measurement accuracy will be reduced\n",
      "W0000 00:00:1728719655.079115 2639690 gpu_timer.cc:114] Skipping the delay kernel, measurement accuracy will be reduced\n",
      "W0000 00:00:1728719655.081394 2639690 gpu_timer.cc:114] Skipping the delay kernel, measurement accuracy will be reduced\n",
      "W0000 00:00:1728719655.081571 2639690 gpu_timer.cc:114] Skipping the delay kernel, measurement accuracy will be reduced\n",
      "W0000 00:00:1728719655.083757 2639690 gpu_timer.cc:114] Skipping the delay kernel, measurement accuracy will be reduced\n",
      "W0000 00:00:1728719655.085536 2639690 gpu_timer.cc:114] Skipping the delay kernel, measurement accuracy will be reduced\n",
      "W0000 00:00:1728719655.085734 2639690 gpu_timer.cc:114] Skipping the delay kernel, measurement accuracy will be reduced\n",
      "W0000 00:00:1728719655.088268 2639690 gpu_timer.cc:114] Skipping the delay kernel, measurement accuracy will be reduced\n",
      "W0000 00:00:1728719655.088847 2639690 gpu_timer.cc:114] Skipping the delay kernel, measurement accuracy will be reduced\n",
      "W0000 00:00:1728719655.089029 2639690 gpu_timer.cc:114] Skipping the delay kernel, measurement accuracy will be reduced\n",
      "W0000 00:00:1728719655.089547 2639690 gpu_timer.cc:114] Skipping the delay kernel, measurement accuracy will be reduced\n",
      "W0000 00:00:1728719655.089785 2639690 gpu_timer.cc:114] Skipping the delay kernel, measurement accuracy will be reduced\n",
      "W0000 00:00:1728719655.092389 2639690 gpu_timer.cc:114] Skipping the delay kernel, measurement accuracy will be reduced\n",
      "W0000 00:00:1728719655.093214 2639690 gpu_timer.cc:114] Skipping the delay kernel, measurement accuracy will be reduced\n",
      "W0000 00:00:1728719655.093776 2639690 gpu_timer.cc:114] Skipping the delay kernel, measurement accuracy will be reduced\n",
      "W0000 00:00:1728719655.096435 2639690 gpu_timer.cc:114] Skipping the delay kernel, measurement accuracy will be reduced\n",
      "W0000 00:00:1728719655.104129 2639690 gpu_timer.cc:114] Skipping the delay kernel, measurement accuracy will be reduced\n",
      "W0000 00:00:1728719655.120578 2639690 gpu_timer.cc:114] Skipping the delay kernel, measurement accuracy will be reduced\n",
      "W0000 00:00:1728719655.124177 2639690 gpu_timer.cc:114] Skipping the delay kernel, measurement accuracy will be reduced\n",
      "W0000 00:00:1728719655.126302 2639690 gpu_timer.cc:114] Skipping the delay kernel, measurement accuracy will be reduced\n",
      "W0000 00:00:1728719655.126454 2639690 gpu_timer.cc:114] Skipping the delay kernel, measurement accuracy will be reduced\n",
      "W0000 00:00:1728719655.127765 2639690 gpu_timer.cc:114] Skipping the delay kernel, measurement accuracy will be reduced\n",
      "W0000 00:00:1728719655.129797 2639690 gpu_timer.cc:114] Skipping the delay kernel, measurement accuracy will be reduced\n",
      "W0000 00:00:1728719655.129956 2639690 gpu_timer.cc:114] Skipping the delay kernel, measurement accuracy will be reduced\n",
      "W0000 00:00:1728719655.130105 2639690 gpu_timer.cc:114] Skipping the delay kernel, measurement accuracy will be reduced\n",
      "W0000 00:00:1728719655.130248 2639690 gpu_timer.cc:114] Skipping the delay kernel, measurement accuracy will be reduced\n",
      "W0000 00:00:1728719655.130390 2639690 gpu_timer.cc:114] Skipping the delay kernel, measurement accuracy will be reduced\n",
      "W0000 00:00:1728719655.130536 2639690 gpu_timer.cc:114] Skipping the delay kernel, measurement accuracy will be reduced\n",
      "W0000 00:00:1728719655.134031 2639690 gpu_timer.cc:114] Skipping the delay kernel, measurement accuracy will be reduced\n",
      "W0000 00:00:1728719655.134328 2639690 gpu_timer.cc:114] Skipping the delay kernel, measurement accuracy will be reduced\n",
      "W0000 00:00:1728719655.134474 2639690 gpu_timer.cc:114] Skipping the delay kernel, measurement accuracy will be reduced\n",
      "W0000 00:00:1728719655.137006 2639690 gpu_timer.cc:114] Skipping the delay kernel, measurement accuracy will be reduced\n",
      "W0000 00:00:1728719655.137630 2639690 gpu_timer.cc:114] Skipping the delay kernel, measurement accuracy will be reduced\n",
      "W0000 00:00:1728719655.137799 2639690 gpu_timer.cc:114] Skipping the delay kernel, measurement accuracy will be reduced\n",
      "W0000 00:00:1728719655.137952 2639690 gpu_timer.cc:114] Skipping the delay kernel, measurement accuracy will be reduced\n",
      "W0000 00:00:1728719655.138113 2639690 gpu_timer.cc:114] Skipping the delay kernel, measurement accuracy will be reduced\n",
      "W0000 00:00:1728719655.138273 2639690 gpu_timer.cc:114] Skipping the delay kernel, measurement accuracy will be reduced\n",
      "W0000 00:00:1728719655.143164 2639690 gpu_timer.cc:114] Skipping the delay kernel, measurement accuracy will be reduced\n",
      "W0000 00:00:1728719655.148402 2639690 gpu_timer.cc:114] Skipping the delay kernel, measurement accuracy will be reduced\n",
      "W0000 00:00:1728719655.148829 2639690 gpu_timer.cc:114] Skipping the delay kernel, measurement accuracy will be reduced\n",
      "W0000 00:00:1728719655.148989 2639690 gpu_timer.cc:114] Skipping the delay kernel, measurement accuracy will be reduced\n",
      "W0000 00:00:1728719655.149145 2639690 gpu_timer.cc:114] Skipping the delay kernel, measurement accuracy will be reduced\n",
      "W0000 00:00:1728719655.149317 2639690 gpu_timer.cc:114] Skipping the delay kernel, measurement accuracy will be reduced\n",
      "W0000 00:00:1728719655.149462 2639690 gpu_timer.cc:114] Skipping the delay kernel, measurement accuracy will be reduced\n",
      "W0000 00:00:1728719655.149616 2639690 gpu_timer.cc:114] Skipping the delay kernel, measurement accuracy will be reduced\n",
      "W0000 00:00:1728719655.149770 2639690 gpu_timer.cc:114] Skipping the delay kernel, measurement accuracy will be reduced\n",
      "W0000 00:00:1728719655.149917 2639690 gpu_timer.cc:114] Skipping the delay kernel, measurement accuracy will be reduced\n",
      "W0000 00:00:1728719655.150208 2639690 gpu_timer.cc:114] Skipping the delay kernel, measurement accuracy will be reduced\n",
      "W0000 00:00:1728719655.150361 2639690 gpu_timer.cc:114] Skipping the delay kernel, measurement accuracy will be reduced\n",
      "W0000 00:00:1728719655.150503 2639690 gpu_timer.cc:114] Skipping the delay kernel, measurement accuracy will be reduced\n",
      "W0000 00:00:1728719655.150651 2639690 gpu_timer.cc:114] Skipping the delay kernel, measurement accuracy will be reduced\n",
      "W0000 00:00:1728719655.150853 2639690 gpu_timer.cc:114] Skipping the delay kernel, measurement accuracy will be reduced\n",
      "W0000 00:00:1728719655.150990 2639690 gpu_timer.cc:114] Skipping the delay kernel, measurement accuracy will be reduced\n",
      "W0000 00:00:1728719655.151141 2639690 gpu_timer.cc:114] Skipping the delay kernel, measurement accuracy will be reduced\n",
      "W0000 00:00:1728719655.151280 2639690 gpu_timer.cc:114] Skipping the delay kernel, measurement accuracy will be reduced\n",
      "W0000 00:00:1728719655.151422 2639690 gpu_timer.cc:114] Skipping the delay kernel, measurement accuracy will be reduced\n",
      "W0000 00:00:1728719655.151562 2639690 gpu_timer.cc:114] Skipping the delay kernel, measurement accuracy will be reduced\n",
      "W0000 00:00:1728719655.151710 2639690 gpu_timer.cc:114] Skipping the delay kernel, measurement accuracy will be reduced\n",
      "W0000 00:00:1728719655.151858 2639690 gpu_timer.cc:114] Skipping the delay kernel, measurement accuracy will be reduced\n",
      "W0000 00:00:1728719655.153188 2639690 gpu_timer.cc:114] Skipping the delay kernel, measurement accuracy will be reduced\n",
      "W0000 00:00:1728719655.158548 2639690 gpu_timer.cc:114] Skipping the delay kernel, measurement accuracy will be reduced\n",
      "W0000 00:00:1728719655.158824 2639690 gpu_timer.cc:114] Skipping the delay kernel, measurement accuracy will be reduced\n",
      "W0000 00:00:1728719655.158983 2639690 gpu_timer.cc:114] Skipping the delay kernel, measurement accuracy will be reduced\n",
      "W0000 00:00:1728719655.159139 2639690 gpu_timer.cc:114] Skipping the delay kernel, measurement accuracy will be reduced\n",
      "W0000 00:00:1728719655.159311 2639690 gpu_timer.cc:114] Skipping the delay kernel, measurement accuracy will be reduced\n",
      "W0000 00:00:1728719655.159456 2639690 gpu_timer.cc:114] Skipping the delay kernel, measurement accuracy will be reduced\n",
      "W0000 00:00:1728719655.159611 2639690 gpu_timer.cc:114] Skipping the delay kernel, measurement accuracy will be reduced\n",
      "W0000 00:00:1728719655.159767 2639690 gpu_timer.cc:114] Skipping the delay kernel, measurement accuracy will be reduced\n",
      "W0000 00:00:1728719655.159915 2639690 gpu_timer.cc:114] Skipping the delay kernel, measurement accuracy will be reduced\n",
      "W0000 00:00:1728719655.160059 2639690 gpu_timer.cc:114] Skipping the delay kernel, measurement accuracy will be reduced\n",
      "W0000 00:00:1728719655.160210 2639690 gpu_timer.cc:114] Skipping the delay kernel, measurement accuracy will be reduced\n",
      "W0000 00:00:1728719655.160352 2639690 gpu_timer.cc:114] Skipping the delay kernel, measurement accuracy will be reduced\n",
      "W0000 00:00:1728719655.160499 2639690 gpu_timer.cc:114] Skipping the delay kernel, measurement accuracy will be reduced\n",
      "W0000 00:00:1728719655.160665 2639690 gpu_timer.cc:114] Skipping the delay kernel, measurement accuracy will be reduced\n",
      "W0000 00:00:1728719655.160804 2639690 gpu_timer.cc:114] Skipping the delay kernel, measurement accuracy will be reduced\n",
      "W0000 00:00:1728719655.160954 2639690 gpu_timer.cc:114] Skipping the delay kernel, measurement accuracy will be reduced\n",
      "W0000 00:00:1728719655.161095 2639690 gpu_timer.cc:114] Skipping the delay kernel, measurement accuracy will be reduced\n",
      "W0000 00:00:1728719655.161236 2639690 gpu_timer.cc:114] Skipping the delay kernel, measurement accuracy will be reduced\n",
      "W0000 00:00:1728719655.161376 2639690 gpu_timer.cc:114] Skipping the delay kernel, measurement accuracy will be reduced\n",
      "W0000 00:00:1728719655.161523 2639690 gpu_timer.cc:114] Skipping the delay kernel, measurement accuracy will be reduced\n",
      "W0000 00:00:1728719655.161673 2639690 gpu_timer.cc:114] Skipping the delay kernel, measurement accuracy will be reduced\n",
      "W0000 00:00:1728719655.163111 2639690 gpu_timer.cc:114] Skipping the delay kernel, measurement accuracy will be reduced\n",
      "W0000 00:00:1728719655.167335 2639690 gpu_timer.cc:114] Skipping the delay kernel, measurement accuracy will be reduced\n",
      "W0000 00:00:1728719655.167595 2639690 gpu_timer.cc:114] Skipping the delay kernel, measurement accuracy will be reduced\n",
      "W0000 00:00:1728719655.167756 2639690 gpu_timer.cc:114] Skipping the delay kernel, measurement accuracy will be reduced\n",
      "W0000 00:00:1728719655.167914 2639690 gpu_timer.cc:114] Skipping the delay kernel, measurement accuracy will be reduced\n",
      "W0000 00:00:1728719655.168084 2639690 gpu_timer.cc:114] Skipping the delay kernel, measurement accuracy will be reduced\n",
      "W0000 00:00:1728719655.168230 2639690 gpu_timer.cc:114] Skipping the delay kernel, measurement accuracy will be reduced\n",
      "W0000 00:00:1728719655.168385 2639690 gpu_timer.cc:114] Skipping the delay kernel, measurement accuracy will be reduced\n",
      "W0000 00:00:1728719655.168539 2639690 gpu_timer.cc:114] Skipping the delay kernel, measurement accuracy will be reduced\n",
      "W0000 00:00:1728719655.168685 2639690 gpu_timer.cc:114] Skipping the delay kernel, measurement accuracy will be reduced\n",
      "W0000 00:00:1728719655.168831 2639690 gpu_timer.cc:114] Skipping the delay kernel, measurement accuracy will be reduced\n",
      "W0000 00:00:1728719655.168982 2639690 gpu_timer.cc:114] Skipping the delay kernel, measurement accuracy will be reduced\n",
      "W0000 00:00:1728719655.169124 2639690 gpu_timer.cc:114] Skipping the delay kernel, measurement accuracy will be reduced\n",
      "W0000 00:00:1728719655.169272 2639690 gpu_timer.cc:114] Skipping the delay kernel, measurement accuracy will be reduced\n",
      "W0000 00:00:1728719655.169428 2639690 gpu_timer.cc:114] Skipping the delay kernel, measurement accuracy will be reduced\n",
      "W0000 00:00:1728719655.169565 2639690 gpu_timer.cc:114] Skipping the delay kernel, measurement accuracy will be reduced\n",
      "W0000 00:00:1728719655.169721 2639690 gpu_timer.cc:114] Skipping the delay kernel, measurement accuracy will be reduced\n",
      "W0000 00:00:1728719655.169866 2639690 gpu_timer.cc:114] Skipping the delay kernel, measurement accuracy will be reduced\n",
      "W0000 00:00:1728719655.170007 2639690 gpu_timer.cc:114] Skipping the delay kernel, measurement accuracy will be reduced\n",
      "W0000 00:00:1728719655.170148 2639690 gpu_timer.cc:114] Skipping the delay kernel, measurement accuracy will be reduced\n",
      "W0000 00:00:1728719655.170297 2639690 gpu_timer.cc:114] Skipping the delay kernel, measurement accuracy will be reduced\n",
      "W0000 00:00:1728719655.170447 2639690 gpu_timer.cc:114] Skipping the delay kernel, measurement accuracy will be reduced\n",
      "W0000 00:00:1728719655.171734 2639690 gpu_timer.cc:114] Skipping the delay kernel, measurement accuracy will be reduced\n",
      "W0000 00:00:1728719655.176365 2639690 gpu_timer.cc:114] Skipping the delay kernel, measurement accuracy will be reduced\n",
      "W0000 00:00:1728719655.176655 2639690 gpu_timer.cc:114] Skipping the delay kernel, measurement accuracy will be reduced\n",
      "W0000 00:00:1728719655.176935 2639690 gpu_timer.cc:114] Skipping the delay kernel, measurement accuracy will be reduced\n",
      "W0000 00:00:1728719655.177235 2639690 gpu_timer.cc:114] Skipping the delay kernel, measurement accuracy will be reduced\n",
      "W0000 00:00:1728719655.177436 2639690 gpu_timer.cc:114] Skipping the delay kernel, measurement accuracy will be reduced\n",
      "W0000 00:00:1728719655.177763 2639690 gpu_timer.cc:114] Skipping the delay kernel, measurement accuracy will be reduced\n",
      "W0000 00:00:1728719655.178620 2639690 gpu_timer.cc:114] Skipping the delay kernel, measurement accuracy will be reduced\n",
      "W0000 00:00:1728719655.178843 2639690 gpu_timer.cc:114] Skipping the delay kernel, measurement accuracy will be reduced\n",
      "W0000 00:00:1728719655.179036 2639690 gpu_timer.cc:114] Skipping the delay kernel, measurement accuracy will be reduced\n",
      "W0000 00:00:1728719655.179256 2639690 gpu_timer.cc:114] Skipping the delay kernel, measurement accuracy will be reduced\n",
      "W0000 00:00:1728719655.179469 2639690 gpu_timer.cc:114] Skipping the delay kernel, measurement accuracy will be reduced\n",
      "W0000 00:00:1728719655.179688 2639690 gpu_timer.cc:114] Skipping the delay kernel, measurement accuracy will be reduced\n",
      "W0000 00:00:1728719655.179931 2639690 gpu_timer.cc:114] Skipping the delay kernel, measurement accuracy will be reduced\n",
      "W0000 00:00:1728719655.180179 2639690 gpu_timer.cc:114] Skipping the delay kernel, measurement accuracy will be reduced\n",
      "W0000 00:00:1728719655.180425 2639690 gpu_timer.cc:114] Skipping the delay kernel, measurement accuracy will be reduced\n",
      "W0000 00:00:1728719655.180755 2639690 gpu_timer.cc:114] Skipping the delay kernel, measurement accuracy will be reduced\n",
      "W0000 00:00:1728719655.181037 2639690 gpu_timer.cc:114] Skipping the delay kernel, measurement accuracy will be reduced\n",
      "W0000 00:00:1728719655.181392 2639690 gpu_timer.cc:114] Skipping the delay kernel, measurement accuracy will be reduced\n",
      "W0000 00:00:1728719655.182251 2639690 gpu_timer.cc:114] Skipping the delay kernel, measurement accuracy will be reduced\n",
      "W0000 00:00:1728719655.182715 2639690 gpu_timer.cc:114] Skipping the delay kernel, measurement accuracy will be reduced\n"
     ]
    },
    {
     "name": "stdout",
     "output_type": "stream",
     "text": [
      "[TransNetV2] Processing video frames 39900/40064"
     ]
    },
    {
     "name": "stderr",
     "output_type": "stream",
     "text": [
      "\n",
      "  1%|          | 1/88 [00:18<26:08, 18.03s/it]\u001B[A"
     ]
    },
    {
     "name": "stdout",
     "output_type": "stream",
     "text": [
      "[TransNetV2] Processing video frames 40064/40064\n",
      "./SceneJSON_2024/L25/V001.json\n",
      "[TransNetV2] Extracting frames from /media/daoan/T7 Shield2/AI_Challenge_2024_DATA/video_with_audio/Videos_L25/video/L25_V002.mp4\n",
      "[TransNetV2] Processing video frames 28400/28496"
     ]
    },
    {
     "name": "stderr",
     "output_type": "stream",
     "text": [
      "\n",
      "  2%|▏         | 2/88 [00:29<20:30, 14.31s/it]\u001B[A"
     ]
    },
    {
     "name": "stdout",
     "output_type": "stream",
     "text": [
      "[TransNetV2] Processing video frames 28496/28496\n",
      "./SceneJSON_2024/L25/V002.json\n",
      "[TransNetV2] Extracting frames from /media/daoan/T7 Shield2/AI_Challenge_2024_DATA/video_with_audio/Videos_L25/video/L25_V003.mp4\n",
      "[TransNetV2] Processing video frames 28550/29054"
     ]
    },
    {
     "name": "stderr",
     "output_type": "stream",
     "text": [
      "\n",
      "  3%|▎         | 3/88 [00:41<18:25, 13.00s/it]\u001B[A"
     ]
    },
    {
     "name": "stdout",
     "output_type": "stream",
     "text": [
      "[TransNetV2] Processing video frames 29054/29054\n",
      "./SceneJSON_2024/L25/V003.json\n",
      "[TransNetV2] Extracting frames from /media/daoan/T7 Shield2/AI_Challenge_2024_DATA/video_with_audio/Videos_L25/video/L25_V004.mp4\n",
      "[TransNetV2] Processing video frames 29400/29912"
     ]
    },
    {
     "name": "stderr",
     "output_type": "stream",
     "text": [
      "\n",
      "  5%|▍         | 4/88 [00:53<17:53, 12.78s/it]\u001B[A"
     ]
    },
    {
     "name": "stdout",
     "output_type": "stream",
     "text": [
      "[TransNetV2] Processing video frames 29912/29912\n",
      "./SceneJSON_2024/L25/V004.json\n",
      "[TransNetV2] Extracting frames from /media/daoan/T7 Shield2/AI_Challenge_2024_DATA/video_with_audio/Videos_L25/video/L25_V005.mp4\n",
      "[TransNetV2] Processing video frames 56850/57199"
     ]
    },
    {
     "name": "stderr",
     "output_type": "stream",
     "text": [
      "\n",
      "  6%|▌         | 5/88 [01:16<22:43, 16.43s/it]\u001B[A"
     ]
    },
    {
     "name": "stdout",
     "output_type": "stream",
     "text": [
      "[TransNetV2] Processing video frames 57199/57199\n",
      "./SceneJSON_2024/L25/V005.json\n",
      "[TransNetV2] Extracting frames from /media/daoan/T7 Shield2/AI_Challenge_2024_DATA/video_with_audio/Videos_L25/video/L25_V006.mp4\n",
      "[TransNetV2] Processing video frames 27050/28063"
     ]
    },
    {
     "name": "stderr",
     "output_type": "stream",
     "text": [
      "\n",
      "  7%|▋         | 6/88 [01:27<19:51, 14.53s/it]\u001B[A"
     ]
    },
    {
     "name": "stdout",
     "output_type": "stream",
     "text": [
      "[TransNetV2] Processing video frames 28063/28063\n",
      "./SceneJSON_2024/L25/V006.json\n",
      "[TransNetV2] Extracting frames from /media/daoan/T7 Shield2/AI_Challenge_2024_DATA/video_with_audio/Videos_L25/video/L25_V007.mp4\n",
      "[TransNetV2] Processing video frames 68300/68367"
     ]
    },
    {
     "name": "stderr",
     "output_type": "stream",
     "text": [
      "\n",
      "  8%|▊         | 7/88 [01:56<26:17, 19.47s/it]\u001B[A"
     ]
    },
    {
     "name": "stdout",
     "output_type": "stream",
     "text": [
      "[TransNetV2] Processing video frames 68367/68367\n",
      "./SceneJSON_2024/L25/V007.json\n",
      "[TransNetV2] Extracting frames from /media/daoan/T7 Shield2/AI_Challenge_2024_DATA/video_with_audio/Videos_L25/video/L25_V008.mp4\n",
      "[TransNetV2] Processing video frames 36324/36324\n"
     ]
    },
    {
     "name": "stderr",
     "output_type": "stream",
     "text": [
      "\n",
      "  9%|▉         | 8/88 [02:10<23:34, 17.68s/it]\u001B[A"
     ]
    },
    {
     "name": "stdout",
     "output_type": "stream",
     "text": [
      "./SceneJSON_2024/L25/V008.json\n",
      "[TransNetV2] Extracting frames from /media/daoan/T7 Shield2/AI_Challenge_2024_DATA/video_with_audio/Videos_L25/video/L25_V009.mp4\n",
      "[TransNetV2] Processing video frames 19750/21141"
     ]
    },
    {
     "name": "stderr",
     "output_type": "stream",
     "text": [
      "\n",
      " 10%|█         | 9/88 [02:19<19:35, 14.88s/it]\u001B[A"
     ]
    },
    {
     "name": "stdout",
     "output_type": "stream",
     "text": [
      "[TransNetV2] Processing video frames 21141/21141\n",
      "./SceneJSON_2024/L25/V009.json\n",
      "[TransNetV2] Extracting frames from /media/daoan/T7 Shield2/AI_Challenge_2024_DATA/video_with_audio/Videos_L25/video/L25_V010.mp4\n",
      "[TransNetV2] Processing video frames 55116/55116\n"
     ]
    },
    {
     "name": "stderr",
     "output_type": "stream",
     "text": [
      "\n",
      " 11%|█▏        | 10/88 [02:42<22:40, 17.44s/it]\u001B[A"
     ]
    },
    {
     "name": "stdout",
     "output_type": "stream",
     "text": [
      "./SceneJSON_2024/L25/V010.json\n",
      "[TransNetV2] Extracting frames from /media/daoan/T7 Shield2/AI_Challenge_2024_DATA/video_with_audio/Videos_L25/video/L25_V011.mp4\n",
      "[TransNetV2] Processing video frames 21350/22364"
     ]
    },
    {
     "name": "stderr",
     "output_type": "stream",
     "text": [
      "\n",
      " 12%|█▎        | 11/88 [02:52<19:10, 14.94s/it]\u001B[A"
     ]
    },
    {
     "name": "stdout",
     "output_type": "stream",
     "text": [
      "[TransNetV2] Processing video frames 22364/22364\n",
      "./SceneJSON_2024/L25/V011.json\n",
      "[TransNetV2] Extracting frames from /media/daoan/T7 Shield2/AI_Challenge_2024_DATA/video_with_audio/Videos_L25/video/L25_V012.mp4\n",
      "[TransNetV2] Processing video frames 30450/31020"
     ]
    },
    {
     "name": "stderr",
     "output_type": "stream",
     "text": [
      "\n",
      " 14%|█▎        | 12/88 [03:04<18:02, 14.24s/it]\u001B[A"
     ]
    },
    {
     "name": "stdout",
     "output_type": "stream",
     "text": [
      "[TransNetV2] Processing video frames 31020/31020\n",
      "./SceneJSON_2024/L25/V012.json\n",
      "[TransNetV2] Extracting frames from /media/daoan/T7 Shield2/AI_Challenge_2024_DATA/video_with_audio/Videos_L25/video/L25_V013.mp4\n",
      "[TransNetV2] Processing video frames 35728/35728\n"
     ]
    },
    {
     "name": "stderr",
     "output_type": "stream",
     "text": [
      "\n",
      " 15%|█▍        | 13/88 [03:18<17:47, 14.24s/it]\u001B[A"
     ]
    },
    {
     "name": "stdout",
     "output_type": "stream",
     "text": [
      "./SceneJSON_2024/L25/V013.json\n",
      "[TransNetV2] Extracting frames from /media/daoan/T7 Shield2/AI_Challenge_2024_DATA/video_with_audio/Videos_L25/video/L25_V014.mp4\n",
      "[TransNetV2] Processing video frames 46600/47689"
     ]
    },
    {
     "name": "stderr",
     "output_type": "stream",
     "text": [
      "\n",
      " 16%|█▌        | 14/88 [03:38<19:37, 15.91s/it]\u001B[A"
     ]
    },
    {
     "name": "stdout",
     "output_type": "stream",
     "text": [
      "[TransNetV2] Processing video frames 47689/47689\n",
      "./SceneJSON_2024/L25/V014.json\n",
      "[TransNetV2] Extracting frames from /media/daoan/T7 Shield2/AI_Challenge_2024_DATA/video_with_audio/Videos_L25/video/L25_V015.mp4\n",
      "[TransNetV2] Processing video frames 32400/33216"
     ]
    },
    {
     "name": "stderr",
     "output_type": "stream",
     "text": [
      "\n",
      " 17%|█▋        | 15/88 [03:52<18:33, 15.26s/it]\u001B[A"
     ]
    },
    {
     "name": "stdout",
     "output_type": "stream",
     "text": [
      "[TransNetV2] Processing video frames 33216/33216\n",
      "./SceneJSON_2024/L25/V015.json\n",
      "[TransNetV2] Extracting frames from /media/daoan/T7 Shield2/AI_Challenge_2024_DATA/video_with_audio/Videos_L25/video/L25_V016.mp4\n",
      "[TransNetV2] Processing video frames 39800/39809"
     ]
    },
    {
     "name": "stderr",
     "output_type": "stream",
     "text": [
      "\n",
      " 18%|█▊        | 16/88 [04:09<18:54, 15.76s/it]\u001B[A"
     ]
    },
    {
     "name": "stdout",
     "output_type": "stream",
     "text": [
      "[TransNetV2] Processing video frames 39809/39809\n",
      "./SceneJSON_2024/L25/V016.json\n",
      "[TransNetV2] Extracting frames from /media/daoan/T7 Shield2/AI_Challenge_2024_DATA/video_with_audio/Videos_L25/video/L25_V017.mp4\n",
      "[TransNetV2] Processing video frames 32850/34073"
     ]
    },
    {
     "name": "stderr",
     "output_type": "stream",
     "text": [
      "\n",
      " 19%|█▉        | 17/88 [04:22<17:41, 14.96s/it]\u001B[A"
     ]
    },
    {
     "name": "stdout",
     "output_type": "stream",
     "text": [
      "[TransNetV2] Processing video frames 34073/34073\n",
      "./SceneJSON_2024/L25/V017.json\n",
      "[TransNetV2] Extracting frames from /media/daoan/T7 Shield2/AI_Challenge_2024_DATA/video_with_audio/Videos_L25/video/L25_V018.mp4\n",
      "[TransNetV2] Processing video frames 40600/41559"
     ]
    },
    {
     "name": "stderr",
     "output_type": "stream",
     "text": [
      "\n",
      " 20%|██        | 18/88 [04:40<18:30, 15.86s/it]\u001B[A"
     ]
    },
    {
     "name": "stdout",
     "output_type": "stream",
     "text": [
      "[TransNetV2] Processing video frames 41559/41559\n",
      "./SceneJSON_2024/L25/V018.json\n",
      "[TransNetV2] Extracting frames from /media/daoan/T7 Shield2/AI_Challenge_2024_DATA/video_with_audio/Videos_L25/video/L25_V019.mp4\n",
      "[TransNetV2] Processing video frames 21550/22296"
     ]
    },
    {
     "name": "stderr",
     "output_type": "stream",
     "text": [
      "\n",
      " 22%|██▏       | 19/88 [04:49<15:58, 13.89s/it]\u001B[A"
     ]
    },
    {
     "name": "stdout",
     "output_type": "stream",
     "text": [
      "[TransNetV2] Processing video frames 22296/22296\n",
      "./SceneJSON_2024/L25/V019.json\n",
      "[TransNetV2] Extracting frames from /media/daoan/T7 Shield2/AI_Challenge_2024_DATA/video_with_audio/Videos_L25/video/L25_V020.mp4\n",
      "[TransNetV2] Processing video frames 29876/29876\n"
     ]
    },
    {
     "name": "stderr",
     "output_type": "stream",
     "text": [
      "\n",
      " 23%|██▎       | 20/88 [05:01<15:05, 13.31s/it]\u001B[A"
     ]
    },
    {
     "name": "stdout",
     "output_type": "stream",
     "text": [
      "./SceneJSON_2024/L25/V020.json\n",
      "[TransNetV2] Extracting frames from /media/daoan/T7 Shield2/AI_Challenge_2024_DATA/video_with_audio/Videos_L25/video/L25_V021.mp4\n",
      "[TransNetV2] Processing video frames 34200/34845"
     ]
    },
    {
     "name": "stderr",
     "output_type": "stream",
     "text": [
      "\n",
      " 24%|██▍       | 21/88 [05:15<15:10, 13.58s/it]\u001B[A"
     ]
    },
    {
     "name": "stdout",
     "output_type": "stream",
     "text": [
      "[TransNetV2] Processing video frames 34845/34845\n",
      "./SceneJSON_2024/L25/V021.json\n",
      "[TransNetV2] Extracting frames from /media/daoan/T7 Shield2/AI_Challenge_2024_DATA/video_with_audio/Videos_L25/video/L25_V022.mp4\n",
      "[TransNetV2] Processing video frames 49144/49144\n"
     ]
    },
    {
     "name": "stderr",
     "output_type": "stream",
     "text": [
      "\n",
      " 25%|██▌       | 22/88 [05:36<17:19, 15.75s/it]\u001B[A"
     ]
    },
    {
     "name": "stdout",
     "output_type": "stream",
     "text": [
      "./SceneJSON_2024/L25/V022.json\n",
      "[TransNetV2] Extracting frames from /media/daoan/T7 Shield2/AI_Challenge_2024_DATA/video_with_audio/Videos_L25/video/L25_V023.mp4\n",
      "[TransNetV2] Processing video frames 36650/36958"
     ]
    },
    {
     "name": "stderr",
     "output_type": "stream",
     "text": [
      "\n",
      " 26%|██▌       | 23/88 [05:51<16:48, 15.51s/it]\u001B[A"
     ]
    },
    {
     "name": "stdout",
     "output_type": "stream",
     "text": [
      "[TransNetV2] Processing video frames 36958/36958\n",
      "./SceneJSON_2024/L25/V023.json\n",
      "[TransNetV2] Extracting frames from /media/daoan/T7 Shield2/AI_Challenge_2024_DATA/video_with_audio/Videos_L25/video/L25_V024.mp4\n",
      "[TransNetV2] Processing video frames 35700/35862"
     ]
    },
    {
     "name": "stderr",
     "output_type": "stream",
     "text": [
      "\n",
      " 27%|██▋       | 24/88 [06:07<16:44, 15.69s/it]\u001B[A"
     ]
    },
    {
     "name": "stdout",
     "output_type": "stream",
     "text": [
      "[TransNetV2] Processing video frames 35862/35862\n",
      "./SceneJSON_2024/L25/V024.json\n",
      "[TransNetV2] Extracting frames from /media/daoan/T7 Shield2/AI_Challenge_2024_DATA/video_with_audio/Videos_L25/video/L25_V025.mp4\n",
      "[TransNetV2] Processing video frames 49800/50551"
     ]
    },
    {
     "name": "stderr",
     "output_type": "stream",
     "text": [
      "\n",
      " 28%|██▊       | 25/88 [06:26<17:30, 16.67s/it]\u001B[A"
     ]
    },
    {
     "name": "stdout",
     "output_type": "stream",
     "text": [
      "[TransNetV2] Processing video frames 50551/50551\n",
      "./SceneJSON_2024/L25/V025.json\n",
      "[TransNetV2] Extracting frames from /media/daoan/T7 Shield2/AI_Challenge_2024_DATA/video_with_audio/Videos_L25/video/L25_V026.mp4\n",
      "[TransNetV2] Processing video frames 40450/41254"
     ]
    },
    {
     "name": "stderr",
     "output_type": "stream",
     "text": [
      "\n",
      " 30%|██▉       | 26/88 [06:43<17:09, 16.61s/it]\u001B[A"
     ]
    },
    {
     "name": "stdout",
     "output_type": "stream",
     "text": [
      "[TransNetV2] Processing video frames 41254/41254\n",
      "./SceneJSON_2024/L25/V026.json\n",
      "[TransNetV2] Extracting frames from /media/daoan/T7 Shield2/AI_Challenge_2024_DATA/video_with_audio/Videos_L25/video/L25_V027.mp4\n",
      "[TransNetV2] Processing video frames 44477/44477\n"
     ]
    },
    {
     "name": "stderr",
     "output_type": "stream",
     "text": [
      "\n",
      " 31%|███       | 27/88 [07:01<17:30, 17.22s/it]\u001B[A"
     ]
    },
    {
     "name": "stdout",
     "output_type": "stream",
     "text": [
      "./SceneJSON_2024/L25/V027.json\n",
      "[TransNetV2] Extracting frames from /media/daoan/T7 Shield2/AI_Challenge_2024_DATA/video_with_audio/Videos_L25/video/L25_V028.mp4\n",
      "[TransNetV2] Processing video frames 21550/21939"
     ]
    },
    {
     "name": "stderr",
     "output_type": "stream",
     "text": [
      "\n",
      " 32%|███▏      | 28/88 [07:11<14:50, 14.84s/it]\u001B[A"
     ]
    },
    {
     "name": "stdout",
     "output_type": "stream",
     "text": [
      "[TransNetV2] Processing video frames 21939/21939\n",
      "./SceneJSON_2024/L25/V028.json\n",
      "[TransNetV2] Extracting frames from /media/daoan/T7 Shield2/AI_Challenge_2024_DATA/video_with_audio/Videos_L25/video/L25_V029.mp4\n",
      "[TransNetV2] Processing video frames 33871/33871\n",
      "./SceneJSON_2024/L25/V029.json\n"
     ]
    },
    {
     "name": "stderr",
     "output_type": "stream",
     "text": [
      "\n",
      " 33%|███▎      | 29/88 [07:24<14:13, 14.47s/it]\u001B[A"
     ]
    },
    {
     "name": "stdout",
     "output_type": "stream",
     "text": [
      "[TransNetV2] Extracting frames from /media/daoan/T7 Shield2/AI_Challenge_2024_DATA/video_with_audio/Videos_L25/video/L25_V030.mp4\n",
      "[TransNetV2] Processing video frames 38560/38560\n"
     ]
    },
    {
     "name": "stderr",
     "output_type": "stream",
     "text": [
      "\n",
      " 34%|███▍      | 30/88 [07:41<14:36, 15.12s/it]\u001B[A"
     ]
    },
    {
     "name": "stdout",
     "output_type": "stream",
     "text": [
      "./SceneJSON_2024/L25/V030.json\n",
      "[TransNetV2] Extracting frames from /media/daoan/T7 Shield2/AI_Challenge_2024_DATA/video_with_audio/Videos_L25/video/L25_V031.mp4\n",
      "[TransNetV2] Processing video frames 37788/37788\n"
     ]
    },
    {
     "name": "stderr",
     "output_type": "stream",
     "text": [
      "\n",
      " 35%|███▌      | 31/88 [07:56<14:25, 15.19s/it]\u001B[A"
     ]
    },
    {
     "name": "stdout",
     "output_type": "stream",
     "text": [
      "./SceneJSON_2024/L25/V031.json\n",
      "[TransNetV2] Extracting frames from /media/daoan/T7 Shield2/AI_Challenge_2024_DATA/video_with_audio/Videos_L25/video/L25_V032.mp4\n",
      "[TransNetV2] Processing video frames 40350/41528"
     ]
    },
    {
     "name": "stderr",
     "output_type": "stream",
     "text": [
      "\n",
      " 36%|███▋      | 32/88 [08:13<14:35, 15.64s/it]\u001B[A"
     ]
    },
    {
     "name": "stdout",
     "output_type": "stream",
     "text": [
      "[TransNetV2] Processing video frames 41528/41528\n",
      "./SceneJSON_2024/L25/V032.json\n",
      "[TransNetV2] Extracting frames from /media/daoan/T7 Shield2/AI_Challenge_2024_DATA/video_with_audio/Videos_L25/video/L25_V033.mp4\n",
      "[TransNetV2] Processing video frames 48230/48230\n"
     ]
    },
    {
     "name": "stderr",
     "output_type": "stream",
     "text": [
      "\n",
      " 38%|███▊      | 33/88 [08:33<15:35, 17.02s/it]\u001B[A"
     ]
    },
    {
     "name": "stdout",
     "output_type": "stream",
     "text": [
      "./SceneJSON_2024/L25/V033.json\n",
      "[TransNetV2] Extracting frames from /media/daoan/T7 Shield2/AI_Challenge_2024_DATA/video_with_audio/Videos_L25/video/L25_V034.mp4\n",
      "[TransNetV2] Processing video frames 40900/41151"
     ]
    },
    {
     "name": "stderr",
     "output_type": "stream",
     "text": [
      "\n",
      " 39%|███▊      | 34/88 [08:49<15:06, 16.80s/it]\u001B[A"
     ]
    },
    {
     "name": "stdout",
     "output_type": "stream",
     "text": [
      "[TransNetV2] Processing video frames 41151/41151\n",
      "./SceneJSON_2024/L25/V034.json\n",
      "[TransNetV2] Extracting frames from /media/daoan/T7 Shield2/AI_Challenge_2024_DATA/video_with_audio/Videos_L25/video/L25_V035.mp4\n",
      "[TransNetV2] Processing video frames 32493/32493\n"
     ]
    },
    {
     "name": "stderr",
     "output_type": "stream",
     "text": [
      "\n",
      " 40%|███▉      | 35/88 [09:03<14:00, 15.86s/it]\u001B[A"
     ]
    },
    {
     "name": "stdout",
     "output_type": "stream",
     "text": [
      "./SceneJSON_2024/L25/V035.json\n",
      "[TransNetV2] Extracting frames from /media/daoan/T7 Shield2/AI_Challenge_2024_DATA/video_with_audio/Videos_L25/video/L25_V036.mp4\n",
      "[TransNetV2] Processing video frames 45050/45160"
     ]
    },
    {
     "name": "stderr",
     "output_type": "stream",
     "text": [
      "\n",
      " 41%|████      | 36/88 [09:22<14:39, 16.90s/it]\u001B[A"
     ]
    },
    {
     "name": "stdout",
     "output_type": "stream",
     "text": [
      "[TransNetV2] Processing video frames 45160/45160\n",
      "./SceneJSON_2024/L25/V036.json\n",
      "[TransNetV2] Extracting frames from /media/daoan/T7 Shield2/AI_Challenge_2024_DATA/video_with_audio/Videos_L25/video/L25_V037.mp4\n",
      "[TransNetV2] Processing video frames 21750/21984"
     ]
    },
    {
     "name": "stderr",
     "output_type": "stream",
     "text": [
      "\n",
      " 42%|████▏     | 37/88 [09:32<12:30, 14.71s/it]\u001B[A"
     ]
    },
    {
     "name": "stdout",
     "output_type": "stream",
     "text": [
      "[TransNetV2] Processing video frames 21984/21984\n",
      "./SceneJSON_2024/L25/V037.json\n",
      "[TransNetV2] Extracting frames from /media/daoan/T7 Shield2/AI_Challenge_2024_DATA/video_with_audio/Videos_L25/video/L25_V038.mp4\n",
      "[TransNetV2] Processing video frames 33250/34145"
     ]
    },
    {
     "name": "stderr",
     "output_type": "stream",
     "text": [
      "\n",
      " 43%|████▎     | 38/88 [09:46<12:07, 14.54s/it]\u001B[A"
     ]
    },
    {
     "name": "stdout",
     "output_type": "stream",
     "text": [
      "[TransNetV2] Processing video frames 34145/34145\n",
      "./SceneJSON_2024/L25/V038.json\n",
      "[TransNetV2] Extracting frames from /media/daoan/T7 Shield2/AI_Challenge_2024_DATA/video_with_audio/Videos_L25/video/L25_V039.mp4\n",
      "[TransNetV2] Processing video frames 45947/45947\n"
     ]
    },
    {
     "name": "stderr",
     "output_type": "stream",
     "text": [
      "\n",
      " 44%|████▍     | 39/88 [10:05<12:50, 15.72s/it]\u001B[A"
     ]
    },
    {
     "name": "stdout",
     "output_type": "stream",
     "text": [
      "./SceneJSON_2024/L25/V039.json\n",
      "[TransNetV2] Extracting frames from /media/daoan/T7 Shield2/AI_Challenge_2024_DATA/video_with_audio/Videos_L25/video/L25_V040.mp4\n",
      "[TransNetV2] Processing video frames 34600/34871"
     ]
    },
    {
     "name": "stderr",
     "output_type": "stream",
     "text": [
      "\n",
      " 45%|████▌     | 40/88 [10:19<12:08, 15.17s/it]\u001B[A"
     ]
    },
    {
     "name": "stdout",
     "output_type": "stream",
     "text": [
      "[TransNetV2] Processing video frames 34871/34871\n",
      "./SceneJSON_2024/L25/V040.json\n",
      "[TransNetV2] Extracting frames from /media/daoan/T7 Shield2/AI_Challenge_2024_DATA/video_with_audio/Videos_L25/video/L25_V041.mp4\n",
      "[TransNetV2] Processing video frames 35707/35707\n"
     ]
    },
    {
     "name": "stderr",
     "output_type": "stream",
     "text": [
      "\n",
      " 47%|████▋     | 41/88 [10:33<11:40, 14.91s/it]\u001B[A"
     ]
    },
    {
     "name": "stdout",
     "output_type": "stream",
     "text": [
      "./SceneJSON_2024/L25/V041.json\n",
      "[TransNetV2] Extracting frames from /media/daoan/T7 Shield2/AI_Challenge_2024_DATA/video_with_audio/Videos_L25/video/L25_V042.mp4\n",
      "[TransNetV2] Processing video frames 48150/48230"
     ]
    },
    {
     "name": "stderr",
     "output_type": "stream",
     "text": [
      "\n",
      " 48%|████▊     | 42/88 [10:53<12:33, 16.37s/it]\u001B[A"
     ]
    },
    {
     "name": "stdout",
     "output_type": "stream",
     "text": [
      "[TransNetV2] Processing video frames 48230/48230\n",
      "./SceneJSON_2024/L25/V042.json\n",
      "[TransNetV2] Extracting frames from /media/daoan/T7 Shield2/AI_Challenge_2024_DATA/video_with_audio/Videos_L25/video/L25_V043.mp4\n",
      "[TransNetV2] Processing video frames 50600/50807"
     ]
    },
    {
     "name": "stderr",
     "output_type": "stream",
     "text": [
      "\n",
      " 49%|████▉     | 43/88 [11:12<13:00, 17.34s/it]\u001B[A"
     ]
    },
    {
     "name": "stdout",
     "output_type": "stream",
     "text": [
      "[TransNetV2] Processing video frames 50807/50807\n",
      "./SceneJSON_2024/L25/V043.json\n",
      "[TransNetV2] Extracting frames from /media/daoan/T7 Shield2/AI_Challenge_2024_DATA/video_with_audio/Videos_L25/video/L25_V044.mp4\n",
      "[TransNetV2] Processing video frames 30300/30320"
     ]
    },
    {
     "name": "stderr",
     "output_type": "stream",
     "text": [
      "\n",
      " 50%|█████     | 44/88 [11:24<11:31, 15.71s/it]\u001B[A"
     ]
    },
    {
     "name": "stdout",
     "output_type": "stream",
     "text": [
      "[TransNetV2] Processing video frames 30320/30320\n",
      "./SceneJSON_2024/L25/V044.json\n",
      "[TransNetV2] Extracting frames from /media/daoan/T7 Shield2/AI_Challenge_2024_DATA/video_with_audio/Videos_L25/video/L25_V045.mp4\n",
      "[TransNetV2] Processing video frames 34531/34531\n",
      "./SceneJSON_2024/L25/V045.json\n"
     ]
    },
    {
     "name": "stderr",
     "output_type": "stream",
     "text": [
      "\n",
      " 51%|█████     | 45/88 [11:38<10:48, 15.09s/it]\u001B[A"
     ]
    },
    {
     "name": "stdout",
     "output_type": "stream",
     "text": [
      "[TransNetV2] Extracting frames from /media/daoan/T7 Shield2/AI_Challenge_2024_DATA/video_with_audio/Videos_L25/video/L25_V046.mp4\n",
      "[TransNetV2] Processing video frames 24450/25161"
     ]
    },
    {
     "name": "stderr",
     "output_type": "stream",
     "text": [
      "\n",
      " 52%|█████▏    | 46/88 [11:48<09:33, 13.66s/it]\u001B[A"
     ]
    },
    {
     "name": "stdout",
     "output_type": "stream",
     "text": [
      "[TransNetV2] Processing video frames 25161/25161\n",
      "./SceneJSON_2024/L25/V046.json\n",
      "[TransNetV2] Extracting frames from /media/daoan/T7 Shield2/AI_Challenge_2024_DATA/video_with_audio/Videos_L25/video/L25_V047.mp4\n",
      "[TransNetV2] Processing video frames 33146/33146\n"
     ]
    },
    {
     "name": "stderr",
     "output_type": "stream",
     "text": [
      "\n",
      " 53%|█████▎    | 47/88 [12:01<09:10, 13.42s/it]\u001B[A"
     ]
    },
    {
     "name": "stdout",
     "output_type": "stream",
     "text": [
      "./SceneJSON_2024/L25/V047.json\n",
      "[TransNetV2] Extracting frames from /media/daoan/T7 Shield2/AI_Challenge_2024_DATA/video_with_audio/Videos_L25/video/L25_V048.mp4\n",
      "[TransNetV2] Processing video frames 62057/62057\n"
     ]
    },
    {
     "name": "stderr",
     "output_type": "stream",
     "text": [
      "\n",
      " 55%|█████▍    | 48/88 [12:24<10:56, 16.40s/it]\u001B[A"
     ]
    },
    {
     "name": "stdout",
     "output_type": "stream",
     "text": [
      "./SceneJSON_2024/L25/V048.json\n",
      "[TransNetV2] Extracting frames from /media/daoan/T7 Shield2/AI_Challenge_2024_DATA/video_with_audio/Videos_L25/video/L25_V049.mp4\n",
      "[TransNetV2] Processing video frames 56200/56212"
     ]
    },
    {
     "name": "stderr",
     "output_type": "stream",
     "text": [
      "\n",
      " 56%|█████▌    | 49/88 [12:46<11:43, 18.04s/it]\u001B[A"
     ]
    },
    {
     "name": "stdout",
     "output_type": "stream",
     "text": [
      "[TransNetV2] Processing video frames 56212/56212\n",
      "./SceneJSON_2024/L25/V049.json\n",
      "[TransNetV2] Extracting frames from /media/daoan/T7 Shield2/AI_Challenge_2024_DATA/video_with_audio/Videos_L25/video/L25_V050.mp4\n",
      "[TransNetV2] Processing video frames 40250/40866"
     ]
    },
    {
     "name": "stderr",
     "output_type": "stream",
     "text": [
      "\n",
      " 57%|█████▋    | 50/88 [13:02<11:06, 17.53s/it]\u001B[A"
     ]
    },
    {
     "name": "stdout",
     "output_type": "stream",
     "text": [
      "[TransNetV2] Processing video frames 40866/40866\n",
      "./SceneJSON_2024/L25/V050.json\n",
      "[TransNetV2] Extracting frames from /media/daoan/T7 Shield2/AI_Challenge_2024_DATA/video_with_audio/Videos_L25/video/L25_V051.mp4\n",
      "[TransNetV2] Processing video frames 49550/50430"
     ]
    },
    {
     "name": "stderr",
     "output_type": "stream",
     "text": [
      "\n",
      " 58%|█████▊    | 51/88 [13:25<11:39, 18.89s/it]\u001B[A"
     ]
    },
    {
     "name": "stdout",
     "output_type": "stream",
     "text": [
      "[TransNetV2] Processing video frames 50430/50430\n",
      "./SceneJSON_2024/L25/V051.json\n",
      "[TransNetV2] Extracting frames from /media/daoan/T7 Shield2/AI_Challenge_2024_DATA/video_with_audio/Videos_L25/video/L25_V052.mp4\n",
      "[TransNetV2] Processing video frames 56650/56756"
     ]
    },
    {
     "name": "stderr",
     "output_type": "stream",
     "text": [
      "\n",
      " 59%|█████▉    | 52/88 [13:46<11:43, 19.54s/it]\u001B[A"
     ]
    },
    {
     "name": "stdout",
     "output_type": "stream",
     "text": [
      "[TransNetV2] Processing video frames 56756/56756\n",
      "./SceneJSON_2024/L25/V052.json\n",
      "[TransNetV2] Extracting frames from /media/daoan/T7 Shield2/AI_Challenge_2024_DATA/video_with_audio/Videos_L25/video/L25_V053.mp4\n",
      "[TransNetV2] Processing video frames 25200/25428"
     ]
    },
    {
     "name": "stderr",
     "output_type": "stream",
     "text": [
      "\n",
      " 60%|██████    | 53/88 [13:56<09:47, 16.80s/it]\u001B[A"
     ]
    },
    {
     "name": "stdout",
     "output_type": "stream",
     "text": [
      "[TransNetV2] Processing video frames 25428/25428\n",
      "./SceneJSON_2024/L25/V053.json\n",
      "[TransNetV2] Extracting frames from /media/daoan/T7 Shield2/AI_Challenge_2024_DATA/video_with_audio/Videos_L25/video/L25_V054.mp4\n",
      "[TransNetV2] Processing video frames 62500/62954"
     ]
    },
    {
     "name": "stderr",
     "output_type": "stream",
     "text": [
      "\n",
      " 61%|██████▏   | 54/88 [14:22<11:01, 19.46s/it]\u001B[A"
     ]
    },
    {
     "name": "stdout",
     "output_type": "stream",
     "text": [
      "[TransNetV2] Processing video frames 62954/62954\n",
      "./SceneJSON_2024/L25/V054.json\n",
      "[TransNetV2] Extracting frames from /media/daoan/T7 Shield2/AI_Challenge_2024_DATA/video_with_audio/Videos_L25/video/L25_V055.mp4\n",
      "[TransNetV2] Processing video frames 25800/26055"
     ]
    },
    {
     "name": "stderr",
     "output_type": "stream",
     "text": [
      "\n",
      " 62%|██████▎   | 55/88 [14:32<09:13, 16.78s/it]\u001B[A"
     ]
    },
    {
     "name": "stdout",
     "output_type": "stream",
     "text": [
      "[TransNetV2] Processing video frames 26055/26055\n",
      "./SceneJSON_2024/L25/V055.json\n",
      "[TransNetV2] Extracting frames from /media/daoan/T7 Shield2/AI_Challenge_2024_DATA/video_with_audio/Videos_L25/video/L25_V056.mp4\n",
      "[TransNetV2] Processing video frames 35777/35777\n"
     ]
    },
    {
     "name": "stderr",
     "output_type": "stream",
     "text": [
      "\n",
      " 64%|██████▎   | 56/88 [14:46<08:30, 15.94s/it]\u001B[A"
     ]
    },
    {
     "name": "stdout",
     "output_type": "stream",
     "text": [
      "./SceneJSON_2024/L25/V056.json\n",
      "[TransNetV2] Extracting frames from /media/daoan/T7 Shield2/AI_Challenge_2024_DATA/video_with_audio/Videos_L25/video/L25_V057.mp4\n",
      "[TransNetV2] Processing video frames 33900/34999"
     ]
    },
    {
     "name": "stderr",
     "output_type": "stream",
     "text": [
      "\n",
      " 65%|██████▍   | 57/88 [15:00<07:53, 15.29s/it]\u001B[A"
     ]
    },
    {
     "name": "stdout",
     "output_type": "stream",
     "text": [
      "[TransNetV2] Processing video frames 34999/34999\n",
      "./SceneJSON_2024/L25/V057.json\n",
      "[TransNetV2] Extracting frames from /media/daoan/T7 Shield2/AI_Challenge_2024_DATA/video_with_audio/Videos_L25/video/L25_V058.mp4\n",
      "[TransNetV2] Processing video frames 44800/44987"
     ]
    },
    {
     "name": "stderr",
     "output_type": "stream",
     "text": [
      "\n",
      " 66%|██████▌   | 58/88 [15:17<07:57, 15.92s/it]\u001B[A"
     ]
    },
    {
     "name": "stdout",
     "output_type": "stream",
     "text": [
      "[TransNetV2] Processing video frames 44987/44987\n",
      "./SceneJSON_2024/L25/V058.json\n",
      "[TransNetV2] Extracting frames from /media/daoan/T7 Shield2/AI_Challenge_2024_DATA/video_with_audio/Videos_L25/video/L25_V059.mp4\n",
      "[TransNetV2] Processing video frames 32250/32996"
     ]
    },
    {
     "name": "stderr",
     "output_type": "stream",
     "text": [
      "\n",
      " 67%|██████▋   | 59/88 [15:31<07:19, 15.15s/it]\u001B[A"
     ]
    },
    {
     "name": "stdout",
     "output_type": "stream",
     "text": [
      "[TransNetV2] Processing video frames 32996/32996\n",
      "./SceneJSON_2024/L25/V059.json\n",
      "[TransNetV2] Extracting frames from /media/daoan/T7 Shield2/AI_Challenge_2024_DATA/video_with_audio/Videos_L25/video/L25_V060.mp4\n",
      "[TransNetV2] Processing video frames 39569/39569\n"
     ]
    },
    {
     "name": "stderr",
     "output_type": "stream",
     "text": [
      "\n",
      " 68%|██████▊   | 60/88 [15:47<07:15, 15.56s/it]\u001B[A"
     ]
    },
    {
     "name": "stdout",
     "output_type": "stream",
     "text": [
      "./SceneJSON_2024/L25/V060.json\n",
      "[TransNetV2] Extracting frames from /media/daoan/T7 Shield2/AI_Challenge_2024_DATA/video_with_audio/Videos_L25/video/L25_V061.mp4\n",
      "[TransNetV2] Processing video frames 46350/46587"
     ]
    },
    {
     "name": "stderr",
     "output_type": "stream",
     "text": [
      "\n",
      " 69%|██████▉   | 61/88 [16:05<07:21, 16.37s/it]\u001B[A"
     ]
    },
    {
     "name": "stdout",
     "output_type": "stream",
     "text": [
      "[TransNetV2] Processing video frames 46587/46587\n",
      "./SceneJSON_2024/L25/V061.json\n",
      "[TransNetV2] Extracting frames from /media/daoan/T7 Shield2/AI_Challenge_2024_DATA/video_with_audio/Videos_L25/video/L25_V062.mp4\n",
      "[TransNetV2] Processing video frames 30000/31286"
     ]
    },
    {
     "name": "stderr",
     "output_type": "stream",
     "text": [
      "\n",
      " 70%|███████   | 62/88 [16:18<06:37, 15.29s/it]\u001B[A"
     ]
    },
    {
     "name": "stdout",
     "output_type": "stream",
     "text": [
      "[TransNetV2] Processing video frames 31286/31286\n",
      "./SceneJSON_2024/L25/V062.json\n",
      "[TransNetV2] Extracting frames from /media/daoan/T7 Shield2/AI_Challenge_2024_DATA/video_with_audio/Videos_L25/video/L25_V063.mp4\n",
      "[TransNetV2] Processing video frames 35150/35374"
     ]
    },
    {
     "name": "stderr",
     "output_type": "stream",
     "text": [
      "\n",
      " 72%|███████▏  | 63/88 [16:32<06:14, 14.98s/it]\u001B[A"
     ]
    },
    {
     "name": "stdout",
     "output_type": "stream",
     "text": [
      "[TransNetV2] Processing video frames 35374/35374\n",
      "./SceneJSON_2024/L25/V063.json\n",
      "[TransNetV2] Extracting frames from /media/daoan/T7 Shield2/AI_Challenge_2024_DATA/video_with_audio/Videos_L25/video/L25_V064.mp4\n",
      "[TransNetV2] Processing video frames 30300/30363"
     ]
    },
    {
     "name": "stderr",
     "output_type": "stream",
     "text": [
      "\n",
      " 73%|███████▎  | 64/88 [16:44<05:37, 14.05s/it]\u001B[A"
     ]
    },
    {
     "name": "stdout",
     "output_type": "stream",
     "text": [
      "[TransNetV2] Processing video frames 30363/30363\n",
      "./SceneJSON_2024/L25/V064.json\n",
      "[TransNetV2] Extracting frames from /media/daoan/T7 Shield2/AI_Challenge_2024_DATA/video_with_audio/Videos_L25/video/L25_V065.mp4\n",
      "[TransNetV2] Processing video frames 28250/28622"
     ]
    },
    {
     "name": "stderr",
     "output_type": "stream",
     "text": [
      "\n",
      " 74%|███████▍  | 65/88 [16:55<05:01, 13.13s/it]\u001B[A"
     ]
    },
    {
     "name": "stdout",
     "output_type": "stream",
     "text": [
      "[TransNetV2] Processing video frames 28622/28622\n",
      "./SceneJSON_2024/L25/V065.json\n",
      "[TransNetV2] Extracting frames from /media/daoan/T7 Shield2/AI_Challenge_2024_DATA/video_with_audio/Videos_L25/video/L25_V066.mp4\n",
      "[TransNetV2] Processing video frames 36986/36986\n"
     ]
    },
    {
     "name": "stderr",
     "output_type": "stream",
     "text": [
      "\n",
      " 75%|███████▌  | 66/88 [17:10<04:56, 13.48s/it]\u001B[A"
     ]
    },
    {
     "name": "stdout",
     "output_type": "stream",
     "text": [
      "./SceneJSON_2024/L25/V066.json\n",
      "[TransNetV2] Extracting frames from /media/daoan/T7 Shield2/AI_Challenge_2024_DATA/video_with_audio/Videos_L25/video/L25_V067.mp4\n",
      "[TransNetV2] Processing video frames 48550/48712"
     ]
    },
    {
     "name": "stderr",
     "output_type": "stream",
     "text": [
      "\n",
      " 76%|███████▌  | 67/88 [17:28<05:15, 15.04s/it]\u001B[A"
     ]
    },
    {
     "name": "stdout",
     "output_type": "stream",
     "text": [
      "[TransNetV2] Processing video frames 48712/48712\n",
      "./SceneJSON_2024/L25/V067.json\n",
      "[TransNetV2] Extracting frames from /media/daoan/T7 Shield2/AI_Challenge_2024_DATA/video_with_audio/Videos_L25/video/L25_V068.mp4\n",
      "[TransNetV2] Processing video frames 43883/43883\n"
     ]
    },
    {
     "name": "stderr",
     "output_type": "stream",
     "text": [
      "\n",
      " 77%|███████▋  | 68/88 [17:45<05:13, 15.67s/it]\u001B[A"
     ]
    },
    {
     "name": "stdout",
     "output_type": "stream",
     "text": [
      "./SceneJSON_2024/L25/V068.json\n",
      "[TransNetV2] Extracting frames from /media/daoan/T7 Shield2/AI_Challenge_2024_DATA/video_with_audio/Videos_L25/video/L25_V069.mp4\n",
      "[TransNetV2] Processing video frames 48200/48462"
     ]
    },
    {
     "name": "stderr",
     "output_type": "stream",
     "text": [
      "\n",
      " 78%|███████▊  | 69/88 [18:06<05:23, 17.02s/it]\u001B[A"
     ]
    },
    {
     "name": "stdout",
     "output_type": "stream",
     "text": [
      "[TransNetV2] Processing video frames 48462/48462\n",
      "./SceneJSON_2024/L25/V069.json\n",
      "[TransNetV2] Extracting frames from /media/daoan/T7 Shield2/AI_Challenge_2024_DATA/video_with_audio/Videos_L25/video/L25_V070.mp4\n",
      "[TransNetV2] Processing video frames 42250/43400"
     ]
    },
    {
     "name": "stderr",
     "output_type": "stream",
     "text": [
      "\n",
      " 80%|███████▉  | 70/88 [18:23<05:06, 17.00s/it]\u001B[A"
     ]
    },
    {
     "name": "stdout",
     "output_type": "stream",
     "text": [
      "[TransNetV2] Processing video frames 43400/43400\n",
      "./SceneJSON_2024/L25/V070.json\n",
      "[TransNetV2] Extracting frames from /media/daoan/T7 Shield2/AI_Challenge_2024_DATA/video_with_audio/Videos_L25/video/L25_V071.mp4\n",
      "[TransNetV2] Processing video frames 23750/24702"
     ]
    },
    {
     "name": "stderr",
     "output_type": "stream",
     "text": [
      "\n",
      " 81%|████████  | 71/88 [18:32<04:12, 14.87s/it]\u001B[A"
     ]
    },
    {
     "name": "stdout",
     "output_type": "stream",
     "text": [
      "[TransNetV2] Processing video frames 24702/24702\n",
      "./SceneJSON_2024/L25/V071.json\n",
      "[TransNetV2] Extracting frames from /media/daoan/T7 Shield2/AI_Challenge_2024_DATA/video_with_audio/Videos_L25/video/L25_V072.mp4\n",
      "[TransNetV2] Processing video frames 24412/24412\n",
      "./SceneJSON_2024/L25/V072.json\n"
     ]
    },
    {
     "name": "stderr",
     "output_type": "stream",
     "text": [
      "\n",
      " 82%|████████▏ | 72/88 [18:42<03:33, 13.35s/it]\u001B[A"
     ]
    },
    {
     "name": "stdout",
     "output_type": "stream",
     "text": [
      "[TransNetV2] Extracting frames from /media/daoan/T7 Shield2/AI_Challenge_2024_DATA/video_with_audio/Videos_L25/video/L25_V073.mp4\n",
      "[TransNetV2] Processing video frames 32100/33398"
     ]
    },
    {
     "name": "stderr",
     "output_type": "stream",
     "text": [
      "\n",
      " 83%|████████▎ | 73/88 [18:56<03:21, 13.46s/it]\u001B[A"
     ]
    },
    {
     "name": "stdout",
     "output_type": "stream",
     "text": [
      "[TransNetV2] Processing video frames 33398/33398\n",
      "./SceneJSON_2024/L25/V073.json\n",
      "[TransNetV2] Extracting frames from /media/daoan/T7 Shield2/AI_Challenge_2024_DATA/video_with_audio/Videos_L25/video/L25_V074.mp4\n",
      "[TransNetV2] Processing video frames 57300/57491"
     ]
    },
    {
     "name": "stderr",
     "output_type": "stream",
     "text": [
      "\n",
      " 84%|████████▍ | 74/88 [19:19<03:48, 16.35s/it]\u001B[A"
     ]
    },
    {
     "name": "stdout",
     "output_type": "stream",
     "text": [
      "[TransNetV2] Processing video frames 57491/57491\n",
      "./SceneJSON_2024/L25/V074.json\n",
      "[TransNetV2] Extracting frames from /media/daoan/T7 Shield2/AI_Challenge_2024_DATA/video_with_audio/Videos_L25/video/L25_V075.mp4\n",
      "[TransNetV2] Processing video frames 43403/43403\n"
     ]
    },
    {
     "name": "stderr",
     "output_type": "stream",
     "text": [
      "\n",
      " 85%|████████▌ | 75/88 [19:37<03:36, 16.69s/it]\u001B[A"
     ]
    },
    {
     "name": "stdout",
     "output_type": "stream",
     "text": [
      "./SceneJSON_2024/L25/V075.json\n",
      "[TransNetV2] Extracting frames from /media/daoan/T7 Shield2/AI_Challenge_2024_DATA/video_with_audio/Videos_L25/video/L25_V076.mp4\n",
      "[TransNetV2] Processing video frames 37050/38216"
     ]
    },
    {
     "name": "stderr",
     "output_type": "stream",
     "text": [
      "\n",
      " 86%|████████▋ | 76/88 [19:53<03:18, 16.57s/it]\u001B[A"
     ]
    },
    {
     "name": "stdout",
     "output_type": "stream",
     "text": [
      "[TransNetV2] Processing video frames 38216/38216\n",
      "./SceneJSON_2024/L25/V076.json\n",
      "[TransNetV2] Extracting frames from /media/daoan/T7 Shield2/AI_Challenge_2024_DATA/video_with_audio/Videos_L25/video/L25_V077.mp4\n",
      "[TransNetV2] Processing video frames 54233/54233\n"
     ]
    },
    {
     "name": "stderr",
     "output_type": "stream",
     "text": [
      "\n",
      " 88%|████████▊ | 77/88 [20:14<03:17, 17.96s/it]\u001B[A"
     ]
    },
    {
     "name": "stdout",
     "output_type": "stream",
     "text": [
      "./SceneJSON_2024/L25/V077.json\n",
      "[TransNetV2] Extracting frames from /media/daoan/T7 Shield2/AI_Challenge_2024_DATA/video_with_audio/Videos_L25/video/L25_V078.mp4\n",
      "[TransNetV2] Processing video frames 45100/45447"
     ]
    },
    {
     "name": "stderr",
     "output_type": "stream",
     "text": [
      "\n",
      " 89%|████████▊ | 78/88 [20:32<02:58, 17.82s/it]\u001B[A"
     ]
    },
    {
     "name": "stdout",
     "output_type": "stream",
     "text": [
      "[TransNetV2] Processing video frames 45447/45447\n",
      "./SceneJSON_2024/L25/V078.json\n",
      "[TransNetV2] Extracting frames from /media/daoan/T7 Shield2/AI_Challenge_2024_DATA/video_with_audio/Videos_L25/video/L25_V079.mp4\n",
      "[TransNetV2] Processing video frames 25150/26028"
     ]
    },
    {
     "name": "stderr",
     "output_type": "stream",
     "text": [
      "\n",
      " 90%|████████▉ | 79/88 [20:42<02:20, 15.57s/it]\u001B[A"
     ]
    },
    {
     "name": "stdout",
     "output_type": "stream",
     "text": [
      "[TransNetV2] Processing video frames 26028/26028\n",
      "./SceneJSON_2024/L25/V079.json\n",
      "[TransNetV2] Extracting frames from /media/daoan/T7 Shield2/AI_Challenge_2024_DATA/video_with_audio/Videos_L25/video/L25_V080.mp4\n",
      "[TransNetV2] Processing video frames 35450/35458"
     ]
    },
    {
     "name": "stderr",
     "output_type": "stream",
     "text": [
      "\n",
      " 91%|█████████ | 80/88 [20:57<02:03, 15.44s/it]\u001B[A"
     ]
    },
    {
     "name": "stdout",
     "output_type": "stream",
     "text": [
      "[TransNetV2] Processing video frames 35458/35458\n",
      "./SceneJSON_2024/L25/V080.json\n",
      "[TransNetV2] Extracting frames from /media/daoan/T7 Shield2/AI_Challenge_2024_DATA/video_with_audio/Videos_L25/video/L25_V081.mp4\n",
      "[TransNetV2] Processing video frames 56250/56678"
     ]
    },
    {
     "name": "stderr",
     "output_type": "stream",
     "text": [
      "\n",
      " 92%|█████████▏| 81/88 [21:21<02:05, 17.90s/it]\u001B[A"
     ]
    },
    {
     "name": "stdout",
     "output_type": "stream",
     "text": [
      "[TransNetV2] Processing video frames 56678/56678\n",
      "./SceneJSON_2024/L25/V081.json\n",
      "[TransNetV2] Extracting frames from /media/daoan/T7 Shield2/AI_Challenge_2024_DATA/video_with_audio/Videos_L25/video/L25_V082.mp4\n",
      "[TransNetV2] Processing video frames 29465/29465\n"
     ]
    },
    {
     "name": "stderr",
     "output_type": "stream",
     "text": [
      "\n",
      " 93%|█████████▎| 82/88 [21:34<01:38, 16.40s/it]\u001B[A"
     ]
    },
    {
     "name": "stdout",
     "output_type": "stream",
     "text": [
      "./SceneJSON_2024/L25/V082.json\n",
      "[TransNetV2] Extracting frames from /media/daoan/T7 Shield2/AI_Challenge_2024_DATA/video_with_audio/Videos_L25/video/L25_V083.mp4\n",
      "[TransNetV2] Processing video frames 27181/27181\n"
     ]
    },
    {
     "name": "stderr",
     "output_type": "stream",
     "text": [
      "\n",
      " 94%|█████████▍| 83/88 [21:45<01:14, 14.88s/it]\u001B[A"
     ]
    },
    {
     "name": "stdout",
     "output_type": "stream",
     "text": [
      "./SceneJSON_2024/L25/V083.json\n",
      "[TransNetV2] Extracting frames from /media/daoan/T7 Shield2/AI_Challenge_2024_DATA/video_with_audio/Videos_L25/video/L25_V084.mp4\n",
      "[TransNetV2] Processing video frames 65616/65616\n"
     ]
    },
    {
     "name": "stderr",
     "output_type": "stream",
     "text": [
      "\n",
      " 95%|█████████▌| 84/88 [22:10<01:11, 17.99s/it]\u001B[A"
     ]
    },
    {
     "name": "stdout",
     "output_type": "stream",
     "text": [
      "./SceneJSON_2024/L25/V084.json\n",
      "[TransNetV2] Extracting frames from /media/daoan/T7 Shield2/AI_Challenge_2024_DATA/video_with_audio/Videos_L25/video/L25_V085.mp4\n",
      "[TransNetV2] Processing video frames 68674/68674\n"
     ]
    },
    {
     "name": "stderr",
     "output_type": "stream",
     "text": [
      "\n",
      " 97%|█████████▋| 85/88 [22:37<01:01, 20.63s/it]\u001B[A"
     ]
    },
    {
     "name": "stdout",
     "output_type": "stream",
     "text": [
      "./SceneJSON_2024/L25/V085.json\n",
      "[TransNetV2] Extracting frames from /media/daoan/T7 Shield2/AI_Challenge_2024_DATA/video_with_audio/Videos_L25/video/L25_V086.mp4\n",
      "[TransNetV2] Processing video frames 54050/54097"
     ]
    },
    {
     "name": "stderr",
     "output_type": "stream",
     "text": [
      "\n",
      " 98%|█████████▊| 86/88 [22:58<00:41, 20.69s/it]\u001B[A"
     ]
    },
    {
     "name": "stdout",
     "output_type": "stream",
     "text": [
      "[TransNetV2] Processing video frames 54097/54097\n",
      "./SceneJSON_2024/L25/V086.json\n",
      "[TransNetV2] Extracting frames from /media/daoan/T7 Shield2/AI_Challenge_2024_DATA/video_with_audio/Videos_L25/video/L25_V087.mp4\n",
      "[TransNetV2] Processing video frames 40000/40736"
     ]
    },
    {
     "name": "stderr",
     "output_type": "stream",
     "text": [
      "\n",
      " 99%|█████████▉| 87/88 [23:17<00:20, 20.37s/it]\u001B[A"
     ]
    },
    {
     "name": "stdout",
     "output_type": "stream",
     "text": [
      "[TransNetV2] Processing video frames 40736/40736\n",
      "./SceneJSON_2024/L25/V087.json\n",
      "[TransNetV2] Extracting frames from /media/daoan/T7 Shield2/AI_Challenge_2024_DATA/video_with_audio/Videos_L25/video/L25_V088.mp4\n",
      "[TransNetV2] Processing video frames 42750/43367"
     ]
    },
    {
     "name": "stderr",
     "output_type": "stream",
     "text": [
      "\n",
      "100%|██████████| 88/88 [23:34<00:00, 16.08s/it]\u001B[A\n",
      " 17%|█▋        | 1/6 [23:34<1:57:54, 1414.84s/it]"
     ]
    },
    {
     "name": "stdout",
     "output_type": "stream",
     "text": [
      "[TransNetV2] Processing video frames 43367/43367\n",
      "./SceneJSON_2024/L25/V088.json\n"
     ]
    },
    {
     "name": "stderr",
     "output_type": "stream",
     "text": [
      "\n",
      "  0%|          | 0/498 [00:00<?, ?it/s]\u001B[A"
     ]
    },
    {
     "name": "stdout",
     "output_type": "stream",
     "text": [
      "[TransNetV2] Extracting frames from /media/daoan/T7 Shield2/AI_Challenge_2024_DATA/video_with_audio/Videos_L26/video/L26_V001.mp4\n",
      "[TransNetV2] Processing video frames 7100/7396"
     ]
    },
    {
     "name": "stderr",
     "output_type": "stream",
     "text": [
      "\n",
      "  0%|          | 1/498 [00:03<26:50,  3.24s/it]\u001B[A"
     ]
    },
    {
     "name": "stdout",
     "output_type": "stream",
     "text": [
      "[TransNetV2] Processing video frames 7396/7396\n",
      "./SceneJSON_2024/L26/V001.json\n",
      "[TransNetV2] Extracting frames from /media/daoan/T7 Shield2/AI_Challenge_2024_DATA/video_with_audio/Videos_L26/video/L26_V002.mp4\n",
      "[TransNetV2] Processing video frames 7050/7447"
     ]
    },
    {
     "name": "stderr",
     "output_type": "stream",
     "text": [
      "\n",
      "  0%|          | 2/498 [00:06<26:44,  3.23s/it]\u001B[A"
     ]
    },
    {
     "name": "stdout",
     "output_type": "stream",
     "text": [
      "[TransNetV2] Processing video frames 7447/7447\n",
      "./SceneJSON_2024/L26/V002.json\n",
      "[TransNetV2] Extracting frames from /media/daoan/T7 Shield2/AI_Challenge_2024_DATA/video_with_audio/Videos_L26/video/L26_V003.mp4\n",
      "[TransNetV2] Processing video frames 5800/7348"
     ]
    },
    {
     "name": "stderr",
     "output_type": "stream",
     "text": [
      "\n",
      "  1%|          | 3/498 [00:09<25:58,  3.15s/it]\u001B[A"
     ]
    },
    {
     "name": "stdout",
     "output_type": "stream",
     "text": [
      "[TransNetV2] Processing video frames 7348/7348\n",
      "./SceneJSON_2024/L26/V003.json\n",
      "[TransNetV2] Extracting frames from /media/daoan/T7 Shield2/AI_Challenge_2024_DATA/video_with_audio/Videos_L26/video/L26_V004.mp4\n",
      "[TransNetV2] Processing video frames 6950/7359"
     ]
    },
    {
     "name": "stderr",
     "output_type": "stream",
     "text": [
      "\n",
      "  1%|          | 4/498 [00:12<25:37,  3.11s/it]\u001B[A"
     ]
    },
    {
     "name": "stdout",
     "output_type": "stream",
     "text": [
      "[TransNetV2] Processing video frames 7359/7359\n",
      "./SceneJSON_2024/L26/V004.json\n",
      "[TransNetV2] Extracting frames from /media/daoan/T7 Shield2/AI_Challenge_2024_DATA/video_with_audio/Videos_L26/video/L26_V005.mp4\n",
      "[TransNetV2] Processing video frames 7100/7313"
     ]
    },
    {
     "name": "stderr",
     "output_type": "stream",
     "text": [
      "\n",
      "  1%|          | 5/498 [00:15<26:26,  3.22s/it]\u001B[A"
     ]
    },
    {
     "name": "stdout",
     "output_type": "stream",
     "text": [
      "[TransNetV2] Processing video frames 7313/7313\n",
      "./SceneJSON_2024/L26/V005.json\n",
      "[TransNetV2] Extracting frames from /media/daoan/T7 Shield2/AI_Challenge_2024_DATA/video_with_audio/Videos_L26/video/L26_V006.mp4\n",
      "[TransNetV2] Processing video frames 5850/7305"
     ]
    },
    {
     "name": "stderr",
     "output_type": "stream",
     "text": [
      "\n",
      "  1%|          | 6/498 [00:19<27:06,  3.31s/it]\u001B[A"
     ]
    },
    {
     "name": "stdout",
     "output_type": "stream",
     "text": [
      "[TransNetV2] Processing video frames 7305/7305\n",
      "./SceneJSON_2024/L26/V006.json\n",
      "[TransNetV2] Extracting frames from /media/daoan/T7 Shield2/AI_Challenge_2024_DATA/video_with_audio/Videos_L26/video/L26_V007.mp4\n",
      "[TransNetV2] Processing video frames 7500/7815"
     ]
    },
    {
     "name": "stderr",
     "output_type": "stream",
     "text": [
      "\n",
      "  1%|▏         | 7/498 [00:22<26:59,  3.30s/it]\u001B[A"
     ]
    },
    {
     "name": "stdout",
     "output_type": "stream",
     "text": [
      "[TransNetV2] Processing video frames 7815/7815\n",
      "./SceneJSON_2024/L26/V007.json\n",
      "[TransNetV2] Extracting frames from /media/daoan/T7 Shield2/AI_Challenge_2024_DATA/video_with_audio/Videos_L26/video/L26_V008.mp4\n",
      "[TransNetV2] Processing video frames 6600/8318"
     ]
    },
    {
     "name": "stderr",
     "output_type": "stream",
     "text": [
      "\n",
      "  2%|▏         | 8/498 [00:26<27:44,  3.40s/it]\u001B[A"
     ]
    },
    {
     "name": "stdout",
     "output_type": "stream",
     "text": [
      "[TransNetV2] Processing video frames 8318/8318\n",
      "./SceneJSON_2024/L26/V008.json\n",
      "[TransNetV2] Extracting frames from /media/daoan/T7 Shield2/AI_Challenge_2024_DATA/video_with_audio/Videos_L26/video/L26_V009.mp4\n",
      "[TransNetV2] Processing video frames 6550/7740"
     ]
    },
    {
     "name": "stderr",
     "output_type": "stream",
     "text": [
      "\n",
      "  2%|▏         | 9/498 [00:29<27:37,  3.39s/it]\u001B[A"
     ]
    },
    {
     "name": "stdout",
     "output_type": "stream",
     "text": [
      "[TransNetV2] Processing video frames 7740/7740\n",
      "./SceneJSON_2024/L26/V009.json\n",
      "[TransNetV2] Extracting frames from /media/daoan/T7 Shield2/AI_Challenge_2024_DATA/video_with_audio/Videos_L26/video/L26_V010.mp4\n",
      "[TransNetV2] Processing video frames 6800/6938"
     ]
    },
    {
     "name": "stderr",
     "output_type": "stream",
     "text": [
      "\n",
      "  2%|▏         | 10/498 [00:32<26:33,  3.26s/it]\u001B[A"
     ]
    },
    {
     "name": "stdout",
     "output_type": "stream",
     "text": [
      "[TransNetV2] Processing video frames 6938/6938\n",
      "./SceneJSON_2024/L26/V010.json\n",
      "[TransNetV2] Extracting frames from /media/daoan/T7 Shield2/AI_Challenge_2024_DATA/video_with_audio/Videos_L26/video/L26_V011.mp4\n",
      "[TransNetV2] Processing video frames 6900/7059"
     ]
    },
    {
     "name": "stderr",
     "output_type": "stream",
     "text": [
      "\n",
      "  2%|▏         | 11/498 [00:35<26:12,  3.23s/it]\u001B[A"
     ]
    },
    {
     "name": "stdout",
     "output_type": "stream",
     "text": [
      "[TransNetV2] Processing video frames 7059/7059\n",
      "./SceneJSON_2024/L26/V011.json\n",
      "[TransNetV2] Extracting frames from /media/daoan/T7 Shield2/AI_Challenge_2024_DATA/video_with_audio/Videos_L26/video/L26_V012.mp4\n",
      "[TransNetV2] Processing video frames 7800/8913"
     ]
    },
    {
     "name": "stderr",
     "output_type": "stream",
     "text": [
      "\n",
      "  2%|▏         | 12/498 [00:40<28:25,  3.51s/it]\u001B[A"
     ]
    },
    {
     "name": "stdout",
     "output_type": "stream",
     "text": [
      "[TransNetV2] Processing video frames 8913/8913\n",
      "./SceneJSON_2024/L26/V012.json\n",
      "[TransNetV2] Extracting frames from /media/daoan/T7 Shield2/AI_Challenge_2024_DATA/video_with_audio/Videos_L26/video/L26_V013.mp4\n",
      "[TransNetV2] Processing video frames 7700/8470"
     ]
    },
    {
     "name": "stderr",
     "output_type": "stream",
     "text": [
      "\n",
      "  3%|▎         | 13/498 [00:43<29:02,  3.59s/it]\u001B[A"
     ]
    },
    {
     "name": "stdout",
     "output_type": "stream",
     "text": [
      "[TransNetV2] Processing video frames 8470/8470\n",
      "./SceneJSON_2024/L26/V013.json\n",
      "[TransNetV2] Extracting frames from /media/daoan/T7 Shield2/AI_Challenge_2024_DATA/video_with_audio/Videos_L26/video/L26_V014.mp4\n",
      "[TransNetV2] Processing video frames 6700/7780"
     ]
    },
    {
     "name": "stderr",
     "output_type": "stream",
     "text": [
      "\n",
      "  3%|▎         | 14/498 [00:47<28:30,  3.53s/it]\u001B[A"
     ]
    },
    {
     "name": "stdout",
     "output_type": "stream",
     "text": [
      "[TransNetV2] Processing video frames 7780/7780\n",
      "./SceneJSON_2024/L26/V014.json\n",
      "[TransNetV2] Extracting frames from /media/daoan/T7 Shield2/AI_Challenge_2024_DATA/video_with_audio/Videos_L26/video/L26_V015.mp4\n",
      "[TransNetV2] Processing video frames 9250/9377"
     ]
    },
    {
     "name": "stderr",
     "output_type": "stream",
     "text": [
      "\n",
      "  3%|▎         | 15/498 [00:51<29:26,  3.66s/it]\u001B[A"
     ]
    },
    {
     "name": "stdout",
     "output_type": "stream",
     "text": [
      "[TransNetV2] Processing video frames 9377/9377\n",
      "./SceneJSON_2024/L26/V015.json\n",
      "[TransNetV2] Extracting frames from /media/daoan/T7 Shield2/AI_Challenge_2024_DATA/video_with_audio/Videos_L26/video/L26_V016.mp4\n",
      "[TransNetV2] Processing video frames 6950/8296"
     ]
    },
    {
     "name": "stderr",
     "output_type": "stream",
     "text": [
      "\n",
      "  3%|▎         | 16/498 [00:54<28:55,  3.60s/it]\u001B[A"
     ]
    },
    {
     "name": "stdout",
     "output_type": "stream",
     "text": [
      "[TransNetV2] Processing video frames 8296/8296\n",
      "./SceneJSON_2024/L26/V016.json\n",
      "[TransNetV2] Extracting frames from /media/daoan/T7 Shield2/AI_Challenge_2024_DATA/video_with_audio/Videos_L26/video/L26_V017.mp4\n",
      "[TransNetV2] Processing video frames 7300/7495"
     ]
    },
    {
     "name": "stderr",
     "output_type": "stream",
     "text": [
      "\n",
      "  3%|▎         | 17/498 [00:57<28:03,  3.50s/it]\u001B[A"
     ]
    },
    {
     "name": "stdout",
     "output_type": "stream",
     "text": [
      "[TransNetV2] Processing video frames 7495/7495\n",
      "./SceneJSON_2024/L26/V017.json\n",
      "[TransNetV2] Extracting frames from /media/daoan/T7 Shield2/AI_Challenge_2024_DATA/video_with_audio/Videos_L26/video/L26_V018.mp4\n",
      "[TransNetV2] Processing video frames 7433/7433\n",
      "./SceneJSON_2024/L26/V018.json\n"
     ]
    },
    {
     "name": "stderr",
     "output_type": "stream",
     "text": [
      "\n",
      "  4%|▎         | 18/498 [01:00<26:54,  3.36s/it]\u001B[A"
     ]
    },
    {
     "name": "stdout",
     "output_type": "stream",
     "text": [
      "[TransNetV2] Extracting frames from /media/daoan/T7 Shield2/AI_Challenge_2024_DATA/video_with_audio/Videos_L26/video/L26_V019.mp4\n",
      "[TransNetV2] Processing video frames 6550/7374"
     ]
    },
    {
     "name": "stderr",
     "output_type": "stream",
     "text": [
      "\n",
      "  4%|▍         | 19/498 [01:04<26:39,  3.34s/it]\u001B[A"
     ]
    },
    {
     "name": "stdout",
     "output_type": "stream",
     "text": [
      "[TransNetV2] Processing video frames 7374/7374\n",
      "./SceneJSON_2024/L26/V019.json\n",
      "[TransNetV2] Extracting frames from /media/daoan/T7 Shield2/AI_Challenge_2024_DATA/video_with_audio/Videos_L26/video/L26_V020.mp4\n",
      "[TransNetV2] Processing video frames 6600/7577"
     ]
    },
    {
     "name": "stderr",
     "output_type": "stream",
     "text": [
      "\n",
      "  4%|▍         | 20/498 [01:07<27:15,  3.42s/it]\u001B[A"
     ]
    },
    {
     "name": "stdout",
     "output_type": "stream",
     "text": [
      "[TransNetV2] Processing video frames 7577/7577\n",
      "./SceneJSON_2024/L26/V020.json\n",
      "[TransNetV2] Extracting frames from /media/daoan/T7 Shield2/AI_Challenge_2024_DATA/video_with_audio/Videos_L26/video/L26_V021.mp4\n",
      "[TransNetV2] Processing video frames 7150/8753"
     ]
    },
    {
     "name": "stderr",
     "output_type": "stream",
     "text": [
      "\n",
      "  4%|▍         | 21/498 [01:11<28:33,  3.59s/it]\u001B[A"
     ]
    },
    {
     "name": "stdout",
     "output_type": "stream",
     "text": [
      "[TransNetV2] Processing video frames 8753/8753\n",
      "./SceneJSON_2024/L26/V021.json\n",
      "[TransNetV2] Extracting frames from /media/daoan/T7 Shield2/AI_Challenge_2024_DATA/video_with_audio/Videos_L26/video/L26_V022.mp4\n",
      "[TransNetV2] Processing video frames 6600/7225"
     ]
    },
    {
     "name": "stderr",
     "output_type": "stream",
     "text": [
      "\n",
      "  4%|▍         | 22/498 [01:15<28:24,  3.58s/it]\u001B[A"
     ]
    },
    {
     "name": "stdout",
     "output_type": "stream",
     "text": [
      "[TransNetV2] Processing video frames 7225/7225\n",
      "./SceneJSON_2024/L26/V022.json\n",
      "[TransNetV2] Extracting frames from /media/daoan/T7 Shield2/AI_Challenge_2024_DATA/video_with_audio/Videos_L26/video/L26_V023.mp4\n",
      "[TransNetV2] Processing video frames 5600/6869"
     ]
    },
    {
     "name": "stderr",
     "output_type": "stream",
     "text": [
      "\n",
      "  5%|▍         | 23/498 [01:18<27:11,  3.44s/it]\u001B[A"
     ]
    },
    {
     "name": "stdout",
     "output_type": "stream",
     "text": [
      "[TransNetV2] Processing video frames 6869/6869\n",
      "./SceneJSON_2024/L26/V023.json\n",
      "[TransNetV2] Extracting frames from /media/daoan/T7 Shield2/AI_Challenge_2024_DATA/video_with_audio/Videos_L26/video/L26_V024.mp4\n",
      "[TransNetV2] Processing video frames 7650/8172"
     ]
    },
    {
     "name": "stderr",
     "output_type": "stream",
     "text": [
      "\n",
      "  5%|▍         | 24/498 [01:21<27:23,  3.47s/it]\u001B[A"
     ]
    },
    {
     "name": "stdout",
     "output_type": "stream",
     "text": [
      "[TransNetV2] Processing video frames 8172/8172\n",
      "./SceneJSON_2024/L26/V024.json\n",
      "[TransNetV2] Extracting frames from /media/daoan/T7 Shield2/AI_Challenge_2024_DATA/video_with_audio/Videos_L26/video/L26_V025.mp4\n",
      "[TransNetV2] Processing video frames 7500/7912"
     ]
    },
    {
     "name": "stderr",
     "output_type": "stream",
     "text": [
      "\n",
      "  5%|▌         | 25/498 [01:25<27:32,  3.49s/it]\u001B[A"
     ]
    },
    {
     "name": "stdout",
     "output_type": "stream",
     "text": [
      "[TransNetV2] Processing video frames 7912/7912\n",
      "./SceneJSON_2024/L26/V025.json\n",
      "[TransNetV2] Extracting frames from /media/daoan/T7 Shield2/AI_Challenge_2024_DATA/video_with_audio/Videos_L26/video/L26_V026.mp4\n",
      "[TransNetV2] Processing video frames 6550/7408"
     ]
    },
    {
     "name": "stderr",
     "output_type": "stream",
     "text": [
      "\n",
      "  5%|▌         | 26/498 [01:28<26:45,  3.40s/it]\u001B[A"
     ]
    },
    {
     "name": "stdout",
     "output_type": "stream",
     "text": [
      "[TransNetV2] Processing video frames 7408/7408\n",
      "./SceneJSON_2024/L26/V026.json\n",
      "[TransNetV2] Extracting frames from /media/daoan/T7 Shield2/AI_Challenge_2024_DATA/video_with_audio/Videos_L26/video/L26_V027.mp4\n",
      "[TransNetV2] Processing video frames 6800/8169"
     ]
    },
    {
     "name": "stderr",
     "output_type": "stream",
     "text": [
      "\n",
      "  5%|▌         | 27/498 [01:32<26:44,  3.41s/it]\u001B[A"
     ]
    },
    {
     "name": "stdout",
     "output_type": "stream",
     "text": [
      "[TransNetV2] Processing video frames 8169/8169\n",
      "./SceneJSON_2024/L26/V027.json\n",
      "[TransNetV2] Extracting frames from /media/daoan/T7 Shield2/AI_Challenge_2024_DATA/video_with_audio/Videos_L26/video/L26_V028.mp4\n",
      "[TransNetV2] Processing video frames 5600/7216"
     ]
    },
    {
     "name": "stderr",
     "output_type": "stream",
     "text": [
      "\n",
      "  6%|▌         | 28/498 [01:35<25:53,  3.30s/it]\u001B[A"
     ]
    },
    {
     "name": "stdout",
     "output_type": "stream",
     "text": [
      "[TransNetV2] Processing video frames 7216/7216\n",
      "./SceneJSON_2024/L26/V028.json\n",
      "[TransNetV2] Extracting frames from /media/daoan/T7 Shield2/AI_Challenge_2024_DATA/video_with_audio/Videos_L26/video/L26_V029.mp4\n",
      "[TransNetV2] Processing video frames 7250/7727"
     ]
    },
    {
     "name": "stderr",
     "output_type": "stream",
     "text": [
      "\n",
      "  6%|▌         | 29/498 [01:38<26:05,  3.34s/it]\u001B[A"
     ]
    },
    {
     "name": "stdout",
     "output_type": "stream",
     "text": [
      "[TransNetV2] Processing video frames 7727/7727\n",
      "./SceneJSON_2024/L26/V029.json\n",
      "[TransNetV2] Extracting frames from /media/daoan/T7 Shield2/AI_Challenge_2024_DATA/video_with_audio/Videos_L26/video/L26_V030.mp4\n",
      "[TransNetV2] Processing video frames 5100/6822"
     ]
    },
    {
     "name": "stderr",
     "output_type": "stream",
     "text": [
      "\n",
      "  6%|▌         | 30/498 [01:41<25:40,  3.29s/it]\u001B[A"
     ]
    },
    {
     "name": "stdout",
     "output_type": "stream",
     "text": [
      "[TransNetV2] Processing video frames 6822/6822\n",
      "./SceneJSON_2024/L26/V030.json\n",
      "[TransNetV2] Extracting frames from /media/daoan/T7 Shield2/AI_Challenge_2024_DATA/video_with_audio/Videos_L26/video/L26_V031.mp4\n",
      "[TransNetV2] Processing video frames 6950/7928"
     ]
    },
    {
     "name": "stderr",
     "output_type": "stream",
     "text": [
      "\n",
      "  6%|▌         | 31/498 [01:45<25:58,  3.34s/it]\u001B[A"
     ]
    },
    {
     "name": "stdout",
     "output_type": "stream",
     "text": [
      "[TransNetV2] Processing video frames 7928/7928\n",
      "./SceneJSON_2024/L26/V031.json\n",
      "[TransNetV2] Extracting frames from /media/daoan/T7 Shield2/AI_Challenge_2024_DATA/video_with_audio/Videos_L26/video/L26_V032.mp4\n",
      "[TransNetV2] Processing video frames 7750/8796"
     ]
    },
    {
     "name": "stderr",
     "output_type": "stream",
     "text": [
      "\n",
      "  6%|▋         | 32/498 [01:48<26:24,  3.40s/it]\u001B[A"
     ]
    },
    {
     "name": "stdout",
     "output_type": "stream",
     "text": [
      "[TransNetV2] Processing video frames 8796/8796\n",
      "./SceneJSON_2024/L26/V032.json\n",
      "[TransNetV2] Extracting frames from /media/daoan/T7 Shield2/AI_Challenge_2024_DATA/video_with_audio/Videos_L26/video/L26_V033.mp4\n",
      "[TransNetV2] Processing video frames 7300/8521"
     ]
    },
    {
     "name": "stderr",
     "output_type": "stream",
     "text": [
      "\n",
      "  7%|▋         | 33/498 [01:52<26:55,  3.47s/it]\u001B[A"
     ]
    },
    {
     "name": "stdout",
     "output_type": "stream",
     "text": [
      "[TransNetV2] Processing video frames 8521/8521\n",
      "./SceneJSON_2024/L26/V033.json\n",
      "[TransNetV2] Extracting frames from /media/daoan/T7 Shield2/AI_Challenge_2024_DATA/video_with_audio/Videos_L26/video/L26_V034.mp4\n",
      "[TransNetV2] Processing video frames 7200/8513"
     ]
    },
    {
     "name": "stderr",
     "output_type": "stream",
     "text": [
      "\n",
      "  7%|▋         | 34/498 [01:56<27:11,  3.52s/it]\u001B[A"
     ]
    },
    {
     "name": "stdout",
     "output_type": "stream",
     "text": [
      "[TransNetV2] Processing video frames 8513/8513\n",
      "./SceneJSON_2024/L26/V034.json\n",
      "[TransNetV2] Extracting frames from /media/daoan/T7 Shield2/AI_Challenge_2024_DATA/video_with_audio/Videos_L26/video/L26_V035.mp4\n",
      "[TransNetV2] Processing video frames 7400/8122"
     ]
    },
    {
     "name": "stderr",
     "output_type": "stream",
     "text": [
      "\n",
      "  7%|▋         | 35/498 [01:59<27:31,  3.57s/it]\u001B[A"
     ]
    },
    {
     "name": "stdout",
     "output_type": "stream",
     "text": [
      "[TransNetV2] Processing video frames 8122/8122\n",
      "./SceneJSON_2024/L26/V035.json\n",
      "[TransNetV2] Extracting frames from /media/daoan/T7 Shield2/AI_Challenge_2024_DATA/video_with_audio/Videos_L26/video/L26_V036.mp4\n",
      "[TransNetV2] Processing video frames 7600/7934"
     ]
    },
    {
     "name": "stderr",
     "output_type": "stream",
     "text": [
      "\n",
      "  7%|▋         | 36/498 [02:03<27:33,  3.58s/it]\u001B[A"
     ]
    },
    {
     "name": "stdout",
     "output_type": "stream",
     "text": [
      "[TransNetV2] Processing video frames 7934/7934\n",
      "./SceneJSON_2024/L26/V036.json\n",
      "[TransNetV2] Extracting frames from /media/daoan/T7 Shield2/AI_Challenge_2024_DATA/video_with_audio/Videos_L26/video/L26_V037.mp4\n",
      "[TransNetV2] Processing video frames 7450/8091"
     ]
    },
    {
     "name": "stderr",
     "output_type": "stream",
     "text": [
      "\n",
      "  7%|▋         | 37/498 [02:06<27:18,  3.55s/it]\u001B[A"
     ]
    },
    {
     "name": "stdout",
     "output_type": "stream",
     "text": [
      "[TransNetV2] Processing video frames 8091/8091\n",
      "./SceneJSON_2024/L26/V037.json\n",
      "[TransNetV2] Extracting frames from /media/daoan/T7 Shield2/AI_Challenge_2024_DATA/video_with_audio/Videos_L26/video/L26_V038.mp4\n",
      "[TransNetV2] Processing video frames 7200/7949"
     ]
    },
    {
     "name": "stderr",
     "output_type": "stream",
     "text": [
      "\n",
      "  8%|▊         | 38/498 [02:10<27:18,  3.56s/it]\u001B[A"
     ]
    },
    {
     "name": "stdout",
     "output_type": "stream",
     "text": [
      "[TransNetV2] Processing video frames 7949/7949\n",
      "./SceneJSON_2024/L26/V038.json\n",
      "[TransNetV2] Extracting frames from /media/daoan/T7 Shield2/AI_Challenge_2024_DATA/video_with_audio/Videos_L26/video/L26_V039.mp4\n",
      "[TransNetV2] Processing video frames 7700/8964"
     ]
    },
    {
     "name": "stderr",
     "output_type": "stream",
     "text": [
      "\n",
      "  8%|▊         | 39/498 [02:14<28:18,  3.70s/it]\u001B[A"
     ]
    },
    {
     "name": "stdout",
     "output_type": "stream",
     "text": [
      "[TransNetV2] Processing video frames 8964/8964\n",
      "./SceneJSON_2024/L26/V039.json\n",
      "[TransNetV2] Extracting frames from /media/daoan/T7 Shield2/AI_Challenge_2024_DATA/video_with_audio/Videos_L26/video/L26_V040.mp4\n",
      "[TransNetV2] Processing video frames 7400/7981"
     ]
    },
    {
     "name": "stderr",
     "output_type": "stream",
     "text": [
      "\n",
      "  8%|▊         | 40/498 [02:18<28:04,  3.68s/it]\u001B[A"
     ]
    },
    {
     "name": "stdout",
     "output_type": "stream",
     "text": [
      "[TransNetV2] Processing video frames 7981/7981\n",
      "./SceneJSON_2024/L26/V040.json\n",
      "[TransNetV2] Extracting frames from /media/daoan/T7 Shield2/AI_Challenge_2024_DATA/video_with_audio/Videos_L26/video/L26_V041.mp4\n",
      "[TransNetV2] Processing video frames 6800/8237"
     ]
    },
    {
     "name": "stderr",
     "output_type": "stream",
     "text": [
      "\n",
      "  8%|▊         | 41/498 [02:21<27:55,  3.67s/it]\u001B[A"
     ]
    },
    {
     "name": "stdout",
     "output_type": "stream",
     "text": [
      "[TransNetV2] Processing video frames 8237/8237\n",
      "./SceneJSON_2024/L26/V041.json\n",
      "[TransNetV2] Extracting frames from /media/daoan/T7 Shield2/AI_Challenge_2024_DATA/video_with_audio/Videos_L26/video/L26_V042.mp4\n",
      "[TransNetV2] Processing video frames 6750/7303"
     ]
    },
    {
     "name": "stderr",
     "output_type": "stream",
     "text": [
      "\n",
      "  8%|▊         | 42/498 [02:25<27:15,  3.59s/it]\u001B[A"
     ]
    },
    {
     "name": "stdout",
     "output_type": "stream",
     "text": [
      "[TransNetV2] Processing video frames 7303/7303\n",
      "./SceneJSON_2024/L26/V042.json\n",
      "[TransNetV2] Extracting frames from /media/daoan/T7 Shield2/AI_Challenge_2024_DATA/video_with_audio/Videos_L26/video/L26_V043.mp4\n",
      "[TransNetV2] Processing video frames 7450/7780"
     ]
    },
    {
     "name": "stderr",
     "output_type": "stream",
     "text": [
      "\n",
      "  9%|▊         | 43/498 [02:28<26:39,  3.52s/it]\u001B[A"
     ]
    },
    {
     "name": "stdout",
     "output_type": "stream",
     "text": [
      "[TransNetV2] Processing video frames 7780/7780\n",
      "./SceneJSON_2024/L26/V043.json\n",
      "[TransNetV2] Extracting frames from /media/daoan/T7 Shield2/AI_Challenge_2024_DATA/video_with_audio/Videos_L26/video/L26_V044.mp4\n",
      "[TransNetV2] Processing video frames 7750/8097"
     ]
    },
    {
     "name": "stderr",
     "output_type": "stream",
     "text": [
      "\n",
      "  9%|▉         | 44/498 [02:32<26:39,  3.52s/it]\u001B[A"
     ]
    },
    {
     "name": "stdout",
     "output_type": "stream",
     "text": [
      "[TransNetV2] Processing video frames 8097/8097\n",
      "./SceneJSON_2024/L26/V044.json\n",
      "[TransNetV2] Extracting frames from /media/daoan/T7 Shield2/AI_Challenge_2024_DATA/video_with_audio/Videos_L26/video/L26_V045.mp4\n",
      "[TransNetV2] Processing video frames 7550/8233"
     ]
    },
    {
     "name": "stderr",
     "output_type": "stream",
     "text": [
      "\n",
      "  9%|▉         | 45/498 [02:35<27:25,  3.63s/it]\u001B[A"
     ]
    },
    {
     "name": "stdout",
     "output_type": "stream",
     "text": [
      "[TransNetV2] Processing video frames 8233/8233\n",
      "./SceneJSON_2024/L26/V045.json\n",
      "[TransNetV2] Extracting frames from /media/daoan/T7 Shield2/AI_Challenge_2024_DATA/video_with_audio/Videos_L26/video/L26_V046.mp4\n",
      "[TransNetV2] Processing video frames 7400/8051"
     ]
    },
    {
     "name": "stderr",
     "output_type": "stream",
     "text": [
      "\n",
      "  9%|▉         | 46/498 [02:39<27:39,  3.67s/it]\u001B[A"
     ]
    },
    {
     "name": "stdout",
     "output_type": "stream",
     "text": [
      "[TransNetV2] Processing video frames 8051/8051\n",
      "./SceneJSON_2024/L26/V046.json\n",
      "[TransNetV2] Extracting frames from /media/daoan/T7 Shield2/AI_Challenge_2024_DATA/video_with_audio/Videos_L26/video/L26_V047.mp4\n",
      "[TransNetV2] Processing video frames 7350/8256"
     ]
    },
    {
     "name": "stderr",
     "output_type": "stream",
     "text": [
      "\n",
      "  9%|▉         | 47/498 [02:43<28:15,  3.76s/it]\u001B[A"
     ]
    },
    {
     "name": "stdout",
     "output_type": "stream",
     "text": [
      "[TransNetV2] Processing video frames 8256/8256\n",
      "./SceneJSON_2024/L26/V047.json\n",
      "[TransNetV2] Extracting frames from /media/daoan/T7 Shield2/AI_Challenge_2024_DATA/video_with_audio/Videos_L26/video/L26_V048.mp4\n",
      "[TransNetV2] Processing video frames 6950/8185"
     ]
    },
    {
     "name": "stderr",
     "output_type": "stream",
     "text": [
      "\n",
      " 10%|▉         | 48/498 [02:47<28:03,  3.74s/it]\u001B[A"
     ]
    },
    {
     "name": "stdout",
     "output_type": "stream",
     "text": [
      "[TransNetV2] Processing video frames 8185/8185\n",
      "./SceneJSON_2024/L26/V048.json\n",
      "[TransNetV2] Extracting frames from /media/daoan/T7 Shield2/AI_Challenge_2024_DATA/video_with_audio/Videos_L26/video/L26_V049.mp4\n",
      "[TransNetV2] Processing video frames 7000/8246"
     ]
    },
    {
     "name": "stderr",
     "output_type": "stream",
     "text": [
      "\n",
      " 10%|▉         | 49/498 [02:51<28:56,  3.87s/it]\u001B[A"
     ]
    },
    {
     "name": "stdout",
     "output_type": "stream",
     "text": [
      "[TransNetV2] Processing video frames 8246/8246\n",
      "./SceneJSON_2024/L26/V049.json\n",
      "[TransNetV2] Extracting frames from /media/daoan/T7 Shield2/AI_Challenge_2024_DATA/video_with_audio/Videos_L26/video/L26_V050.mp4\n",
      "[TransNetV2] Processing video frames 7050/8257"
     ]
    },
    {
     "name": "stderr",
     "output_type": "stream",
     "text": [
      "\n",
      " 10%|█         | 50/498 [02:55<28:39,  3.84s/it]\u001B[A"
     ]
    },
    {
     "name": "stdout",
     "output_type": "stream",
     "text": [
      "[TransNetV2] Processing video frames 8257/8257\n",
      "./SceneJSON_2024/L26/V050.json\n",
      "[TransNetV2] Extracting frames from /media/daoan/T7 Shield2/AI_Challenge_2024_DATA/video_with_audio/Videos_L26/video/L26_V051.mp4\n",
      "[TransNetV2] Processing video frames 7500/7764"
     ]
    },
    {
     "name": "stderr",
     "output_type": "stream",
     "text": [
      "\n",
      " 10%|█         | 51/498 [02:58<27:52,  3.74s/it]\u001B[A"
     ]
    },
    {
     "name": "stdout",
     "output_type": "stream",
     "text": [
      "[TransNetV2] Processing video frames 7764/7764\n",
      "./SceneJSON_2024/L26/V051.json\n",
      "[TransNetV2] Extracting frames from /media/daoan/T7 Shield2/AI_Challenge_2024_DATA/video_with_audio/Videos_L26/video/L26_V052.mp4\n",
      "[TransNetV2] Processing video frames 7850/8293"
     ]
    },
    {
     "name": "stderr",
     "output_type": "stream",
     "text": [
      "\n",
      " 10%|█         | 52/498 [03:02<28:00,  3.77s/it]\u001B[A"
     ]
    },
    {
     "name": "stdout",
     "output_type": "stream",
     "text": [
      "[TransNetV2] Processing video frames 8293/8293\n",
      "./SceneJSON_2024/L26/V052.json\n",
      "[TransNetV2] Extracting frames from /media/daoan/T7 Shield2/AI_Challenge_2024_DATA/video_with_audio/Videos_L26/video/L26_V053.mp4\n",
      "[TransNetV2] Processing video frames 7450/7884"
     ]
    },
    {
     "name": "stderr",
     "output_type": "stream",
     "text": [
      "\n",
      " 11%|█         | 53/498 [03:06<27:23,  3.69s/it]\u001B[A"
     ]
    },
    {
     "name": "stdout",
     "output_type": "stream",
     "text": [
      "[TransNetV2] Processing video frames 7884/7884\n",
      "./SceneJSON_2024/L26/V053.json\n",
      "[TransNetV2] Extracting frames from /media/daoan/T7 Shield2/AI_Challenge_2024_DATA/video_with_audio/Videos_L26/video/L26_V054.mp4\n",
      "[TransNetV2] Processing video frames 7800/8227"
     ]
    },
    {
     "name": "stderr",
     "output_type": "stream",
     "text": [
      "\n",
      " 11%|█         | 54/498 [03:09<27:12,  3.68s/it]\u001B[A"
     ]
    },
    {
     "name": "stdout",
     "output_type": "stream",
     "text": [
      "[TransNetV2] Processing video frames 8227/8227\n",
      "./SceneJSON_2024/L26/V054.json\n",
      "[TransNetV2] Extracting frames from /media/daoan/T7 Shield2/AI_Challenge_2024_DATA/video_with_audio/Videos_L26/video/L26_V055.mp4\n",
      "[TransNetV2] Processing video frames 7700/8161"
     ]
    },
    {
     "name": "stderr",
     "output_type": "stream",
     "text": [
      "\n",
      " 11%|█         | 55/498 [03:13<27:19,  3.70s/it]\u001B[A"
     ]
    },
    {
     "name": "stdout",
     "output_type": "stream",
     "text": [
      "[TransNetV2] Processing video frames 8161/8161\n",
      "./SceneJSON_2024/L26/V055.json\n",
      "[TransNetV2] Extracting frames from /media/daoan/T7 Shield2/AI_Challenge_2024_DATA/video_with_audio/Videos_L26/video/L26_V056.mp4\n",
      "[TransNetV2] Processing video frames 7700/8067"
     ]
    },
    {
     "name": "stderr",
     "output_type": "stream",
     "text": [
      "\n",
      " 11%|█         | 56/498 [03:17<27:12,  3.69s/it]\u001B[A"
     ]
    },
    {
     "name": "stdout",
     "output_type": "stream",
     "text": [
      "[TransNetV2] Processing video frames 8067/8067\n",
      "./SceneJSON_2024/L26/V056.json\n",
      "[TransNetV2] Extracting frames from /media/daoan/T7 Shield2/AI_Challenge_2024_DATA/video_with_audio/Videos_L26/video/L26_V057.mp4\n",
      "[TransNetV2] Processing video frames 7550/8229"
     ]
    },
    {
     "name": "stderr",
     "output_type": "stream",
     "text": [
      "\n",
      " 11%|█▏        | 57/498 [03:21<27:34,  3.75s/it]\u001B[A"
     ]
    },
    {
     "name": "stdout",
     "output_type": "stream",
     "text": [
      "[TransNetV2] Processing video frames 8229/8229\n",
      "./SceneJSON_2024/L26/V057.json\n",
      "[TransNetV2] Extracting frames from /media/daoan/T7 Shield2/AI_Challenge_2024_DATA/video_with_audio/Videos_L26/video/L26_V058.mp4\n",
      "[TransNetV2] Processing video frames 7450/8277"
     ]
    },
    {
     "name": "stderr",
     "output_type": "stream",
     "text": [
      "\n",
      " 12%|█▏        | 58/498 [03:24<27:05,  3.69s/it]\u001B[A"
     ]
    },
    {
     "name": "stdout",
     "output_type": "stream",
     "text": [
      "[TransNetV2] Processing video frames 8277/8277\n",
      "./SceneJSON_2024/L26/V058.json\n",
      "[TransNetV2] Extracting frames from /media/daoan/T7 Shield2/AI_Challenge_2024_DATA/video_with_audio/Videos_L26/video/L26_V059.mp4\n",
      "[TransNetV2] Processing video frames 6850/8046"
     ]
    },
    {
     "name": "stderr",
     "output_type": "stream",
     "text": [
      "\n",
      " 12%|█▏        | 59/498 [03:28<26:34,  3.63s/it]\u001B[A"
     ]
    },
    {
     "name": "stdout",
     "output_type": "stream",
     "text": [
      "[TransNetV2] Processing video frames 8046/8046\n",
      "./SceneJSON_2024/L26/V059.json\n",
      "[TransNetV2] Extracting frames from /media/daoan/T7 Shield2/AI_Challenge_2024_DATA/video_with_audio/Videos_L26/video/L26_V060.mp4\n",
      "[TransNetV2] Processing video frames 7400/8202"
     ]
    },
    {
     "name": "stderr",
     "output_type": "stream",
     "text": [
      "\n",
      " 12%|█▏        | 60/498 [03:32<27:14,  3.73s/it]\u001B[A"
     ]
    },
    {
     "name": "stdout",
     "output_type": "stream",
     "text": [
      "[TransNetV2] Processing video frames 8202/8202\n",
      "./SceneJSON_2024/L26/V060.json\n",
      "[TransNetV2] Extracting frames from /media/daoan/T7 Shield2/AI_Challenge_2024_DATA/video_with_audio/Videos_L26/video/L26_V061.mp4\n",
      "[TransNetV2] Processing video frames 7450/8097"
     ]
    },
    {
     "name": "stderr",
     "output_type": "stream",
     "text": [
      "\n",
      " 12%|█▏        | 61/498 [03:35<27:20,  3.75s/it]\u001B[A"
     ]
    },
    {
     "name": "stdout",
     "output_type": "stream",
     "text": [
      "[TransNetV2] Processing video frames 8097/8097\n",
      "./SceneJSON_2024/L26/V061.json\n",
      "[TransNetV2] Extracting frames from /media/daoan/T7 Shield2/AI_Challenge_2024_DATA/video_with_audio/Videos_L26/video/L26_V062.mp4\n",
      "[TransNetV2] Processing video frames 7300/8231"
     ]
    },
    {
     "name": "stderr",
     "output_type": "stream",
     "text": [
      "\n",
      " 12%|█▏        | 62/498 [03:39<27:14,  3.75s/it]\u001B[A"
     ]
    },
    {
     "name": "stdout",
     "output_type": "stream",
     "text": [
      "[TransNetV2] Processing video frames 8231/8231\n",
      "./SceneJSON_2024/L26/V062.json\n",
      "[TransNetV2] Extracting frames from /media/daoan/T7 Shield2/AI_Challenge_2024_DATA/video_with_audio/Videos_L26/video/L26_V063.mp4\n",
      "[TransNetV2] Processing video frames 7400/8079"
     ]
    },
    {
     "name": "stderr",
     "output_type": "stream",
     "text": [
      "\n",
      " 13%|█▎        | 63/498 [03:43<27:27,  3.79s/it]\u001B[A"
     ]
    },
    {
     "name": "stdout",
     "output_type": "stream",
     "text": [
      "[TransNetV2] Processing video frames 8079/8079\n",
      "./SceneJSON_2024/L26/V063.json\n",
      "[TransNetV2] Extracting frames from /media/daoan/T7 Shield2/AI_Challenge_2024_DATA/video_with_audio/Videos_L26/video/L26_V064.mp4\n",
      "[TransNetV2] Processing video frames 7750/8031"
     ]
    },
    {
     "name": "stderr",
     "output_type": "stream",
     "text": [
      "\n",
      " 13%|█▎        | 64/498 [03:47<26:58,  3.73s/it]\u001B[A"
     ]
    },
    {
     "name": "stdout",
     "output_type": "stream",
     "text": [
      "[TransNetV2] Processing video frames 8031/8031\n",
      "./SceneJSON_2024/L26/V064.json\n",
      "[TransNetV2] Extracting frames from /media/daoan/T7 Shield2/AI_Challenge_2024_DATA/video_with_audio/Videos_L26/video/L26_V065.mp4\n",
      "[TransNetV2] Processing video frames 7350/8174"
     ]
    },
    {
     "name": "stderr",
     "output_type": "stream",
     "text": [
      "\n",
      " 13%|█▎        | 65/498 [03:50<26:58,  3.74s/it]\u001B[A"
     ]
    },
    {
     "name": "stdout",
     "output_type": "stream",
     "text": [
      "[TransNetV2] Processing video frames 8174/8174\n",
      "./SceneJSON_2024/L26/V065.json\n",
      "[TransNetV2] Extracting frames from /media/daoan/T7 Shield2/AI_Challenge_2024_DATA/video_with_audio/Videos_L26/video/L26_V066.mp4\n",
      "[TransNetV2] Processing video frames 7150/8207"
     ]
    },
    {
     "name": "stderr",
     "output_type": "stream",
     "text": [
      "\n",
      " 13%|█▎        | 66/498 [03:54<26:45,  3.72s/it]\u001B[A"
     ]
    },
    {
     "name": "stdout",
     "output_type": "stream",
     "text": [
      "[TransNetV2] Processing video frames 8207/8207\n",
      "./SceneJSON_2024/L26/V066.json\n",
      "[TransNetV2] Extracting frames from /media/daoan/T7 Shield2/AI_Challenge_2024_DATA/video_with_audio/Videos_L26/video/L26_V067.mp4\n",
      "[TransNetV2] Processing video frames 6650/8238"
     ]
    },
    {
     "name": "stderr",
     "output_type": "stream",
     "text": [
      "\n",
      " 13%|█▎        | 67/498 [03:58<26:23,  3.67s/it]\u001B[A"
     ]
    },
    {
     "name": "stdout",
     "output_type": "stream",
     "text": [
      "[TransNetV2] Processing video frames 8238/8238\n",
      "./SceneJSON_2024/L26/V067.json\n",
      "[TransNetV2] Extracting frames from /media/daoan/T7 Shield2/AI_Challenge_2024_DATA/video_with_audio/Videos_L26/video/L26_V068.mp4\n",
      "[TransNetV2] Processing video frames 6850/8236"
     ]
    },
    {
     "name": "stderr",
     "output_type": "stream",
     "text": [
      "\n",
      " 14%|█▎        | 68/498 [04:01<26:17,  3.67s/it]\u001B[A"
     ]
    },
    {
     "name": "stdout",
     "output_type": "stream",
     "text": [
      "[TransNetV2] Processing video frames 8236/8236\n",
      "./SceneJSON_2024/L26/V068.json\n",
      "[TransNetV2] Extracting frames from /media/daoan/T7 Shield2/AI_Challenge_2024_DATA/video_with_audio/Videos_L26/video/L26_V069.mp4\n",
      "[TransNetV2] Processing video frames 6750/8274"
     ]
    },
    {
     "name": "stderr",
     "output_type": "stream",
     "text": [
      "\n",
      " 14%|█▍        | 69/498 [04:05<26:34,  3.72s/it]\u001B[A"
     ]
    },
    {
     "name": "stdout",
     "output_type": "stream",
     "text": [
      "[TransNetV2] Processing video frames 8274/8274\n",
      "./SceneJSON_2024/L26/V069.json\n",
      "[TransNetV2] Extracting frames from /media/daoan/T7 Shield2/AI_Challenge_2024_DATA/video_with_audio/Videos_L26/video/L26_V070.mp4\n",
      "[TransNetV2] Processing video frames 7250/7982"
     ]
    },
    {
     "name": "stderr",
     "output_type": "stream",
     "text": [
      "\n",
      " 14%|█▍        | 70/498 [04:09<26:50,  3.76s/it]\u001B[A"
     ]
    },
    {
     "name": "stdout",
     "output_type": "stream",
     "text": [
      "[TransNetV2] Processing video frames 7982/7982\n",
      "./SceneJSON_2024/L26/V070.json\n",
      "[TransNetV2] Extracting frames from /media/daoan/T7 Shield2/AI_Challenge_2024_DATA/video_with_audio/Videos_L26/video/L26_V071.mp4\n",
      "[TransNetV2] Processing video frames 6600/8073"
     ]
    },
    {
     "name": "stderr",
     "output_type": "stream",
     "text": [
      "\n",
      " 14%|█▍        | 71/498 [04:12<26:13,  3.68s/it]\u001B[A"
     ]
    },
    {
     "name": "stdout",
     "output_type": "stream",
     "text": [
      "[TransNetV2] Processing video frames 8073/8073\n",
      "./SceneJSON_2024/L26/V071.json\n",
      "[TransNetV2] Extracting frames from /media/daoan/T7 Shield2/AI_Challenge_2024_DATA/video_with_audio/Videos_L26/video/L26_V072.mp4\n",
      "[TransNetV2] Processing video frames 7050/8174"
     ]
    },
    {
     "name": "stderr",
     "output_type": "stream",
     "text": [
      "\n",
      " 14%|█▍        | 72/498 [04:16<25:44,  3.63s/it]\u001B[A"
     ]
    },
    {
     "name": "stdout",
     "output_type": "stream",
     "text": [
      "[TransNetV2] Processing video frames 8174/8174\n",
      "./SceneJSON_2024/L26/V072.json\n",
      "[TransNetV2] Extracting frames from /media/daoan/T7 Shield2/AI_Challenge_2024_DATA/video_with_audio/Videos_L26/video/L26_V073.mp4\n",
      "[TransNetV2] Processing video frames 7150/8244"
     ]
    },
    {
     "name": "stderr",
     "output_type": "stream",
     "text": [
      "\n",
      " 15%|█▍        | 73/498 [04:20<25:43,  3.63s/it]\u001B[A"
     ]
    },
    {
     "name": "stdout",
     "output_type": "stream",
     "text": [
      "[TransNetV2] Processing video frames 8244/8244\n",
      "./SceneJSON_2024/L26/V073.json\n",
      "[TransNetV2] Extracting frames from /media/daoan/T7 Shield2/AI_Challenge_2024_DATA/video_with_audio/Videos_L26/video/L26_V074.mp4\n",
      "[TransNetV2] Processing video frames 7450/8171"
     ]
    },
    {
     "name": "stderr",
     "output_type": "stream",
     "text": [
      "\n",
      " 15%|█▍        | 74/498 [04:23<25:16,  3.58s/it]\u001B[A"
     ]
    },
    {
     "name": "stdout",
     "output_type": "stream",
     "text": [
      "[TransNetV2] Processing video frames 8171/8171\n",
      "./SceneJSON_2024/L26/V074.json\n",
      "[TransNetV2] Extracting frames from /media/daoan/T7 Shield2/AI_Challenge_2024_DATA/video_with_audio/Videos_L26/video/L26_V075.mp4\n",
      "[TransNetV2] Processing video frames 7750/8236"
     ]
    },
    {
     "name": "stderr",
     "output_type": "stream",
     "text": [
      "\n",
      " 15%|█▌        | 75/498 [04:26<24:53,  3.53s/it]\u001B[A"
     ]
    },
    {
     "name": "stdout",
     "output_type": "stream",
     "text": [
      "[TransNetV2] Processing video frames 8236/8236\n",
      "./SceneJSON_2024/L26/V075.json\n",
      "[TransNetV2] Extracting frames from /media/daoan/T7 Shield2/AI_Challenge_2024_DATA/video_with_audio/Videos_L26/video/L26_V076.mp4\n",
      "[TransNetV2] Processing video frames 7400/8110"
     ]
    },
    {
     "name": "stderr",
     "output_type": "stream",
     "text": [
      "\n",
      " 15%|█▌        | 76/498 [04:30<24:42,  3.51s/it]\u001B[A"
     ]
    },
    {
     "name": "stdout",
     "output_type": "stream",
     "text": [
      "[TransNetV2] Processing video frames 8110/8110\n",
      "./SceneJSON_2024/L26/V076.json\n",
      "[TransNetV2] Extracting frames from /media/daoan/T7 Shield2/AI_Challenge_2024_DATA/video_with_audio/Videos_L26/video/L26_V077.mp4\n",
      "[TransNetV2] Processing video frames 7400/8223"
     ]
    },
    {
     "name": "stderr",
     "output_type": "stream",
     "text": [
      "\n",
      " 15%|█▌        | 77/498 [04:33<24:15,  3.46s/it]\u001B[A"
     ]
    },
    {
     "name": "stdout",
     "output_type": "stream",
     "text": [
      "[TransNetV2] Processing video frames 8223/8223\n",
      "./SceneJSON_2024/L26/V077.json\n",
      "[TransNetV2] Extracting frames from /media/daoan/T7 Shield2/AI_Challenge_2024_DATA/video_with_audio/Videos_L26/video/L26_V078.mp4\n",
      "[TransNetV2] Processing video frames 6950/8066"
     ]
    },
    {
     "name": "stderr",
     "output_type": "stream",
     "text": [
      "\n",
      " 16%|█▌        | 78/498 [04:37<24:15,  3.47s/it]\u001B[A"
     ]
    },
    {
     "name": "stdout",
     "output_type": "stream",
     "text": [
      "[TransNetV2] Processing video frames 8066/8066\n",
      "./SceneJSON_2024/L26/V078.json\n",
      "[TransNetV2] Extracting frames from /media/daoan/T7 Shield2/AI_Challenge_2024_DATA/video_with_audio/Videos_L26/video/L26_V079.mp4\n",
      "[TransNetV2] Processing video frames 6950/8268"
     ]
    },
    {
     "name": "stderr",
     "output_type": "stream",
     "text": [
      "\n",
      " 16%|█▌        | 79/498 [04:40<24:15,  3.47s/it]\u001B[A"
     ]
    },
    {
     "name": "stdout",
     "output_type": "stream",
     "text": [
      "[TransNetV2] Processing video frames 8268/8268\n",
      "./SceneJSON_2024/L26/V079.json\n",
      "[TransNetV2] Extracting frames from /media/daoan/T7 Shield2/AI_Challenge_2024_DATA/video_with_audio/Videos_L26/video/L26_V080.mp4\n",
      "[TransNetV2] Processing video frames 7615/7615\n"
     ]
    },
    {
     "name": "stderr",
     "output_type": "stream",
     "text": [
      "\n",
      " 16%|█▌        | 80/498 [04:43<23:43,  3.40s/it]\u001B[A"
     ]
    },
    {
     "name": "stdout",
     "output_type": "stream",
     "text": [
      "./SceneJSON_2024/L26/V080.json\n",
      "[TransNetV2] Extracting frames from /media/daoan/T7 Shield2/AI_Challenge_2024_DATA/video_with_audio/Videos_L26/video/L26_V081.mp4\n",
      "[TransNetV2] Processing video frames 7400/8017"
     ]
    },
    {
     "name": "stderr",
     "output_type": "stream",
     "text": [
      "\n",
      " 16%|█▋        | 81/498 [04:47<23:32,  3.39s/it]\u001B[A"
     ]
    },
    {
     "name": "stdout",
     "output_type": "stream",
     "text": [
      "[TransNetV2] Processing video frames 8017/8017\n",
      "./SceneJSON_2024/L26/V081.json\n",
      "[TransNetV2] Extracting frames from /media/daoan/T7 Shield2/AI_Challenge_2024_DATA/video_with_audio/Videos_L26/video/L26_V082.mp4\n",
      "[TransNetV2] Processing video frames 7550/8173"
     ]
    },
    {
     "name": "stderr",
     "output_type": "stream",
     "text": [
      "\n",
      " 16%|█▋        | 82/498 [04:50<23:44,  3.42s/it]\u001B[A"
     ]
    },
    {
     "name": "stdout",
     "output_type": "stream",
     "text": [
      "[TransNetV2] Processing video frames 8173/8173\n",
      "./SceneJSON_2024/L26/V082.json\n",
      "[TransNetV2] Extracting frames from /media/daoan/T7 Shield2/AI_Challenge_2024_DATA/video_with_audio/Videos_L26/video/L26_V083.mp4\n",
      "[TransNetV2] Processing video frames 6600/8214"
     ]
    },
    {
     "name": "stderr",
     "output_type": "stream",
     "text": [
      "\n",
      " 17%|█▋        | 83/498 [04:54<23:53,  3.45s/it]\u001B[A"
     ]
    },
    {
     "name": "stdout",
     "output_type": "stream",
     "text": [
      "[TransNetV2] Processing video frames 8214/8214\n",
      "./SceneJSON_2024/L26/V083.json\n",
      "[TransNetV2] Extracting frames from /media/daoan/T7 Shield2/AI_Challenge_2024_DATA/video_with_audio/Videos_L26/video/L26_V084.mp4\n",
      "[TransNetV2] Processing video frames 7400/8199"
     ]
    },
    {
     "name": "stderr",
     "output_type": "stream",
     "text": [
      "\n",
      " 17%|█▋        | 84/498 [04:58<24:24,  3.54s/it]\u001B[A"
     ]
    },
    {
     "name": "stdout",
     "output_type": "stream",
     "text": [
      "[TransNetV2] Processing video frames 8199/8199\n",
      "./SceneJSON_2024/L26/V084.json\n",
      "[TransNetV2] Extracting frames from /media/daoan/T7 Shield2/AI_Challenge_2024_DATA/video_with_audio/Videos_L26/video/L26_V085.mp4\n",
      "[TransNetV2] Processing video frames 6750/7871"
     ]
    },
    {
     "name": "stderr",
     "output_type": "stream",
     "text": [
      "\n",
      " 17%|█▋        | 85/498 [05:01<23:46,  3.45s/it]\u001B[A"
     ]
    },
    {
     "name": "stdout",
     "output_type": "stream",
     "text": [
      "[TransNetV2] Processing video frames 7871/7871\n",
      "./SceneJSON_2024/L26/V085.json\n",
      "[TransNetV2] Extracting frames from /media/daoan/T7 Shield2/AI_Challenge_2024_DATA/video_with_audio/Videos_L26/video/L26_V086.mp4\n",
      "[TransNetV2] Processing video frames 7200/8185"
     ]
    },
    {
     "name": "stderr",
     "output_type": "stream",
     "text": [
      "\n",
      " 17%|█▋        | 86/498 [05:04<23:54,  3.48s/it]\u001B[A"
     ]
    },
    {
     "name": "stdout",
     "output_type": "stream",
     "text": [
      "[TransNetV2] Processing video frames 8185/8185\n",
      "./SceneJSON_2024/L26/V086.json\n",
      "[TransNetV2] Extracting frames from /media/daoan/T7 Shield2/AI_Challenge_2024_DATA/video_with_audio/Videos_L26/video/L26_V087.mp4\n",
      "[TransNetV2] Processing video frames 7700/7969"
     ]
    },
    {
     "name": "stderr",
     "output_type": "stream",
     "text": [
      "\n",
      " 17%|█▋        | 87/498 [05:08<23:22,  3.41s/it]\u001B[A"
     ]
    },
    {
     "name": "stdout",
     "output_type": "stream",
     "text": [
      "[TransNetV2] Processing video frames 7969/7969\n",
      "./SceneJSON_2024/L26/V087.json\n",
      "[TransNetV2] Extracting frames from /media/daoan/T7 Shield2/AI_Challenge_2024_DATA/video_with_audio/Videos_L26/video/L26_V088.mp4\n",
      "[TransNetV2] Processing video frames 7300/8055"
     ]
    },
    {
     "name": "stderr",
     "output_type": "stream",
     "text": [
      "\n",
      " 18%|█▊        | 88/498 [05:11<23:11,  3.39s/it]\u001B[A"
     ]
    },
    {
     "name": "stdout",
     "output_type": "stream",
     "text": [
      "[TransNetV2] Processing video frames 8055/8055\n",
      "./SceneJSON_2024/L26/V088.json\n",
      "[TransNetV2] Extracting frames from /media/daoan/T7 Shield2/AI_Challenge_2024_DATA/video_with_audio/Videos_L26/video/L26_V089.mp4\n",
      "[TransNetV2] Processing video frames 7000/7699"
     ]
    },
    {
     "name": "stderr",
     "output_type": "stream",
     "text": [
      "\n",
      " 18%|█▊        | 89/498 [05:14<22:42,  3.33s/it]\u001B[A"
     ]
    },
    {
     "name": "stdout",
     "output_type": "stream",
     "text": [
      "[TransNetV2] Processing video frames 7699/7699\n",
      "./SceneJSON_2024/L26/V089.json\n",
      "[TransNetV2] Extracting frames from /media/daoan/T7 Shield2/AI_Challenge_2024_DATA/video_with_audio/Videos_L26/video/L26_V090.mp4\n",
      "[TransNetV2] Processing video frames 7300/7734"
     ]
    },
    {
     "name": "stderr",
     "output_type": "stream",
     "text": [
      "\n",
      " 18%|█▊        | 90/498 [05:17<22:17,  3.28s/it]\u001B[A"
     ]
    },
    {
     "name": "stdout",
     "output_type": "stream",
     "text": [
      "[TransNetV2] Processing video frames 7734/7734\n",
      "./SceneJSON_2024/L26/V090.json\n",
      "[TransNetV2] Extracting frames from /media/daoan/T7 Shield2/AI_Challenge_2024_DATA/video_with_audio/Videos_L26/video/L26_V091.mp4\n",
      "[TransNetV2] Processing video frames 7750/8217"
     ]
    },
    {
     "name": "stderr",
     "output_type": "stream",
     "text": [
      "\n",
      " 18%|█▊        | 91/498 [05:21<22:37,  3.34s/it]\u001B[A"
     ]
    },
    {
     "name": "stdout",
     "output_type": "stream",
     "text": [
      "[TransNetV2] Processing video frames 8217/8217\n",
      "./SceneJSON_2024/L26/V091.json\n",
      "[TransNetV2] Extracting frames from /media/daoan/T7 Shield2/AI_Challenge_2024_DATA/video_with_audio/Videos_L26/video/L26_V092.mp4\n",
      "[TransNetV2] Processing video frames 7600/8116"
     ]
    },
    {
     "name": "stderr",
     "output_type": "stream",
     "text": [
      "\n",
      " 18%|█▊        | 92/498 [05:24<22:29,  3.32s/it]\u001B[A"
     ]
    },
    {
     "name": "stdout",
     "output_type": "stream",
     "text": [
      "[TransNetV2] Processing video frames 8116/8116\n",
      "./SceneJSON_2024/L26/V092.json\n",
      "[TransNetV2] Extracting frames from /media/daoan/T7 Shield2/AI_Challenge_2024_DATA/video_with_audio/Videos_L26/video/L26_V093.mp4\n",
      "[TransNetV2] Processing video frames 7150/8189"
     ]
    },
    {
     "name": "stderr",
     "output_type": "stream",
     "text": [
      "\n",
      " 19%|█▊        | 93/498 [05:27<22:28,  3.33s/it]\u001B[A"
     ]
    },
    {
     "name": "stdout",
     "output_type": "stream",
     "text": [
      "[TransNetV2] Processing video frames 8189/8189\n",
      "./SceneJSON_2024/L26/V093.json\n",
      "[TransNetV2] Extracting frames from /media/daoan/T7 Shield2/AI_Challenge_2024_DATA/video_with_audio/Videos_L26/video/L26_V094.mp4\n",
      "[TransNetV2] Processing video frames 6750/8083"
     ]
    },
    {
     "name": "stderr",
     "output_type": "stream",
     "text": [
      "\n",
      " 19%|█▉        | 94/498 [05:31<22:34,  3.35s/it]\u001B[A"
     ]
    },
    {
     "name": "stdout",
     "output_type": "stream",
     "text": [
      "[TransNetV2] Processing video frames 8083/8083\n",
      "./SceneJSON_2024/L26/V094.json\n",
      "[TransNetV2] Extracting frames from /media/daoan/T7 Shield2/AI_Challenge_2024_DATA/video_with_audio/Videos_L26/video/L26_V095.mp4\n",
      "[TransNetV2] Processing video frames 6800/8197"
     ]
    },
    {
     "name": "stderr",
     "output_type": "stream",
     "text": [
      "\n",
      " 19%|█▉        | 95/498 [05:34<22:54,  3.41s/it]\u001B[A"
     ]
    },
    {
     "name": "stdout",
     "output_type": "stream",
     "text": [
      "[TransNetV2] Processing video frames 8197/8197\n",
      "./SceneJSON_2024/L26/V095.json\n",
      "[TransNetV2] Extracting frames from /media/daoan/T7 Shield2/AI_Challenge_2024_DATA/video_with_audio/Videos_L26/video/L26_V096.mp4\n",
      "[TransNetV2] Processing video frames 7400/8210"
     ]
    },
    {
     "name": "stderr",
     "output_type": "stream",
     "text": [
      "\n",
      " 19%|█▉        | 96/498 [05:38<22:39,  3.38s/it]\u001B[A"
     ]
    },
    {
     "name": "stdout",
     "output_type": "stream",
     "text": [
      "[TransNetV2] Processing video frames 8210/8210\n",
      "./SceneJSON_2024/L26/V096.json\n",
      "[TransNetV2] Extracting frames from /media/daoan/T7 Shield2/AI_Challenge_2024_DATA/video_with_audio/Videos_L26/video/L26_V097.mp4\n",
      "[TransNetV2] Processing video frames 7800/8225"
     ]
    },
    {
     "name": "stderr",
     "output_type": "stream",
     "text": [
      "\n",
      " 19%|█▉        | 97/498 [05:41<22:28,  3.36s/it]\u001B[A"
     ]
    },
    {
     "name": "stdout",
     "output_type": "stream",
     "text": [
      "[TransNetV2] Processing video frames 8225/8225\n",
      "./SceneJSON_2024/L26/V097.json\n",
      "[TransNetV2] Extracting frames from /media/daoan/T7 Shield2/AI_Challenge_2024_DATA/video_with_audio/Videos_L26/video/L26_V098.mp4\n",
      "[TransNetV2] Processing video frames 7550/8127"
     ]
    },
    {
     "name": "stderr",
     "output_type": "stream",
     "text": [
      "\n",
      " 20%|█▉        | 98/498 [05:44<22:17,  3.34s/it]\u001B[A"
     ]
    },
    {
     "name": "stdout",
     "output_type": "stream",
     "text": [
      "[TransNetV2] Processing video frames 8127/8127\n",
      "./SceneJSON_2024/L26/V098.json\n",
      "[TransNetV2] Extracting frames from /media/daoan/T7 Shield2/AI_Challenge_2024_DATA/video_with_audio/Videos_L26/video/L26_V099.mp4\n",
      "[TransNetV2] Processing video frames 7100/8166"
     ]
    },
    {
     "name": "stderr",
     "output_type": "stream",
     "text": [
      "\n",
      " 20%|█▉        | 99/498 [05:48<22:37,  3.40s/it]\u001B[A"
     ]
    },
    {
     "name": "stdout",
     "output_type": "stream",
     "text": [
      "[TransNetV2] Processing video frames 8166/8166\n",
      "./SceneJSON_2024/L26/V099.json\n",
      "[TransNetV2] Extracting frames from /media/daoan/T7 Shield2/AI_Challenge_2024_DATA/video_with_audio/Videos_L26/video/L26_V100.mp4\n",
      "[TransNetV2] Processing video frames 6750/8135"
     ]
    },
    {
     "name": "stderr",
     "output_type": "stream",
     "text": [
      "\n",
      " 20%|██        | 100/498 [05:51<22:45,  3.43s/it]\u001B[A"
     ]
    },
    {
     "name": "stdout",
     "output_type": "stream",
     "text": [
      "[TransNetV2] Processing video frames 8135/8135\n",
      "./SceneJSON_2024/L26/V100.json\n",
      "[TransNetV2] Extracting frames from /media/daoan/T7 Shield2/AI_Challenge_2024_DATA/video_with_audio/Videos_L26/video/L26_V101.mp4\n",
      "[TransNetV2] Processing video frames 6800/8091"
     ]
    },
    {
     "name": "stderr",
     "output_type": "stream",
     "text": [
      "\n",
      " 20%|██        | 101/498 [05:55<22:38,  3.42s/it]\u001B[A"
     ]
    },
    {
     "name": "stdout",
     "output_type": "stream",
     "text": [
      "[TransNetV2] Processing video frames 8091/8091\n",
      "./SceneJSON_2024/L26/V101.json\n",
      "[TransNetV2] Extracting frames from /media/daoan/T7 Shield2/AI_Challenge_2024_DATA/video_with_audio/Videos_L26/video/L26_V102.mp4\n",
      "[TransNetV2] Processing video frames 7250/8204"
     ]
    },
    {
     "name": "stderr",
     "output_type": "stream",
     "text": [
      "\n",
      " 20%|██        | 102/498 [05:58<22:38,  3.43s/it]\u001B[A"
     ]
    },
    {
     "name": "stdout",
     "output_type": "stream",
     "text": [
      "[TransNetV2] Processing video frames 8204/8204\n",
      "./SceneJSON_2024/L26/V102.json\n",
      "[TransNetV2] Extracting frames from /media/daoan/T7 Shield2/AI_Challenge_2024_DATA/video_with_audio/Videos_L26/video/L26_V103.mp4\n",
      "[TransNetV2] Processing video frames 7750/8045"
     ]
    },
    {
     "name": "stderr",
     "output_type": "stream",
     "text": [
      "\n",
      " 21%|██        | 103/498 [06:02<22:18,  3.39s/it]\u001B[A"
     ]
    },
    {
     "name": "stdout",
     "output_type": "stream",
     "text": [
      "[TransNetV2] Processing video frames 8045/8045\n",
      "./SceneJSON_2024/L26/V103.json\n",
      "[TransNetV2] Extracting frames from /media/daoan/T7 Shield2/AI_Challenge_2024_DATA/video_with_audio/Videos_L26/video/L26_V104.mp4\n",
      "[TransNetV2] Processing video frames 7350/8237"
     ]
    },
    {
     "name": "stderr",
     "output_type": "stream",
     "text": [
      "\n",
      " 21%|██        | 104/498 [06:05<22:21,  3.41s/it]\u001B[A"
     ]
    },
    {
     "name": "stdout",
     "output_type": "stream",
     "text": [
      "[TransNetV2] Processing video frames 8237/8237\n",
      "./SceneJSON_2024/L26/V104.json\n",
      "[TransNetV2] Extracting frames from /media/daoan/T7 Shield2/AI_Challenge_2024_DATA/video_with_audio/Videos_L26/video/L26_V105.mp4\n",
      "[TransNetV2] Processing video frames 7050/8014"
     ]
    },
    {
     "name": "stderr",
     "output_type": "stream",
     "text": [
      "\n",
      " 21%|██        | 105/498 [06:08<22:14,  3.40s/it]\u001B[A"
     ]
    },
    {
     "name": "stdout",
     "output_type": "stream",
     "text": [
      "[TransNetV2] Processing video frames 8014/8014\n",
      "./SceneJSON_2024/L26/V105.json\n",
      "[TransNetV2] Extracting frames from /media/daoan/T7 Shield2/AI_Challenge_2024_DATA/video_with_audio/Videos_L26/video/L26_V106.mp4\n",
      "[TransNetV2] Processing video frames 6700/7796"
     ]
    },
    {
     "name": "stderr",
     "output_type": "stream",
     "text": [
      "\n",
      " 21%|██▏       | 106/498 [06:12<21:58,  3.36s/it]\u001B[A"
     ]
    },
    {
     "name": "stdout",
     "output_type": "stream",
     "text": [
      "[TransNetV2] Processing video frames 7796/7796\n",
      "./SceneJSON_2024/L26/V106.json\n",
      "[TransNetV2] Extracting frames from /media/daoan/T7 Shield2/AI_Challenge_2024_DATA/video_with_audio/Videos_L26/video/L26_V107.mp4\n",
      "[TransNetV2] Processing video frames 7400/7505"
     ]
    },
    {
     "name": "stderr",
     "output_type": "stream",
     "text": [
      "\n",
      " 21%|██▏       | 107/498 [06:15<21:50,  3.35s/it]\u001B[A"
     ]
    },
    {
     "name": "stdout",
     "output_type": "stream",
     "text": [
      "[TransNetV2] Processing video frames 7505/7505\n",
      "./SceneJSON_2024/L26/V107.json\n",
      "[TransNetV2] Extracting frames from /media/daoan/T7 Shield2/AI_Challenge_2024_DATA/video_with_audio/Videos_L26/video/L26_V108.mp4\n",
      "[TransNetV2] Processing video frames 7450/8006"
     ]
    },
    {
     "name": "stderr",
     "output_type": "stream",
     "text": [
      "\n",
      " 22%|██▏       | 108/498 [06:18<21:41,  3.34s/it]\u001B[A"
     ]
    },
    {
     "name": "stdout",
     "output_type": "stream",
     "text": [
      "[TransNetV2] Processing video frames 8006/8006\n",
      "./SceneJSON_2024/L26/V108.json\n",
      "[TransNetV2] Extracting frames from /media/daoan/T7 Shield2/AI_Challenge_2024_DATA/video_with_audio/Videos_L26/video/L26_V109.mp4\n",
      "[TransNetV2] Processing video frames 7850/8159"
     ]
    },
    {
     "name": "stderr",
     "output_type": "stream",
     "text": [
      "\n",
      " 22%|██▏       | 109/498 [06:22<22:03,  3.40s/it]\u001B[A"
     ]
    },
    {
     "name": "stdout",
     "output_type": "stream",
     "text": [
      "[TransNetV2] Processing video frames 8159/8159\n",
      "./SceneJSON_2024/L26/V109.json\n",
      "[TransNetV2] Extracting frames from /media/daoan/T7 Shield2/AI_Challenge_2024_DATA/video_with_audio/Videos_L26/video/L26_V110.mp4\n",
      "[TransNetV2] Processing video frames 6850/7593"
     ]
    },
    {
     "name": "stderr",
     "output_type": "stream",
     "text": [
      "\n",
      " 22%|██▏       | 110/498 [06:25<21:30,  3.33s/it]\u001B[A"
     ]
    },
    {
     "name": "stdout",
     "output_type": "stream",
     "text": [
      "[TransNetV2] Processing video frames 7593/7593\n",
      "./SceneJSON_2024/L26/V110.json\n",
      "[TransNetV2] Extracting frames from /media/daoan/T7 Shield2/AI_Challenge_2024_DATA/video_with_audio/Videos_L26/video/L26_V111.mp4\n",
      "[TransNetV2] Processing video frames 7500/7823"
     ]
    },
    {
     "name": "stderr",
     "output_type": "stream",
     "text": [
      "\n",
      " 22%|██▏       | 111/498 [06:28<21:22,  3.31s/it]\u001B[A"
     ]
    },
    {
     "name": "stdout",
     "output_type": "stream",
     "text": [
      "[TransNetV2] Processing video frames 7823/7823\n",
      "./SceneJSON_2024/L26/V111.json\n",
      "[TransNetV2] Extracting frames from /media/daoan/T7 Shield2/AI_Challenge_2024_DATA/video_with_audio/Videos_L26/video/L26_V112.mp4\n",
      "[TransNetV2] Processing video frames 7400/7831"
     ]
    },
    {
     "name": "stderr",
     "output_type": "stream",
     "text": [
      "\n",
      " 22%|██▏       | 112/498 [06:32<21:13,  3.30s/it]\u001B[A"
     ]
    },
    {
     "name": "stdout",
     "output_type": "stream",
     "text": [
      "[TransNetV2] Processing video frames 7831/7831\n",
      "./SceneJSON_2024/L26/V112.json\n",
      "[TransNetV2] Extracting frames from /media/daoan/T7 Shield2/AI_Challenge_2024_DATA/video_with_audio/Videos_L26/video/L26_V113.mp4\n",
      "[TransNetV2] Processing video frames 7550/8263"
     ]
    },
    {
     "name": "stderr",
     "output_type": "stream",
     "text": [
      "\n",
      " 23%|██▎       | 113/498 [06:35<21:18,  3.32s/it]\u001B[A"
     ]
    },
    {
     "name": "stdout",
     "output_type": "stream",
     "text": [
      "[TransNetV2] Processing video frames 8263/8263\n",
      "./SceneJSON_2024/L26/V113.json\n",
      "[TransNetV2] Extracting frames from /media/daoan/T7 Shield2/AI_Challenge_2024_DATA/video_with_audio/Videos_L26/video/L26_V114.mp4\n",
      "[TransNetV2] Processing video frames 6900/8146"
     ]
    },
    {
     "name": "stderr",
     "output_type": "stream",
     "text": [
      "\n",
      " 23%|██▎       | 114/498 [06:38<21:14,  3.32s/it]\u001B[A"
     ]
    },
    {
     "name": "stdout",
     "output_type": "stream",
     "text": [
      "[TransNetV2] Processing video frames 8146/8146\n",
      "./SceneJSON_2024/L26/V114.json\n",
      "[TransNetV2] Extracting frames from /media/daoan/T7 Shield2/AI_Challenge_2024_DATA/video_with_audio/Videos_L26/video/L26_V115.mp4\n",
      "[TransNetV2] Processing video frames 7050/8065"
     ]
    },
    {
     "name": "stderr",
     "output_type": "stream",
     "text": [
      "\n",
      " 23%|██▎       | 115/498 [06:42<21:22,  3.35s/it]\u001B[A"
     ]
    },
    {
     "name": "stdout",
     "output_type": "stream",
     "text": [
      "[TransNetV2] Processing video frames 8065/8065\n",
      "./SceneJSON_2024/L26/V115.json\n",
      "[TransNetV2] Extracting frames from /media/daoan/T7 Shield2/AI_Challenge_2024_DATA/video_with_audio/Videos_L26/video/L26_V116.mp4\n",
      "[TransNetV2] Processing video frames 7700/8019"
     ]
    },
    {
     "name": "stderr",
     "output_type": "stream",
     "text": [
      "\n",
      " 23%|██▎       | 116/498 [06:45<21:25,  3.36s/it]\u001B[A"
     ]
    },
    {
     "name": "stdout",
     "output_type": "stream",
     "text": [
      "[TransNetV2] Processing video frames 8019/8019\n",
      "./SceneJSON_2024/L26/V116.json\n",
      "[TransNetV2] Extracting frames from /media/daoan/T7 Shield2/AI_Challenge_2024_DATA/video_with_audio/Videos_L26/video/L26_V117.mp4\n",
      "[TransNetV2] Processing video frames 7450/8186"
     ]
    },
    {
     "name": "stderr",
     "output_type": "stream",
     "text": [
      "\n",
      " 23%|██▎       | 117/498 [06:48<21:32,  3.39s/it]\u001B[A"
     ]
    },
    {
     "name": "stdout",
     "output_type": "stream",
     "text": [
      "[TransNetV2] Processing video frames 8186/8186\n",
      "./SceneJSON_2024/L26/V117.json\n",
      "[TransNetV2] Extracting frames from /media/daoan/T7 Shield2/AI_Challenge_2024_DATA/video_with_audio/Videos_L26/video/L26_V118.mp4\n",
      "[TransNetV2] Processing video frames 7700/8213"
     ]
    },
    {
     "name": "stderr",
     "output_type": "stream",
     "text": [
      "\n",
      " 24%|██▎       | 118/498 [06:52<21:35,  3.41s/it]\u001B[A"
     ]
    },
    {
     "name": "stdout",
     "output_type": "stream",
     "text": [
      "[TransNetV2] Processing video frames 8213/8213\n",
      "./SceneJSON_2024/L26/V118.json\n",
      "[TransNetV2] Extracting frames from /media/daoan/T7 Shield2/AI_Challenge_2024_DATA/video_with_audio/Videos_L26/video/L26_V119.mp4\n",
      "[TransNetV2] Processing video frames 7250/8172"
     ]
    },
    {
     "name": "stderr",
     "output_type": "stream",
     "text": [
      "\n",
      " 24%|██▍       | 119/498 [06:55<21:30,  3.40s/it]\u001B[A"
     ]
    },
    {
     "name": "stdout",
     "output_type": "stream",
     "text": [
      "[TransNetV2] Processing video frames 8172/8172\n",
      "./SceneJSON_2024/L26/V119.json\n",
      "[TransNetV2] Extracting frames from /media/daoan/T7 Shield2/AI_Challenge_2024_DATA/video_with_audio/Videos_L26/video/L26_V120.mp4\n",
      "[TransNetV2] Processing video frames 7350/8064"
     ]
    },
    {
     "name": "stderr",
     "output_type": "stream",
     "text": [
      "\n",
      " 24%|██▍       | 120/498 [06:59<21:18,  3.38s/it]\u001B[A"
     ]
    },
    {
     "name": "stdout",
     "output_type": "stream",
     "text": [
      "[TransNetV2] Processing video frames 8064/8064\n",
      "./SceneJSON_2024/L26/V120.json\n",
      "[TransNetV2] Extracting frames from /media/daoan/T7 Shield2/AI_Challenge_2024_DATA/video_with_audio/Videos_L26/video/L26_V121.mp4\n",
      "[TransNetV2] Processing video frames 6750/8102"
     ]
    },
    {
     "name": "stderr",
     "output_type": "stream",
     "text": [
      "\n",
      " 24%|██▍       | 121/498 [07:02<21:36,  3.44s/it]\u001B[A"
     ]
    },
    {
     "name": "stdout",
     "output_type": "stream",
     "text": [
      "[TransNetV2] Processing video frames 8102/8102\n",
      "./SceneJSON_2024/L26/V121.json\n",
      "[TransNetV2] Extracting frames from /media/daoan/T7 Shield2/AI_Challenge_2024_DATA/video_with_audio/Videos_L26/video/L26_V122.mp4\n",
      "[TransNetV2] Processing video frames 7350/8231"
     ]
    },
    {
     "name": "stderr",
     "output_type": "stream",
     "text": [
      "\n",
      " 24%|██▍       | 122/498 [07:06<21:32,  3.44s/it]\u001B[A"
     ]
    },
    {
     "name": "stdout",
     "output_type": "stream",
     "text": [
      "[TransNetV2] Processing video frames 8231/8231\n",
      "./SceneJSON_2024/L26/V122.json\n",
      "[TransNetV2] Extracting frames from /media/daoan/T7 Shield2/AI_Challenge_2024_DATA/video_with_audio/Videos_L26/video/L26_V123.mp4\n",
      "[TransNetV2] Processing video frames 7650/8202"
     ]
    },
    {
     "name": "stderr",
     "output_type": "stream",
     "text": [
      "\n",
      " 25%|██▍       | 123/498 [07:09<21:49,  3.49s/it]\u001B[A"
     ]
    },
    {
     "name": "stdout",
     "output_type": "stream",
     "text": [
      "[TransNetV2] Processing video frames 8202/8202\n",
      "./SceneJSON_2024/L26/V123.json\n",
      "[TransNetV2] Extracting frames from /media/daoan/T7 Shield2/AI_Challenge_2024_DATA/video_with_audio/Videos_L26/video/L26_V124.mp4\n",
      "[TransNetV2] Processing video frames 7750/8256"
     ]
    },
    {
     "name": "stderr",
     "output_type": "stream",
     "text": [
      "\n",
      " 25%|██▍       | 124/498 [07:13<21:42,  3.48s/it]\u001B[A"
     ]
    },
    {
     "name": "stdout",
     "output_type": "stream",
     "text": [
      "[TransNetV2] Processing video frames 8256/8256\n",
      "./SceneJSON_2024/L26/V124.json\n",
      "[TransNetV2] Extracting frames from /media/daoan/T7 Shield2/AI_Challenge_2024_DATA/video_with_audio/Videos_L26/video/L26_V125.mp4\n",
      "[TransNetV2] Processing video frames 7250/8155"
     ]
    },
    {
     "name": "stderr",
     "output_type": "stream",
     "text": [
      "\n",
      " 25%|██▌       | 125/498 [07:16<21:26,  3.45s/it]\u001B[A"
     ]
    },
    {
     "name": "stdout",
     "output_type": "stream",
     "text": [
      "[TransNetV2] Processing video frames 8155/8155\n",
      "./SceneJSON_2024/L26/V125.json\n",
      "[TransNetV2] Extracting frames from /media/daoan/T7 Shield2/AI_Challenge_2024_DATA/video_with_audio/Videos_L26/video/L26_V126.mp4\n",
      "[TransNetV2] Processing video frames 7300/8035"
     ]
    },
    {
     "name": "stderr",
     "output_type": "stream",
     "text": [
      "\n",
      " 25%|██▌       | 126/498 [07:20<21:28,  3.46s/it]\u001B[A"
     ]
    },
    {
     "name": "stdout",
     "output_type": "stream",
     "text": [
      "[TransNetV2] Processing video frames 8035/8035\n",
      "./SceneJSON_2024/L26/V126.json\n",
      "[TransNetV2] Extracting frames from /media/daoan/T7 Shield2/AI_Challenge_2024_DATA/video_with_audio/Videos_L26/video/L26_V127.mp4\n",
      "[TransNetV2] Processing video frames 6650/8185"
     ]
    },
    {
     "name": "stderr",
     "output_type": "stream",
     "text": [
      "\n",
      " 26%|██▌       | 127/498 [07:23<21:28,  3.47s/it]\u001B[A"
     ]
    },
    {
     "name": "stdout",
     "output_type": "stream",
     "text": [
      "[TransNetV2] Processing video frames 8185/8185\n",
      "./SceneJSON_2024/L26/V127.json\n",
      "[TransNetV2] Extracting frames from /media/daoan/T7 Shield2/AI_Challenge_2024_DATA/video_with_audio/Videos_L26/video/L26_V128.mp4\n",
      "[TransNetV2] Processing video frames 6850/8097"
     ]
    },
    {
     "name": "stderr",
     "output_type": "stream",
     "text": [
      "\n",
      " 26%|██▌       | 128/498 [07:27<21:23,  3.47s/it]\u001B[A"
     ]
    },
    {
     "name": "stdout",
     "output_type": "stream",
     "text": [
      "[TransNetV2] Processing video frames 8097/8097\n",
      "./SceneJSON_2024/L26/V128.json\n",
      "[TransNetV2] Extracting frames from /media/daoan/T7 Shield2/AI_Challenge_2024_DATA/video_with_audio/Videos_L26/video/L26_V129.mp4\n",
      "[TransNetV2] Processing video frames 7400/8131"
     ]
    },
    {
     "name": "stderr",
     "output_type": "stream",
     "text": [
      "\n",
      " 26%|██▌       | 129/498 [07:30<21:21,  3.47s/it]\u001B[A"
     ]
    },
    {
     "name": "stdout",
     "output_type": "stream",
     "text": [
      "[TransNetV2] Processing video frames 8131/8131\n",
      "./SceneJSON_2024/L26/V129.json\n",
      "[TransNetV2] Extracting frames from /media/daoan/T7 Shield2/AI_Challenge_2024_DATA/video_with_audio/Videos_L26/video/L26_V130.mp4\n",
      "[TransNetV2] Processing video frames 7850/7993"
     ]
    },
    {
     "name": "stderr",
     "output_type": "stream",
     "text": [
      "\n",
      " 26%|██▌       | 130/498 [07:33<20:54,  3.41s/it]\u001B[A"
     ]
    },
    {
     "name": "stdout",
     "output_type": "stream",
     "text": [
      "[TransNetV2] Processing video frames 7993/7993\n",
      "./SceneJSON_2024/L26/V130.json\n",
      "[TransNetV2] Extracting frames from /media/daoan/T7 Shield2/AI_Challenge_2024_DATA/video_with_audio/Videos_L26/video/L26_V131.mp4\n",
      "[TransNetV2] Processing video frames 7500/8088"
     ]
    },
    {
     "name": "stderr",
     "output_type": "stream",
     "text": [
      "\n",
      " 26%|██▋       | 131/498 [07:37<20:52,  3.41s/it]\u001B[A"
     ]
    },
    {
     "name": "stdout",
     "output_type": "stream",
     "text": [
      "[TransNetV2] Processing video frames 8088/8088\n",
      "./SceneJSON_2024/L26/V131.json\n",
      "[TransNetV2] Extracting frames from /media/daoan/T7 Shield2/AI_Challenge_2024_DATA/video_with_audio/Videos_L26/video/L26_V132.mp4\n",
      "[TransNetV2] Processing video frames 7050/8151"
     ]
    },
    {
     "name": "stderr",
     "output_type": "stream",
     "text": [
      "\n",
      " 27%|██▋       | 132/498 [07:40<20:41,  3.39s/it]\u001B[A"
     ]
    },
    {
     "name": "stdout",
     "output_type": "stream",
     "text": [
      "[TransNetV2] Processing video frames 8151/8151\n",
      "./SceneJSON_2024/L26/V132.json\n",
      "[TransNetV2] Extracting frames from /media/daoan/T7 Shield2/AI_Challenge_2024_DATA/video_with_audio/Videos_L26/video/L26_V133.mp4\n",
      "[TransNetV2] Processing video frames 6950/8231"
     ]
    },
    {
     "name": "stderr",
     "output_type": "stream",
     "text": [
      "\n",
      " 27%|██▋       | 133/498 [07:44<20:50,  3.43s/it]\u001B[A"
     ]
    },
    {
     "name": "stdout",
     "output_type": "stream",
     "text": [
      "[TransNetV2] Processing video frames 8231/8231\n",
      "./SceneJSON_2024/L26/V133.json\n",
      "[TransNetV2] Extracting frames from /media/daoan/T7 Shield2/AI_Challenge_2024_DATA/video_with_audio/Videos_L26/video/L26_V134.mp4\n",
      "[TransNetV2] Processing video frames 7000/8123"
     ]
    },
    {
     "name": "stderr",
     "output_type": "stream",
     "text": [
      "\n",
      " 27%|██▋       | 134/498 [07:47<20:53,  3.44s/it]\u001B[A"
     ]
    },
    {
     "name": "stdout",
     "output_type": "stream",
     "text": [
      "[TransNetV2] Processing video frames 8123/8123\n",
      "./SceneJSON_2024/L26/V134.json\n",
      "[TransNetV2] Extracting frames from /media/daoan/T7 Shield2/AI_Challenge_2024_DATA/video_with_audio/Videos_L26/video/L26_V135.mp4\n",
      "[TransNetV2] Processing video frames 7000/8184"
     ]
    },
    {
     "name": "stderr",
     "output_type": "stream",
     "text": [
      "\n",
      " 27%|██▋       | 135/498 [07:51<20:59,  3.47s/it]\u001B[A"
     ]
    },
    {
     "name": "stdout",
     "output_type": "stream",
     "text": [
      "[TransNetV2] Processing video frames 8184/8184\n",
      "./SceneJSON_2024/L26/V135.json\n",
      "[TransNetV2] Extracting frames from /media/daoan/T7 Shield2/AI_Challenge_2024_DATA/video_with_audio/Videos_L26/video/L26_V136.mp4\n",
      "[TransNetV2] Processing video frames 7750/8189"
     ]
    },
    {
     "name": "stderr",
     "output_type": "stream",
     "text": [
      "\n",
      " 27%|██▋       | 136/498 [07:54<20:35,  3.41s/it]\u001B[A"
     ]
    },
    {
     "name": "stdout",
     "output_type": "stream",
     "text": [
      "[TransNetV2] Processing video frames 8189/8189\n",
      "./SceneJSON_2024/L26/V136.json\n",
      "[TransNetV2] Extracting frames from /media/daoan/T7 Shield2/AI_Challenge_2024_DATA/video_with_audio/Videos_L26/video/L26_V137.mp4\n",
      "[TransNetV2] Processing video frames 7600/8140"
     ]
    },
    {
     "name": "stderr",
     "output_type": "stream",
     "text": [
      "\n",
      " 28%|██▊       | 137/498 [07:57<20:33,  3.42s/it]\u001B[A"
     ]
    },
    {
     "name": "stdout",
     "output_type": "stream",
     "text": [
      "[TransNetV2] Processing video frames 8140/8140\n",
      "./SceneJSON_2024/L26/V137.json\n",
      "[TransNetV2] Extracting frames from /media/daoan/T7 Shield2/AI_Challenge_2024_DATA/video_with_audio/Videos_L26/video/L26_V138.mp4\n",
      "[TransNetV2] Processing video frames 7700/8034"
     ]
    },
    {
     "name": "stderr",
     "output_type": "stream",
     "text": [
      "\n",
      " 28%|██▊       | 138/498 [08:01<20:19,  3.39s/it]\u001B[A"
     ]
    },
    {
     "name": "stdout",
     "output_type": "stream",
     "text": [
      "[TransNetV2] Processing video frames 8034/8034\n",
      "./SceneJSON_2024/L26/V138.json\n",
      "[TransNetV2] Extracting frames from /media/daoan/T7 Shield2/AI_Challenge_2024_DATA/video_with_audio/Videos_L26/video/L26_V139.mp4\n",
      "[TransNetV2] Processing video frames 6700/8174"
     ]
    },
    {
     "name": "stderr",
     "output_type": "stream",
     "text": [
      "\n",
      " 28%|██▊       | 139/498 [08:04<20:30,  3.43s/it]\u001B[A"
     ]
    },
    {
     "name": "stdout",
     "output_type": "stream",
     "text": [
      "[TransNetV2] Processing video frames 8174/8174\n",
      "./SceneJSON_2024/L26/V139.json\n",
      "[TransNetV2] Extracting frames from /media/daoan/T7 Shield2/AI_Challenge_2024_DATA/video_with_audio/Videos_L26/video/L26_V140.mp4\n",
      "[TransNetV2] Processing video frames 6800/8003"
     ]
    },
    {
     "name": "stderr",
     "output_type": "stream",
     "text": [
      "\n",
      " 28%|██▊       | 140/498 [08:08<20:25,  3.42s/it]\u001B[A"
     ]
    },
    {
     "name": "stdout",
     "output_type": "stream",
     "text": [
      "[TransNetV2] Processing video frames 8003/8003\n",
      "./SceneJSON_2024/L26/V140.json\n",
      "[TransNetV2] Extracting frames from /media/daoan/T7 Shield2/AI_Challenge_2024_DATA/video_with_audio/Videos_L26/video/L26_V141.mp4\n",
      "[TransNetV2] Processing video frames 7600/8123"
     ]
    },
    {
     "name": "stderr",
     "output_type": "stream",
     "text": [
      "\n",
      " 28%|██▊       | 141/498 [08:11<20:13,  3.40s/it]\u001B[A"
     ]
    },
    {
     "name": "stdout",
     "output_type": "stream",
     "text": [
      "[TransNetV2] Processing video frames 8123/8123\n",
      "./SceneJSON_2024/L26/V141.json\n",
      "[TransNetV2] Extracting frames from /media/daoan/T7 Shield2/AI_Challenge_2024_DATA/video_with_audio/Videos_L26/video/L26_V142.mp4\n",
      "[TransNetV2] Processing video frames 7900/8249"
     ]
    },
    {
     "name": "stderr",
     "output_type": "stream",
     "text": [
      "\n",
      " 29%|██▊       | 142/498 [08:14<19:59,  3.37s/it]\u001B[A"
     ]
    },
    {
     "name": "stdout",
     "output_type": "stream",
     "text": [
      "[TransNetV2] Processing video frames 8249/8249\n",
      "./SceneJSON_2024/L26/V142.json\n",
      "[TransNetV2] Extracting frames from /media/daoan/T7 Shield2/AI_Challenge_2024_DATA/video_with_audio/Videos_L26/video/L26_V143.mp4\n",
      "[TransNetV2] Processing video frames 7700/8295"
     ]
    },
    {
     "name": "stderr",
     "output_type": "stream",
     "text": [
      "\n",
      " 29%|██▊       | 143/498 [08:18<19:54,  3.37s/it]\u001B[A"
     ]
    },
    {
     "name": "stdout",
     "output_type": "stream",
     "text": [
      "[TransNetV2] Processing video frames 8295/8295\n",
      "./SceneJSON_2024/L26/V143.json\n",
      "[TransNetV2] Extracting frames from /media/daoan/T7 Shield2/AI_Challenge_2024_DATA/video_with_audio/Videos_L26/video/L26_V144.mp4\n",
      "[TransNetV2] Processing video frames 6700/8156"
     ]
    },
    {
     "name": "stderr",
     "output_type": "stream",
     "text": [
      "\n",
      " 29%|██▉       | 144/498 [08:21<20:04,  3.40s/it]\u001B[A"
     ]
    },
    {
     "name": "stdout",
     "output_type": "stream",
     "text": [
      "[TransNetV2] Processing video frames 8156/8156\n",
      "./SceneJSON_2024/L26/V144.json\n",
      "[TransNetV2] Extracting frames from /media/daoan/T7 Shield2/AI_Challenge_2024_DATA/video_with_audio/Videos_L26/video/L26_V145.mp4\n",
      "[TransNetV2] Processing video frames 6650/8167"
     ]
    },
    {
     "name": "stderr",
     "output_type": "stream",
     "text": [
      "\n",
      " 29%|██▉       | 145/498 [08:25<20:11,  3.43s/it]\u001B[A"
     ]
    },
    {
     "name": "stdout",
     "output_type": "stream",
     "text": [
      "[TransNetV2] Processing video frames 8167/8167\n",
      "./SceneJSON_2024/L26/V145.json\n",
      "[TransNetV2] Extracting frames from /media/daoan/T7 Shield2/AI_Challenge_2024_DATA/video_with_audio/Videos_L26/video/L26_V146.mp4\n",
      "[TransNetV2] Processing video frames 7400/8322"
     ]
    },
    {
     "name": "stderr",
     "output_type": "stream",
     "text": [
      "\n",
      " 29%|██▉       | 146/498 [08:28<20:13,  3.45s/it]\u001B[A"
     ]
    },
    {
     "name": "stdout",
     "output_type": "stream",
     "text": [
      "[TransNetV2] Processing video frames 8322/8322\n",
      "./SceneJSON_2024/L26/V146.json\n",
      "[TransNetV2] Extracting frames from /media/daoan/T7 Shield2/AI_Challenge_2024_DATA/video_with_audio/Videos_L26/video/L26_V147.mp4\n",
      "[TransNetV2] Processing video frames 7400/8160"
     ]
    },
    {
     "name": "stderr",
     "output_type": "stream",
     "text": [
      "\n",
      " 30%|██▉       | 147/498 [08:31<20:01,  3.42s/it]\u001B[A"
     ]
    },
    {
     "name": "stdout",
     "output_type": "stream",
     "text": [
      "[TransNetV2] Processing video frames 8160/8160\n",
      "./SceneJSON_2024/L26/V147.json\n",
      "[TransNetV2] Extracting frames from /media/daoan/T7 Shield2/AI_Challenge_2024_DATA/video_with_audio/Videos_L26/video/L26_V148.mp4\n",
      "[TransNetV2] Processing video frames 7950/8203"
     ]
    },
    {
     "name": "stderr",
     "output_type": "stream",
     "text": [
      "\n",
      " 30%|██▉       | 148/498 [08:35<19:51,  3.40s/it]\u001B[A"
     ]
    },
    {
     "name": "stdout",
     "output_type": "stream",
     "text": [
      "[TransNetV2] Processing video frames 8203/8203\n",
      "./SceneJSON_2024/L26/V148.json\n",
      "[TransNetV2] Extracting frames from /media/daoan/T7 Shield2/AI_Challenge_2024_DATA/video_with_audio/Videos_L26/video/L26_V149.mp4\n",
      "[TransNetV2] Processing video frames 7550/7999"
     ]
    },
    {
     "name": "stderr",
     "output_type": "stream",
     "text": [
      "\n",
      " 30%|██▉       | 149/498 [08:38<19:31,  3.36s/it]\u001B[A"
     ]
    },
    {
     "name": "stdout",
     "output_type": "stream",
     "text": [
      "[TransNetV2] Processing video frames 7999/7999\n",
      "./SceneJSON_2024/L26/V149.json\n",
      "[TransNetV2] Extracting frames from /media/daoan/T7 Shield2/AI_Challenge_2024_DATA/video_with_audio/Videos_L26/video/L26_V150.mp4\n",
      "[TransNetV2] Processing video frames 6700/7698"
     ]
    },
    {
     "name": "stderr",
     "output_type": "stream",
     "text": [
      "\n",
      " 30%|███       | 150/498 [08:41<19:13,  3.31s/it]\u001B[A"
     ]
    },
    {
     "name": "stdout",
     "output_type": "stream",
     "text": [
      "[TransNetV2] Processing video frames 7698/7698\n",
      "./SceneJSON_2024/L26/V150.json\n",
      "[TransNetV2] Extracting frames from /media/daoan/T7 Shield2/AI_Challenge_2024_DATA/video_with_audio/Videos_L26/video/L26_V151.mp4\n",
      "[TransNetV2] Processing video frames 6800/8276"
     ]
    },
    {
     "name": "stderr",
     "output_type": "stream",
     "text": [
      "\n",
      " 30%|███       | 151/498 [08:45<19:26,  3.36s/it]\u001B[A"
     ]
    },
    {
     "name": "stdout",
     "output_type": "stream",
     "text": [
      "[TransNetV2] Processing video frames 8276/8276\n",
      "./SceneJSON_2024/L26/V151.json\n",
      "[TransNetV2] Extracting frames from /media/daoan/T7 Shield2/AI_Challenge_2024_DATA/video_with_audio/Videos_L26/video/L26_V152.mp4\n",
      "[TransNetV2] Processing video frames 7600/8244"
     ]
    },
    {
     "name": "stderr",
     "output_type": "stream",
     "text": [
      "\n",
      " 31%|███       | 152/498 [08:48<19:15,  3.34s/it]\u001B[A"
     ]
    },
    {
     "name": "stdout",
     "output_type": "stream",
     "text": [
      "[TransNetV2] Processing video frames 8244/8244\n",
      "./SceneJSON_2024/L26/V152.json\n",
      "[TransNetV2] Extracting frames from /media/daoan/T7 Shield2/AI_Challenge_2024_DATA/video_with_audio/Videos_L26/video/L26_V153.mp4\n",
      "[TransNetV2] Processing video frames 7850/8207"
     ]
    },
    {
     "name": "stderr",
     "output_type": "stream",
     "text": [
      "\n",
      " 31%|███       | 153/498 [08:51<19:15,  3.35s/it]\u001B[A"
     ]
    },
    {
     "name": "stdout",
     "output_type": "stream",
     "text": [
      "[TransNetV2] Processing video frames 8207/8207\n",
      "./SceneJSON_2024/L26/V153.json\n",
      "[TransNetV2] Extracting frames from /media/daoan/T7 Shield2/AI_Challenge_2024_DATA/video_with_audio/Videos_L26/video/L26_V154.mp4\n",
      "[TransNetV2] Processing video frames 7700/8151"
     ]
    },
    {
     "name": "stderr",
     "output_type": "stream",
     "text": [
      "\n",
      " 31%|███       | 154/498 [08:55<19:10,  3.34s/it]\u001B[A"
     ]
    },
    {
     "name": "stdout",
     "output_type": "stream",
     "text": [
      "[TransNetV2] Processing video frames 8151/8151\n",
      "./SceneJSON_2024/L26/V154.json\n",
      "[TransNetV2] Extracting frames from /media/daoan/T7 Shield2/AI_Challenge_2024_DATA/video_with_audio/Videos_L26/video/L26_V155.mp4\n",
      "[TransNetV2] Processing video frames 6950/8129"
     ]
    },
    {
     "name": "stderr",
     "output_type": "stream",
     "text": [
      "\n",
      " 31%|███       | 155/498 [08:58<19:16,  3.37s/it]\u001B[A"
     ]
    },
    {
     "name": "stdout",
     "output_type": "stream",
     "text": [
      "[TransNetV2] Processing video frames 8129/8129\n",
      "./SceneJSON_2024/L26/V155.json\n",
      "[TransNetV2] Extracting frames from /media/daoan/T7 Shield2/AI_Challenge_2024_DATA/video_with_audio/Videos_L26/video/L26_V156.mp4\n",
      "[TransNetV2] Processing video frames 7350/8195"
     ]
    },
    {
     "name": "stderr",
     "output_type": "stream",
     "text": [
      "\n",
      " 31%|███▏      | 156/498 [09:02<19:16,  3.38s/it]\u001B[A"
     ]
    },
    {
     "name": "stdout",
     "output_type": "stream",
     "text": [
      "[TransNetV2] Processing video frames 8195/8195\n",
      "./SceneJSON_2024/L26/V156.json\n",
      "[TransNetV2] Extracting frames from /media/daoan/T7 Shield2/AI_Challenge_2024_DATA/video_with_audio/Videos_L26/video/L26_V157.mp4\n",
      "[TransNetV2] Processing video frames 7200/8166"
     ]
    },
    {
     "name": "stderr",
     "output_type": "stream",
     "text": [
      "\n",
      " 32%|███▏      | 157/498 [09:05<19:14,  3.39s/it]\u001B[A"
     ]
    },
    {
     "name": "stdout",
     "output_type": "stream",
     "text": [
      "[TransNetV2] Processing video frames 8166/8166\n",
      "./SceneJSON_2024/L26/V157.json\n",
      "[TransNetV2] Extracting frames from /media/daoan/T7 Shield2/AI_Challenge_2024_DATA/video_with_audio/Videos_L26/video/L26_V158.mp4\n",
      "[TransNetV2] Processing video frames 7750/8198"
     ]
    },
    {
     "name": "stderr",
     "output_type": "stream",
     "text": [
      "\n",
      " 32%|███▏      | 158/498 [09:08<19:04,  3.37s/it]\u001B[A"
     ]
    },
    {
     "name": "stdout",
     "output_type": "stream",
     "text": [
      "[TransNetV2] Processing video frames 8198/8198\n",
      "./SceneJSON_2024/L26/V158.json\n",
      "[TransNetV2] Extracting frames from /media/daoan/T7 Shield2/AI_Challenge_2024_DATA/video_with_audio/Videos_L26/video/L26_V159.mp4\n",
      "[TransNetV2] Processing video frames 7850/8039"
     ]
    },
    {
     "name": "stderr",
     "output_type": "stream",
     "text": [
      "\n",
      " 32%|███▏      | 159/498 [09:12<19:05,  3.38s/it]\u001B[A"
     ]
    },
    {
     "name": "stdout",
     "output_type": "stream",
     "text": [
      "[TransNetV2] Processing video frames 8039/8039\n",
      "./SceneJSON_2024/L26/V159.json\n",
      "[TransNetV2] Extracting frames from /media/daoan/T7 Shield2/AI_Challenge_2024_DATA/video_with_audio/Videos_L26/video/L26_V160.mp4\n",
      "[TransNetV2] Processing video frames 7750/8030"
     ]
    },
    {
     "name": "stderr",
     "output_type": "stream",
     "text": [
      "\n",
      " 32%|███▏      | 160/498 [09:15<18:52,  3.35s/it]\u001B[A"
     ]
    },
    {
     "name": "stdout",
     "output_type": "stream",
     "text": [
      "[TransNetV2] Processing video frames 8030/8030\n",
      "./SceneJSON_2024/L26/V160.json\n",
      "[TransNetV2] Extracting frames from /media/daoan/T7 Shield2/AI_Challenge_2024_DATA/video_with_audio/Videos_L26/video/L26_V161.mp4\n",
      "[TransNetV2] Processing video frames 7100/8095"
     ]
    },
    {
     "name": "stderr",
     "output_type": "stream",
     "text": [
      "\n",
      " 32%|███▏      | 161/498 [09:18<18:57,  3.38s/it]\u001B[A"
     ]
    },
    {
     "name": "stdout",
     "output_type": "stream",
     "text": [
      "[TransNetV2] Processing video frames 8095/8095\n",
      "./SceneJSON_2024/L26/V161.json\n",
      "[TransNetV2] Extracting frames from /media/daoan/T7 Shield2/AI_Challenge_2024_DATA/video_with_audio/Videos_L26/video/L26_V162.mp4\n",
      "[TransNetV2] Processing video frames 6850/8180"
     ]
    },
    {
     "name": "stderr",
     "output_type": "stream",
     "text": [
      "\n",
      " 33%|███▎      | 162/498 [09:22<19:04,  3.41s/it]\u001B[A"
     ]
    },
    {
     "name": "stdout",
     "output_type": "stream",
     "text": [
      "[TransNetV2] Processing video frames 8180/8180\n",
      "./SceneJSON_2024/L26/V162.json\n",
      "[TransNetV2] Extracting frames from /media/daoan/T7 Shield2/AI_Challenge_2024_DATA/video_with_audio/Videos_L26/video/L26_V163.mp4\n",
      "[TransNetV2] Processing video frames 7550/8137"
     ]
    },
    {
     "name": "stderr",
     "output_type": "stream",
     "text": [
      "\n",
      " 33%|███▎      | 163/498 [09:25<18:57,  3.40s/it]\u001B[A"
     ]
    },
    {
     "name": "stdout",
     "output_type": "stream",
     "text": [
      "[TransNetV2] Processing video frames 8137/8137\n",
      "./SceneJSON_2024/L26/V163.json\n",
      "[TransNetV2] Extracting frames from /media/daoan/T7 Shield2/AI_Challenge_2024_DATA/video_with_audio/Videos_L26/video/L26_V164.mp4\n",
      "[TransNetV2] Processing video frames 7600/8084"
     ]
    },
    {
     "name": "stderr",
     "output_type": "stream",
     "text": [
      "\n",
      " 33%|███▎      | 164/498 [09:29<18:47,  3.38s/it]\u001B[A"
     ]
    },
    {
     "name": "stdout",
     "output_type": "stream",
     "text": [
      "[TransNetV2] Processing video frames 8084/8084\n",
      "./SceneJSON_2024/L26/V164.json\n",
      "[TransNetV2] Extracting frames from /media/daoan/T7 Shield2/AI_Challenge_2024_DATA/video_with_audio/Videos_L26/video/L26_V165.mp4\n",
      "[TransNetV2] Processing video frames 7650/7895"
     ]
    },
    {
     "name": "stderr",
     "output_type": "stream",
     "text": [
      "\n",
      " 33%|███▎      | 165/498 [09:32<18:36,  3.35s/it]\u001B[A"
     ]
    },
    {
     "name": "stdout",
     "output_type": "stream",
     "text": [
      "[TransNetV2] Processing video frames 7895/7895\n",
      "./SceneJSON_2024/L26/V165.json\n",
      "[TransNetV2] Extracting frames from /media/daoan/T7 Shield2/AI_Challenge_2024_DATA/video_with_audio/Videos_L26/video/L26_V166.mp4\n",
      "[TransNetV2] Processing video frames 7150/8161"
     ]
    },
    {
     "name": "stderr",
     "output_type": "stream",
     "text": [
      "\n",
      " 33%|███▎      | 166/498 [09:35<18:58,  3.43s/it]\u001B[A"
     ]
    },
    {
     "name": "stdout",
     "output_type": "stream",
     "text": [
      "[TransNetV2] Processing video frames 8161/8161\n",
      "./SceneJSON_2024/L26/V166.json\n",
      "[TransNetV2] Extracting frames from /media/daoan/T7 Shield2/AI_Challenge_2024_DATA/video_with_audio/Videos_L26/video/L26_V167.mp4\n",
      "[TransNetV2] Processing video frames 7150/8154"
     ]
    },
    {
     "name": "stderr",
     "output_type": "stream",
     "text": [
      "\n",
      " 34%|███▎      | 167/498 [09:39<19:09,  3.47s/it]\u001B[A"
     ]
    },
    {
     "name": "stdout",
     "output_type": "stream",
     "text": [
      "[TransNetV2] Processing video frames 8154/8154\n",
      "./SceneJSON_2024/L26/V167.json\n",
      "[TransNetV2] Extracting frames from /media/daoan/T7 Shield2/AI_Challenge_2024_DATA/video_with_audio/Videos_L26/video/L26_V168.mp4\n",
      "[TransNetV2] Processing video frames 6850/7922"
     ]
    },
    {
     "name": "stderr",
     "output_type": "stream",
     "text": [
      "\n",
      " 34%|███▎      | 168/498 [09:42<18:57,  3.45s/it]\u001B[A"
     ]
    },
    {
     "name": "stdout",
     "output_type": "stream",
     "text": [
      "[TransNetV2] Processing video frames 7922/7922\n",
      "./SceneJSON_2024/L26/V168.json\n",
      "[TransNetV2] Extracting frames from /media/daoan/T7 Shield2/AI_Challenge_2024_DATA/video_with_audio/Videos_L26/video/L26_V169.mp4\n",
      "[TransNetV2] Processing video frames 7200/8035"
     ]
    },
    {
     "name": "stderr",
     "output_type": "stream",
     "text": [
      "\n",
      " 34%|███▍      | 169/498 [09:46<18:48,  3.43s/it]\u001B[A"
     ]
    },
    {
     "name": "stdout",
     "output_type": "stream",
     "text": [
      "[TransNetV2] Processing video frames 8035/8035\n",
      "./SceneJSON_2024/L26/V169.json\n",
      "[TransNetV2] Extracting frames from /media/daoan/T7 Shield2/AI_Challenge_2024_DATA/video_with_audio/Videos_L26/video/L26_V170.mp4\n",
      "[TransNetV2] Processing video frames 7400/8058"
     ]
    },
    {
     "name": "stderr",
     "output_type": "stream",
     "text": [
      "\n",
      " 34%|███▍      | 170/498 [09:49<19:09,  3.51s/it]\u001B[A"
     ]
    },
    {
     "name": "stdout",
     "output_type": "stream",
     "text": [
      "[TransNetV2] Processing video frames 8058/8058\n",
      "./SceneJSON_2024/L26/V170.json\n",
      "[TransNetV2] Extracting frames from /media/daoan/T7 Shield2/AI_Challenge_2024_DATA/video_with_audio/Videos_L26/video/L26_V171.mp4\n",
      "[TransNetV2] Processing video frames 7550/8034"
     ]
    },
    {
     "name": "stderr",
     "output_type": "stream",
     "text": [
      "\n",
      " 34%|███▍      | 171/498 [09:53<19:01,  3.49s/it]\u001B[A"
     ]
    },
    {
     "name": "stdout",
     "output_type": "stream",
     "text": [
      "[TransNetV2] Processing video frames 8034/8034\n",
      "./SceneJSON_2024/L26/V171.json\n",
      "[TransNetV2] Extracting frames from /media/daoan/T7 Shield2/AI_Challenge_2024_DATA/video_with_audio/Videos_L26/video/L26_V172.mp4\n",
      "[TransNetV2] Processing video frames 7700/8080"
     ]
    },
    {
     "name": "stderr",
     "output_type": "stream",
     "text": [
      "\n",
      " 35%|███▍      | 172/498 [09:56<18:43,  3.45s/it]\u001B[A"
     ]
    },
    {
     "name": "stdout",
     "output_type": "stream",
     "text": [
      "[TransNetV2] Processing video frames 8080/8080\n",
      "./SceneJSON_2024/L26/V172.json\n",
      "[TransNetV2] Extracting frames from /media/daoan/T7 Shield2/AI_Challenge_2024_DATA/video_with_audio/Videos_L26/video/L26_V173.mp4\n",
      "[TransNetV2] Processing video frames 6750/8035"
     ]
    },
    {
     "name": "stderr",
     "output_type": "stream",
     "text": [
      "\n",
      " 35%|███▍      | 173/498 [10:00<18:46,  3.47s/it]\u001B[A"
     ]
    },
    {
     "name": "stdout",
     "output_type": "stream",
     "text": [
      "[TransNetV2] Processing video frames 8035/8035\n",
      "./SceneJSON_2024/L26/V173.json\n",
      "[TransNetV2] Extracting frames from /media/daoan/T7 Shield2/AI_Challenge_2024_DATA/video_with_audio/Videos_L26/video/L26_V174.mp4\n",
      "[TransNetV2] Processing video frames 6550/8093"
     ]
    },
    {
     "name": "stderr",
     "output_type": "stream",
     "text": [
      "\n",
      " 35%|███▍      | 174/498 [10:03<18:35,  3.44s/it]\u001B[A"
     ]
    },
    {
     "name": "stdout",
     "output_type": "stream",
     "text": [
      "[TransNetV2] Processing video frames 8093/8093\n",
      "./SceneJSON_2024/L26/V174.json\n",
      "[TransNetV2] Extracting frames from /media/daoan/T7 Shield2/AI_Challenge_2024_DATA/video_with_audio/Videos_L26/video/L26_V175.mp4\n",
      "[TransNetV2] Processing video frames 7500/8008"
     ]
    },
    {
     "name": "stderr",
     "output_type": "stream",
     "text": [
      "\n",
      " 35%|███▌      | 175/498 [10:07<18:44,  3.48s/it]\u001B[A"
     ]
    },
    {
     "name": "stdout",
     "output_type": "stream",
     "text": [
      "[TransNetV2] Processing video frames 8008/8008\n",
      "./SceneJSON_2024/L26/V175.json\n",
      "[TransNetV2] Extracting frames from /media/daoan/T7 Shield2/AI_Challenge_2024_DATA/video_with_audio/Videos_L26/video/L26_V176.mp4\n",
      "[TransNetV2] Processing video frames 7100/8071"
     ]
    },
    {
     "name": "stderr",
     "output_type": "stream",
     "text": [
      "\n",
      " 35%|███▌      | 176/498 [10:10<18:47,  3.50s/it]\u001B[A"
     ]
    },
    {
     "name": "stdout",
     "output_type": "stream",
     "text": [
      "[TransNetV2] Processing video frames 8071/8071\n",
      "./SceneJSON_2024/L26/V176.json\n",
      "[TransNetV2] Extracting frames from /media/daoan/T7 Shield2/AI_Challenge_2024_DATA/video_with_audio/Videos_L26/video/L26_V177.mp4\n",
      "[TransNetV2] Processing video frames 7350/8048"
     ]
    },
    {
     "name": "stderr",
     "output_type": "stream",
     "text": [
      "\n",
      " 36%|███▌      | 177/498 [10:14<18:29,  3.46s/it]\u001B[A"
     ]
    },
    {
     "name": "stdout",
     "output_type": "stream",
     "text": [
      "[TransNetV2] Processing video frames 8048/8048\n",
      "./SceneJSON_2024/L26/V177.json\n",
      "[TransNetV2] Extracting frames from /media/daoan/T7 Shield2/AI_Challenge_2024_DATA/video_with_audio/Videos_L26/video/L26_V178.mp4\n",
      "[TransNetV2] Processing video frames 7150/8268"
     ]
    },
    {
     "name": "stderr",
     "output_type": "stream",
     "text": [
      "\n",
      " 36%|███▌      | 178/498 [10:17<18:42,  3.51s/it]\u001B[A"
     ]
    },
    {
     "name": "stdout",
     "output_type": "stream",
     "text": [
      "[TransNetV2] Processing video frames 8268/8268\n",
      "./SceneJSON_2024/L26/V178.json\n",
      "[TransNetV2] Extracting frames from /media/daoan/T7 Shield2/AI_Challenge_2024_DATA/video_with_audio/Videos_L26/video/L26_V179.mp4\n",
      "[TransNetV2] Processing video frames 7250/8073"
     ]
    },
    {
     "name": "stderr",
     "output_type": "stream",
     "text": [
      "\n",
      " 36%|███▌      | 179/498 [10:21<18:50,  3.54s/it]\u001B[A"
     ]
    },
    {
     "name": "stdout",
     "output_type": "stream",
     "text": [
      "[TransNetV2] Processing video frames 8073/8073\n",
      "./SceneJSON_2024/L26/V179.json\n",
      "[TransNetV2] Extracting frames from /media/daoan/T7 Shield2/AI_Challenge_2024_DATA/video_with_audio/Videos_L26/video/L26_V180.mp4\n",
      "[TransNetV2] Processing video frames 7250/7823"
     ]
    },
    {
     "name": "stderr",
     "output_type": "stream",
     "text": [
      "\n",
      " 36%|███▌      | 180/498 [10:25<19:17,  3.64s/it]\u001B[A"
     ]
    },
    {
     "name": "stdout",
     "output_type": "stream",
     "text": [
      "[TransNetV2] Processing video frames 7823/7823\n",
      "./SceneJSON_2024/L26/V180.json\n",
      "[TransNetV2] Extracting frames from /media/daoan/T7 Shield2/AI_Challenge_2024_DATA/video_with_audio/Videos_L26/video/L26_V181.mp4\n",
      "[TransNetV2] Processing video frames 6800/8066"
     ]
    },
    {
     "name": "stderr",
     "output_type": "stream",
     "text": [
      "\n",
      " 36%|███▋      | 181/498 [10:28<18:52,  3.57s/it]\u001B[A"
     ]
    },
    {
     "name": "stdout",
     "output_type": "stream",
     "text": [
      "[TransNetV2] Processing video frames 8066/8066\n",
      "./SceneJSON_2024/L26/V181.json\n",
      "[TransNetV2] Extracting frames from /media/daoan/T7 Shield2/AI_Challenge_2024_DATA/video_with_audio/Videos_L26/video/L26_V182.mp4\n",
      "[TransNetV2] Processing video frames 7300/7505"
     ]
    },
    {
     "name": "stderr",
     "output_type": "stream",
     "text": [
      "\n",
      " 37%|███▋      | 182/498 [10:31<18:01,  3.42s/it]\u001B[A"
     ]
    },
    {
     "name": "stdout",
     "output_type": "stream",
     "text": [
      "[TransNetV2] Processing video frames 7505/7505\n",
      "./SceneJSON_2024/L26/V182.json\n",
      "[TransNetV2] Extracting frames from /media/daoan/T7 Shield2/AI_Challenge_2024_DATA/video_with_audio/Videos_L26/video/L26_V183.mp4\n",
      "[TransNetV2] Processing video frames 7550/8185"
     ]
    },
    {
     "name": "stderr",
     "output_type": "stream",
     "text": [
      "\n",
      " 37%|███▋      | 183/498 [10:35<18:00,  3.43s/it]\u001B[A"
     ]
    },
    {
     "name": "stdout",
     "output_type": "stream",
     "text": [
      "[TransNetV2] Processing video frames 8185/8185\n",
      "./SceneJSON_2024/L26/V183.json\n",
      "[TransNetV2] Extracting frames from /media/daoan/T7 Shield2/AI_Challenge_2024_DATA/video_with_audio/Videos_L26/video/L26_V184.mp4\n",
      "[TransNetV2] Processing video frames 7550/8000"
     ]
    },
    {
     "name": "stderr",
     "output_type": "stream",
     "text": [
      "\n",
      " 37%|███▋      | 184/498 [10:38<17:41,  3.38s/it]\u001B[A"
     ]
    },
    {
     "name": "stdout",
     "output_type": "stream",
     "text": [
      "[TransNetV2] Processing video frames 8000/8000\n",
      "./SceneJSON_2024/L26/V184.json\n",
      "[TransNetV2] Extracting frames from /media/daoan/T7 Shield2/AI_Challenge_2024_DATA/video_with_audio/Videos_L26/video/L26_V185.mp4\n",
      "[TransNetV2] Processing video frames 6700/8052"
     ]
    },
    {
     "name": "stderr",
     "output_type": "stream",
     "text": [
      "\n",
      " 37%|███▋      | 185/498 [10:41<17:32,  3.36s/it]\u001B[A"
     ]
    },
    {
     "name": "stdout",
     "output_type": "stream",
     "text": [
      "[TransNetV2] Processing video frames 8052/8052\n",
      "./SceneJSON_2024/L26/V185.json\n",
      "[TransNetV2] Extracting frames from /media/daoan/T7 Shield2/AI_Challenge_2024_DATA/video_with_audio/Videos_L26/video/L26_V186.mp4\n",
      "[TransNetV2] Processing video frames 6800/8087"
     ]
    },
    {
     "name": "stderr",
     "output_type": "stream",
     "text": [
      "\n",
      " 37%|███▋      | 186/498 [10:45<17:29,  3.36s/it]\u001B[A"
     ]
    },
    {
     "name": "stdout",
     "output_type": "stream",
     "text": [
      "[TransNetV2] Processing video frames 8087/8087\n",
      "./SceneJSON_2024/L26/V186.json\n",
      "[TransNetV2] Extracting frames from /media/daoan/T7 Shield2/AI_Challenge_2024_DATA/video_with_audio/Videos_L26/video/L26_V187.mp4\n",
      "[TransNetV2] Processing video frames 7300/8006"
     ]
    },
    {
     "name": "stderr",
     "output_type": "stream",
     "text": [
      "\n",
      " 38%|███▊      | 187/498 [10:48<17:24,  3.36s/it]\u001B[A"
     ]
    },
    {
     "name": "stdout",
     "output_type": "stream",
     "text": [
      "[TransNetV2] Processing video frames 8006/8006\n",
      "./SceneJSON_2024/L26/V187.json\n",
      "[TransNetV2] Extracting frames from /media/daoan/T7 Shield2/AI_Challenge_2024_DATA/video_with_audio/Videos_L26/video/L26_V188.mp4\n",
      "[TransNetV2] Processing video frames 7600/8033"
     ]
    },
    {
     "name": "stderr",
     "output_type": "stream",
     "text": [
      "\n",
      " 38%|███▊      | 188/498 [10:51<17:20,  3.36s/it]\u001B[A"
     ]
    },
    {
     "name": "stdout",
     "output_type": "stream",
     "text": [
      "[TransNetV2] Processing video frames 8033/8033\n",
      "./SceneJSON_2024/L26/V188.json\n",
      "[TransNetV2] Extracting frames from /media/daoan/T7 Shield2/AI_Challenge_2024_DATA/video_with_audio/Videos_L26/video/L26_V189.mp4\n",
      "[TransNetV2] Processing video frames 5700/7375"
     ]
    },
    {
     "name": "stderr",
     "output_type": "stream",
     "text": [
      "\n",
      " 38%|███▊      | 189/498 [10:54<16:54,  3.28s/it]\u001B[A"
     ]
    },
    {
     "name": "stdout",
     "output_type": "stream",
     "text": [
      "[TransNetV2] Processing video frames 7375/7375\n",
      "./SceneJSON_2024/L26/V189.json\n",
      "[TransNetV2] Extracting frames from /media/daoan/T7 Shield2/AI_Challenge_2024_DATA/video_with_audio/Videos_L26/video/L26_V190.mp4\n",
      "[TransNetV2] Processing video frames 6800/7740"
     ]
    },
    {
     "name": "stderr",
     "output_type": "stream",
     "text": [
      "\n",
      " 38%|███▊      | 190/498 [10:58<16:49,  3.28s/it]\u001B[A"
     ]
    },
    {
     "name": "stdout",
     "output_type": "stream",
     "text": [
      "[TransNetV2] Processing video frames 7740/7740\n",
      "./SceneJSON_2024/L26/V190.json\n",
      "[TransNetV2] Extracting frames from /media/daoan/T7 Shield2/AI_Challenge_2024_DATA/video_with_audio/Videos_L26/video/L26_V191.mp4\n",
      "[TransNetV2] Processing video frames 5850/7359"
     ]
    },
    {
     "name": "stderr",
     "output_type": "stream",
     "text": [
      "\n",
      " 38%|███▊      | 191/498 [11:01<16:12,  3.17s/it]\u001B[A"
     ]
    },
    {
     "name": "stdout",
     "output_type": "stream",
     "text": [
      "[TransNetV2] Processing video frames 7359/7359\n",
      "./SceneJSON_2024/L26/V191.json\n",
      "[TransNetV2] Extracting frames from /media/daoan/T7 Shield2/AI_Challenge_2024_DATA/video_with_audio/Videos_L26/video/L26_V192.mp4\n",
      "[TransNetV2] Processing video frames 7650/7970"
     ]
    },
    {
     "name": "stderr",
     "output_type": "stream",
     "text": [
      "\n",
      " 39%|███▊      | 192/498 [11:04<16:22,  3.21s/it]\u001B[A"
     ]
    },
    {
     "name": "stdout",
     "output_type": "stream",
     "text": [
      "[TransNetV2] Processing video frames 7970/7970\n",
      "./SceneJSON_2024/L26/V192.json\n",
      "[TransNetV2] Extracting frames from /media/daoan/T7 Shield2/AI_Challenge_2024_DATA/video_with_audio/Videos_L26/video/L26_V193.mp4\n",
      "[TransNetV2] Processing video frames 7050/7823"
     ]
    },
    {
     "name": "stderr",
     "output_type": "stream",
     "text": [
      "\n",
      " 39%|███▉      | 193/498 [11:07<16:34,  3.26s/it]\u001B[A"
     ]
    },
    {
     "name": "stdout",
     "output_type": "stream",
     "text": [
      "[TransNetV2] Processing video frames 7823/7823\n",
      "./SceneJSON_2024/L26/V193.json\n",
      "[TransNetV2] Extracting frames from /media/daoan/T7 Shield2/AI_Challenge_2024_DATA/video_with_audio/Videos_L26/video/L26_V194.mp4\n",
      "[TransNetV2] Processing video frames 6750/7949"
     ]
    },
    {
     "name": "stderr",
     "output_type": "stream",
     "text": [
      "\n",
      " 39%|███▉      | 194/498 [11:11<16:42,  3.30s/it]\u001B[A"
     ]
    },
    {
     "name": "stdout",
     "output_type": "stream",
     "text": [
      "[TransNetV2] Processing video frames 7949/7949\n",
      "./SceneJSON_2024/L26/V194.json\n",
      "[TransNetV2] Extracting frames from /media/daoan/T7 Shield2/AI_Challenge_2024_DATA/video_with_audio/Videos_L26/video/L26_V195.mp4\n",
      "[TransNetV2] Processing video frames 7100/8112"
     ]
    },
    {
     "name": "stderr",
     "output_type": "stream",
     "text": [
      "\n",
      " 39%|███▉      | 195/498 [11:14<16:55,  3.35s/it]\u001B[A"
     ]
    },
    {
     "name": "stdout",
     "output_type": "stream",
     "text": [
      "[TransNetV2] Processing video frames 8112/8112\n",
      "./SceneJSON_2024/L26/V195.json\n",
      "[TransNetV2] Extracting frames from /media/daoan/T7 Shield2/AI_Challenge_2024_DATA/video_with_audio/Videos_L26/video/L26_V196.mp4\n",
      "[TransNetV2] Processing video frames 7750/7760"
     ]
    },
    {
     "name": "stderr",
     "output_type": "stream",
     "text": [
      "\n",
      " 39%|███▉      | 196/498 [11:17<16:36,  3.30s/it]\u001B[A"
     ]
    },
    {
     "name": "stdout",
     "output_type": "stream",
     "text": [
      "[TransNetV2] Processing video frames 7760/7760\n",
      "./SceneJSON_2024/L26/V196.json\n",
      "[TransNetV2] Extracting frames from /media/daoan/T7 Shield2/AI_Challenge_2024_DATA/video_with_audio/Videos_L26/video/L26_V197.mp4\n",
      "[TransNetV2] Processing video frames 7700/7951"
     ]
    },
    {
     "name": "stderr",
     "output_type": "stream",
     "text": [
      "\n",
      " 40%|███▉      | 197/498 [11:21<16:37,  3.31s/it]\u001B[A"
     ]
    },
    {
     "name": "stdout",
     "output_type": "stream",
     "text": [
      "[TransNetV2] Processing video frames 7951/7951\n",
      "./SceneJSON_2024/L26/V197.json\n",
      "[TransNetV2] Extracting frames from /media/daoan/T7 Shield2/AI_Challenge_2024_DATA/video_with_audio/Videos_L26/video/L26_V198.mp4\n",
      "[TransNetV2] Processing video frames 7000/7941"
     ]
    },
    {
     "name": "stderr",
     "output_type": "stream",
     "text": [
      "\n",
      " 40%|███▉      | 198/498 [11:24<16:45,  3.35s/it]\u001B[A"
     ]
    },
    {
     "name": "stdout",
     "output_type": "stream",
     "text": [
      "[TransNetV2] Processing video frames 7941/7941\n",
      "./SceneJSON_2024/L26/V198.json\n",
      "[TransNetV2] Extracting frames from /media/daoan/T7 Shield2/AI_Challenge_2024_DATA/video_with_audio/Videos_L26/video/L26_V199.mp4\n",
      "[TransNetV2] Processing video frames 6850/8059"
     ]
    },
    {
     "name": "stderr",
     "output_type": "stream",
     "text": [
      "\n",
      " 40%|███▉      | 199/498 [11:28<16:48,  3.37s/it]\u001B[A"
     ]
    },
    {
     "name": "stdout",
     "output_type": "stream",
     "text": [
      "[TransNetV2] Processing video frames 8059/8059\n",
      "./SceneJSON_2024/L26/V199.json\n",
      "[TransNetV2] Extracting frames from /media/daoan/T7 Shield2/AI_Challenge_2024_DATA/video_with_audio/Videos_L26/video/L26_V200.mp4\n",
      "[TransNetV2] Processing video frames 7750/8043"
     ]
    },
    {
     "name": "stderr",
     "output_type": "stream",
     "text": [
      "\n",
      " 40%|████      | 200/498 [11:31<16:40,  3.36s/it]\u001B[A"
     ]
    },
    {
     "name": "stdout",
     "output_type": "stream",
     "text": [
      "[TransNetV2] Processing video frames 8043/8043\n",
      "./SceneJSON_2024/L26/V200.json\n",
      "[TransNetV2] Extracting frames from /media/daoan/T7 Shield2/AI_Challenge_2024_DATA/video_with_audio/Videos_L26/video/L26_V201.mp4\n",
      "[TransNetV2] Processing video frames 7600/7963"
     ]
    },
    {
     "name": "stderr",
     "output_type": "stream",
     "text": [
      "\n",
      " 40%|████      | 201/498 [11:34<16:42,  3.38s/it]\u001B[A"
     ]
    },
    {
     "name": "stdout",
     "output_type": "stream",
     "text": [
      "[TransNetV2] Processing video frames 7963/7963\n",
      "./SceneJSON_2024/L26/V201.json\n",
      "[TransNetV2] Extracting frames from /media/daoan/T7 Shield2/AI_Challenge_2024_DATA/video_with_audio/Videos_L26/video/L26_V202.mp4\n",
      "[TransNetV2] Processing video frames 7500/8016"
     ]
    },
    {
     "name": "stderr",
     "output_type": "stream",
     "text": [
      "\n",
      " 41%|████      | 202/498 [11:37<16:21,  3.32s/it]\u001B[A"
     ]
    },
    {
     "name": "stdout",
     "output_type": "stream",
     "text": [
      "[TransNetV2] Processing video frames 8016/8016\n",
      "./SceneJSON_2024/L26/V202.json\n",
      "[TransNetV2] Extracting frames from /media/daoan/T7 Shield2/AI_Challenge_2024_DATA/video_with_audio/Videos_L26/video/L26_V203.mp4\n",
      "[TransNetV2] Processing video frames 6650/8164"
     ]
    },
    {
     "name": "stderr",
     "output_type": "stream",
     "text": [
      "\n",
      " 41%|████      | 203/498 [11:41<16:33,  3.37s/it]\u001B[A"
     ]
    },
    {
     "name": "stdout",
     "output_type": "stream",
     "text": [
      "[TransNetV2] Processing video frames 8164/8164\n",
      "./SceneJSON_2024/L26/V203.json\n",
      "[TransNetV2] Extracting frames from /media/daoan/T7 Shield2/AI_Challenge_2024_DATA/video_with_audio/Videos_L26/video/L26_V204.mp4\n",
      "[TransNetV2] Processing video frames 6950/8115"
     ]
    },
    {
     "name": "stderr",
     "output_type": "stream",
     "text": [
      "\n",
      " 41%|████      | 204/498 [11:44<16:34,  3.38s/it]\u001B[A"
     ]
    },
    {
     "name": "stdout",
     "output_type": "stream",
     "text": [
      "[TransNetV2] Processing video frames 8115/8115\n",
      "./SceneJSON_2024/L26/V204.json\n",
      "[TransNetV2] Extracting frames from /media/daoan/T7 Shield2/AI_Challenge_2024_DATA/video_with_audio/Videos_L26/video/L26_V205.mp4\n",
      "[TransNetV2] Processing video frames 7600/7973"
     ]
    },
    {
     "name": "stderr",
     "output_type": "stream",
     "text": [
      "\n",
      " 41%|████      | 205/498 [11:48<16:19,  3.34s/it]\u001B[A"
     ]
    },
    {
     "name": "stdout",
     "output_type": "stream",
     "text": [
      "[TransNetV2] Processing video frames 7973/7973\n",
      "./SceneJSON_2024/L26/V205.json\n",
      "[TransNetV2] Extracting frames from /media/daoan/T7 Shield2/AI_Challenge_2024_DATA/video_with_audio/Videos_L26/video/L26_V206.mp4\n",
      "[TransNetV2] Processing video frames 7150/7978"
     ]
    },
    {
     "name": "stderr",
     "output_type": "stream",
     "text": [
      "\n",
      " 41%|████▏     | 206/498 [11:51<16:20,  3.36s/it]\u001B[A"
     ]
    },
    {
     "name": "stdout",
     "output_type": "stream",
     "text": [
      "[TransNetV2] Processing video frames 7978/7978\n",
      "./SceneJSON_2024/L26/V206.json\n",
      "[TransNetV2] Extracting frames from /media/daoan/T7 Shield2/AI_Challenge_2024_DATA/video_with_audio/Videos_L26/video/L26_V207.mp4\n",
      "[TransNetV2] Processing video frames 7150/7904"
     ]
    },
    {
     "name": "stderr",
     "output_type": "stream",
     "text": [
      "\n",
      " 42%|████▏     | 207/498 [11:54<16:13,  3.35s/it]\u001B[A"
     ]
    },
    {
     "name": "stdout",
     "output_type": "stream",
     "text": [
      "[TransNetV2] Processing video frames 7904/7904\n",
      "./SceneJSON_2024/L26/V207.json\n",
      "[TransNetV2] Extracting frames from /media/daoan/T7 Shield2/AI_Challenge_2024_DATA/video_with_audio/Videos_L26/video/L26_V208.mp4\n",
      "[TransNetV2] Processing video frames 6350/8087"
     ]
    },
    {
     "name": "stderr",
     "output_type": "stream",
     "text": [
      "\n",
      " 42%|████▏     | 208/498 [11:58<16:16,  3.37s/it]\u001B[A"
     ]
    },
    {
     "name": "stdout",
     "output_type": "stream",
     "text": [
      "[TransNetV2] Processing video frames 8087/8087\n",
      "./SceneJSON_2024/L26/V208.json\n",
      "[TransNetV2] Extracting frames from /media/daoan/T7 Shield2/AI_Challenge_2024_DATA/video_with_audio/Videos_L26/video/L26_V209.mp4\n",
      "[TransNetV2] Processing video frames 7700/7968"
     ]
    },
    {
     "name": "stderr",
     "output_type": "stream",
     "text": [
      "\n",
      " 42%|████▏     | 209/498 [12:01<16:04,  3.34s/it]\u001B[A"
     ]
    },
    {
     "name": "stdout",
     "output_type": "stream",
     "text": [
      "[TransNetV2] Processing video frames 7968/7968\n",
      "./SceneJSON_2024/L26/V209.json\n",
      "[TransNetV2] Extracting frames from /media/daoan/T7 Shield2/AI_Challenge_2024_DATA/video_with_audio/Videos_L26/video/L26_V210.mp4\n",
      "[TransNetV2] Processing video frames 7800/7976"
     ]
    },
    {
     "name": "stderr",
     "output_type": "stream",
     "text": [
      "\n",
      " 42%|████▏     | 210/498 [12:04<15:56,  3.32s/it]\u001B[A"
     ]
    },
    {
     "name": "stdout",
     "output_type": "stream",
     "text": [
      "[TransNetV2] Processing video frames 7976/7976\n",
      "./SceneJSON_2024/L26/V210.json\n",
      "[TransNetV2] Extracting frames from /media/daoan/T7 Shield2/AI_Challenge_2024_DATA/video_with_audio/Videos_L26/video/L26_V211.mp4\n",
      "[TransNetV2] Processing video frames 7450/7993"
     ]
    },
    {
     "name": "stderr",
     "output_type": "stream",
     "text": [
      "\n",
      " 42%|████▏     | 211/498 [12:08<15:59,  3.34s/it]\u001B[A"
     ]
    },
    {
     "name": "stdout",
     "output_type": "stream",
     "text": [
      "[TransNetV2] Processing video frames 7993/7993\n",
      "./SceneJSON_2024/L26/V211.json\n",
      "[TransNetV2] Extracting frames from /media/daoan/T7 Shield2/AI_Challenge_2024_DATA/video_with_audio/Videos_L26/video/L26_V212.mp4\n",
      "[TransNetV2] Processing video frames 6700/8119"
     ]
    },
    {
     "name": "stderr",
     "output_type": "stream",
     "text": [
      "\n",
      " 43%|████▎     | 212/498 [12:11<16:02,  3.36s/it]\u001B[A"
     ]
    },
    {
     "name": "stdout",
     "output_type": "stream",
     "text": [
      "[TransNetV2] Processing video frames 8119/8119\n",
      "./SceneJSON_2024/L26/V212.json\n",
      "[TransNetV2] Extracting frames from /media/daoan/T7 Shield2/AI_Challenge_2024_DATA/video_with_audio/Videos_L26/video/L26_V213.mp4\n",
      "[TransNetV2] Processing video frames 6950/7792"
     ]
    },
    {
     "name": "stderr",
     "output_type": "stream",
     "text": [
      "\n",
      " 43%|████▎     | 213/498 [12:15<16:02,  3.38s/it]\u001B[A"
     ]
    },
    {
     "name": "stdout",
     "output_type": "stream",
     "text": [
      "[TransNetV2] Processing video frames 7792/7792\n",
      "./SceneJSON_2024/L26/V213.json\n",
      "[TransNetV2] Extracting frames from /media/daoan/T7 Shield2/AI_Challenge_2024_DATA/video_with_audio/Videos_L26/video/L26_V214.mp4\n",
      "[TransNetV2] Processing video frames 7650/8090"
     ]
    },
    {
     "name": "stderr",
     "output_type": "stream",
     "text": [
      "\n",
      " 43%|████▎     | 214/498 [12:18<15:56,  3.37s/it]\u001B[A"
     ]
    },
    {
     "name": "stdout",
     "output_type": "stream",
     "text": [
      "[TransNetV2] Processing video frames 8090/8090\n",
      "./SceneJSON_2024/L26/V214.json\n",
      "[TransNetV2] Extracting frames from /media/daoan/T7 Shield2/AI_Challenge_2024_DATA/video_with_audio/Videos_L26/video/L26_V215.mp4\n",
      "[TransNetV2] Processing video frames 7350/7497"
     ]
    },
    {
     "name": "stderr",
     "output_type": "stream",
     "text": [
      "\n",
      " 43%|████▎     | 215/498 [12:21<15:28,  3.28s/it]\u001B[A"
     ]
    },
    {
     "name": "stdout",
     "output_type": "stream",
     "text": [
      "[TransNetV2] Processing video frames 7497/7497\n",
      "./SceneJSON_2024/L26/V215.json\n",
      "[TransNetV2] Extracting frames from /media/daoan/T7 Shield2/AI_Challenge_2024_DATA/video_with_audio/Videos_L26/video/L26_V216.mp4\n",
      "[TransNetV2] Processing video frames 7050/7956"
     ]
    },
    {
     "name": "stderr",
     "output_type": "stream",
     "text": [
      "\n",
      " 43%|████▎     | 216/498 [12:24<15:24,  3.28s/it]\u001B[A"
     ]
    },
    {
     "name": "stdout",
     "output_type": "stream",
     "text": [
      "[TransNetV2] Processing video frames 7956/7956\n",
      "./SceneJSON_2024/L26/V216.json\n",
      "[TransNetV2] Extracting frames from /media/daoan/T7 Shield2/AI_Challenge_2024_DATA/video_with_audio/Videos_L26/video/L26_V217.mp4\n",
      "[TransNetV2] Processing video frames 7650/8142"
     ]
    },
    {
     "name": "stderr",
     "output_type": "stream",
     "text": [
      "\n",
      " 44%|████▎     | 217/498 [12:28<15:23,  3.29s/it]\u001B[A"
     ]
    },
    {
     "name": "stdout",
     "output_type": "stream",
     "text": [
      "[TransNetV2] Processing video frames 8142/8142\n",
      "./SceneJSON_2024/L26/V217.json\n",
      "[TransNetV2] Extracting frames from /media/daoan/T7 Shield2/AI_Challenge_2024_DATA/video_with_audio/Videos_L26/video/L26_V218.mp4\n",
      "[TransNetV2] Processing video frames 7400/7912"
     ]
    },
    {
     "name": "stderr",
     "output_type": "stream",
     "text": [
      "\n",
      " 44%|████▍     | 218/498 [12:31<15:34,  3.34s/it]\u001B[A"
     ]
    },
    {
     "name": "stdout",
     "output_type": "stream",
     "text": [
      "[TransNetV2] Processing video frames 7912/7912\n",
      "./SceneJSON_2024/L26/V218.json\n",
      "[TransNetV2] Extracting frames from /media/daoan/T7 Shield2/AI_Challenge_2024_DATA/video_with_audio/Videos_L26/video/L26_V219.mp4\n",
      "[TransNetV2] Processing video frames 7600/7980"
     ]
    },
    {
     "name": "stderr",
     "output_type": "stream",
     "text": [
      "\n",
      " 44%|████▍     | 219/498 [12:35<15:47,  3.39s/it]\u001B[A"
     ]
    },
    {
     "name": "stdout",
     "output_type": "stream",
     "text": [
      "[TransNetV2] Processing video frames 7980/7980\n",
      "./SceneJSON_2024/L26/V219.json\n",
      "[TransNetV2] Extracting frames from /media/daoan/T7 Shield2/AI_Challenge_2024_DATA/video_with_audio/Videos_L26/video/L26_V220.mp4\n",
      "[TransNetV2] Processing video frames 7250/8106"
     ]
    },
    {
     "name": "stderr",
     "output_type": "stream",
     "text": [
      "\n",
      " 44%|████▍     | 220/498 [12:38<15:55,  3.44s/it]\u001B[A"
     ]
    },
    {
     "name": "stdout",
     "output_type": "stream",
     "text": [
      "[TransNetV2] Processing video frames 8106/8106\n",
      "./SceneJSON_2024/L26/V220.json\n",
      "[TransNetV2] Extracting frames from /media/daoan/T7 Shield2/AI_Challenge_2024_DATA/video_with_audio/Videos_L26/video/L26_V221.mp4\n",
      "[TransNetV2] Processing video frames 6950/7467"
     ]
    },
    {
     "name": "stderr",
     "output_type": "stream",
     "text": [
      "\n",
      " 44%|████▍     | 221/498 [12:41<15:39,  3.39s/it]\u001B[A"
     ]
    },
    {
     "name": "stdout",
     "output_type": "stream",
     "text": [
      "[TransNetV2] Processing video frames 7467/7467\n",
      "./SceneJSON_2024/L26/V221.json\n",
      "[TransNetV2] Extracting frames from /media/daoan/T7 Shield2/AI_Challenge_2024_DATA/video_with_audio/Videos_L26/video/L26_V222.mp4\n",
      "[TransNetV2] Processing video frames 6650/7889"
     ]
    },
    {
     "name": "stderr",
     "output_type": "stream",
     "text": [
      "\n",
      " 45%|████▍     | 222/498 [12:45<15:42,  3.42s/it]\u001B[A"
     ]
    },
    {
     "name": "stdout",
     "output_type": "stream",
     "text": [
      "[TransNetV2] Processing video frames 7889/7889\n",
      "./SceneJSON_2024/L26/V222.json\n",
      "[TransNetV2] Extracting frames from /media/daoan/T7 Shield2/AI_Challenge_2024_DATA/video_with_audio/Videos_L26/video/L26_V223.mp4\n",
      "[TransNetV2] Processing video frames 7250/7781"
     ]
    },
    {
     "name": "stderr",
     "output_type": "stream",
     "text": [
      "\n",
      " 45%|████▍     | 223/498 [12:48<15:30,  3.38s/it]\u001B[A"
     ]
    },
    {
     "name": "stdout",
     "output_type": "stream",
     "text": [
      "[TransNetV2] Processing video frames 7781/7781\n",
      "./SceneJSON_2024/L26/V223.json\n",
      "[TransNetV2] Extracting frames from /media/daoan/T7 Shield2/AI_Challenge_2024_DATA/video_with_audio/Videos_L26/video/L26_V224.mp4\n",
      "[TransNetV2] Processing video frames 7000/8054"
     ]
    },
    {
     "name": "stderr",
     "output_type": "stream",
     "text": [
      "\n",
      " 45%|████▍     | 224/498 [12:52<15:42,  3.44s/it]\u001B[A"
     ]
    },
    {
     "name": "stdout",
     "output_type": "stream",
     "text": [
      "[TransNetV2] Processing video frames 8054/8054\n",
      "./SceneJSON_2024/L26/V224.json\n",
      "[TransNetV2] Extracting frames from /media/daoan/T7 Shield2/AI_Challenge_2024_DATA/video_with_audio/Videos_L26/video/L26_V225.mp4\n",
      "[TransNetV2] Processing video frames 6700/8074"
     ]
    },
    {
     "name": "stderr",
     "output_type": "stream",
     "text": [
      "\n",
      " 45%|████▌     | 225/498 [12:55<15:42,  3.45s/it]\u001B[A"
     ]
    },
    {
     "name": "stdout",
     "output_type": "stream",
     "text": [
      "[TransNetV2] Processing video frames 8074/8074\n",
      "./SceneJSON_2024/L26/V225.json\n",
      "[TransNetV2] Extracting frames from /media/daoan/T7 Shield2/AI_Challenge_2024_DATA/video_with_audio/Videos_L26/video/L26_V226.mp4\n",
      "[TransNetV2] Processing video frames 6900/8207"
     ]
    },
    {
     "name": "stderr",
     "output_type": "stream",
     "text": [
      "\n",
      " 45%|████▌     | 226/498 [12:59<15:38,  3.45s/it]\u001B[A"
     ]
    },
    {
     "name": "stdout",
     "output_type": "stream",
     "text": [
      "[TransNetV2] Processing video frames 8207/8207\n",
      "./SceneJSON_2024/L26/V226.json\n",
      "[TransNetV2] Extracting frames from /media/daoan/T7 Shield2/AI_Challenge_2024_DATA/video_with_audio/Videos_L26/video/L26_V227.mp4\n",
      "[TransNetV2] Processing video frames 7000/8130"
     ]
    },
    {
     "name": "stderr",
     "output_type": "stream",
     "text": [
      "\n",
      " 46%|████▌     | 227/498 [13:02<15:57,  3.53s/it]\u001B[A"
     ]
    },
    {
     "name": "stdout",
     "output_type": "stream",
     "text": [
      "[TransNetV2] Processing video frames 8130/8130\n",
      "./SceneJSON_2024/L26/V227.json\n",
      "[TransNetV2] Extracting frames from /media/daoan/T7 Shield2/AI_Challenge_2024_DATA/video_with_audio/Videos_L26/video/L26_V228.mp4\n",
      "[TransNetV2] Processing video frames 7050/7271"
     ]
    },
    {
     "name": "stderr",
     "output_type": "stream",
     "text": [
      "\n",
      " 46%|████▌     | 228/498 [13:06<15:34,  3.46s/it]\u001B[A"
     ]
    },
    {
     "name": "stdout",
     "output_type": "stream",
     "text": [
      "[TransNetV2] Processing video frames 7271/7271\n",
      "./SceneJSON_2024/L26/V228.json\n",
      "[TransNetV2] Extracting frames from /media/daoan/T7 Shield2/AI_Challenge_2024_DATA/video_with_audio/Videos_L26/video/L26_V229.mp4\n",
      "[TransNetV2] Processing video frames 7200/7979"
     ]
    },
    {
     "name": "stderr",
     "output_type": "stream",
     "text": [
      "\n",
      " 46%|████▌     | 229/498 [13:09<15:17,  3.41s/it]\u001B[A"
     ]
    },
    {
     "name": "stdout",
     "output_type": "stream",
     "text": [
      "[TransNetV2] Processing video frames 7979/7979\n",
      "./SceneJSON_2024/L26/V229.json\n",
      "[TransNetV2] Extracting frames from /media/daoan/T7 Shield2/AI_Challenge_2024_DATA/video_with_audio/Videos_L26/video/L26_V230.mp4\n",
      "[TransNetV2] Processing video frames 7050/7930"
     ]
    },
    {
     "name": "stderr",
     "output_type": "stream",
     "text": [
      "\n",
      " 46%|████▌     | 230/498 [13:12<15:06,  3.38s/it]\u001B[A"
     ]
    },
    {
     "name": "stdout",
     "output_type": "stream",
     "text": [
      "[TransNetV2] Processing video frames 7930/7930\n",
      "./SceneJSON_2024/L26/V230.json\n",
      "[TransNetV2] Extracting frames from /media/daoan/T7 Shield2/AI_Challenge_2024_DATA/video_with_audio/Videos_L26/video/L26_V231.mp4\n",
      "[TransNetV2] Processing video frames 6800/8036"
     ]
    },
    {
     "name": "stderr",
     "output_type": "stream",
     "text": [
      "\n",
      " 46%|████▋     | 231/498 [13:16<15:11,  3.41s/it]\u001B[A"
     ]
    },
    {
     "name": "stdout",
     "output_type": "stream",
     "text": [
      "[TransNetV2] Processing video frames 8036/8036\n",
      "./SceneJSON_2024/L26/V231.json\n",
      "[TransNetV2] Extracting frames from /media/daoan/T7 Shield2/AI_Challenge_2024_DATA/video_with_audio/Videos_L26/video/L26_V232.mp4\n",
      "[TransNetV2] Processing video frames 7750/8115"
     ]
    },
    {
     "name": "stderr",
     "output_type": "stream",
     "text": [
      "\n",
      " 47%|████▋     | 232/498 [13:19<15:04,  3.40s/it]\u001B[A"
     ]
    },
    {
     "name": "stdout",
     "output_type": "stream",
     "text": [
      "[TransNetV2] Processing video frames 8115/8115\n",
      "./SceneJSON_2024/L26/V232.json\n",
      "[TransNetV2] Extracting frames from /media/daoan/T7 Shield2/AI_Challenge_2024_DATA/video_with_audio/Videos_L26/video/L26_V233.mp4\n",
      "[TransNetV2] Processing video frames 5800/7393"
     ]
    },
    {
     "name": "stderr",
     "output_type": "stream",
     "text": [
      "\n",
      " 47%|████▋     | 233/498 [13:22<14:32,  3.29s/it]\u001B[A"
     ]
    },
    {
     "name": "stdout",
     "output_type": "stream",
     "text": [
      "[TransNetV2] Processing video frames 7393/7393\n",
      "./SceneJSON_2024/L26/V233.json\n",
      "[TransNetV2] Extracting frames from /media/daoan/T7 Shield2/AI_Challenge_2024_DATA/video_with_audio/Videos_L26/video/L26_V234.mp4\n",
      "[TransNetV2] Processing video frames 7550/8159"
     ]
    },
    {
     "name": "stderr",
     "output_type": "stream",
     "text": [
      "\n",
      " 47%|████▋     | 234/498 [13:25<14:28,  3.29s/it]\u001B[A"
     ]
    },
    {
     "name": "stdout",
     "output_type": "stream",
     "text": [
      "[TransNetV2] Processing video frames 8159/8159\n",
      "./SceneJSON_2024/L26/V234.json\n",
      "[TransNetV2] Extracting frames from /media/daoan/T7 Shield2/AI_Challenge_2024_DATA/video_with_audio/Videos_L26/video/L26_V235.mp4\n",
      "[TransNetV2] Processing video frames 7250/7723"
     ]
    },
    {
     "name": "stderr",
     "output_type": "stream",
     "text": [
      "\n",
      " 47%|████▋     | 235/498 [13:29<14:23,  3.28s/it]\u001B[A"
     ]
    },
    {
     "name": "stdout",
     "output_type": "stream",
     "text": [
      "[TransNetV2] Processing video frames 7723/7723\n",
      "./SceneJSON_2024/L26/V235.json\n",
      "[TransNetV2] Extracting frames from /media/daoan/T7 Shield2/AI_Challenge_2024_DATA/video_with_audio/Videos_L26/video/L26_V236.mp4\n",
      "[TransNetV2] Processing video frames 7536/7536\n"
     ]
    },
    {
     "name": "stderr",
     "output_type": "stream",
     "text": [
      "\n",
      " 47%|████▋     | 236/498 [13:32<14:17,  3.27s/it]\u001B[A"
     ]
    },
    {
     "name": "stdout",
     "output_type": "stream",
     "text": [
      "./SceneJSON_2024/L26/V236.json\n",
      "[TransNetV2] Extracting frames from /media/daoan/T7 Shield2/AI_Challenge_2024_DATA/video_with_audio/Videos_L26/video/L26_V237.mp4\n",
      "[TransNetV2] Processing video frames 7050/7911"
     ]
    },
    {
     "name": "stderr",
     "output_type": "stream",
     "text": [
      "\n",
      " 48%|████▊     | 237/498 [13:35<14:18,  3.29s/it]\u001B[A"
     ]
    },
    {
     "name": "stdout",
     "output_type": "stream",
     "text": [
      "[TransNetV2] Processing video frames 7911/7911\n",
      "./SceneJSON_2024/L26/V237.json\n",
      "[TransNetV2] Extracting frames from /media/daoan/T7 Shield2/AI_Challenge_2024_DATA/video_with_audio/Videos_L26/video/L26_V238.mp4\n",
      "[TransNetV2] Processing video frames 7150/7716"
     ]
    },
    {
     "name": "stderr",
     "output_type": "stream",
     "text": [
      "\n",
      " 48%|████▊     | 238/498 [13:39<14:12,  3.28s/it]\u001B[A"
     ]
    },
    {
     "name": "stdout",
     "output_type": "stream",
     "text": [
      "[TransNetV2] Processing video frames 7716/7716\n",
      "./SceneJSON_2024/L26/V238.json\n",
      "[TransNetV2] Extracting frames from /media/daoan/T7 Shield2/AI_Challenge_2024_DATA/video_with_audio/Videos_L26/video/L26_V239.mp4\n",
      "[TransNetV2] Processing video frames 7250/7981"
     ]
    },
    {
     "name": "stderr",
     "output_type": "stream",
     "text": [
      "\n",
      " 48%|████▊     | 239/498 [13:42<14:10,  3.28s/it]\u001B[A"
     ]
    },
    {
     "name": "stdout",
     "output_type": "stream",
     "text": [
      "[TransNetV2] Processing video frames 7981/7981\n",
      "./SceneJSON_2024/L26/V239.json\n",
      "[TransNetV2] Extracting frames from /media/daoan/T7 Shield2/AI_Challenge_2024_DATA/video_with_audio/Videos_L26/video/L26_V240.mp4\n",
      "[TransNetV2] Processing video frames 7342/7342\n"
     ]
    },
    {
     "name": "stderr",
     "output_type": "stream",
     "text": [
      "\n",
      " 48%|████▊     | 240/498 [13:45<13:59,  3.25s/it]\u001B[A"
     ]
    },
    {
     "name": "stdout",
     "output_type": "stream",
     "text": [
      "./SceneJSON_2024/L26/V240.json\n",
      "[TransNetV2] Extracting frames from /media/daoan/T7 Shield2/AI_Challenge_2024_DATA/video_with_audio/Videos_L26/video/L26_V241.mp4\n",
      "[TransNetV2] Processing video frames 6200/7740"
     ]
    },
    {
     "name": "stderr",
     "output_type": "stream",
     "text": [
      "\n",
      " 48%|████▊     | 241/498 [13:48<14:13,  3.32s/it]\u001B[A"
     ]
    },
    {
     "name": "stdout",
     "output_type": "stream",
     "text": [
      "[TransNetV2] Processing video frames 7740/7740\n",
      "./SceneJSON_2024/L26/V241.json\n",
      "[TransNetV2] Extracting frames from /media/daoan/T7 Shield2/AI_Challenge_2024_DATA/video_with_audio/Videos_L26/video/L26_V242.mp4\n",
      "[TransNetV2] Processing video frames 7916/7916\n",
      "./SceneJSON_2024/L26/V242.json\n"
     ]
    },
    {
     "name": "stderr",
     "output_type": "stream",
     "text": [
      "\n",
      " 49%|████▊     | 242/498 [13:52<14:29,  3.40s/it]\u001B[A"
     ]
    },
    {
     "name": "stdout",
     "output_type": "stream",
     "text": [
      "[TransNetV2] Extracting frames from /media/daoan/T7 Shield2/AI_Challenge_2024_DATA/video_with_audio/Videos_L26/video/L26_V243.mp4\n",
      "[TransNetV2] Processing video frames 7200/7945"
     ]
    },
    {
     "name": "stderr",
     "output_type": "stream",
     "text": [
      "\n",
      " 49%|████▉     | 243/498 [13:55<14:14,  3.35s/it]\u001B[A"
     ]
    },
    {
     "name": "stdout",
     "output_type": "stream",
     "text": [
      "[TransNetV2] Processing video frames 7945/7945\n",
      "./SceneJSON_2024/L26/V243.json\n",
      "[TransNetV2] Extracting frames from /media/daoan/T7 Shield2/AI_Challenge_2024_DATA/video_with_audio/Videos_L26/video/L26_V244.mp4\n",
      "[TransNetV2] Processing video frames 7850/8040"
     ]
    },
    {
     "name": "stderr",
     "output_type": "stream",
     "text": [
      "\n",
      " 49%|████▉     | 244/498 [13:59<14:06,  3.33s/it]\u001B[A"
     ]
    },
    {
     "name": "stdout",
     "output_type": "stream",
     "text": [
      "[TransNetV2] Processing video frames 8040/8040\n",
      "./SceneJSON_2024/L26/V244.json\n",
      "[TransNetV2] Extracting frames from /media/daoan/T7 Shield2/AI_Challenge_2024_DATA/video_with_audio/Videos_L26/video/L26_V245.mp4\n",
      "[TransNetV2] Processing video frames 7100/7975"
     ]
    },
    {
     "name": "stderr",
     "output_type": "stream",
     "text": [
      "\n",
      " 49%|████▉     | 245/498 [14:02<13:57,  3.31s/it]\u001B[A"
     ]
    },
    {
     "name": "stdout",
     "output_type": "stream",
     "text": [
      "[TransNetV2] Processing video frames 7975/7975\n",
      "./SceneJSON_2024/L26/V245.json\n",
      "[TransNetV2] Extracting frames from /media/daoan/T7 Shield2/AI_Challenge_2024_DATA/video_with_audio/Videos_L26/video/L26_V246.mp4\n",
      "[TransNetV2] Processing video frames 7000/7968"
     ]
    },
    {
     "name": "stderr",
     "output_type": "stream",
     "text": [
      "\n",
      " 49%|████▉     | 246/498 [14:05<13:54,  3.31s/it]\u001B[A"
     ]
    },
    {
     "name": "stdout",
     "output_type": "stream",
     "text": [
      "[TransNetV2] Processing video frames 7968/7968\n",
      "./SceneJSON_2024/L26/V246.json\n",
      "[TransNetV2] Extracting frames from /media/daoan/T7 Shield2/AI_Challenge_2024_DATA/video_with_audio/Videos_L26/video/L26_V247.mp4\n",
      "[TransNetV2] Processing video frames 6950/7978"
     ]
    },
    {
     "name": "stderr",
     "output_type": "stream",
     "text": [
      "\n",
      " 50%|████▉     | 247/498 [14:09<14:15,  3.41s/it]\u001B[A"
     ]
    },
    {
     "name": "stdout",
     "output_type": "stream",
     "text": [
      "[TransNetV2] Processing video frames 7978/7978\n",
      "./SceneJSON_2024/L26/V247.json\n",
      "[TransNetV2] Extracting frames from /media/daoan/T7 Shield2/AI_Challenge_2024_DATA/video_with_audio/Videos_L26/video/L26_V248.mp4\n",
      "[TransNetV2] Processing video frames 7200/7983"
     ]
    },
    {
     "name": "stderr",
     "output_type": "stream",
     "text": [
      "\n",
      " 50%|████▉     | 248/498 [14:12<14:15,  3.42s/it]\u001B[A"
     ]
    },
    {
     "name": "stdout",
     "output_type": "stream",
     "text": [
      "[TransNetV2] Processing video frames 7983/7983\n",
      "./SceneJSON_2024/L26/V248.json\n",
      "[TransNetV2] Extracting frames from /media/daoan/T7 Shield2/AI_Challenge_2024_DATA/video_with_audio/Videos_L26/video/L26_V249.mp4\n",
      "[TransNetV2] Processing video frames 7850/7943"
     ]
    },
    {
     "name": "stderr",
     "output_type": "stream",
     "text": [
      "\n",
      " 50%|█████     | 249/498 [14:16<14:18,  3.45s/it]\u001B[A"
     ]
    },
    {
     "name": "stdout",
     "output_type": "stream",
     "text": [
      "[TransNetV2] Processing video frames 7943/7943\n",
      "./SceneJSON_2024/L26/V249.json\n",
      "[TransNetV2] Extracting frames from /media/daoan/T7 Shield2/AI_Challenge_2024_DATA/video_with_audio/Videos_L26/video/L26_V250.mp4\n",
      "[TransNetV2] Processing video frames 7900/7995"
     ]
    },
    {
     "name": "stderr",
     "output_type": "stream",
     "text": [
      "\n",
      " 50%|█████     | 250/498 [14:19<13:58,  3.38s/it]\u001B[A"
     ]
    },
    {
     "name": "stdout",
     "output_type": "stream",
     "text": [
      "[TransNetV2] Processing video frames 7995/7995\n",
      "./SceneJSON_2024/L26/V250.json\n",
      "[TransNetV2] Extracting frames from /media/daoan/T7 Shield2/AI_Challenge_2024_DATA/video_with_audio/Videos_L26/video/L26_V251.mp4\n",
      "[TransNetV2] Processing video frames 7100/7971"
     ]
    },
    {
     "name": "stderr",
     "output_type": "stream",
     "text": [
      "\n",
      " 50%|█████     | 251/498 [14:22<13:49,  3.36s/it]\u001B[A"
     ]
    },
    {
     "name": "stdout",
     "output_type": "stream",
     "text": [
      "[TransNetV2] Processing video frames 7971/7971\n",
      "./SceneJSON_2024/L26/V251.json\n",
      "[TransNetV2] Extracting frames from /media/daoan/T7 Shield2/AI_Challenge_2024_DATA/video_with_audio/Videos_L26/video/L26_V252.mp4\n",
      "[TransNetV2] Processing video frames 7050/7982"
     ]
    },
    {
     "name": "stderr",
     "output_type": "stream",
     "text": [
      "\n",
      " 51%|█████     | 252/498 [14:26<13:36,  3.32s/it]\u001B[A"
     ]
    },
    {
     "name": "stdout",
     "output_type": "stream",
     "text": [
      "[TransNetV2] Processing video frames 7982/7982\n",
      "./SceneJSON_2024/L26/V252.json\n",
      "[TransNetV2] Extracting frames from /media/daoan/T7 Shield2/AI_Challenge_2024_DATA/video_with_audio/Videos_L26/video/L26_V253.mp4\n",
      "[TransNetV2] Processing video frames 7650/7937"
     ]
    },
    {
     "name": "stderr",
     "output_type": "stream",
     "text": [
      "\n",
      " 51%|█████     | 253/498 [14:29<13:28,  3.30s/it]\u001B[A"
     ]
    },
    {
     "name": "stdout",
     "output_type": "stream",
     "text": [
      "[TransNetV2] Processing video frames 7937/7937\n",
      "./SceneJSON_2024/L26/V253.json\n",
      "[TransNetV2] Extracting frames from /media/daoan/T7 Shield2/AI_Challenge_2024_DATA/video_with_audio/Videos_L26/video/L26_V254.mp4\n",
      "[TransNetV2] Processing video frames 7700/7809"
     ]
    },
    {
     "name": "stderr",
     "output_type": "stream",
     "text": [
      "\n",
      " 51%|█████     | 254/498 [14:32<13:29,  3.32s/it]\u001B[A"
     ]
    },
    {
     "name": "stdout",
     "output_type": "stream",
     "text": [
      "[TransNetV2] Processing video frames 7809/7809\n",
      "./SceneJSON_2024/L26/V254.json\n",
      "[TransNetV2] Extracting frames from /media/daoan/T7 Shield2/AI_Challenge_2024_DATA/video_with_audio/Videos_L26/video/L26_V255.mp4\n",
      "[TransNetV2] Processing video frames 7000/7810"
     ]
    },
    {
     "name": "stderr",
     "output_type": "stream",
     "text": [
      "\n",
      " 51%|█████     | 255/498 [14:35<13:20,  3.29s/it]\u001B[A"
     ]
    },
    {
     "name": "stdout",
     "output_type": "stream",
     "text": [
      "[TransNetV2] Processing video frames 7810/7810\n",
      "./SceneJSON_2024/L26/V255.json\n",
      "[TransNetV2] Extracting frames from /media/daoan/T7 Shield2/AI_Challenge_2024_DATA/video_with_audio/Videos_L26/video/L26_V256.mp4\n",
      "[TransNetV2] Processing video frames 7300/7993"
     ]
    },
    {
     "name": "stderr",
     "output_type": "stream",
     "text": [
      "\n",
      " 51%|█████▏    | 256/498 [14:39<13:21,  3.31s/it]\u001B[A"
     ]
    },
    {
     "name": "stdout",
     "output_type": "stream",
     "text": [
      "[TransNetV2] Processing video frames 7993/7993\n",
      "./SceneJSON_2024/L26/V256.json\n",
      "[TransNetV2] Extracting frames from /media/daoan/T7 Shield2/AI_Challenge_2024_DATA/video_with_audio/Videos_L26/video/L26_V257.mp4\n",
      "[TransNetV2] Processing video frames 7100/8090"
     ]
    },
    {
     "name": "stderr",
     "output_type": "stream",
     "text": [
      "\n",
      " 52%|█████▏    | 257/498 [14:42<13:31,  3.37s/it]\u001B[A"
     ]
    },
    {
     "name": "stdout",
     "output_type": "stream",
     "text": [
      "[TransNetV2] Processing video frames 8090/8090\n",
      "./SceneJSON_2024/L26/V257.json\n",
      "[TransNetV2] Extracting frames from /media/daoan/T7 Shield2/AI_Challenge_2024_DATA/video_with_audio/Videos_L26/video/L26_V258.mp4\n",
      "[TransNetV2] Processing video frames 7800/8072"
     ]
    },
    {
     "name": "stderr",
     "output_type": "stream",
     "text": [
      "\n",
      " 52%|█████▏    | 258/498 [14:45<13:19,  3.33s/it]\u001B[A"
     ]
    },
    {
     "name": "stdout",
     "output_type": "stream",
     "text": [
      "[TransNetV2] Processing video frames 8072/8072\n",
      "./SceneJSON_2024/L26/V258.json\n",
      "[TransNetV2] Extracting frames from /media/daoan/T7 Shield2/AI_Challenge_2024_DATA/video_with_audio/Videos_L26/video/L26_V259.mp4\n",
      "[TransNetV2] Processing video frames 7700/8059"
     ]
    },
    {
     "name": "stderr",
     "output_type": "stream",
     "text": [
      "\n",
      " 52%|█████▏    | 259/498 [14:49<13:12,  3.32s/it]\u001B[A"
     ]
    },
    {
     "name": "stdout",
     "output_type": "stream",
     "text": [
      "[TransNetV2] Processing video frames 8059/8059\n",
      "./SceneJSON_2024/L26/V259.json\n",
      "[TransNetV2] Extracting frames from /media/daoan/T7 Shield2/AI_Challenge_2024_DATA/video_with_audio/Videos_L26/video/L26_V260.mp4\n",
      "[TransNetV2] Processing video frames 7150/8038"
     ]
    },
    {
     "name": "stderr",
     "output_type": "stream",
     "text": [
      "\n",
      " 52%|█████▏    | 260/498 [14:52<13:06,  3.31s/it]\u001B[A"
     ]
    },
    {
     "name": "stdout",
     "output_type": "stream",
     "text": [
      "[TransNetV2] Processing video frames 8038/8038\n",
      "./SceneJSON_2024/L26/V260.json\n",
      "[TransNetV2] Extracting frames from /media/daoan/T7 Shield2/AI_Challenge_2024_DATA/video_with_audio/Videos_L26/video/L26_V261.mp4\n",
      "[TransNetV2] Processing video frames 6750/8196"
     ]
    },
    {
     "name": "stderr",
     "output_type": "stream",
     "text": [
      "\n",
      " 52%|█████▏    | 261/498 [14:56<13:40,  3.46s/it]\u001B[A"
     ]
    },
    {
     "name": "stdout",
     "output_type": "stream",
     "text": [
      "[TransNetV2] Processing video frames 8196/8196\n",
      "./SceneJSON_2024/L26/V261.json\n",
      "[TransNetV2] Extracting frames from /media/daoan/T7 Shield2/AI_Challenge_2024_DATA/video_with_audio/Videos_L26/video/L26_V262.mp4\n",
      "[TransNetV2] Processing video frames 7200/8007"
     ]
    },
    {
     "name": "stderr",
     "output_type": "stream",
     "text": [
      "\n",
      " 53%|█████▎    | 262/498 [14:59<13:19,  3.39s/it]\u001B[A"
     ]
    },
    {
     "name": "stdout",
     "output_type": "stream",
     "text": [
      "[TransNetV2] Processing video frames 8007/8007\n",
      "./SceneJSON_2024/L26/V262.json\n",
      "[TransNetV2] Extracting frames from /media/daoan/T7 Shield2/AI_Challenge_2024_DATA/video_with_audio/Videos_L26/video/L26_V263.mp4\n",
      "[TransNetV2] Processing video frames 7650/8088"
     ]
    },
    {
     "name": "stderr",
     "output_type": "stream",
     "text": [
      "\n",
      " 53%|█████▎    | 263/498 [15:02<13:06,  3.35s/it]\u001B[A"
     ]
    },
    {
     "name": "stdout",
     "output_type": "stream",
     "text": [
      "[TransNetV2] Processing video frames 8088/8088\n",
      "./SceneJSON_2024/L26/V263.json\n",
      "[TransNetV2] Extracting frames from /media/daoan/T7 Shield2/AI_Challenge_2024_DATA/video_with_audio/Videos_L26/video/L26_V264.mp4\n",
      "[TransNetV2] Processing video frames 7750/8112"
     ]
    },
    {
     "name": "stderr",
     "output_type": "stream",
     "text": [
      "\n",
      " 53%|█████▎    | 264/498 [15:06<12:55,  3.31s/it]\u001B[A"
     ]
    },
    {
     "name": "stdout",
     "output_type": "stream",
     "text": [
      "[TransNetV2] Processing video frames 8112/8112\n",
      "./SceneJSON_2024/L26/V264.json\n",
      "[TransNetV2] Extracting frames from /media/daoan/T7 Shield2/AI_Challenge_2024_DATA/video_with_audio/Videos_L26/video/L26_V265.mp4\n",
      "[TransNetV2] Processing video frames 7050/8133"
     ]
    },
    {
     "name": "stderr",
     "output_type": "stream",
     "text": [
      "\n",
      " 53%|█████▎    | 265/498 [15:09<12:57,  3.34s/it]\u001B[A"
     ]
    },
    {
     "name": "stdout",
     "output_type": "stream",
     "text": [
      "[TransNetV2] Processing video frames 8133/8133\n",
      "./SceneJSON_2024/L26/V265.json\n",
      "[TransNetV2] Extracting frames from /media/daoan/T7 Shield2/AI_Challenge_2024_DATA/video_with_audio/Videos_L26/video/L26_V266.mp4\n",
      "[TransNetV2] Processing video frames 6900/8136"
     ]
    },
    {
     "name": "stderr",
     "output_type": "stream",
     "text": [
      "\n",
      " 53%|█████▎    | 266/498 [15:12<13:05,  3.39s/it]\u001B[A"
     ]
    },
    {
     "name": "stdout",
     "output_type": "stream",
     "text": [
      "[TransNetV2] Processing video frames 8136/8136\n",
      "./SceneJSON_2024/L26/V266.json\n",
      "[TransNetV2] Extracting frames from /media/daoan/T7 Shield2/AI_Challenge_2024_DATA/video_with_audio/Videos_L26/video/L26_V267.mp4\n",
      "[TransNetV2] Processing video frames 7650/8029"
     ]
    },
    {
     "name": "stderr",
     "output_type": "stream",
     "text": [
      "\n",
      " 54%|█████▎    | 267/498 [15:16<12:52,  3.35s/it]\u001B[A"
     ]
    },
    {
     "name": "stdout",
     "output_type": "stream",
     "text": [
      "[TransNetV2] Processing video frames 8029/8029\n",
      "./SceneJSON_2024/L26/V267.json\n",
      "[TransNetV2] Extracting frames from /media/daoan/T7 Shield2/AI_Challenge_2024_DATA/video_with_audio/Videos_L26/video/L26_V268.mp4\n",
      "[TransNetV2] Processing video frames 7750/8138"
     ]
    },
    {
     "name": "stderr",
     "output_type": "stream",
     "text": [
      "\n",
      " 54%|█████▍    | 268/498 [15:19<12:46,  3.33s/it]\u001B[A"
     ]
    },
    {
     "name": "stdout",
     "output_type": "stream",
     "text": [
      "[TransNetV2] Processing video frames 8138/8138\n",
      "./SceneJSON_2024/L26/V268.json\n",
      "[TransNetV2] Extracting frames from /media/daoan/T7 Shield2/AI_Challenge_2024_DATA/video_with_audio/Videos_L26/video/L26_V269.mp4\n",
      "[TransNetV2] Processing video frames 7800/8131"
     ]
    },
    {
     "name": "stderr",
     "output_type": "stream",
     "text": [
      "\n",
      " 54%|█████▍    | 269/498 [15:22<12:44,  3.34s/it]\u001B[A"
     ]
    },
    {
     "name": "stdout",
     "output_type": "stream",
     "text": [
      "[TransNetV2] Processing video frames 8131/8131\n",
      "./SceneJSON_2024/L26/V269.json\n",
      "[TransNetV2] Extracting frames from /media/daoan/T7 Shield2/AI_Challenge_2024_DATA/video_with_audio/Videos_L26/video/L26_V270.mp4\n",
      "[TransNetV2] Processing video frames 7050/8015"
     ]
    },
    {
     "name": "stderr",
     "output_type": "stream",
     "text": [
      "\n",
      " 54%|█████▍    | 270/498 [15:26<12:45,  3.36s/it]\u001B[A"
     ]
    },
    {
     "name": "stdout",
     "output_type": "stream",
     "text": [
      "[TransNetV2] Processing video frames 8015/8015\n",
      "./SceneJSON_2024/L26/V270.json\n",
      "[TransNetV2] Extracting frames from /media/daoan/T7 Shield2/AI_Challenge_2024_DATA/video_with_audio/Videos_L26/video/L26_V271.mp4\n",
      "[TransNetV2] Processing video frames 6950/8060"
     ]
    },
    {
     "name": "stderr",
     "output_type": "stream",
     "text": [
      "\n",
      " 54%|█████▍    | 271/498 [15:29<13:02,  3.45s/it]\u001B[A"
     ]
    },
    {
     "name": "stdout",
     "output_type": "stream",
     "text": [
      "[TransNetV2] Processing video frames 8060/8060\n",
      "./SceneJSON_2024/L26/V271.json\n",
      "[TransNetV2] Extracting frames from /media/daoan/T7 Shield2/AI_Challenge_2024_DATA/video_with_audio/Videos_L26/video/L26_V272.mp4\n",
      "[TransNetV2] Processing video frames 7150/8166"
     ]
    },
    {
     "name": "stderr",
     "output_type": "stream",
     "text": [
      "\n",
      " 55%|█████▍    | 272/498 [15:33<13:19,  3.54s/it]\u001B[A"
     ]
    },
    {
     "name": "stdout",
     "output_type": "stream",
     "text": [
      "[TransNetV2] Processing video frames 8166/8166\n",
      "./SceneJSON_2024/L26/V272.json\n",
      "[TransNetV2] Extracting frames from /media/daoan/T7 Shield2/AI_Challenge_2024_DATA/video_with_audio/Videos_L26/video/L26_V273.mp4\n",
      "[TransNetV2] Processing video frames 6750/8010"
     ]
    },
    {
     "name": "stderr",
     "output_type": "stream",
     "text": [
      "\n",
      " 55%|█████▍    | 273/498 [15:37<13:21,  3.56s/it]\u001B[A"
     ]
    },
    {
     "name": "stdout",
     "output_type": "stream",
     "text": [
      "[TransNetV2] Processing video frames 8010/8010\n",
      "./SceneJSON_2024/L26/V273.json\n",
      "[TransNetV2] Extracting frames from /media/daoan/T7 Shield2/AI_Challenge_2024_DATA/video_with_audio/Videos_L26/video/L26_V274.mp4\n",
      "[TransNetV2] Processing video frames 7250/8130"
     ]
    },
    {
     "name": "stderr",
     "output_type": "stream",
     "text": [
      "\n",
      " 55%|█████▌    | 274/498 [15:40<13:20,  3.58s/it]\u001B[A"
     ]
    },
    {
     "name": "stdout",
     "output_type": "stream",
     "text": [
      "[TransNetV2] Processing video frames 8130/8130\n",
      "./SceneJSON_2024/L26/V274.json\n",
      "[TransNetV2] Extracting frames from /media/daoan/T7 Shield2/AI_Challenge_2024_DATA/video_with_audio/Videos_L26/video/L26_V275.mp4\n",
      "[TransNetV2] Processing video frames 7750/8126"
     ]
    },
    {
     "name": "stderr",
     "output_type": "stream",
     "text": [
      "\n",
      " 55%|█████▌    | 275/498 [15:44<13:09,  3.54s/it]\u001B[A"
     ]
    },
    {
     "name": "stdout",
     "output_type": "stream",
     "text": [
      "[TransNetV2] Processing video frames 8126/8126\n",
      "./SceneJSON_2024/L26/V275.json\n",
      "[TransNetV2] Extracting frames from /media/daoan/T7 Shield2/AI_Challenge_2024_DATA/video_with_audio/Videos_L26/video/L26_V276.mp4\n",
      "[TransNetV2] Processing video frames 7900/8181"
     ]
    },
    {
     "name": "stderr",
     "output_type": "stream",
     "text": [
      "\n",
      " 55%|█████▌    | 276/498 [15:47<13:08,  3.55s/it]\u001B[A"
     ]
    },
    {
     "name": "stdout",
     "output_type": "stream",
     "text": [
      "[TransNetV2] Processing video frames 8181/8181\n",
      "./SceneJSON_2024/L26/V276.json\n",
      "[TransNetV2] Extracting frames from /media/daoan/T7 Shield2/AI_Challenge_2024_DATA/video_with_audio/Videos_L26/video/L26_V277.mp4\n",
      "[TransNetV2] Processing video frames 7800/8119"
     ]
    },
    {
     "name": "stderr",
     "output_type": "stream",
     "text": [
      "\n",
      " 56%|█████▌    | 277/498 [15:51<12:53,  3.50s/it]\u001B[A"
     ]
    },
    {
     "name": "stdout",
     "output_type": "stream",
     "text": [
      "[TransNetV2] Processing video frames 8119/8119\n",
      "./SceneJSON_2024/L26/V277.json\n",
      "[TransNetV2] Extracting frames from /media/daoan/T7 Shield2/AI_Challenge_2024_DATA/video_with_audio/Videos_L26/video/L26_V278.mp4\n",
      "[TransNetV2] Processing video frames 7700/8173"
     ]
    },
    {
     "name": "stderr",
     "output_type": "stream",
     "text": [
      "\n",
      " 56%|█████▌    | 278/498 [15:54<12:41,  3.46s/it]\u001B[A"
     ]
    },
    {
     "name": "stdout",
     "output_type": "stream",
     "text": [
      "[TransNetV2] Processing video frames 8173/8173\n",
      "./SceneJSON_2024/L26/V278.json\n",
      "[TransNetV2] Extracting frames from /media/daoan/T7 Shield2/AI_Challenge_2024_DATA/video_with_audio/Videos_L26/video/L26_V279.mp4\n",
      "[TransNetV2] Processing video frames 7000/7863"
     ]
    },
    {
     "name": "stderr",
     "output_type": "stream",
     "text": [
      "\n",
      " 56%|█████▌    | 279/498 [15:57<12:21,  3.38s/it]\u001B[A"
     ]
    },
    {
     "name": "stdout",
     "output_type": "stream",
     "text": [
      "[TransNetV2] Processing video frames 7863/7863\n",
      "./SceneJSON_2024/L26/V279.json\n",
      "[TransNetV2] Extracting frames from /media/daoan/T7 Shield2/AI_Challenge_2024_DATA/video_with_audio/Videos_L26/video/L26_V280.mp4\n",
      "[TransNetV2] Processing video frames 7400/7980"
     ]
    },
    {
     "name": "stderr",
     "output_type": "stream",
     "text": [
      "\n",
      " 56%|█████▌    | 280/498 [16:01<12:09,  3.35s/it]\u001B[A"
     ]
    },
    {
     "name": "stdout",
     "output_type": "stream",
     "text": [
      "[TransNetV2] Processing video frames 7980/7980\n",
      "./SceneJSON_2024/L26/V280.json\n",
      "[TransNetV2] Extracting frames from /media/daoan/T7 Shield2/AI_Challenge_2024_DATA/video_with_audio/Videos_L26/video/L26_V281.mp4\n",
      "[TransNetV2] Processing video frames 7850/8081"
     ]
    },
    {
     "name": "stderr",
     "output_type": "stream",
     "text": [
      "\n",
      " 56%|█████▋    | 281/498 [16:04<11:58,  3.31s/it]\u001B[A"
     ]
    },
    {
     "name": "stdout",
     "output_type": "stream",
     "text": [
      "[TransNetV2] Processing video frames 8081/8081\n",
      "./SceneJSON_2024/L26/V281.json\n",
      "[TransNetV2] Extracting frames from /media/daoan/T7 Shield2/AI_Challenge_2024_DATA/video_with_audio/Videos_L26/video/L26_V282.mp4\n",
      "[TransNetV2] Processing video frames 7750/7881"
     ]
    },
    {
     "name": "stderr",
     "output_type": "stream",
     "text": [
      "\n",
      " 57%|█████▋    | 282/498 [16:07<12:11,  3.39s/it]\u001B[A"
     ]
    },
    {
     "name": "stdout",
     "output_type": "stream",
     "text": [
      "[TransNetV2] Processing video frames 7881/7881\n",
      "./SceneJSON_2024/L26/V282.json\n",
      "[TransNetV2] Extracting frames from /media/daoan/T7 Shield2/AI_Challenge_2024_DATA/video_with_audio/Videos_L26/video/L26_V283.mp4\n",
      "[TransNetV2] Processing video frames 7550/8173"
     ]
    },
    {
     "name": "stderr",
     "output_type": "stream",
     "text": [
      "\n",
      " 57%|█████▋    | 283/498 [16:11<12:30,  3.49s/it]\u001B[A"
     ]
    },
    {
     "name": "stdout",
     "output_type": "stream",
     "text": [
      "[TransNetV2] Processing video frames 8173/8173\n",
      "./SceneJSON_2024/L26/V283.json\n",
      "[TransNetV2] Extracting frames from /media/daoan/T7 Shield2/AI_Challenge_2024_DATA/video_with_audio/Videos_L26/video/L26_V284.mp4\n",
      "[TransNetV2] Processing video frames 7000/8125"
     ]
    },
    {
     "name": "stderr",
     "output_type": "stream",
     "text": [
      "\n",
      " 57%|█████▋    | 284/498 [16:15<12:33,  3.52s/it]\u001B[A"
     ]
    },
    {
     "name": "stdout",
     "output_type": "stream",
     "text": [
      "[TransNetV2] Processing video frames 8125/8125\n",
      "./SceneJSON_2024/L26/V284.json\n",
      "[TransNetV2] Extracting frames from /media/daoan/T7 Shield2/AI_Challenge_2024_DATA/video_with_audio/Videos_L26/video/L26_V285.mp4\n",
      "[TransNetV2] Processing video frames 6650/8093"
     ]
    },
    {
     "name": "stderr",
     "output_type": "stream",
     "text": [
      "\n",
      " 57%|█████▋    | 285/498 [16:18<12:36,  3.55s/it]\u001B[A"
     ]
    },
    {
     "name": "stdout",
     "output_type": "stream",
     "text": [
      "[TransNetV2] Processing video frames 8093/8093\n",
      "./SceneJSON_2024/L26/V285.json\n",
      "[TransNetV2] Extracting frames from /media/daoan/T7 Shield2/AI_Challenge_2024_DATA/video_with_audio/Videos_L26/video/L26_V286.mp4\n",
      "[TransNetV2] Processing video frames 7400/8164"
     ]
    },
    {
     "name": "stderr",
     "output_type": "stream",
     "text": [
      "\n",
      " 57%|█████▋    | 286/498 [16:22<12:21,  3.50s/it]\u001B[A"
     ]
    },
    {
     "name": "stdout",
     "output_type": "stream",
     "text": [
      "[TransNetV2] Processing video frames 8164/8164\n",
      "./SceneJSON_2024/L26/V286.json\n",
      "[TransNetV2] Extracting frames from /media/daoan/T7 Shield2/AI_Challenge_2024_DATA/video_with_audio/Videos_L26/video/L26_V287.mp4\n",
      "[TransNetV2] Processing video frames 7050/7946"
     ]
    },
    {
     "name": "stderr",
     "output_type": "stream",
     "text": [
      "\n",
      " 58%|█████▊    | 287/498 [16:25<12:14,  3.48s/it]\u001B[A"
     ]
    },
    {
     "name": "stdout",
     "output_type": "stream",
     "text": [
      "[TransNetV2] Processing video frames 7946/7946\n",
      "./SceneJSON_2024/L26/V287.json\n",
      "[TransNetV2] Extracting frames from /media/daoan/T7 Shield2/AI_Challenge_2024_DATA/video_with_audio/Videos_L26/video/L26_V288.mp4\n",
      "[TransNetV2] Processing video frames 7750/8169"
     ]
    },
    {
     "name": "stderr",
     "output_type": "stream",
     "text": [
      "\n",
      " 58%|█████▊    | 288/498 [16:28<11:55,  3.41s/it]\u001B[A"
     ]
    },
    {
     "name": "stdout",
     "output_type": "stream",
     "text": [
      "[TransNetV2] Processing video frames 8169/8169\n",
      "./SceneJSON_2024/L26/V288.json\n",
      "[TransNetV2] Extracting frames from /media/daoan/T7 Shield2/AI_Challenge_2024_DATA/video_with_audio/Videos_L26/video/L26_V289.mp4\n",
      "[TransNetV2] Processing video frames 5800/7603"
     ]
    },
    {
     "name": "stderr",
     "output_type": "stream",
     "text": [
      "\n",
      " 58%|█████▊    | 289/498 [16:32<11:32,  3.31s/it]\u001B[A"
     ]
    },
    {
     "name": "stdout",
     "output_type": "stream",
     "text": [
      "[TransNetV2] Processing video frames 7603/7603\n",
      "./SceneJSON_2024/L26/V289.json\n",
      "[TransNetV2] Extracting frames from /media/daoan/T7 Shield2/AI_Challenge_2024_DATA/video_with_audio/Videos_L26/video/L26_V290.mp4\n",
      "[TransNetV2] Processing video frames 7250/7932"
     ]
    },
    {
     "name": "stderr",
     "output_type": "stream",
     "text": [
      "\n",
      " 58%|█████▊    | 290/498 [16:35<11:35,  3.34s/it]\u001B[A"
     ]
    },
    {
     "name": "stdout",
     "output_type": "stream",
     "text": [
      "[TransNetV2] Processing video frames 7932/7932\n",
      "./SceneJSON_2024/L26/V290.json\n",
      "[TransNetV2] Extracting frames from /media/daoan/T7 Shield2/AI_Challenge_2024_DATA/video_with_audio/Videos_L26/video/L26_V291.mp4\n",
      "[TransNetV2] Processing video frames 5850/7443"
     ]
    },
    {
     "name": "stderr",
     "output_type": "stream",
     "text": [
      "\n",
      " 58%|█████▊    | 291/498 [16:38<11:08,  3.23s/it]\u001B[A"
     ]
    },
    {
     "name": "stdout",
     "output_type": "stream",
     "text": [
      "[TransNetV2] Processing video frames 7443/7443\n",
      "./SceneJSON_2024/L26/V291.json\n",
      "[TransNetV2] Extracting frames from /media/daoan/T7 Shield2/AI_Challenge_2024_DATA/video_with_audio/Videos_L26/video/L26_V292.mp4\n",
      "[TransNetV2] Processing video frames 7800/8244"
     ]
    },
    {
     "name": "stderr",
     "output_type": "stream",
     "text": [
      "\n",
      " 59%|█████▊    | 292/498 [16:41<11:22,  3.31s/it]\u001B[A"
     ]
    },
    {
     "name": "stdout",
     "output_type": "stream",
     "text": [
      "[TransNetV2] Processing video frames 8244/8244\n",
      "./SceneJSON_2024/L26/V292.json\n",
      "[TransNetV2] Extracting frames from /media/daoan/T7 Shield2/AI_Challenge_2024_DATA/video_with_audio/Videos_L26/video/L26_V293.mp4\n",
      "[TransNetV2] Processing video frames 7800/7968"
     ]
    },
    {
     "name": "stderr",
     "output_type": "stream",
     "text": [
      "\n",
      " 59%|█████▉    | 293/498 [16:45<11:23,  3.34s/it]\u001B[A"
     ]
    },
    {
     "name": "stdout",
     "output_type": "stream",
     "text": [
      "[TransNetV2] Processing video frames 7968/7968\n",
      "./SceneJSON_2024/L26/V293.json\n",
      "[TransNetV2] Extracting frames from /media/daoan/T7 Shield2/AI_Challenge_2024_DATA/video_with_audio/Videos_L26/video/L26_V294.mp4\n",
      "[TransNetV2] Processing video frames 7400/7995"
     ]
    },
    {
     "name": "stderr",
     "output_type": "stream",
     "text": [
      "\n",
      " 59%|█████▉    | 294/498 [16:48<11:26,  3.37s/it]\u001B[A"
     ]
    },
    {
     "name": "stdout",
     "output_type": "stream",
     "text": [
      "[TransNetV2] Processing video frames 7995/7995\n",
      "./SceneJSON_2024/L26/V294.json\n",
      "[TransNetV2] Extracting frames from /media/daoan/T7 Shield2/AI_Challenge_2024_DATA/video_with_audio/Videos_L26/video/L26_V295.mp4\n",
      "[TransNetV2] Processing video frames 7000/8044"
     ]
    },
    {
     "name": "stderr",
     "output_type": "stream",
     "text": [
      "\n",
      " 59%|█████▉    | 295/498 [16:52<11:30,  3.40s/it]\u001B[A"
     ]
    },
    {
     "name": "stdout",
     "output_type": "stream",
     "text": [
      "[TransNetV2] Processing video frames 8044/8044\n",
      "./SceneJSON_2024/L26/V295.json\n",
      "[TransNetV2] Extracting frames from /media/daoan/T7 Shield2/AI_Challenge_2024_DATA/video_with_audio/Videos_L26/video/L26_V296.mp4\n",
      "[TransNetV2] Processing video frames 7100/7705"
     ]
    },
    {
     "name": "stderr",
     "output_type": "stream",
     "text": [
      "\n",
      " 59%|█████▉    | 296/498 [16:55<11:17,  3.35s/it]\u001B[A"
     ]
    },
    {
     "name": "stdout",
     "output_type": "stream",
     "text": [
      "[TransNetV2] Processing video frames 7705/7705\n",
      "./SceneJSON_2024/L26/V296.json\n",
      "[TransNetV2] Extracting frames from /media/daoan/T7 Shield2/AI_Challenge_2024_DATA/video_with_audio/Videos_L26/video/L26_V297.mp4\n",
      "[TransNetV2] Processing video frames 7725/7725\n"
     ]
    },
    {
     "name": "stderr",
     "output_type": "stream",
     "text": [
      "\n",
      " 60%|█████▉    | 297/498 [16:58<10:57,  3.27s/it]\u001B[A"
     ]
    },
    {
     "name": "stdout",
     "output_type": "stream",
     "text": [
      "./SceneJSON_2024/L26/V297.json\n",
      "[TransNetV2] Extracting frames from /media/daoan/T7 Shield2/AI_Challenge_2024_DATA/video_with_audio/Videos_L26/video/L26_V298.mp4\n",
      "[TransNetV2] Processing video frames 6950/7693"
     ]
    },
    {
     "name": "stderr",
     "output_type": "stream",
     "text": [
      "\n",
      " 60%|█████▉    | 298/498 [17:01<10:52,  3.26s/it]\u001B[A"
     ]
    },
    {
     "name": "stdout",
     "output_type": "stream",
     "text": [
      "[TransNetV2] Processing video frames 7693/7693\n",
      "./SceneJSON_2024/L26/V298.json\n",
      "[TransNetV2] Extracting frames from /media/daoan/T7 Shield2/AI_Challenge_2024_DATA/video_with_audio/Videos_L26/video/L26_V299.mp4\n",
      "[TransNetV2] Processing video frames 6800/7682"
     ]
    },
    {
     "name": "stderr",
     "output_type": "stream",
     "text": [
      "\n",
      " 60%|██████    | 299/498 [17:05<10:48,  3.26s/it]\u001B[A"
     ]
    },
    {
     "name": "stdout",
     "output_type": "stream",
     "text": [
      "[TransNetV2] Processing video frames 7682/7682\n",
      "./SceneJSON_2024/L26/V299.json\n",
      "[TransNetV2] Extracting frames from /media/daoan/T7 Shield2/AI_Challenge_2024_DATA/video_with_audio/Videos_L26/video/L26_V300.mp4\n",
      "[TransNetV2] Processing video frames 7750/7834"
     ]
    },
    {
     "name": "stderr",
     "output_type": "stream",
     "text": [
      "\n",
      " 60%|██████    | 300/498 [17:08<10:37,  3.22s/it]\u001B[A"
     ]
    },
    {
     "name": "stdout",
     "output_type": "stream",
     "text": [
      "[TransNetV2] Processing video frames 7834/7834\n",
      "./SceneJSON_2024/L26/V300.json\n",
      "[TransNetV2] Extracting frames from /media/daoan/T7 Shield2/AI_Challenge_2024_DATA/video_with_audio/Videos_L26/video/L26_V301.mp4\n",
      "[TransNetV2] Processing video frames 7450/7655"
     ]
    },
    {
     "name": "stderr",
     "output_type": "stream",
     "text": [
      "\n",
      " 60%|██████    | 301/498 [17:11<10:36,  3.23s/it]\u001B[A"
     ]
    },
    {
     "name": "stdout",
     "output_type": "stream",
     "text": [
      "[TransNetV2] Processing video frames 7655/7655\n",
      "./SceneJSON_2024/L26/V301.json\n",
      "[TransNetV2] Extracting frames from /media/daoan/T7 Shield2/AI_Challenge_2024_DATA/video_with_audio/Videos_L26/video/L26_V302.mp4\n",
      "[TransNetV2] Processing video frames 7050/7753"
     ]
    },
    {
     "name": "stderr",
     "output_type": "stream",
     "text": [
      "\n",
      " 61%|██████    | 302/498 [17:14<10:36,  3.25s/it]\u001B[A"
     ]
    },
    {
     "name": "stdout",
     "output_type": "stream",
     "text": [
      "[TransNetV2] Processing video frames 7753/7753\n",
      "./SceneJSON_2024/L26/V302.json\n",
      "[TransNetV2] Extracting frames from /media/daoan/T7 Shield2/AI_Challenge_2024_DATA/video_with_audio/Videos_L26/video/L26_V303.mp4\n",
      "[TransNetV2] Processing video frames 6850/7927"
     ]
    },
    {
     "name": "stderr",
     "output_type": "stream",
     "text": [
      "\n",
      " 61%|██████    | 303/498 [17:18<10:55,  3.36s/it]\u001B[A"
     ]
    },
    {
     "name": "stdout",
     "output_type": "stream",
     "text": [
      "[TransNetV2] Processing video frames 7927/7927\n",
      "./SceneJSON_2024/L26/V303.json\n",
      "[TransNetV2] Extracting frames from /media/daoan/T7 Shield2/AI_Challenge_2024_DATA/video_with_audio/Videos_L26/video/L26_V304.mp4\n",
      "[TransNetV2] Processing video frames 7200/7798"
     ]
    },
    {
     "name": "stderr",
     "output_type": "stream",
     "text": [
      "\n",
      " 61%|██████    | 304/498 [17:21<10:58,  3.40s/it]\u001B[A"
     ]
    },
    {
     "name": "stdout",
     "output_type": "stream",
     "text": [
      "[TransNetV2] Processing video frames 7798/7798\n",
      "./SceneJSON_2024/L26/V304.json\n",
      "[TransNetV2] Extracting frames from /media/daoan/T7 Shield2/AI_Challenge_2024_DATA/video_with_audio/Videos_L26/video/L26_V305.mp4\n",
      "[TransNetV2] Processing video frames 7750/7984"
     ]
    },
    {
     "name": "stderr",
     "output_type": "stream",
     "text": [
      "\n",
      " 61%|██████    | 305/498 [17:25<10:52,  3.38s/it]\u001B[A"
     ]
    },
    {
     "name": "stdout",
     "output_type": "stream",
     "text": [
      "[TransNetV2] Processing video frames 7984/7984\n",
      "./SceneJSON_2024/L26/V305.json\n",
      "[TransNetV2] Extracting frames from /media/daoan/T7 Shield2/AI_Challenge_2024_DATA/video_with_audio/Videos_L26/video/L26_V306.mp4\n",
      "[TransNetV2] Processing video frames 7900/7916"
     ]
    },
    {
     "name": "stderr",
     "output_type": "stream",
     "text": [
      "\n",
      " 61%|██████▏   | 306/498 [17:28<10:55,  3.41s/it]\u001B[A"
     ]
    },
    {
     "name": "stdout",
     "output_type": "stream",
     "text": [
      "[TransNetV2] Processing video frames 7916/7916\n",
      "./SceneJSON_2024/L26/V306.json\n",
      "[TransNetV2] Extracting frames from /media/daoan/T7 Shield2/AI_Challenge_2024_DATA/video_with_audio/Videos_L26/video/L26_V307.mp4\n",
      "[TransNetV2] Processing video frames 7850/8110"
     ]
    },
    {
     "name": "stderr",
     "output_type": "stream",
     "text": [
      "\n",
      " 62%|██████▏   | 307/498 [17:32<10:54,  3.43s/it]\u001B[A"
     ]
    },
    {
     "name": "stdout",
     "output_type": "stream",
     "text": [
      "[TransNetV2] Processing video frames 8110/8110\n",
      "./SceneJSON_2024/L26/V307.json\n",
      "[TransNetV2] Extracting frames from /media/daoan/T7 Shield2/AI_Challenge_2024_DATA/video_with_audio/Videos_L26/video/L26_V308.mp4\n",
      "[TransNetV2] Processing video frames 7700/7999"
     ]
    },
    {
     "name": "stderr",
     "output_type": "stream",
     "text": [
      "\n",
      " 62%|██████▏   | 308/498 [17:35<10:59,  3.47s/it]\u001B[A"
     ]
    },
    {
     "name": "stdout",
     "output_type": "stream",
     "text": [
      "[TransNetV2] Processing video frames 7999/7999\n",
      "./SceneJSON_2024/L26/V308.json\n",
      "[TransNetV2] Extracting frames from /media/daoan/T7 Shield2/AI_Challenge_2024_DATA/video_with_audio/Videos_L26/video/L26_V309.mp4\n",
      "[TransNetV2] Processing video frames 7050/7796"
     ]
    },
    {
     "name": "stderr",
     "output_type": "stream",
     "text": [
      "\n",
      " 62%|██████▏   | 309/498 [17:39<10:53,  3.46s/it]\u001B[A"
     ]
    },
    {
     "name": "stdout",
     "output_type": "stream",
     "text": [
      "[TransNetV2] Processing video frames 7796/7796\n",
      "./SceneJSON_2024/L26/V309.json\n",
      "[TransNetV2] Extracting frames from /media/daoan/T7 Shield2/AI_Challenge_2024_DATA/video_with_audio/Videos_L26/video/L26_V310.mp4\n",
      "[TransNetV2] Processing video frames 6800/7303"
     ]
    },
    {
     "name": "stderr",
     "output_type": "stream",
     "text": [
      "\n",
      " 62%|██████▏   | 310/498 [17:42<10:37,  3.39s/it]\u001B[A"
     ]
    },
    {
     "name": "stdout",
     "output_type": "stream",
     "text": [
      "[TransNetV2] Processing video frames 7303/7303\n",
      "./SceneJSON_2024/L26/V310.json\n",
      "[TransNetV2] Extracting frames from /media/daoan/T7 Shield2/AI_Challenge_2024_DATA/video_with_audio/Videos_L26/video/L26_V311.mp4\n",
      "[TransNetV2] Processing video frames 7800/8023"
     ]
    },
    {
     "name": "stderr",
     "output_type": "stream",
     "text": [
      "\n",
      " 62%|██████▏   | 311/498 [17:45<10:36,  3.40s/it]\u001B[A"
     ]
    },
    {
     "name": "stdout",
     "output_type": "stream",
     "text": [
      "[TransNetV2] Processing video frames 8023/8023\n",
      "./SceneJSON_2024/L26/V311.json\n",
      "[TransNetV2] Extracting frames from /media/daoan/T7 Shield2/AI_Challenge_2024_DATA/video_with_audio/Videos_L26/video/L26_V312.mp4\n",
      "[TransNetV2] Processing video frames 7900/8029"
     ]
    },
    {
     "name": "stderr",
     "output_type": "stream",
     "text": [
      "\n",
      " 63%|██████▎   | 312/498 [17:49<10:24,  3.36s/it]\u001B[A"
     ]
    },
    {
     "name": "stdout",
     "output_type": "stream",
     "text": [
      "[TransNetV2] Processing video frames 8029/8029\n",
      "./SceneJSON_2024/L26/V312.json\n",
      "[TransNetV2] Extracting frames from /media/daoan/T7 Shield2/AI_Challenge_2024_DATA/video_with_audio/Videos_L26/video/L26_V313.mp4\n",
      "[TransNetV2] Processing video frames 7550/8087"
     ]
    },
    {
     "name": "stderr",
     "output_type": "stream",
     "text": [
      "\n",
      " 63%|██████▎   | 313/498 [17:52<10:44,  3.49s/it]\u001B[A"
     ]
    },
    {
     "name": "stdout",
     "output_type": "stream",
     "text": [
      "[TransNetV2] Processing video frames 8087/8087\n",
      "./SceneJSON_2024/L26/V313.json\n",
      "[TransNetV2] Extracting frames from /media/daoan/T7 Shield2/AI_Challenge_2024_DATA/video_with_audio/Videos_L26/video/L26_V314.mp4\n",
      "[TransNetV2] Processing video frames 7800/8028"
     ]
    },
    {
     "name": "stderr",
     "output_type": "stream",
     "text": [
      "\n",
      " 63%|██████▎   | 314/498 [17:56<10:35,  3.45s/it]\u001B[A"
     ]
    },
    {
     "name": "stdout",
     "output_type": "stream",
     "text": [
      "[TransNetV2] Processing video frames 8028/8028\n",
      "./SceneJSON_2024/L26/V314.json\n",
      "[TransNetV2] Extracting frames from /media/daoan/T7 Shield2/AI_Challenge_2024_DATA/video_with_audio/Videos_L26/video/L26_V315.mp4\n",
      "[TransNetV2] Processing video frames 7300/7665"
     ]
    },
    {
     "name": "stderr",
     "output_type": "stream",
     "text": [
      "\n",
      " 63%|██████▎   | 315/498 [17:59<10:24,  3.41s/it]\u001B[A"
     ]
    },
    {
     "name": "stdout",
     "output_type": "stream",
     "text": [
      "[TransNetV2] Processing video frames 7665/7665\n",
      "./SceneJSON_2024/L26/V315.json\n",
      "[TransNetV2] Extracting frames from /media/daoan/T7 Shield2/AI_Challenge_2024_DATA/video_with_audio/Videos_L26/video/L26_V316.mp4\n",
      "[TransNetV2] Processing video frames 6750/8113"
     ]
    },
    {
     "name": "stderr",
     "output_type": "stream",
     "text": [
      "\n",
      " 63%|██████▎   | 316/498 [18:03<10:30,  3.46s/it]\u001B[A"
     ]
    },
    {
     "name": "stdout",
     "output_type": "stream",
     "text": [
      "[TransNetV2] Processing video frames 8113/8113\n",
      "./SceneJSON_2024/L26/V316.json\n",
      "[TransNetV2] Extracting frames from /media/daoan/T7 Shield2/AI_Challenge_2024_DATA/video_with_audio/Videos_L26/video/L26_V317.mp4\n",
      "[TransNetV2] Processing video frames 7400/7899"
     ]
    },
    {
     "name": "stderr",
     "output_type": "stream",
     "text": [
      "\n",
      " 64%|██████▎   | 317/498 [18:06<10:18,  3.42s/it]\u001B[A"
     ]
    },
    {
     "name": "stdout",
     "output_type": "stream",
     "text": [
      "[TransNetV2] Processing video frames 7899/7899\n",
      "./SceneJSON_2024/L26/V317.json\n",
      "[TransNetV2] Extracting frames from /media/daoan/T7 Shield2/AI_Challenge_2024_DATA/video_with_audio/Videos_L26/video/L26_V318.mp4\n",
      "[TransNetV2] Processing video frames 7600/7726"
     ]
    },
    {
     "name": "stderr",
     "output_type": "stream",
     "text": [
      "\n",
      " 64%|██████▍   | 318/498 [18:09<10:02,  3.35s/it]\u001B[A"
     ]
    },
    {
     "name": "stdout",
     "output_type": "stream",
     "text": [
      "[TransNetV2] Processing video frames 7726/7726\n",
      "./SceneJSON_2024/L26/V318.json\n",
      "[TransNetV2] Extracting frames from /media/daoan/T7 Shield2/AI_Challenge_2024_DATA/video_with_audio/Videos_L26/video/L26_V319.mp4\n",
      "[TransNetV2] Processing video frames 5900/7715"
     ]
    },
    {
     "name": "stderr",
     "output_type": "stream",
     "text": [
      "\n",
      " 64%|██████▍   | 319/498 [18:12<09:55,  3.33s/it]\u001B[A"
     ]
    },
    {
     "name": "stdout",
     "output_type": "stream",
     "text": [
      "[TransNetV2] Processing video frames 7715/7715\n",
      "./SceneJSON_2024/L26/V319.json\n",
      "[TransNetV2] Extracting frames from /media/daoan/T7 Shield2/AI_Challenge_2024_DATA/video_with_audio/Videos_L26/video/L26_V320.mp4\n",
      "[TransNetV2] Processing video frames 6800/7660"
     ]
    },
    {
     "name": "stderr",
     "output_type": "stream",
     "text": [
      "\n",
      " 64%|██████▍   | 320/498 [18:16<09:48,  3.30s/it]\u001B[A"
     ]
    },
    {
     "name": "stdout",
     "output_type": "stream",
     "text": [
      "[TransNetV2] Processing video frames 7660/7660\n",
      "./SceneJSON_2024/L26/V320.json\n",
      "[TransNetV2] Extracting frames from /media/daoan/T7 Shield2/AI_Challenge_2024_DATA/video_with_audio/Videos_L26/video/L26_V321.mp4\n",
      "[TransNetV2] Processing video frames 7000/7697"
     ]
    },
    {
     "name": "stderr",
     "output_type": "stream",
     "text": [
      "\n",
      " 64%|██████▍   | 321/498 [18:19<09:50,  3.33s/it]\u001B[A"
     ]
    },
    {
     "name": "stdout",
     "output_type": "stream",
     "text": [
      "[TransNetV2] Processing video frames 7697/7697\n",
      "./SceneJSON_2024/L26/V321.json\n",
      "[TransNetV2] Extracting frames from /media/daoan/T7 Shield2/AI_Challenge_2024_DATA/video_with_audio/Videos_L26/video/L26_V322.mp4\n",
      "[TransNetV2] Processing video frames 7450/7681"
     ]
    },
    {
     "name": "stderr",
     "output_type": "stream",
     "text": [
      "\n",
      " 65%|██████▍   | 322/498 [18:22<09:52,  3.37s/it]\u001B[A"
     ]
    },
    {
     "name": "stdout",
     "output_type": "stream",
     "text": [
      "[TransNetV2] Processing video frames 7681/7681\n",
      "./SceneJSON_2024/L26/V322.json\n",
      "[TransNetV2] Extracting frames from /media/daoan/T7 Shield2/AI_Challenge_2024_DATA/video_with_audio/Videos_L26/video/L26_V323.mp4\n",
      "[TransNetV2] Processing video frames 7450/7615"
     ]
    },
    {
     "name": "stderr",
     "output_type": "stream",
     "text": [
      "\n",
      " 65%|██████▍   | 323/498 [18:26<09:39,  3.31s/it]\u001B[A"
     ]
    },
    {
     "name": "stdout",
     "output_type": "stream",
     "text": [
      "[TransNetV2] Processing video frames 7615/7615\n",
      "./SceneJSON_2024/L26/V323.json\n",
      "[TransNetV2] Extracting frames from /media/daoan/T7 Shield2/AI_Challenge_2024_DATA/video_with_audio/Videos_L26/video/L26_V324.mp4\n",
      "[TransNetV2] Processing video frames 6750/7688"
     ]
    },
    {
     "name": "stderr",
     "output_type": "stream",
     "text": [
      "\n",
      " 65%|██████▌   | 324/498 [18:29<09:34,  3.30s/it]\u001B[A"
     ]
    },
    {
     "name": "stdout",
     "output_type": "stream",
     "text": [
      "[TransNetV2] Processing video frames 7688/7688\n",
      "./SceneJSON_2024/L26/V324.json\n",
      "[TransNetV2] Extracting frames from /media/daoan/T7 Shield2/AI_Challenge_2024_DATA/video_with_audio/Videos_L26/video/L26_V325.mp4\n",
      "[TransNetV2] Processing video frames 7000/7709"
     ]
    },
    {
     "name": "stderr",
     "output_type": "stream",
     "text": [
      "\n",
      " 65%|██████▌   | 325/498 [18:32<09:44,  3.38s/it]\u001B[A"
     ]
    },
    {
     "name": "stdout",
     "output_type": "stream",
     "text": [
      "[TransNetV2] Processing video frames 7709/7709\n",
      "./SceneJSON_2024/L26/V325.json\n",
      "[TransNetV2] Extracting frames from /media/daoan/T7 Shield2/AI_Challenge_2024_DATA/video_with_audio/Videos_L26/video/L26_V326.mp4\n",
      "[TransNetV2] Processing video frames 7050/7605"
     ]
    },
    {
     "name": "stderr",
     "output_type": "stream",
     "text": [
      "\n",
      " 65%|██████▌   | 326/498 [18:36<09:44,  3.40s/it]\u001B[A"
     ]
    },
    {
     "name": "stdout",
     "output_type": "stream",
     "text": [
      "[TransNetV2] Processing video frames 7605/7605\n",
      "./SceneJSON_2024/L26/V326.json\n",
      "[TransNetV2] Extracting frames from /media/daoan/T7 Shield2/AI_Challenge_2024_DATA/video_with_audio/Videos_L26/video/L26_V327.mp4\n",
      "[TransNetV2] Processing video frames 7300/7706"
     ]
    },
    {
     "name": "stderr",
     "output_type": "stream",
     "text": [
      "\n",
      " 66%|██████▌   | 327/498 [18:40<09:51,  3.46s/it]\u001B[A"
     ]
    },
    {
     "name": "stdout",
     "output_type": "stream",
     "text": [
      "[TransNetV2] Processing video frames 7706/7706\n",
      "./SceneJSON_2024/L26/V327.json\n",
      "[TransNetV2] Extracting frames from /media/daoan/T7 Shield2/AI_Challenge_2024_DATA/video_with_audio/Videos_L26/video/L26_V328.mp4\n",
      "[TransNetV2] Processing video frames 7500/7730"
     ]
    },
    {
     "name": "stderr",
     "output_type": "stream",
     "text": [
      "\n",
      " 66%|██████▌   | 328/498 [18:43<09:49,  3.47s/it]\u001B[A"
     ]
    },
    {
     "name": "stdout",
     "output_type": "stream",
     "text": [
      "[TransNetV2] Processing video frames 7730/7730\n",
      "./SceneJSON_2024/L26/V328.json\n",
      "[TransNetV2] Extracting frames from /media/daoan/T7 Shield2/AI_Challenge_2024_DATA/video_with_audio/Videos_L26/video/L26_V329.mp4\n",
      "[TransNetV2] Processing video frames 7600/7740"
     ]
    },
    {
     "name": "stderr",
     "output_type": "stream",
     "text": [
      "\n",
      " 66%|██████▌   | 329/498 [18:46<09:47,  3.47s/it]\u001B[A"
     ]
    },
    {
     "name": "stdout",
     "output_type": "stream",
     "text": [
      "[TransNetV2] Processing video frames 7740/7740\n",
      "./SceneJSON_2024/L26/V329.json\n",
      "[TransNetV2] Extracting frames from /media/daoan/T7 Shield2/AI_Challenge_2024_DATA/video_with_audio/Videos_L26/video/L26_V330.mp4\n",
      "[TransNetV2] Processing video frames 7250/7700"
     ]
    },
    {
     "name": "stderr",
     "output_type": "stream",
     "text": [
      "\n",
      " 66%|██████▋   | 330/498 [18:50<09:45,  3.48s/it]\u001B[A"
     ]
    },
    {
     "name": "stdout",
     "output_type": "stream",
     "text": [
      "[TransNetV2] Processing video frames 7700/7700\n",
      "./SceneJSON_2024/L26/V330.json\n",
      "[TransNetV2] Extracting frames from /media/daoan/T7 Shield2/AI_Challenge_2024_DATA/video_with_audio/Videos_L26/video/L26_V331.mp4\n",
      "[TransNetV2] Processing video frames 6800/7608"
     ]
    },
    {
     "name": "stderr",
     "output_type": "stream",
     "text": [
      "\n",
      " 66%|██████▋   | 331/498 [18:53<09:25,  3.39s/it]\u001B[A"
     ]
    },
    {
     "name": "stdout",
     "output_type": "stream",
     "text": [
      "[TransNetV2] Processing video frames 7608/7608\n",
      "./SceneJSON_2024/L26/V331.json\n",
      "[TransNetV2] Extracting frames from /media/daoan/T7 Shield2/AI_Challenge_2024_DATA/video_with_audio/Videos_L26/video/L26_V332.mp4\n",
      "[TransNetV2] Processing video frames 7250/7699"
     ]
    },
    {
     "name": "stderr",
     "output_type": "stream",
     "text": [
      "\n",
      " 67%|██████▋   | 332/498 [18:56<09:19,  3.37s/it]\u001B[A"
     ]
    },
    {
     "name": "stdout",
     "output_type": "stream",
     "text": [
      "[TransNetV2] Processing video frames 7699/7699\n",
      "./SceneJSON_2024/L26/V332.json\n",
      "[TransNetV2] Extracting frames from /media/daoan/T7 Shield2/AI_Challenge_2024_DATA/video_with_audio/Videos_L26/video/L26_V333.mp4\n",
      "[TransNetV2] Processing video frames 7350/7745"
     ]
    },
    {
     "name": "stderr",
     "output_type": "stream",
     "text": [
      "\n",
      " 67%|██████▋   | 333/498 [19:00<09:11,  3.34s/it]\u001B[A"
     ]
    },
    {
     "name": "stdout",
     "output_type": "stream",
     "text": [
      "[TransNetV2] Processing video frames 7745/7745\n",
      "./SceneJSON_2024/L26/V333.json\n",
      "[TransNetV2] Extracting frames from /media/daoan/T7 Shield2/AI_Challenge_2024_DATA/video_with_audio/Videos_L26/video/L26_V334.mp4\n",
      "[TransNetV2] Processing video frames 7450/7723"
     ]
    },
    {
     "name": "stderr",
     "output_type": "stream",
     "text": [
      "\n",
      " 67%|██████▋   | 334/498 [19:03<09:02,  3.31s/it]\u001B[A"
     ]
    },
    {
     "name": "stdout",
     "output_type": "stream",
     "text": [
      "[TransNetV2] Processing video frames 7723/7723\n",
      "./SceneJSON_2024/L26/V334.json\n",
      "[TransNetV2] Extracting frames from /media/daoan/T7 Shield2/AI_Challenge_2024_DATA/video_with_audio/Videos_L26/video/L26_V335.mp4\n",
      "[TransNetV2] Processing video frames 6650/7723"
     ]
    },
    {
     "name": "stderr",
     "output_type": "stream",
     "text": [
      "\n",
      " 67%|██████▋   | 335/498 [19:06<09:02,  3.33s/it]\u001B[A"
     ]
    },
    {
     "name": "stdout",
     "output_type": "stream",
     "text": [
      "[TransNetV2] Processing video frames 7723/7723\n",
      "./SceneJSON_2024/L26/V335.json\n",
      "[TransNetV2] Extracting frames from /media/daoan/T7 Shield2/AI_Challenge_2024_DATA/video_with_audio/Videos_L26/video/L26_V336.mp4\n",
      "[TransNetV2] Processing video frames 7150/7649"
     ]
    },
    {
     "name": "stderr",
     "output_type": "stream",
     "text": [
      "\n",
      " 67%|██████▋   | 336/498 [19:10<08:56,  3.31s/it]\u001B[A"
     ]
    },
    {
     "name": "stdout",
     "output_type": "stream",
     "text": [
      "[TransNetV2] Processing video frames 7649/7649\n",
      "./SceneJSON_2024/L26/V336.json\n",
      "[TransNetV2] Extracting frames from /media/daoan/T7 Shield2/AI_Challenge_2024_DATA/video_with_audio/Videos_L26/video/L26_V337.mp4\n",
      "[TransNetV2] Processing video frames 7450/7646"
     ]
    },
    {
     "name": "stderr",
     "output_type": "stream",
     "text": [
      "\n",
      " 68%|██████▊   | 337/498 [19:13<08:50,  3.30s/it]\u001B[A"
     ]
    },
    {
     "name": "stdout",
     "output_type": "stream",
     "text": [
      "[TransNetV2] Processing video frames 7646/7646\n",
      "./SceneJSON_2024/L26/V337.json\n",
      "[TransNetV2] Extracting frames from /media/daoan/T7 Shield2/AI_Challenge_2024_DATA/video_with_audio/Videos_L26/video/L26_V338.mp4\n",
      "[TransNetV2] Processing video frames 7550/7682"
     ]
    },
    {
     "name": "stderr",
     "output_type": "stream",
     "text": [
      "\n",
      " 68%|██████▊   | 338/498 [19:16<08:43,  3.27s/it]\u001B[A"
     ]
    },
    {
     "name": "stdout",
     "output_type": "stream",
     "text": [
      "[TransNetV2] Processing video frames 7682/7682\n",
      "./SceneJSON_2024/L26/V338.json\n",
      "[TransNetV2] Extracting frames from /media/daoan/T7 Shield2/AI_Challenge_2024_DATA/video_with_audio/Videos_L26/video/L26_V339.mp4\n",
      "[TransNetV2] Processing video frames 6900/7700"
     ]
    },
    {
     "name": "stderr",
     "output_type": "stream",
     "text": [
      "\n",
      " 68%|██████▊   | 339/498 [19:19<08:40,  3.27s/it]\u001B[A"
     ]
    },
    {
     "name": "stdout",
     "output_type": "stream",
     "text": [
      "[TransNetV2] Processing video frames 7700/7700\n",
      "./SceneJSON_2024/L26/V339.json\n",
      "[TransNetV2] Extracting frames from /media/daoan/T7 Shield2/AI_Challenge_2024_DATA/video_with_audio/Videos_L26/video/L26_V340.mp4\n",
      "[TransNetV2] Processing video frames 7700/7727"
     ]
    },
    {
     "name": "stderr",
     "output_type": "stream",
     "text": [
      "\n",
      " 68%|██████▊   | 340/498 [19:22<08:27,  3.21s/it]\u001B[A"
     ]
    },
    {
     "name": "stdout",
     "output_type": "stream",
     "text": [
      "[TransNetV2] Processing video frames 7727/7727\n",
      "./SceneJSON_2024/L26/V340.json\n",
      "[TransNetV2] Extracting frames from /media/daoan/T7 Shield2/AI_Challenge_2024_DATA/video_with_audio/Videos_L26/video/L26_V341.mp4\n",
      "[TransNetV2] Processing video frames 7731/7731\n",
      "./SceneJSON_2024/L26/V341.json\n"
     ]
    },
    {
     "name": "stderr",
     "output_type": "stream",
     "text": [
      "\n",
      " 68%|██████▊   | 341/498 [19:26<08:24,  3.21s/it]\u001B[A"
     ]
    },
    {
     "name": "stdout",
     "output_type": "stream",
     "text": [
      "[TransNetV2] Extracting frames from /media/daoan/T7 Shield2/AI_Challenge_2024_DATA/video_with_audio/Videos_L26/video/L26_V342.mp4\n",
      "[TransNetV2] Processing video frames 6700/7731"
     ]
    },
    {
     "name": "stderr",
     "output_type": "stream",
     "text": [
      "\n",
      " 69%|██████▊   | 342/498 [19:29<08:24,  3.23s/it]\u001B[A"
     ]
    },
    {
     "name": "stdout",
     "output_type": "stream",
     "text": [
      "[TransNetV2] Processing video frames 7731/7731\n",
      "./SceneJSON_2024/L26/V342.json\n",
      "[TransNetV2] Extracting frames from /media/daoan/T7 Shield2/AI_Challenge_2024_DATA/video_with_audio/Videos_L26/video/L26_V343.mp4\n",
      "[TransNetV2] Processing video frames 7550/7738"
     ]
    },
    {
     "name": "stderr",
     "output_type": "stream",
     "text": [
      "\n",
      " 69%|██████▉   | 343/498 [19:32<08:20,  3.23s/it]\u001B[A"
     ]
    },
    {
     "name": "stdout",
     "output_type": "stream",
     "text": [
      "[TransNetV2] Processing video frames 7738/7738\n",
      "./SceneJSON_2024/L26/V343.json\n",
      "[TransNetV2] Extracting frames from /media/daoan/T7 Shield2/AI_Challenge_2024_DATA/video_with_audio/Videos_L26/video/L26_V344.mp4\n",
      "[TransNetV2] Processing video frames 5800/7557"
     ]
    },
    {
     "name": "stderr",
     "output_type": "stream",
     "text": [
      "\n",
      " 69%|██████▉   | 344/498 [19:35<08:15,  3.22s/it]\u001B[A"
     ]
    },
    {
     "name": "stdout",
     "output_type": "stream",
     "text": [
      "[TransNetV2] Processing video frames 7557/7557\n",
      "./SceneJSON_2024/L26/V344.json\n",
      "[TransNetV2] Extracting frames from /media/daoan/T7 Shield2/AI_Challenge_2024_DATA/video_with_audio/Videos_L26/video/L26_V345.mp4\n",
      "[TransNetV2] Processing video frames 6950/7725"
     ]
    },
    {
     "name": "stderr",
     "output_type": "stream",
     "text": [
      "\n",
      " 69%|██████▉   | 345/498 [19:39<08:14,  3.23s/it]\u001B[A"
     ]
    },
    {
     "name": "stdout",
     "output_type": "stream",
     "text": [
      "[TransNetV2] Processing video frames 7725/7725\n",
      "./SceneJSON_2024/L26/V345.json\n",
      "[TransNetV2] Extracting frames from /media/daoan/T7 Shield2/AI_Challenge_2024_DATA/video_with_audio/Videos_L26/video/L26_V346.mp4\n",
      "[TransNetV2] Processing video frames 6850/7713"
     ]
    },
    {
     "name": "stderr",
     "output_type": "stream",
     "text": [
      "\n",
      " 69%|██████▉   | 346/498 [19:42<08:15,  3.26s/it]\u001B[A"
     ]
    },
    {
     "name": "stdout",
     "output_type": "stream",
     "text": [
      "[TransNetV2] Processing video frames 7713/7713\n",
      "./SceneJSON_2024/L26/V346.json\n",
      "[TransNetV2] Extracting frames from /media/daoan/T7 Shield2/AI_Challenge_2024_DATA/video_with_audio/Videos_L26/video/L26_V347.mp4\n",
      "[TransNetV2] Processing video frames 5850/7699"
     ]
    },
    {
     "name": "stderr",
     "output_type": "stream",
     "text": [
      "\n",
      " 70%|██████▉   | 347/498 [19:45<08:04,  3.21s/it]\u001B[A"
     ]
    },
    {
     "name": "stdout",
     "output_type": "stream",
     "text": [
      "[TransNetV2] Processing video frames 7699/7699\n",
      "./SceneJSON_2024/L26/V347.json\n",
      "[TransNetV2] Extracting frames from /media/daoan/T7 Shield2/AI_Challenge_2024_DATA/video_with_audio/Videos_L26/video/L26_V348.mp4\n",
      "[TransNetV2] Processing video frames 7450/7673"
     ]
    },
    {
     "name": "stderr",
     "output_type": "stream",
     "text": [
      "\n",
      " 70%|██████▉   | 348/498 [19:48<08:02,  3.22s/it]\u001B[A"
     ]
    },
    {
     "name": "stdout",
     "output_type": "stream",
     "text": [
      "[TransNetV2] Processing video frames 7673/7673\n",
      "./SceneJSON_2024/L26/V348.json\n",
      "[TransNetV2] Extracting frames from /media/daoan/T7 Shield2/AI_Challenge_2024_DATA/video_with_audio/Videos_L26/video/L26_V349.mp4\n",
      "[TransNetV2] Processing video frames 6950/7702"
     ]
    },
    {
     "name": "stderr",
     "output_type": "stream",
     "text": [
      "\n",
      " 70%|███████   | 349/498 [19:52<08:03,  3.24s/it]\u001B[A"
     ]
    },
    {
     "name": "stdout",
     "output_type": "stream",
     "text": [
      "[TransNetV2] Processing video frames 7702/7702\n",
      "./SceneJSON_2024/L26/V349.json\n",
      "[TransNetV2] Extracting frames from /media/daoan/T7 Shield2/AI_Challenge_2024_DATA/video_with_audio/Videos_L26/video/L26_V350.mp4\n",
      "[TransNetV2] Processing video frames 7550/7702"
     ]
    },
    {
     "name": "stderr",
     "output_type": "stream",
     "text": [
      "\n",
      " 70%|███████   | 350/498 [19:55<07:58,  3.24s/it]\u001B[A"
     ]
    },
    {
     "name": "stdout",
     "output_type": "stream",
     "text": [
      "[TransNetV2] Processing video frames 7702/7702\n",
      "./SceneJSON_2024/L26/V350.json\n",
      "[TransNetV2] Extracting frames from /media/daoan/T7 Shield2/AI_Challenge_2024_DATA/video_with_audio/Videos_L26/video/L26_V351.mp4\n",
      "[TransNetV2] Processing video frames 7500/7705"
     ]
    },
    {
     "name": "stderr",
     "output_type": "stream",
     "text": [
      "\n",
      " 70%|███████   | 351/498 [19:58<07:50,  3.20s/it]\u001B[A"
     ]
    },
    {
     "name": "stdout",
     "output_type": "stream",
     "text": [
      "[TransNetV2] Processing video frames 7705/7705\n",
      "./SceneJSON_2024/L26/V351.json\n",
      "[TransNetV2] Extracting frames from /media/daoan/T7 Shield2/AI_Challenge_2024_DATA/video_with_audio/Videos_L26/video/L26_V352.mp4\n",
      "[TransNetV2] Processing video frames 6550/7731"
     ]
    },
    {
     "name": "stderr",
     "output_type": "stream",
     "text": [
      "\n",
      " 71%|███████   | 352/498 [20:01<07:55,  3.26s/it]\u001B[A"
     ]
    },
    {
     "name": "stdout",
     "output_type": "stream",
     "text": [
      "[TransNetV2] Processing video frames 7731/7731\n",
      "./SceneJSON_2024/L26/V352.json\n",
      "[TransNetV2] Extracting frames from /media/daoan/T7 Shield2/AI_Challenge_2024_DATA/video_with_audio/Videos_L26/video/L26_V353.mp4\n",
      "[TransNetV2] Processing video frames 6750/7671"
     ]
    },
    {
     "name": "stderr",
     "output_type": "stream",
     "text": [
      "\n",
      " 71%|███████   | 353/498 [20:05<07:55,  3.28s/it]\u001B[A"
     ]
    },
    {
     "name": "stdout",
     "output_type": "stream",
     "text": [
      "[TransNetV2] Processing video frames 7671/7671\n",
      "./SceneJSON_2024/L26/V353.json\n",
      "[TransNetV2] Extracting frames from /media/daoan/T7 Shield2/AI_Challenge_2024_DATA/video_with_audio/Videos_L26/video/L26_V354.mp4\n",
      "[TransNetV2] Processing video frames 7300/7698"
     ]
    },
    {
     "name": "stderr",
     "output_type": "stream",
     "text": [
      "\n",
      " 71%|███████   | 354/498 [20:08<07:55,  3.30s/it]\u001B[A"
     ]
    },
    {
     "name": "stdout",
     "output_type": "stream",
     "text": [
      "[TransNetV2] Processing video frames 7698/7698\n",
      "./SceneJSON_2024/L26/V354.json\n",
      "[TransNetV2] Extracting frames from /media/daoan/T7 Shield2/AI_Challenge_2024_DATA/video_with_audio/Videos_L26/video/L26_V355.mp4\n",
      "[TransNetV2] Processing video frames 7100/7664"
     ]
    },
    {
     "name": "stderr",
     "output_type": "stream",
     "text": [
      "\n",
      " 71%|███████▏  | 355/498 [20:11<07:55,  3.32s/it]\u001B[A"
     ]
    },
    {
     "name": "stdout",
     "output_type": "stream",
     "text": [
      "[TransNetV2] Processing video frames 7664/7664\n",
      "./SceneJSON_2024/L26/V355.json\n",
      "[TransNetV2] Extracting frames from /media/daoan/T7 Shield2/AI_Challenge_2024_DATA/video_with_audio/Videos_L26/video/L26_V356.mp4\n",
      "[TransNetV2] Processing video frames 6750/7720"
     ]
    },
    {
     "name": "stderr",
     "output_type": "stream",
     "text": [
      "\n",
      " 71%|███████▏  | 356/498 [20:15<07:56,  3.36s/it]\u001B[A"
     ]
    },
    {
     "name": "stdout",
     "output_type": "stream",
     "text": [
      "[TransNetV2] Processing video frames 7720/7720\n",
      "./SceneJSON_2024/L26/V356.json\n",
      "[TransNetV2] Extracting frames from /media/daoan/T7 Shield2/AI_Challenge_2024_DATA/video_with_audio/Videos_L26/video/L26_V357.mp4\n",
      "[TransNetV2] Processing video frames 6550/7516"
     ]
    },
    {
     "name": "stderr",
     "output_type": "stream",
     "text": [
      "\n",
      " 72%|███████▏  | 357/498 [20:18<07:53,  3.36s/it]\u001B[A"
     ]
    },
    {
     "name": "stdout",
     "output_type": "stream",
     "text": [
      "[TransNetV2] Processing video frames 7516/7516\n",
      "./SceneJSON_2024/L26/V357.json\n",
      "[TransNetV2] Extracting frames from /media/daoan/T7 Shield2/AI_Challenge_2024_DATA/video_with_audio/Videos_L26/video/L26_V358.mp4\n",
      "[TransNetV2] Processing video frames 7687/7687\n"
     ]
    },
    {
     "name": "stderr",
     "output_type": "stream",
     "text": [
      "\n",
      " 72%|███████▏  | 358/498 [20:21<07:39,  3.28s/it]\u001B[A"
     ]
    },
    {
     "name": "stdout",
     "output_type": "stream",
     "text": [
      "./SceneJSON_2024/L26/V358.json\n",
      "[TransNetV2] Extracting frames from /media/daoan/T7 Shield2/AI_Challenge_2024_DATA/video_with_audio/Videos_L26/video/L26_V359.mp4\n",
      "[TransNetV2] Processing video frames 7739/7739\n",
      "./SceneJSON_2024/L26/V359.json\n"
     ]
    },
    {
     "name": "stderr",
     "output_type": "stream",
     "text": [
      "\n",
      " 72%|███████▏  | 359/498 [20:25<07:37,  3.29s/it]\u001B[A"
     ]
    },
    {
     "name": "stdout",
     "output_type": "stream",
     "text": [
      "[TransNetV2] Extracting frames from /media/daoan/T7 Shield2/AI_Challenge_2024_DATA/video_with_audio/Videos_L26/video/L26_V360.mp4\n",
      "[TransNetV2] Processing video frames 7560/7560\n",
      "./SceneJSON_2024/L26/V360.json\n"
     ]
    },
    {
     "name": "stderr",
     "output_type": "stream",
     "text": [
      "\n",
      " 72%|███████▏  | 360/498 [20:28<07:34,  3.29s/it]\u001B[A"
     ]
    },
    {
     "name": "stdout",
     "output_type": "stream",
     "text": [
      "[TransNetV2] Extracting frames from /media/daoan/T7 Shield2/AI_Challenge_2024_DATA/video_with_audio/Videos_L26/video/L26_V361.mp4\n",
      "[TransNetV2] Processing video frames 7050/7627"
     ]
    },
    {
     "name": "stderr",
     "output_type": "stream",
     "text": [
      "\n",
      " 72%|███████▏  | 361/498 [20:31<07:23,  3.24s/it]\u001B[A"
     ]
    },
    {
     "name": "stdout",
     "output_type": "stream",
     "text": [
      "[TransNetV2] Processing video frames 7627/7627\n",
      "./SceneJSON_2024/L26/V361.json\n",
      "[TransNetV2] Extracting frames from /media/daoan/T7 Shield2/AI_Challenge_2024_DATA/video_with_audio/Videos_L26/video/L26_V362.mp4\n",
      "[TransNetV2] Processing video frames 5800/7527"
     ]
    },
    {
     "name": "stderr",
     "output_type": "stream",
     "text": [
      "\n",
      " 73%|███████▎  | 362/498 [20:34<07:19,  3.23s/it]\u001B[A"
     ]
    },
    {
     "name": "stdout",
     "output_type": "stream",
     "text": [
      "[TransNetV2] Processing video frames 7527/7527\n",
      "./SceneJSON_2024/L26/V362.json\n",
      "[TransNetV2] Extracting frames from /media/daoan/T7 Shield2/AI_Challenge_2024_DATA/video_with_audio/Videos_L26/video/L26_V363.mp4\n",
      "[TransNetV2] Processing video frames 5900/7502"
     ]
    },
    {
     "name": "stderr",
     "output_type": "stream",
     "text": [
      "\n",
      " 73%|███████▎  | 363/498 [20:37<07:16,  3.23s/it]\u001B[A"
     ]
    },
    {
     "name": "stdout",
     "output_type": "stream",
     "text": [
      "[TransNetV2] Processing video frames 7502/7502\n",
      "./SceneJSON_2024/L26/V363.json\n",
      "[TransNetV2] Extracting frames from /media/daoan/T7 Shield2/AI_Challenge_2024_DATA/video_with_audio/Videos_L26/video/L26_V364.mp4\n",
      "[TransNetV2] Processing video frames 7050/7564"
     ]
    },
    {
     "name": "stderr",
     "output_type": "stream",
     "text": [
      "\n",
      " 73%|███████▎  | 364/498 [20:41<07:19,  3.28s/it]\u001B[A"
     ]
    },
    {
     "name": "stdout",
     "output_type": "stream",
     "text": [
      "[TransNetV2] Processing video frames 7564/7564\n",
      "./SceneJSON_2024/L26/V364.json\n",
      "[TransNetV2] Extracting frames from /media/daoan/T7 Shield2/AI_Challenge_2024_DATA/video_with_audio/Videos_L26/video/L26_V365.mp4\n",
      "[TransNetV2] Processing video frames 7450/7654"
     ]
    },
    {
     "name": "stderr",
     "output_type": "stream",
     "text": [
      "\n",
      " 73%|███████▎  | 365/498 [20:44<07:28,  3.37s/it]\u001B[A"
     ]
    },
    {
     "name": "stdout",
     "output_type": "stream",
     "text": [
      "[TransNetV2] Processing video frames 7654/7654\n",
      "./SceneJSON_2024/L26/V365.json\n",
      "[TransNetV2] Extracting frames from /media/daoan/T7 Shield2/AI_Challenge_2024_DATA/video_with_audio/Videos_L26/video/L26_V366.mp4\n",
      "[TransNetV2] Processing video frames 6900/7740"
     ]
    },
    {
     "name": "stderr",
     "output_type": "stream",
     "text": [
      "\n",
      " 73%|███████▎  | 366/498 [20:48<07:34,  3.44s/it]\u001B[A"
     ]
    },
    {
     "name": "stdout",
     "output_type": "stream",
     "text": [
      "[TransNetV2] Processing video frames 7740/7740\n",
      "./SceneJSON_2024/L26/V366.json\n",
      "[TransNetV2] Extracting frames from /media/daoan/T7 Shield2/AI_Challenge_2024_DATA/video_with_audio/Videos_L26/video/L26_V367.mp4\n",
      "[TransNetV2] Processing video frames 7350/7698"
     ]
    },
    {
     "name": "stderr",
     "output_type": "stream",
     "text": [
      "\n",
      " 74%|███████▎  | 367/498 [20:51<07:20,  3.36s/it]\u001B[A"
     ]
    },
    {
     "name": "stdout",
     "output_type": "stream",
     "text": [
      "[TransNetV2] Processing video frames 7698/7698\n",
      "./SceneJSON_2024/L26/V367.json\n",
      "[TransNetV2] Extracting frames from /media/daoan/T7 Shield2/AI_Challenge_2024_DATA/video_with_audio/Videos_L26/video/L26_V368.mp4\n",
      "[TransNetV2] Processing video frames 7400/7710"
     ]
    },
    {
     "name": "stderr",
     "output_type": "stream",
     "text": [
      "\n",
      " 74%|███████▍  | 368/498 [20:54<07:12,  3.32s/it]\u001B[A"
     ]
    },
    {
     "name": "stdout",
     "output_type": "stream",
     "text": [
      "[TransNetV2] Processing video frames 7710/7710\n",
      "./SceneJSON_2024/L26/V368.json\n",
      "[TransNetV2] Extracting frames from /media/daoan/T7 Shield2/AI_Challenge_2024_DATA/video_with_audio/Videos_L26/video/L26_V369.mp4\n",
      "[TransNetV2] Processing video frames 6950/7679"
     ]
    },
    {
     "name": "stderr",
     "output_type": "stream",
     "text": [
      "\n",
      " 74%|███████▍  | 369/498 [20:58<07:04,  3.29s/it]\u001B[A"
     ]
    },
    {
     "name": "stdout",
     "output_type": "stream",
     "text": [
      "[TransNetV2] Processing video frames 7679/7679\n",
      "./SceneJSON_2024/L26/V369.json\n",
      "[TransNetV2] Extracting frames from /media/daoan/T7 Shield2/AI_Challenge_2024_DATA/video_with_audio/Videos_L26/video/L26_V370.mp4\n",
      "[TransNetV2] Processing video frames 6750/7763"
     ]
    },
    {
     "name": "stderr",
     "output_type": "stream",
     "text": [
      "\n",
      " 74%|███████▍  | 370/498 [21:01<07:05,  3.32s/it]\u001B[A"
     ]
    },
    {
     "name": "stdout",
     "output_type": "stream",
     "text": [
      "[TransNetV2] Processing video frames 7763/7763\n",
      "./SceneJSON_2024/L26/V370.json\n",
      "[TransNetV2] Extracting frames from /media/daoan/T7 Shield2/AI_Challenge_2024_DATA/video_with_audio/Videos_L26/video/L26_V371.mp4\n",
      "[TransNetV2] Processing video frames 7671/7671\n"
     ]
    },
    {
     "name": "stderr",
     "output_type": "stream",
     "text": [
      "\n",
      " 74%|███████▍  | 371/498 [21:04<06:58,  3.30s/it]\u001B[A"
     ]
    },
    {
     "name": "stdout",
     "output_type": "stream",
     "text": [
      "./SceneJSON_2024/L26/V371.json\n",
      "[TransNetV2] Extracting frames from /media/daoan/T7 Shield2/AI_Challenge_2024_DATA/video_with_audio/Videos_L26/video/L26_V372.mp4\n",
      "[TransNetV2] Processing video frames 7700/7748"
     ]
    },
    {
     "name": "stderr",
     "output_type": "stream",
     "text": [
      "\n",
      " 75%|███████▍  | 372/498 [21:07<06:49,  3.25s/it]\u001B[A"
     ]
    },
    {
     "name": "stdout",
     "output_type": "stream",
     "text": [
      "[TransNetV2] Processing video frames 7748/7748\n",
      "./SceneJSON_2024/L26/V372.json\n",
      "[TransNetV2] Extracting frames from /media/daoan/T7 Shield2/AI_Challenge_2024_DATA/video_with_audio/Videos_L26/video/L26_V373.mp4\n",
      "[TransNetV2] Processing video frames 6800/7748"
     ]
    },
    {
     "name": "stderr",
     "output_type": "stream",
     "text": [
      "\n",
      " 75%|███████▍  | 373/498 [21:11<06:50,  3.29s/it]\u001B[A"
     ]
    },
    {
     "name": "stdout",
     "output_type": "stream",
     "text": [
      "[TransNetV2] Processing video frames 7748/7748\n",
      "./SceneJSON_2024/L26/V373.json\n",
      "[TransNetV2] Extracting frames from /media/daoan/T7 Shield2/AI_Challenge_2024_DATA/video_with_audio/Videos_L26/video/L26_V374.mp4\n",
      "[TransNetV2] Processing video frames 6750/7691"
     ]
    },
    {
     "name": "stderr",
     "output_type": "stream",
     "text": [
      "\n",
      " 75%|███████▌  | 374/498 [21:14<06:50,  3.31s/it]\u001B[A"
     ]
    },
    {
     "name": "stdout",
     "output_type": "stream",
     "text": [
      "[TransNetV2] Processing video frames 7691/7691\n",
      "./SceneJSON_2024/L26/V374.json\n",
      "[TransNetV2] Extracting frames from /media/daoan/T7 Shield2/AI_Challenge_2024_DATA/video_with_audio/Videos_L26/video/L26_V375.mp4\n",
      "[TransNetV2] Processing video frames 7550/7677"
     ]
    },
    {
     "name": "stderr",
     "output_type": "stream",
     "text": [
      "\n",
      " 75%|███████▌  | 375/498 [21:17<06:40,  3.26s/it]\u001B[A"
     ]
    },
    {
     "name": "stdout",
     "output_type": "stream",
     "text": [
      "[TransNetV2] Processing video frames 7677/7677\n",
      "./SceneJSON_2024/L26/V375.json\n",
      "[TransNetV2] Extracting frames from /media/daoan/T7 Shield2/AI_Challenge_2024_DATA/video_with_audio/Videos_L26/video/L26_V376.mp4\n",
      "[TransNetV2] Processing video frames 7550/7647"
     ]
    },
    {
     "name": "stderr",
     "output_type": "stream",
     "text": [
      "\n",
      " 76%|███████▌  | 376/498 [21:20<06:32,  3.22s/it]\u001B[A"
     ]
    },
    {
     "name": "stdout",
     "output_type": "stream",
     "text": [
      "[TransNetV2] Processing video frames 7647/7647\n",
      "./SceneJSON_2024/L26/V376.json\n",
      "[TransNetV2] Extracting frames from /media/daoan/T7 Shield2/AI_Challenge_2024_DATA/video_with_audio/Videos_L26/video/L26_V377.mp4\n",
      "[TransNetV2] Processing video frames 6750/7685"
     ]
    },
    {
     "name": "stderr",
     "output_type": "stream",
     "text": [
      "\n",
      " 76%|███████▌  | 377/498 [21:24<06:34,  3.26s/it]\u001B[A"
     ]
    },
    {
     "name": "stdout",
     "output_type": "stream",
     "text": [
      "[TransNetV2] Processing video frames 7685/7685\n",
      "./SceneJSON_2024/L26/V377.json\n",
      "[TransNetV2] Extracting frames from /media/daoan/T7 Shield2/AI_Challenge_2024_DATA/video_with_audio/Videos_L26/video/L26_V378.mp4\n",
      "[TransNetV2] Processing video frames 7000/7728"
     ]
    },
    {
     "name": "stderr",
     "output_type": "stream",
     "text": [
      "\n",
      " 76%|███████▌  | 378/498 [21:27<06:35,  3.29s/it]\u001B[A"
     ]
    },
    {
     "name": "stdout",
     "output_type": "stream",
     "text": [
      "[TransNetV2] Processing video frames 7728/7728\n",
      "./SceneJSON_2024/L26/V378.json\n",
      "[TransNetV2] Extracting frames from /media/daoan/T7 Shield2/AI_Challenge_2024_DATA/video_with_audio/Videos_L26/video/L26_V379.mp4\n",
      "[TransNetV2] Processing video frames 5850/7650"
     ]
    },
    {
     "name": "stderr",
     "output_type": "stream",
     "text": [
      "\n",
      " 76%|███████▌  | 379/498 [21:30<06:23,  3.22s/it]\u001B[A"
     ]
    },
    {
     "name": "stdout",
     "output_type": "stream",
     "text": [
      "[TransNetV2] Processing video frames 7650/7650\n",
      "./SceneJSON_2024/L26/V379.json\n",
      "[TransNetV2] Extracting frames from /media/daoan/T7 Shield2/AI_Challenge_2024_DATA/video_with_audio/Videos_L26/video/L26_V380.mp4\n",
      "[TransNetV2] Processing video frames 6650/7648"
     ]
    },
    {
     "name": "stderr",
     "output_type": "stream",
     "text": [
      "\n",
      " 76%|███████▋  | 380/498 [21:34<06:23,  3.25s/it]\u001B[A"
     ]
    },
    {
     "name": "stdout",
     "output_type": "stream",
     "text": [
      "[TransNetV2] Processing video frames 7648/7648\n",
      "./SceneJSON_2024/L26/V380.json\n",
      "[TransNetV2] Extracting frames from /media/daoan/T7 Shield2/AI_Challenge_2024_DATA/video_with_audio/Videos_L26/video/L26_V381.mp4\n",
      "[TransNetV2] Processing video frames 6950/7694"
     ]
    },
    {
     "name": "stderr",
     "output_type": "stream",
     "text": [
      "\n",
      " 77%|███████▋  | 381/498 [21:37<06:22,  3.27s/it]\u001B[A"
     ]
    },
    {
     "name": "stdout",
     "output_type": "stream",
     "text": [
      "[TransNetV2] Processing video frames 7694/7694\n",
      "./SceneJSON_2024/L26/V381.json\n",
      "[TransNetV2] Extracting frames from /media/daoan/T7 Shield2/AI_Challenge_2024_DATA/video_with_audio/Videos_L26/video/L26_V382.mp4\n",
      "[TransNetV2] Processing video frames 7450/7710"
     ]
    },
    {
     "name": "stderr",
     "output_type": "stream",
     "text": [
      "\n",
      " 77%|███████▋  | 382/498 [21:40<06:14,  3.23s/it]\u001B[A"
     ]
    },
    {
     "name": "stdout",
     "output_type": "stream",
     "text": [
      "[TransNetV2] Processing video frames 7710/7710\n",
      "./SceneJSON_2024/L26/V382.json\n",
      "[TransNetV2] Extracting frames from /media/daoan/T7 Shield2/AI_Challenge_2024_DATA/video_with_audio/Videos_L26/video/L26_V383.mp4\n",
      "[TransNetV2] Processing video frames 7550/7672"
     ]
    },
    {
     "name": "stderr",
     "output_type": "stream",
     "text": [
      "\n",
      " 77%|███████▋  | 383/498 [21:43<06:12,  3.24s/it]\u001B[A"
     ]
    },
    {
     "name": "stdout",
     "output_type": "stream",
     "text": [
      "[TransNetV2] Processing video frames 7672/7672\n",
      "./SceneJSON_2024/L26/V383.json\n",
      "[TransNetV2] Extracting frames from /media/daoan/T7 Shield2/AI_Challenge_2024_DATA/video_with_audio/Videos_L26/video/L26_V384.mp4\n",
      "[TransNetV2] Processing video frames 7250/7741"
     ]
    },
    {
     "name": "stderr",
     "output_type": "stream",
     "text": [
      "\n",
      " 77%|███████▋  | 384/498 [21:47<06:10,  3.25s/it]\u001B[A"
     ]
    },
    {
     "name": "stdout",
     "output_type": "stream",
     "text": [
      "[TransNetV2] Processing video frames 7741/7741\n",
      "./SceneJSON_2024/L26/V384.json\n",
      "[TransNetV2] Extracting frames from /media/daoan/T7 Shield2/AI_Challenge_2024_DATA/video_with_audio/Videos_L26/video/L26_V385.mp4\n",
      "[TransNetV2] Processing video frames 7600/7734"
     ]
    },
    {
     "name": "stderr",
     "output_type": "stream",
     "text": [
      "\n",
      " 77%|███████▋  | 385/498 [21:50<06:05,  3.23s/it]\u001B[A"
     ]
    },
    {
     "name": "stdout",
     "output_type": "stream",
     "text": [
      "[TransNetV2] Processing video frames 7734/7734\n",
      "./SceneJSON_2024/L26/V385.json\n",
      "[TransNetV2] Extracting frames from /media/daoan/T7 Shield2/AI_Challenge_2024_DATA/video_with_audio/Videos_L26/video/L26_V386.mp4\n",
      "[TransNetV2] Processing video frames 7694/7694\n"
     ]
    },
    {
     "name": "stderr",
     "output_type": "stream",
     "text": [
      "\n",
      " 78%|███████▊  | 386/498 [21:53<05:59,  3.21s/it]\u001B[A"
     ]
    },
    {
     "name": "stdout",
     "output_type": "stream",
     "text": [
      "./SceneJSON_2024/L26/V386.json\n",
      "[TransNetV2] Extracting frames from /media/daoan/T7 Shield2/AI_Challenge_2024_DATA/video_with_audio/Videos_L26/video/L26_V387.mp4\n",
      "[TransNetV2] Processing video frames 6700/7522"
     ]
    },
    {
     "name": "stderr",
     "output_type": "stream",
     "text": [
      "\n",
      " 78%|███████▊  | 387/498 [21:56<05:57,  3.22s/it]\u001B[A"
     ]
    },
    {
     "name": "stdout",
     "output_type": "stream",
     "text": [
      "[TransNetV2] Processing video frames 7522/7522\n",
      "./SceneJSON_2024/L26/V387.json\n",
      "[TransNetV2] Extracting frames from /media/daoan/T7 Shield2/AI_Challenge_2024_DATA/video_with_audio/Videos_L26/video/L26_V388.mp4\n",
      "[TransNetV2] Processing video frames 6800/7704"
     ]
    },
    {
     "name": "stderr",
     "output_type": "stream",
     "text": [
      "\n",
      " 78%|███████▊  | 388/498 [21:59<05:56,  3.24s/it]\u001B[A"
     ]
    },
    {
     "name": "stdout",
     "output_type": "stream",
     "text": [
      "[TransNetV2] Processing video frames 7704/7704\n",
      "./SceneJSON_2024/L26/V388.json\n",
      "[TransNetV2] Extracting frames from /media/daoan/T7 Shield2/AI_Challenge_2024_DATA/video_with_audio/Videos_L26/video/L26_V389.mp4\n",
      "[TransNetV2] Processing video frames 7648/7648\n",
      "./SceneJSON_2024/L26/V389.json\n"
     ]
    },
    {
     "name": "stderr",
     "output_type": "stream",
     "text": [
      "\n",
      " 78%|███████▊  | 389/498 [22:03<05:51,  3.22s/it]\u001B[A"
     ]
    },
    {
     "name": "stdout",
     "output_type": "stream",
     "text": [
      "[TransNetV2] Extracting frames from /media/daoan/T7 Shield2/AI_Challenge_2024_DATA/video_with_audio/Videos_L26/video/L26_V390.mp4\n",
      "[TransNetV2] Processing video frames 5750/7606"
     ]
    },
    {
     "name": "stderr",
     "output_type": "stream",
     "text": [
      "\n",
      " 78%|███████▊  | 390/498 [22:06<05:43,  3.18s/it]\u001B[A"
     ]
    },
    {
     "name": "stdout",
     "output_type": "stream",
     "text": [
      "[TransNetV2] Processing video frames 7606/7606\n",
      "./SceneJSON_2024/L26/V390.json\n",
      "[TransNetV2] Extracting frames from /media/daoan/T7 Shield2/AI_Challenge_2024_DATA/video_with_audio/Videos_L26/video/L26_V391.mp4\n",
      "[TransNetV2] Processing video frames 6900/7686"
     ]
    },
    {
     "name": "stderr",
     "output_type": "stream",
     "text": [
      "\n",
      " 79%|███████▊  | 391/498 [22:09<05:44,  3.22s/it]\u001B[A"
     ]
    },
    {
     "name": "stdout",
     "output_type": "stream",
     "text": [
      "[TransNetV2] Processing video frames 7686/7686\n",
      "./SceneJSON_2024/L26/V391.json\n",
      "[TransNetV2] Extracting frames from /media/daoan/T7 Shield2/AI_Challenge_2024_DATA/video_with_audio/Videos_L26/video/L26_V392.mp4\n",
      "[TransNetV2] Processing video frames 7000/7673"
     ]
    },
    {
     "name": "stderr",
     "output_type": "stream",
     "text": [
      "\n",
      " 79%|███████▊  | 392/498 [22:12<05:46,  3.26s/it]\u001B[A"
     ]
    },
    {
     "name": "stdout",
     "output_type": "stream",
     "text": [
      "[TransNetV2] Processing video frames 7673/7673\n",
      "./SceneJSON_2024/L26/V392.json\n",
      "[TransNetV2] Extracting frames from /media/daoan/T7 Shield2/AI_Challenge_2024_DATA/video_with_audio/Videos_L26/video/L26_V393.mp4\n",
      "[TransNetV2] Processing video frames 5900/7686"
     ]
    },
    {
     "name": "stderr",
     "output_type": "stream",
     "text": [
      "\n",
      " 79%|███████▉  | 393/498 [22:15<05:38,  3.22s/it]\u001B[A"
     ]
    },
    {
     "name": "stdout",
     "output_type": "stream",
     "text": [
      "[TransNetV2] Processing video frames 7686/7686\n",
      "./SceneJSON_2024/L26/V393.json\n",
      "[TransNetV2] Extracting frames from /media/daoan/T7 Shield2/AI_Challenge_2024_DATA/video_with_audio/Videos_L26/video/L26_V394.mp4\n",
      "[TransNetV2] Processing video frames 7690/7690\n"
     ]
    },
    {
     "name": "stderr",
     "output_type": "stream",
     "text": [
      "\n",
      " 79%|███████▉  | 394/498 [22:19<05:33,  3.21s/it]\u001B[A"
     ]
    },
    {
     "name": "stdout",
     "output_type": "stream",
     "text": [
      "./SceneJSON_2024/L26/V394.json\n",
      "[TransNetV2] Extracting frames from /media/daoan/T7 Shield2/AI_Challenge_2024_DATA/video_with_audio/Videos_L26/video/L26_V395.mp4\n",
      "[TransNetV2] Processing video frames 6900/7671"
     ]
    },
    {
     "name": "stderr",
     "output_type": "stream",
     "text": [
      "\n",
      " 79%|███████▉  | 395/498 [22:22<05:35,  3.26s/it]\u001B[A"
     ]
    },
    {
     "name": "stdout",
     "output_type": "stream",
     "text": [
      "[TransNetV2] Processing video frames 7671/7671\n",
      "./SceneJSON_2024/L26/V395.json\n",
      "[TransNetV2] Extracting frames from /media/daoan/T7 Shield2/AI_Challenge_2024_DATA/video_with_audio/Videos_L26/video/L26_V396.mp4\n",
      "[TransNetV2] Processing video frames 7300/7658"
     ]
    },
    {
     "name": "stderr",
     "output_type": "stream",
     "text": [
      "\n",
      " 80%|███████▉  | 396/498 [22:25<05:34,  3.28s/it]\u001B[A"
     ]
    },
    {
     "name": "stdout",
     "output_type": "stream",
     "text": [
      "[TransNetV2] Processing video frames 7658/7658\n",
      "./SceneJSON_2024/L26/V396.json\n",
      "[TransNetV2] Extracting frames from /media/daoan/T7 Shield2/AI_Challenge_2024_DATA/video_with_audio/Videos_L26/video/L26_V397.mp4\n",
      "[TransNetV2] Processing video frames 5950/7710"
     ]
    },
    {
     "name": "stderr",
     "output_type": "stream",
     "text": [
      "\n",
      " 80%|███████▉  | 397/498 [22:29<05:29,  3.27s/it]\u001B[A"
     ]
    },
    {
     "name": "stdout",
     "output_type": "stream",
     "text": [
      "[TransNetV2] Processing video frames 7710/7710\n",
      "./SceneJSON_2024/L26/V397.json\n",
      "[TransNetV2] Extracting frames from /media/daoan/T7 Shield2/AI_Challenge_2024_DATA/video_with_audio/Videos_L26/video/L26_V398.mp4\n",
      "[TransNetV2] Processing video frames 7700/7747"
     ]
    },
    {
     "name": "stderr",
     "output_type": "stream",
     "text": [
      "\n",
      " 80%|███████▉  | 398/498 [22:32<05:27,  3.28s/it]\u001B[A"
     ]
    },
    {
     "name": "stdout",
     "output_type": "stream",
     "text": [
      "[TransNetV2] Processing video frames 7747/7747\n",
      "./SceneJSON_2024/L26/V398.json\n",
      "[TransNetV2] Extracting frames from /media/daoan/T7 Shield2/AI_Challenge_2024_DATA/video_with_audio/Videos_L26/video/L26_V399.mp4\n",
      "[TransNetV2] Processing video frames 6800/7685"
     ]
    },
    {
     "name": "stderr",
     "output_type": "stream",
     "text": [
      "\n",
      " 80%|████████  | 399/498 [22:35<05:26,  3.30s/it]\u001B[A"
     ]
    },
    {
     "name": "stdout",
     "output_type": "stream",
     "text": [
      "[TransNetV2] Processing video frames 7685/7685\n",
      "./SceneJSON_2024/L26/V399.json\n",
      "[TransNetV2] Extracting frames from /media/daoan/T7 Shield2/AI_Challenge_2024_DATA/video_with_audio/Videos_L26/video/L26_V400.mp4\n",
      "[TransNetV2] Processing video frames 6750/7532"
     ]
    },
    {
     "name": "stderr",
     "output_type": "stream",
     "text": [
      "\n",
      " 80%|████████  | 400/498 [22:39<05:25,  3.32s/it]\u001B[A"
     ]
    },
    {
     "name": "stdout",
     "output_type": "stream",
     "text": [
      "[TransNetV2] Processing video frames 7532/7532\n",
      "./SceneJSON_2024/L26/V400.json\n",
      "[TransNetV2] Extracting frames from /media/daoan/T7 Shield2/AI_Challenge_2024_DATA/video_with_audio/Videos_L26/video/L26_V401.mp4\n",
      "[TransNetV2] Processing video frames 7550/7711"
     ]
    },
    {
     "name": "stderr",
     "output_type": "stream",
     "text": [
      "\n",
      " 81%|████████  | 401/498 [22:42<05:20,  3.30s/it]\u001B[A"
     ]
    },
    {
     "name": "stdout",
     "output_type": "stream",
     "text": [
      "[TransNetV2] Processing video frames 7711/7711\n",
      "./SceneJSON_2024/L26/V401.json\n",
      "[TransNetV2] Extracting frames from /media/daoan/T7 Shield2/AI_Challenge_2024_DATA/video_with_audio/Videos_L26/video/L26_V402.mp4\n",
      "[TransNetV2] Processing video frames 5800/7527"
     ]
    },
    {
     "name": "stderr",
     "output_type": "stream",
     "text": [
      "\n",
      " 81%|████████  | 402/498 [22:45<05:11,  3.25s/it]\u001B[A"
     ]
    },
    {
     "name": "stdout",
     "output_type": "stream",
     "text": [
      "[TransNetV2] Processing video frames 7527/7527\n",
      "./SceneJSON_2024/L26/V402.json\n",
      "[TransNetV2] Extracting frames from /media/daoan/T7 Shield2/AI_Challenge_2024_DATA/video_with_audio/Videos_L26/video/L26_V403.mp4\n",
      "[TransNetV2] Processing video frames 6800/7682"
     ]
    },
    {
     "name": "stderr",
     "output_type": "stream",
     "text": [
      "\n",
      " 81%|████████  | 403/498 [22:48<05:08,  3.25s/it]\u001B[A"
     ]
    },
    {
     "name": "stdout",
     "output_type": "stream",
     "text": [
      "[TransNetV2] Processing video frames 7682/7682\n",
      "./SceneJSON_2024/L26/V403.json\n",
      "[TransNetV2] Extracting frames from /media/daoan/T7 Shield2/AI_Challenge_2024_DATA/video_with_audio/Videos_L26/video/L26_V404.mp4\n",
      "[TransNetV2] Processing video frames 7000/7726"
     ]
    },
    {
     "name": "stderr",
     "output_type": "stream",
     "text": [
      "\n",
      " 81%|████████  | 404/498 [22:52<05:08,  3.28s/it]\u001B[A"
     ]
    },
    {
     "name": "stdout",
     "output_type": "stream",
     "text": [
      "[TransNetV2] Processing video frames 7726/7726\n",
      "./SceneJSON_2024/L26/V404.json\n",
      "[TransNetV2] Extracting frames from /media/daoan/T7 Shield2/AI_Challenge_2024_DATA/video_with_audio/Videos_L26/video/L26_V405.mp4\n",
      "[TransNetV2] Processing video frames 7200/7738"
     ]
    },
    {
     "name": "stderr",
     "output_type": "stream",
     "text": [
      "\n",
      " 81%|████████▏ | 405/498 [22:55<05:06,  3.29s/it]\u001B[A"
     ]
    },
    {
     "name": "stdout",
     "output_type": "stream",
     "text": [
      "[TransNetV2] Processing video frames 7738/7738\n",
      "./SceneJSON_2024/L26/V405.json\n",
      "[TransNetV2] Extracting frames from /media/daoan/T7 Shield2/AI_Challenge_2024_DATA/video_with_audio/Videos_L26/video/L26_V406.mp4\n",
      "[TransNetV2] Processing video frames 7200/7713"
     ]
    },
    {
     "name": "stderr",
     "output_type": "stream",
     "text": [
      "\n",
      " 82%|████████▏ | 406/498 [22:58<05:03,  3.30s/it]\u001B[A"
     ]
    },
    {
     "name": "stdout",
     "output_type": "stream",
     "text": [
      "[TransNetV2] Processing video frames 7713/7713\n",
      "./SceneJSON_2024/L26/V406.json\n",
      "[TransNetV2] Extracting frames from /media/daoan/T7 Shield2/AI_Challenge_2024_DATA/video_with_audio/Videos_L26/video/L26_V407.mp4\n",
      "[TransNetV2] Processing video frames 7350/7728"
     ]
    },
    {
     "name": "stderr",
     "output_type": "stream",
     "text": [
      "\n",
      " 82%|████████▏ | 407/498 [23:01<04:56,  3.26s/it]\u001B[A"
     ]
    },
    {
     "name": "stdout",
     "output_type": "stream",
     "text": [
      "[TransNetV2] Processing video frames 7728/7728\n",
      "./SceneJSON_2024/L26/V407.json\n",
      "[TransNetV2] Extracting frames from /media/daoan/T7 Shield2/AI_Challenge_2024_DATA/video_with_audio/Videos_L26/video/L26_V408.mp4\n",
      "[TransNetV2] Processing video frames 6500/7735"
     ]
    },
    {
     "name": "stderr",
     "output_type": "stream",
     "text": [
      "\n",
      " 82%|████████▏ | 408/498 [23:05<04:58,  3.32s/it]\u001B[A"
     ]
    },
    {
     "name": "stdout",
     "output_type": "stream",
     "text": [
      "[TransNetV2] Processing video frames 7735/7735\n",
      "./SceneJSON_2024/L26/V408.json\n",
      "[TransNetV2] Extracting frames from /media/daoan/T7 Shield2/AI_Challenge_2024_DATA/video_with_audio/Videos_L26/video/L26_V409.mp4\n",
      "[TransNetV2] Processing video frames 5850/7558"
     ]
    },
    {
     "name": "stderr",
     "output_type": "stream",
     "text": [
      "\n",
      " 82%|████████▏ | 409/498 [23:08<04:48,  3.25s/it]\u001B[A"
     ]
    },
    {
     "name": "stdout",
     "output_type": "stream",
     "text": [
      "[TransNetV2] Processing video frames 7558/7558\n",
      "./SceneJSON_2024/L26/V409.json\n",
      "[TransNetV2] Extracting frames from /media/daoan/T7 Shield2/AI_Challenge_2024_DATA/video_with_audio/Videos_L26/video/L26_V410.mp4\n",
      "[TransNetV2] Processing video frames 7600/7681"
     ]
    },
    {
     "name": "stderr",
     "output_type": "stream",
     "text": [
      "\n",
      " 82%|████████▏ | 410/498 [23:11<04:44,  3.23s/it]\u001B[A"
     ]
    },
    {
     "name": "stdout",
     "output_type": "stream",
     "text": [
      "[TransNetV2] Processing video frames 7681/7681\n",
      "./SceneJSON_2024/L26/V410.json\n",
      "[TransNetV2] Extracting frames from /media/daoan/T7 Shield2/AI_Challenge_2024_DATA/video_with_audio/Videos_L26/video/L26_V411.mp4\n",
      "[TransNetV2] Processing video frames 6950/7690"
     ]
    },
    {
     "name": "stderr",
     "output_type": "stream",
     "text": [
      "\n",
      " 83%|████████▎ | 411/498 [23:14<04:41,  3.24s/it]\u001B[A"
     ]
    },
    {
     "name": "stdout",
     "output_type": "stream",
     "text": [
      "[TransNetV2] Processing video frames 7690/7690\n",
      "./SceneJSON_2024/L26/V411.json\n",
      "[TransNetV2] Extracting frames from /media/daoan/T7 Shield2/AI_Challenge_2024_DATA/video_with_audio/Videos_L26/video/L26_V412.mp4\n",
      "[TransNetV2] Processing video frames 5850/7636"
     ]
    },
    {
     "name": "stderr",
     "output_type": "stream",
     "text": [
      "\n",
      " 83%|████████▎ | 412/498 [23:17<04:33,  3.18s/it]\u001B[A"
     ]
    },
    {
     "name": "stdout",
     "output_type": "stream",
     "text": [
      "[TransNetV2] Processing video frames 7636/7636\n",
      "./SceneJSON_2024/L26/V412.json\n",
      "[TransNetV2] Extracting frames from /media/daoan/T7 Shield2/AI_Challenge_2024_DATA/video_with_audio/Videos_L26/video/L26_V413.mp4\n",
      "[TransNetV2] Processing video frames 5700/7287"
     ]
    },
    {
     "name": "stderr",
     "output_type": "stream",
     "text": [
      "\n",
      " 83%|████████▎ | 413/498 [23:20<04:25,  3.12s/it]\u001B[A"
     ]
    },
    {
     "name": "stdout",
     "output_type": "stream",
     "text": [
      "[TransNetV2] Processing video frames 7287/7287\n",
      "./SceneJSON_2024/L26/V413.json\n",
      "[TransNetV2] Extracting frames from /media/daoan/T7 Shield2/AI_Challenge_2024_DATA/video_with_audio/Videos_L26/video/L26_V414.mp4\n",
      "[TransNetV2] Processing video frames 7000/7710"
     ]
    },
    {
     "name": "stderr",
     "output_type": "stream",
     "text": [
      "\n",
      " 83%|████████▎ | 414/498 [23:24<04:25,  3.16s/it]\u001B[A"
     ]
    },
    {
     "name": "stdout",
     "output_type": "stream",
     "text": [
      "[TransNetV2] Processing video frames 7710/7710\n",
      "./SceneJSON_2024/L26/V414.json\n",
      "[TransNetV2] Extracting frames from /media/daoan/T7 Shield2/AI_Challenge_2024_DATA/video_with_audio/Videos_L26/video/L26_V415.mp4\n",
      "[TransNetV2] Processing video frames 5900/7616"
     ]
    },
    {
     "name": "stderr",
     "output_type": "stream",
     "text": [
      "\n"
     ]
    },
    {
     "name": "stdout",
     "output_type": "stream",
     "text": [
      "[TransNetV2] Processing video frames 7616/7616\n",
      "./SceneJSON_2024/L26/V415.json\n"
     ]
    },
    {
     "name": "stderr",
     "output_type": "stream",
     "text": [
      " 83%|████████▎ | 415/498 [23:27<04:21,  3.15s/it]\u001B[A"
     ]
    },
    {
     "name": "stdout",
     "output_type": "stream",
     "text": [
      "[TransNetV2] Extracting frames from /media/daoan/T7 Shield2/AI_Challenge_2024_DATA/video_with_audio/Videos_L26/video/L26_V416.mp4\n",
      "[TransNetV2] Processing video frames 7600/7725"
     ]
    },
    {
     "name": "stderr",
     "output_type": "stream",
     "text": [
      "\n",
      " 84%|████████▎ | 416/498 [23:30<04:18,  3.15s/it]\u001B[A"
     ]
    },
    {
     "name": "stdout",
     "output_type": "stream",
     "text": [
      "[TransNetV2] Processing video frames 7725/7725\n",
      "./SceneJSON_2024/L26/V416.json\n",
      "[TransNetV2] Extracting frames from /media/daoan/T7 Shield2/AI_Challenge_2024_DATA/video_with_audio/Videos_L26/video/L26_V418.mp4\n",
      "[TransNetV2] Processing video frames 6950/7586"
     ]
    },
    {
     "name": "stderr",
     "output_type": "stream",
     "text": [
      "\n",
      " 84%|████████▎ | 417/498 [23:33<04:17,  3.18s/it]\u001B[A"
     ]
    },
    {
     "name": "stdout",
     "output_type": "stream",
     "text": [
      "[TransNetV2] Processing video frames 7586/7586\n",
      "./SceneJSON_2024/L26/V418.json\n",
      "[TransNetV2] Extracting frames from /media/daoan/T7 Shield2/AI_Challenge_2024_DATA/video_with_audio/Videos_L26/video/L26_V419.mp4\n",
      "[TransNetV2] Processing video frames 6800/7690"
     ]
    },
    {
     "name": "stderr",
     "output_type": "stream",
     "text": [
      "\n",
      " 84%|████████▍ | 418/498 [23:36<04:15,  3.20s/it]\u001B[A"
     ]
    },
    {
     "name": "stdout",
     "output_type": "stream",
     "text": [
      "[TransNetV2] Processing video frames 7690/7690\n",
      "./SceneJSON_2024/L26/V419.json\n",
      "[TransNetV2] Extracting frames from /media/daoan/T7 Shield2/AI_Challenge_2024_DATA/video_with_audio/Videos_L26/video/L26_V420.mp4\n",
      "[TransNetV2] Processing video frames 5900/7657"
     ]
    },
    {
     "name": "stderr",
     "output_type": "stream",
     "text": [
      "\n",
      " 84%|████████▍ | 419/498 [23:40<04:11,  3.18s/it]\u001B[A"
     ]
    },
    {
     "name": "stdout",
     "output_type": "stream",
     "text": [
      "[TransNetV2] Processing video frames 7657/7657\n",
      "./SceneJSON_2024/L26/V420.json\n",
      "[TransNetV2] Extracting frames from /media/daoan/T7 Shield2/AI_Challenge_2024_DATA/video_with_audio/Videos_L26/video/L26_V421.mp4\n",
      "[TransNetV2] Processing video frames 7650/7713"
     ]
    },
    {
     "name": "stderr",
     "output_type": "stream",
     "text": [
      "\n",
      " 84%|████████▍ | 420/498 [23:43<04:07,  3.18s/it]\u001B[A"
     ]
    },
    {
     "name": "stdout",
     "output_type": "stream",
     "text": [
      "[TransNetV2] Processing video frames 7713/7713\n",
      "./SceneJSON_2024/L26/V421.json\n",
      "[TransNetV2] Extracting frames from /media/daoan/T7 Shield2/AI_Challenge_2024_DATA/video_with_audio/Videos_L26/video/L26_V422.mp4\n",
      "[TransNetV2] Processing video frames 7100/7707"
     ]
    },
    {
     "name": "stderr",
     "output_type": "stream",
     "text": [
      "\n",
      " 85%|████████▍ | 421/498 [23:46<04:06,  3.20s/it]\u001B[A"
     ]
    },
    {
     "name": "stdout",
     "output_type": "stream",
     "text": [
      "[TransNetV2] Processing video frames 7707/7707\n",
      "./SceneJSON_2024/L26/V422.json\n",
      "[TransNetV2] Extracting frames from /media/daoan/T7 Shield2/AI_Challenge_2024_DATA/video_with_audio/Videos_L26/video/L26_V423.mp4\n",
      "[TransNetV2] Processing video frames 7300/7518"
     ]
    },
    {
     "name": "stderr",
     "output_type": "stream",
     "text": [
      "\n",
      " 85%|████████▍ | 422/498 [23:49<04:02,  3.20s/it]\u001B[A"
     ]
    },
    {
     "name": "stdout",
     "output_type": "stream",
     "text": [
      "[TransNetV2] Processing video frames 7518/7518\n",
      "./SceneJSON_2024/L26/V423.json\n",
      "[TransNetV2] Extracting frames from /media/daoan/T7 Shield2/AI_Challenge_2024_DATA/video_with_audio/Videos_L26/video/L26_V424.mp4\n",
      "[TransNetV2] Processing video frames 7700/7700\n"
     ]
    },
    {
     "name": "stderr",
     "output_type": "stream",
     "text": [
      "\n",
      " 85%|████████▍ | 423/498 [23:52<03:57,  3.17s/it]\u001B[A"
     ]
    },
    {
     "name": "stdout",
     "output_type": "stream",
     "text": [
      "./SceneJSON_2024/L26/V424.json\n",
      "[TransNetV2] Extracting frames from /media/daoan/T7 Shield2/AI_Challenge_2024_DATA/video_with_audio/Videos_L26/video/L26_V425.mp4\n",
      "[TransNetV2] Processing video frames 6850/7553"
     ]
    },
    {
     "name": "stderr",
     "output_type": "stream",
     "text": [
      "\n",
      " 85%|████████▌ | 424/498 [23:55<03:53,  3.16s/it]\u001B[A"
     ]
    },
    {
     "name": "stdout",
     "output_type": "stream",
     "text": [
      "[TransNetV2] Processing video frames 7553/7553\n",
      "./SceneJSON_2024/L26/V425.json\n",
      "[TransNetV2] Extracting frames from /media/daoan/T7 Shield2/AI_Challenge_2024_DATA/video_with_audio/Videos_L26/video/L26_V426.mp4\n",
      "[TransNetV2] Processing video frames 6950/7718"
     ]
    },
    {
     "name": "stderr",
     "output_type": "stream",
     "text": [
      "\n",
      " 85%|████████▌ | 425/498 [23:59<03:52,  3.19s/it]\u001B[A"
     ]
    },
    {
     "name": "stdout",
     "output_type": "stream",
     "text": [
      "[TransNetV2] Processing video frames 7718/7718\n",
      "./SceneJSON_2024/L26/V426.json\n",
      "[TransNetV2] Extracting frames from /media/daoan/T7 Shield2/AI_Challenge_2024_DATA/video_with_audio/Videos_L26/video/L26_V427.mp4\n",
      "[TransNetV2] Processing video frames 7723/7723\n",
      "./SceneJSON_2024/L26/V427.json\n"
     ]
    },
    {
     "name": "stderr",
     "output_type": "stream",
     "text": [
      "\n",
      " 86%|████████▌ | 426/498 [24:02<03:48,  3.17s/it]\u001B[A"
     ]
    },
    {
     "name": "stdout",
     "output_type": "stream",
     "text": [
      "[TransNetV2] Extracting frames from /media/daoan/T7 Shield2/AI_Challenge_2024_DATA/video_with_audio/Videos_L26/video/L26_V428.mp4\n",
      "[TransNetV2] Processing video frames 7700/8317"
     ]
    },
    {
     "name": "stderr",
     "output_type": "stream",
     "text": [
      "\n",
      " 86%|████████▌ | 427/498 [24:05<03:51,  3.26s/it]\u001B[A"
     ]
    },
    {
     "name": "stdout",
     "output_type": "stream",
     "text": [
      "[TransNetV2] Processing video frames 8317/8317\n",
      "./SceneJSON_2024/L26/V428.json\n",
      "[TransNetV2] Extracting frames from /media/daoan/T7 Shield2/AI_Challenge_2024_DATA/video_with_audio/Videos_L26/video/L26_V429.mp4\n",
      "[TransNetV2] Processing video frames 7750/8362"
     ]
    },
    {
     "name": "stderr",
     "output_type": "stream",
     "text": [
      "\n",
      " 86%|████████▌ | 428/498 [24:09<03:50,  3.29s/it]\u001B[A"
     ]
    },
    {
     "name": "stdout",
     "output_type": "stream",
     "text": [
      "[TransNetV2] Processing video frames 8362/8362\n",
      "./SceneJSON_2024/L26/V429.json\n",
      "[TransNetV2] Extracting frames from /media/daoan/T7 Shield2/AI_Challenge_2024_DATA/video_with_audio/Videos_L26/video/L26_V430.mp4\n",
      "[TransNetV2] Processing video frames 6950/8410"
     ]
    },
    {
     "name": "stderr",
     "output_type": "stream",
     "text": [
      "\n",
      " 86%|████████▌ | 429/498 [24:12<03:53,  3.38s/it]\u001B[A"
     ]
    },
    {
     "name": "stdout",
     "output_type": "stream",
     "text": [
      "[TransNetV2] Processing video frames 8410/8410\n",
      "./SceneJSON_2024/L26/V430.json\n",
      "[TransNetV2] Extracting frames from /media/daoan/T7 Shield2/AI_Challenge_2024_DATA/video_with_audio/Videos_L26/video/L26_V431.mp4\n",
      "[TransNetV2] Processing video frames 6750/8183"
     ]
    },
    {
     "name": "stderr",
     "output_type": "stream",
     "text": [
      "\n",
      " 86%|████████▋ | 430/498 [24:16<03:50,  3.39s/it]\u001B[A"
     ]
    },
    {
     "name": "stdout",
     "output_type": "stream",
     "text": [
      "[TransNetV2] Processing video frames 8183/8183\n",
      "./SceneJSON_2024/L26/V431.json\n",
      "[TransNetV2] Extracting frames from /media/daoan/T7 Shield2/AI_Challenge_2024_DATA/video_with_audio/Videos_L26/video/L26_V432.mp4\n",
      "[TransNetV2] Processing video frames 7450/8151"
     ]
    },
    {
     "name": "stderr",
     "output_type": "stream",
     "text": [
      "\n",
      " 87%|████████▋ | 431/498 [24:19<03:48,  3.40s/it]\u001B[A"
     ]
    },
    {
     "name": "stdout",
     "output_type": "stream",
     "text": [
      "[TransNetV2] Processing video frames 8151/8151\n",
      "./SceneJSON_2024/L26/V432.json\n",
      "[TransNetV2] Extracting frames from /media/daoan/T7 Shield2/AI_Challenge_2024_DATA/video_with_audio/Videos_L26/video/L26_V433.mp4\n",
      "[TransNetV2] Processing video frames 7600/8450"
     ]
    },
    {
     "name": "stderr",
     "output_type": "stream",
     "text": [
      "\n",
      " 87%|████████▋ | 432/498 [24:23<03:45,  3.42s/it]\u001B[A"
     ]
    },
    {
     "name": "stdout",
     "output_type": "stream",
     "text": [
      "[TransNetV2] Processing video frames 8450/8450\n",
      "./SceneJSON_2024/L26/V433.json\n",
      "[TransNetV2] Extracting frames from /media/daoan/T7 Shield2/AI_Challenge_2024_DATA/video_with_audio/Videos_L26/video/L26_V434.mp4\n",
      "[TransNetV2] Processing video frames 7600/8374"
     ]
    },
    {
     "name": "stderr",
     "output_type": "stream",
     "text": [
      "\n",
      " 87%|████████▋ | 433/498 [24:26<03:45,  3.47s/it]\u001B[A"
     ]
    },
    {
     "name": "stdout",
     "output_type": "stream",
     "text": [
      "[TransNetV2] Processing video frames 8374/8374\n",
      "./SceneJSON_2024/L26/V434.json\n",
      "[TransNetV2] Extracting frames from /media/daoan/T7 Shield2/AI_Challenge_2024_DATA/video_with_audio/Videos_L26/video/L26_V435.mp4\n",
      "[TransNetV2] Processing video frames 7850/8478"
     ]
    },
    {
     "name": "stderr",
     "output_type": "stream",
     "text": [
      "\n",
      " 87%|████████▋ | 434/498 [24:30<03:42,  3.48s/it]\u001B[A"
     ]
    },
    {
     "name": "stdout",
     "output_type": "stream",
     "text": [
      "[TransNetV2] Processing video frames 8478/8478\n",
      "./SceneJSON_2024/L26/V435.json\n",
      "[TransNetV2] Extracting frames from /media/daoan/T7 Shield2/AI_Challenge_2024_DATA/video_with_audio/Videos_L26/video/L26_V436.mp4\n",
      "[TransNetV2] Processing video frames 7550/8315"
     ]
    },
    {
     "name": "stderr",
     "output_type": "stream",
     "text": [
      "\n",
      " 87%|████████▋ | 435/498 [24:33<03:38,  3.47s/it]\u001B[A"
     ]
    },
    {
     "name": "stdout",
     "output_type": "stream",
     "text": [
      "[TransNetV2] Processing video frames 8315/8315\n",
      "./SceneJSON_2024/L26/V436.json\n",
      "[TransNetV2] Extracting frames from /media/daoan/T7 Shield2/AI_Challenge_2024_DATA/video_with_audio/Videos_L26/video/L26_V437.mp4\n",
      "[TransNetV2] Processing video frames 7250/8142"
     ]
    },
    {
     "name": "stderr",
     "output_type": "stream",
     "text": [
      "\n",
      " 88%|████████▊ | 436/498 [24:37<03:34,  3.46s/it]\u001B[A"
     ]
    },
    {
     "name": "stdout",
     "output_type": "stream",
     "text": [
      "[TransNetV2] Processing video frames 8142/8142\n",
      "./SceneJSON_2024/L26/V437.json\n",
      "[TransNetV2] Extracting frames from /media/daoan/T7 Shield2/AI_Challenge_2024_DATA/video_with_audio/Videos_L26/video/L26_V438.mp4\n",
      "[TransNetV2] Processing video frames 7050/8099"
     ]
    },
    {
     "name": "stderr",
     "output_type": "stream",
     "text": [
      "\n",
      " 88%|████████▊ | 437/498 [24:40<03:29,  3.44s/it]\u001B[A"
     ]
    },
    {
     "name": "stdout",
     "output_type": "stream",
     "text": [
      "[TransNetV2] Processing video frames 8099/8099\n",
      "./SceneJSON_2024/L26/V438.json\n",
      "[TransNetV2] Extracting frames from /media/daoan/T7 Shield2/AI_Challenge_2024_DATA/video_with_audio/Videos_L26/video/L26_V439.mp4\n",
      "[TransNetV2] Processing video frames 6650/8367"
     ]
    },
    {
     "name": "stderr",
     "output_type": "stream",
     "text": [
      "\n",
      " 88%|████████▊ | 438/498 [24:44<03:30,  3.51s/it]\u001B[A"
     ]
    },
    {
     "name": "stdout",
     "output_type": "stream",
     "text": [
      "[TransNetV2] Processing video frames 8367/8367\n",
      "./SceneJSON_2024/L26/V439.json\n",
      "[TransNetV2] Extracting frames from /media/daoan/T7 Shield2/AI_Challenge_2024_DATA/video_with_audio/Videos_L26/video/L26_V440.mp4\n",
      "[TransNetV2] Processing video frames 7300/8434"
     ]
    },
    {
     "name": "stderr",
     "output_type": "stream",
     "text": [
      "\n",
      " 88%|████████▊ | 439/498 [24:47<03:27,  3.52s/it]\u001B[A"
     ]
    },
    {
     "name": "stdout",
     "output_type": "stream",
     "text": [
      "[TransNetV2] Processing video frames 8434/8434\n",
      "./SceneJSON_2024/L26/V440.json\n",
      "[TransNetV2] Extracting frames from /media/daoan/T7 Shield2/AI_Challenge_2024_DATA/video_with_audio/Videos_L26/video/L26_V441.mp4\n",
      "[TransNetV2] Processing video frames 7800/8082"
     ]
    },
    {
     "name": "stderr",
     "output_type": "stream",
     "text": [
      "\n",
      " 88%|████████▊ | 440/498 [24:50<03:20,  3.45s/it]\u001B[A"
     ]
    },
    {
     "name": "stdout",
     "output_type": "stream",
     "text": [
      "[TransNetV2] Processing video frames 8082/8082\n",
      "./SceneJSON_2024/L26/V441.json\n",
      "[TransNetV2] Extracting frames from /media/daoan/T7 Shield2/AI_Challenge_2024_DATA/video_with_audio/Videos_L26/video/L26_V442.mp4\n",
      "[TransNetV2] Processing video frames 7850/8421"
     ]
    },
    {
     "name": "stderr",
     "output_type": "stream",
     "text": [
      "\n",
      " 89%|████████▊ | 441/498 [24:54<03:16,  3.45s/it]\u001B[A"
     ]
    },
    {
     "name": "stdout",
     "output_type": "stream",
     "text": [
      "[TransNetV2] Processing video frames 8421/8421\n",
      "./SceneJSON_2024/L26/V442.json\n",
      "[TransNetV2] Extracting frames from /media/daoan/T7 Shield2/AI_Challenge_2024_DATA/video_with_audio/Videos_L26/video/L26_V443.mp4\n",
      "[TransNetV2] Processing video frames 7700/8353"
     ]
    },
    {
     "name": "stderr",
     "output_type": "stream",
     "text": [
      "\n",
      " 89%|████████▉ | 442/498 [24:57<03:13,  3.46s/it]\u001B[A"
     ]
    },
    {
     "name": "stdout",
     "output_type": "stream",
     "text": [
      "[TransNetV2] Processing video frames 8353/8353\n",
      "./SceneJSON_2024/L26/V443.json\n",
      "[TransNetV2] Extracting frames from /media/daoan/T7 Shield2/AI_Challenge_2024_DATA/video_with_audio/Videos_L26/video/L26_V444.mp4\n",
      "[TransNetV2] Processing video frames 7550/8241"
     ]
    },
    {
     "name": "stderr",
     "output_type": "stream",
     "text": [
      "\n",
      " 89%|████████▉ | 443/498 [25:01<03:09,  3.45s/it]\u001B[A"
     ]
    },
    {
     "name": "stdout",
     "output_type": "stream",
     "text": [
      "[TransNetV2] Processing video frames 8241/8241\n",
      "./SceneJSON_2024/L26/V444.json\n",
      "[TransNetV2] Extracting frames from /media/daoan/T7 Shield2/AI_Challenge_2024_DATA/video_with_audio/Videos_L26/video/L26_V445.mp4\n",
      "[TransNetV2] Processing video frames 6950/8385"
     ]
    },
    {
     "name": "stderr",
     "output_type": "stream",
     "text": [
      "\n",
      " 89%|████████▉ | 444/498 [25:04<03:07,  3.48s/it]\u001B[A"
     ]
    },
    {
     "name": "stdout",
     "output_type": "stream",
     "text": [
      "[TransNetV2] Processing video frames 8385/8385\n",
      "./SceneJSON_2024/L26/V445.json\n",
      "[TransNetV2] Extracting frames from /media/daoan/T7 Shield2/AI_Challenge_2024_DATA/video_with_audio/Videos_L26/video/L26_V446.mp4\n",
      "[TransNetV2] Processing video frames 6850/8206"
     ]
    },
    {
     "name": "stderr",
     "output_type": "stream",
     "text": [
      "\n",
      " 89%|████████▉ | 445/498 [25:08<03:02,  3.45s/it]\u001B[A"
     ]
    },
    {
     "name": "stdout",
     "output_type": "stream",
     "text": [
      "[TransNetV2] Processing video frames 8206/8206\n",
      "./SceneJSON_2024/L26/V446.json\n",
      "[TransNetV2] Extracting frames from /media/daoan/T7 Shield2/AI_Challenge_2024_DATA/video_with_audio/Videos_L26/video/L26_V447.mp4\n",
      "[TransNetV2] Processing video frames 7550/8018"
     ]
    },
    {
     "name": "stderr",
     "output_type": "stream",
     "text": [
      "\n",
      " 90%|████████▉ | 446/498 [25:11<02:57,  3.40s/it]\u001B[A"
     ]
    },
    {
     "name": "stdout",
     "output_type": "stream",
     "text": [
      "[TransNetV2] Processing video frames 8018/8018\n",
      "./SceneJSON_2024/L26/V447.json\n",
      "[TransNetV2] Extracting frames from /media/daoan/T7 Shield2/AI_Challenge_2024_DATA/video_with_audio/Videos_L26/video/L26_V448.mp4\n",
      "[TransNetV2] Processing video frames 7650/8081"
     ]
    },
    {
     "name": "stderr",
     "output_type": "stream",
     "text": [
      "\n",
      " 90%|████████▉ | 447/498 [25:14<02:53,  3.40s/it]\u001B[A"
     ]
    },
    {
     "name": "stdout",
     "output_type": "stream",
     "text": [
      "[TransNetV2] Processing video frames 8081/8081\n",
      "./SceneJSON_2024/L26/V448.json\n",
      "[TransNetV2] Extracting frames from /media/daoan/T7 Shield2/AI_Challenge_2024_DATA/video_with_audio/Videos_L26/video/L26_V449.mp4\n",
      "[TransNetV2] Processing video frames 7300/8228"
     ]
    },
    {
     "name": "stderr",
     "output_type": "stream",
     "text": [
      "\n",
      " 90%|████████▉ | 448/498 [25:18<02:49,  3.39s/it]\u001B[A"
     ]
    },
    {
     "name": "stdout",
     "output_type": "stream",
     "text": [
      "[TransNetV2] Processing video frames 8228/8228\n",
      "./SceneJSON_2024/L26/V449.json\n",
      "[TransNetV2] Extracting frames from /media/daoan/T7 Shield2/AI_Challenge_2024_DATA/video_with_audio/Videos_L26/video/L26_V450.mp4\n",
      "[TransNetV2] Processing video frames 6850/8446"
     ]
    },
    {
     "name": "stderr",
     "output_type": "stream",
     "text": [
      "\n",
      " 90%|█████████ | 449/498 [25:21<02:49,  3.45s/it]\u001B[A"
     ]
    },
    {
     "name": "stdout",
     "output_type": "stream",
     "text": [
      "[TransNetV2] Processing video frames 8446/8446\n",
      "./SceneJSON_2024/L26/V450.json\n",
      "[TransNetV2] Extracting frames from /media/daoan/T7 Shield2/AI_Challenge_2024_DATA/video_with_audio/Videos_L26/video/L26_V451.mp4\n",
      "[TransNetV2] Processing video frames 7250/8225"
     ]
    },
    {
     "name": "stderr",
     "output_type": "stream",
     "text": [
      "\n",
      " 90%|█████████ | 450/498 [25:25<02:45,  3.45s/it]\u001B[A"
     ]
    },
    {
     "name": "stdout",
     "output_type": "stream",
     "text": [
      "[TransNetV2] Processing video frames 8225/8225\n",
      "./SceneJSON_2024/L26/V451.json\n",
      "[TransNetV2] Extracting frames from /media/daoan/T7 Shield2/AI_Challenge_2024_DATA/video_with_audio/Videos_L26/video/L26_V452.mp4\n",
      "[TransNetV2] Processing video frames 7500/8144"
     ]
    },
    {
     "name": "stderr",
     "output_type": "stream",
     "text": [
      "\n",
      " 91%|█████████ | 451/498 [25:28<02:40,  3.42s/it]\u001B[A"
     ]
    },
    {
     "name": "stdout",
     "output_type": "stream",
     "text": [
      "[TransNetV2] Processing video frames 8144/8144\n",
      "./SceneJSON_2024/L26/V452.json\n",
      "[TransNetV2] Extracting frames from /media/daoan/T7 Shield2/AI_Challenge_2024_DATA/video_with_audio/Videos_L26/video/L26_V453.mp4\n",
      "[TransNetV2] Processing video frames 7900/8426"
     ]
    },
    {
     "name": "stderr",
     "output_type": "stream",
     "text": [
      "\n",
      " 91%|█████████ | 452/498 [25:32<02:37,  3.43s/it]\u001B[A"
     ]
    },
    {
     "name": "stdout",
     "output_type": "stream",
     "text": [
      "[TransNetV2] Processing video frames 8426/8426\n",
      "./SceneJSON_2024/L26/V453.json\n",
      "[TransNetV2] Extracting frames from /media/daoan/T7 Shield2/AI_Challenge_2024_DATA/video_with_audio/Videos_L26/video/L26_V454.mp4\n",
      "[TransNetV2] Processing video frames 7750/7987"
     ]
    },
    {
     "name": "stderr",
     "output_type": "stream",
     "text": [
      "\n",
      " 91%|█████████ | 453/498 [25:35<02:31,  3.37s/it]\u001B[A"
     ]
    },
    {
     "name": "stdout",
     "output_type": "stream",
     "text": [
      "[TransNetV2] Processing video frames 7987/7987\n",
      "./SceneJSON_2024/L26/V454.json\n",
      "[TransNetV2] Extracting frames from /media/daoan/T7 Shield2/AI_Challenge_2024_DATA/video_with_audio/Videos_L26/video/L26_V455.mp4\n",
      "[TransNetV2] Processing video frames 7250/8376"
     ]
    },
    {
     "name": "stderr",
     "output_type": "stream",
     "text": [
      "\n",
      " 91%|█████████ | 454/498 [25:38<02:30,  3.43s/it]\u001B[A"
     ]
    },
    {
     "name": "stdout",
     "output_type": "stream",
     "text": [
      "[TransNetV2] Processing video frames 8376/8376\n",
      "./SceneJSON_2024/L26/V455.json\n",
      "[TransNetV2] Extracting frames from /media/daoan/T7 Shield2/AI_Challenge_2024_DATA/video_with_audio/Videos_L26/video/L26_V456.mp4\n",
      "[TransNetV2] Processing video frames 7200/8327"
     ]
    },
    {
     "name": "stderr",
     "output_type": "stream",
     "text": [
      "\n",
      " 91%|█████████▏| 455/498 [25:42<02:30,  3.51s/it]\u001B[A"
     ]
    },
    {
     "name": "stdout",
     "output_type": "stream",
     "text": [
      "[TransNetV2] Processing video frames 8327/8327\n",
      "./SceneJSON_2024/L26/V456.json\n",
      "[TransNetV2] Extracting frames from /media/daoan/T7 Shield2/AI_Challenge_2024_DATA/video_with_audio/Videos_L26/video/L26_V457.mp4\n",
      "[TransNetV2] Processing video frames 7050/8392"
     ]
    },
    {
     "name": "stderr",
     "output_type": "stream",
     "text": [
      "\n",
      " 92%|█████████▏| 456/498 [25:46<02:28,  3.54s/it]\u001B[A"
     ]
    },
    {
     "name": "stdout",
     "output_type": "stream",
     "text": [
      "[TransNetV2] Processing video frames 8392/8392\n",
      "./SceneJSON_2024/L26/V457.json\n",
      "[TransNetV2] Extracting frames from /media/daoan/T7 Shield2/AI_Challenge_2024_DATA/video_with_audio/Videos_L26/video/L26_V458.mp4\n",
      "[TransNetV2] Processing video frames 5800/7215"
     ]
    },
    {
     "name": "stderr",
     "output_type": "stream",
     "text": [
      "\n",
      " 92%|█████████▏| 457/498 [25:49<02:18,  3.37s/it]\u001B[A"
     ]
    },
    {
     "name": "stdout",
     "output_type": "stream",
     "text": [
      "[TransNetV2] Processing video frames 7215/7215\n",
      "./SceneJSON_2024/L26/V458.json\n",
      "[TransNetV2] Extracting frames from /media/daoan/T7 Shield2/AI_Challenge_2024_DATA/video_with_audio/Videos_L26/video/L26_V459.mp4\n",
      "[TransNetV2] Processing video frames 5700/7429"
     ]
    },
    {
     "name": "stderr",
     "output_type": "stream",
     "text": [
      "\n",
      " 92%|█████████▏| 458/498 [25:52<02:10,  3.27s/it]\u001B[A"
     ]
    },
    {
     "name": "stdout",
     "output_type": "stream",
     "text": [
      "[TransNetV2] Processing video frames 7429/7429\n",
      "./SceneJSON_2024/L26/V459.json\n",
      "[TransNetV2] Extracting frames from /media/daoan/T7 Shield2/AI_Challenge_2024_DATA/video_with_audio/Videos_L26/video/L26_V460.mp4\n",
      "[TransNetV2] Processing video frames 7050/7287"
     ]
    },
    {
     "name": "stderr",
     "output_type": "stream",
     "text": [
      "\n",
      " 92%|█████████▏| 459/498 [25:55<02:03,  3.17s/it]\u001B[A"
     ]
    },
    {
     "name": "stdout",
     "output_type": "stream",
     "text": [
      "[TransNetV2] Processing video frames 7287/7287\n",
      "./SceneJSON_2024/L26/V460.json\n",
      "[TransNetV2] Extracting frames from /media/daoan/T7 Shield2/AI_Challenge_2024_DATA/video_with_audio/Videos_L26/video/L26_V461.mp4\n",
      "[TransNetV2] Processing video frames 5800/7291"
     ]
    },
    {
     "name": "stderr",
     "output_type": "stream",
     "text": [
      "\n",
      " 92%|█████████▏| 460/498 [25:58<01:59,  3.14s/it]\u001B[A"
     ]
    },
    {
     "name": "stdout",
     "output_type": "stream",
     "text": [
      "[TransNetV2] Processing video frames 7291/7291\n",
      "./SceneJSON_2024/L26/V461.json\n",
      "[TransNetV2] Extracting frames from /media/daoan/T7 Shield2/AI_Challenge_2024_DATA/video_with_audio/Videos_L26/video/L26_V462.mp4\n",
      "[TransNetV2] Processing video frames 7350/7558"
     ]
    },
    {
     "name": "stderr",
     "output_type": "stream",
     "text": [
      "\n",
      " 93%|█████████▎| 461/498 [26:01<01:58,  3.19s/it]\u001B[A"
     ]
    },
    {
     "name": "stdout",
     "output_type": "stream",
     "text": [
      "[TransNetV2] Processing video frames 7558/7558\n",
      "./SceneJSON_2024/L26/V462.json\n",
      "[TransNetV2] Extracting frames from /media/daoan/T7 Shield2/AI_Challenge_2024_DATA/video_with_audio/Videos_L26/video/L26_V463.mp4\n",
      "[TransNetV2] Processing video frames 6950/7573"
     ]
    },
    {
     "name": "stderr",
     "output_type": "stream",
     "text": [
      "\n",
      " 93%|█████████▎| 462/498 [26:05<01:57,  3.28s/it]\u001B[A"
     ]
    },
    {
     "name": "stdout",
     "output_type": "stream",
     "text": [
      "[TransNetV2] Processing video frames 7573/7573\n",
      "./SceneJSON_2024/L26/V463.json\n",
      "[TransNetV2] Extracting frames from /media/daoan/T7 Shield2/AI_Challenge_2024_DATA/video_with_audio/Videos_L26/video/L26_V464.mp4\n",
      "[TransNetV2] Processing video frames 6700/7594"
     ]
    },
    {
     "name": "stderr",
     "output_type": "stream",
     "text": [
      "\n",
      " 93%|█████████▎| 463/498 [26:08<01:56,  3.33s/it]\u001B[A"
     ]
    },
    {
     "name": "stdout",
     "output_type": "stream",
     "text": [
      "[TransNetV2] Processing video frames 7594/7594\n",
      "./SceneJSON_2024/L26/V464.json\n",
      "[TransNetV2] Extracting frames from /media/daoan/T7 Shield2/AI_Challenge_2024_DATA/video_with_audio/Videos_L26/video/L26_V465.mp4\n",
      "[TransNetV2] Processing video frames 6950/7648"
     ]
    },
    {
     "name": "stderr",
     "output_type": "stream",
     "text": [
      "\n",
      " 93%|█████████▎| 464/498 [26:12<01:55,  3.40s/it]\u001B[A"
     ]
    },
    {
     "name": "stdout",
     "output_type": "stream",
     "text": [
      "[TransNetV2] Processing video frames 7648/7648\n",
      "./SceneJSON_2024/L26/V465.json\n",
      "[TransNetV2] Extracting frames from /media/daoan/T7 Shield2/AI_Challenge_2024_DATA/video_with_audio/Videos_L26/video/L26_V466.mp4\n",
      "[TransNetV2] Processing video frames 7250/7671"
     ]
    },
    {
     "name": "stderr",
     "output_type": "stream",
     "text": [
      "\n",
      " 93%|█████████▎| 465/498 [26:15<01:54,  3.48s/it]\u001B[A"
     ]
    },
    {
     "name": "stdout",
     "output_type": "stream",
     "text": [
      "[TransNetV2] Processing video frames 7671/7671\n",
      "./SceneJSON_2024/L26/V466.json\n",
      "[TransNetV2] Extracting frames from /media/daoan/T7 Shield2/AI_Challenge_2024_DATA/video_with_audio/Videos_L26/video/L26_V467.mp4\n",
      "[TransNetV2] Processing video frames 7668/7668\n"
     ]
    },
    {
     "name": "stderr",
     "output_type": "stream",
     "text": [
      "\n",
      " 94%|█████████▎| 466/498 [26:19<01:50,  3.45s/it]\u001B[A"
     ]
    },
    {
     "name": "stdout",
     "output_type": "stream",
     "text": [
      "./SceneJSON_2024/L26/V467.json\n",
      "[TransNetV2] Extracting frames from /media/daoan/T7 Shield2/AI_Challenge_2024_DATA/video_with_audio/Videos_L26/video/L26_V468.mp4\n",
      "[TransNetV2] Processing video frames 7714/7714\n",
      "./SceneJSON_2024/L26/V468.json\n"
     ]
    },
    {
     "name": "stderr",
     "output_type": "stream",
     "text": [
      "\n",
      " 94%|█████████▍| 467/498 [26:22<01:44,  3.38s/it]\u001B[A"
     ]
    },
    {
     "name": "stdout",
     "output_type": "stream",
     "text": [
      "[TransNetV2] Extracting frames from /media/daoan/T7 Shield2/AI_Challenge_2024_DATA/video_with_audio/Videos_L26/video/L26_V469.mp4\n",
      "[TransNetV2] Processing video frames 7250/7700"
     ]
    },
    {
     "name": "stderr",
     "output_type": "stream",
     "text": [
      "\n",
      " 94%|█████████▍| 468/498 [26:25<01:40,  3.34s/it]\u001B[A"
     ]
    },
    {
     "name": "stdout",
     "output_type": "stream",
     "text": [
      "[TransNetV2] Processing video frames 7700/7700\n",
      "./SceneJSON_2024/L26/V469.json\n",
      "[TransNetV2] Extracting frames from /media/daoan/T7 Shield2/AI_Challenge_2024_DATA/video_with_audio/Videos_L26/video/L26_V470.mp4\n",
      "[TransNetV2] Processing video frames 6950/7745"
     ]
    },
    {
     "name": "stderr",
     "output_type": "stream",
     "text": [
      "\n",
      " 94%|█████████▍| 469/498 [26:28<01:36,  3.34s/it]\u001B[A"
     ]
    },
    {
     "name": "stdout",
     "output_type": "stream",
     "text": [
      "[TransNetV2] Processing video frames 7745/7745\n",
      "./SceneJSON_2024/L26/V470.json\n",
      "[TransNetV2] Extracting frames from /media/daoan/T7 Shield2/AI_Challenge_2024_DATA/video_with_audio/Videos_L26/video/L26_V471.mp4\n",
      "[TransNetV2] Processing video frames 7650/7734"
     ]
    },
    {
     "name": "stderr",
     "output_type": "stream",
     "text": [
      "\n",
      " 94%|█████████▍| 470/498 [26:32<01:33,  3.33s/it]\u001B[A"
     ]
    },
    {
     "name": "stdout",
     "output_type": "stream",
     "text": [
      "[TransNetV2] Processing video frames 7734/7734\n",
      "./SceneJSON_2024/L26/V471.json\n",
      "[TransNetV2] Extracting frames from /media/daoan/T7 Shield2/AI_Challenge_2024_DATA/video_with_audio/Videos_L26/video/L26_V472.mp4\n",
      "[TransNetV2] Processing video frames 7690/7690\n",
      "./SceneJSON_2024/L26/V472.json\n"
     ]
    },
    {
     "name": "stderr",
     "output_type": "stream",
     "text": [
      "\n",
      " 95%|█████████▍| 471/498 [26:35<01:31,  3.39s/it]\u001B[A"
     ]
    },
    {
     "name": "stdout",
     "output_type": "stream",
     "text": [
      "[TransNetV2] Extracting frames from /media/daoan/T7 Shield2/AI_Challenge_2024_DATA/video_with_audio/Videos_L26/video/L26_V473.mp4\n",
      "[TransNetV2] Processing video frames 5900/7390"
     ]
    },
    {
     "name": "stderr",
     "output_type": "stream",
     "text": [
      "\n",
      " 95%|█████████▍| 472/498 [26:39<01:27,  3.37s/it]\u001B[A"
     ]
    },
    {
     "name": "stdout",
     "output_type": "stream",
     "text": [
      "[TransNetV2] Processing video frames 7390/7390\n",
      "./SceneJSON_2024/L26/V473.json\n",
      "[TransNetV2] Extracting frames from /media/daoan/T7 Shield2/AI_Challenge_2024_DATA/video_with_audio/Videos_L26/video/L26_V474.mp4\n",
      "[TransNetV2] Processing video frames 7662/7662\n",
      "./SceneJSON_2024/L26/V474.json\n"
     ]
    },
    {
     "name": "stderr",
     "output_type": "stream",
     "text": [
      "\n",
      " 95%|█████████▍| 473/498 [26:42<01:25,  3.41s/it]\u001B[A"
     ]
    },
    {
     "name": "stdout",
     "output_type": "stream",
     "text": [
      "[TransNetV2] Extracting frames from /media/daoan/T7 Shield2/AI_Challenge_2024_DATA/video_with_audio/Videos_L26/video/L26_V475.mp4\n",
      "[TransNetV2] Processing video frames 6800/7640"
     ]
    },
    {
     "name": "stderr",
     "output_type": "stream",
     "text": [
      "\n",
      " 95%|█████████▌| 474/498 [26:45<01:21,  3.41s/it]\u001B[A"
     ]
    },
    {
     "name": "stdout",
     "output_type": "stream",
     "text": [
      "[TransNetV2] Processing video frames 7640/7640\n",
      "./SceneJSON_2024/L26/V475.json\n",
      "[TransNetV2] Extracting frames from /media/daoan/T7 Shield2/AI_Challenge_2024_DATA/video_with_audio/Videos_L26/video/L26_V476.mp4\n",
      "[TransNetV2] Processing video frames 6850/7604"
     ]
    },
    {
     "name": "stderr",
     "output_type": "stream",
     "text": [
      "\n",
      " 95%|█████████▌| 475/498 [26:49<01:17,  3.38s/it]\u001B[A"
     ]
    },
    {
     "name": "stdout",
     "output_type": "stream",
     "text": [
      "[TransNetV2] Processing video frames 7604/7604\n",
      "./SceneJSON_2024/L26/V476.json\n",
      "[TransNetV2] Extracting frames from /media/daoan/T7 Shield2/AI_Challenge_2024_DATA/video_with_audio/Videos_L26/video/L26_V477.mp4\n",
      "[TransNetV2] Processing video frames 7664/7664\n"
     ]
    },
    {
     "name": "stderr",
     "output_type": "stream",
     "text": [
      "\n",
      " 96%|█████████▌| 476/498 [26:52<01:13,  3.32s/it]\u001B[A"
     ]
    },
    {
     "name": "stdout",
     "output_type": "stream",
     "text": [
      "./SceneJSON_2024/L26/V477.json\n",
      "[TransNetV2] Extracting frames from /media/daoan/T7 Shield2/AI_Challenge_2024_DATA/video_with_audio/Videos_L26/video/L26_V478.mp4\n",
      "[TransNetV2] Processing video frames 5750/7566"
     ]
    },
    {
     "name": "stderr",
     "output_type": "stream",
     "text": [
      "\n",
      " 96%|█████████▌| 477/498 [26:55<01:09,  3.32s/it]\u001B[A"
     ]
    },
    {
     "name": "stdout",
     "output_type": "stream",
     "text": [
      "[TransNetV2] Processing video frames 7566/7566\n",
      "./SceneJSON_2024/L26/V478.json\n",
      "[TransNetV2] Extracting frames from /media/daoan/T7 Shield2/AI_Challenge_2024_DATA/video_with_audio/Videos_L26/video/L26_V479.mp4\n",
      "[TransNetV2] Processing video frames 7450/7693"
     ]
    },
    {
     "name": "stderr",
     "output_type": "stream",
     "text": [
      "\n",
      " 96%|█████████▌| 478/498 [26:59<01:05,  3.30s/it]\u001B[A"
     ]
    },
    {
     "name": "stdout",
     "output_type": "stream",
     "text": [
      "[TransNetV2] Processing video frames 7693/7693\n",
      "./SceneJSON_2024/L26/V479.json\n",
      "[TransNetV2] Extracting frames from /media/daoan/T7 Shield2/AI_Challenge_2024_DATA/video_with_audio/Videos_L26/video/L26_V480.mp4\n",
      "[TransNetV2] Processing video frames 7300/7665"
     ]
    },
    {
     "name": "stderr",
     "output_type": "stream",
     "text": [
      "\n",
      " 96%|█████████▌| 479/498 [27:02<01:02,  3.29s/it]\u001B[A"
     ]
    },
    {
     "name": "stdout",
     "output_type": "stream",
     "text": [
      "[TransNetV2] Processing video frames 7665/7665\n",
      "./SceneJSON_2024/L26/V480.json\n",
      "[TransNetV2] Extracting frames from /media/daoan/T7 Shield2/AI_Challenge_2024_DATA/video_with_audio/Videos_L26/video/L26_V481.mp4\n",
      "[TransNetV2] Processing video frames 7650/7739"
     ]
    },
    {
     "name": "stderr",
     "output_type": "stream",
     "text": [
      "\n",
      " 96%|█████████▋| 480/498 [27:05<00:59,  3.28s/it]\u001B[A"
     ]
    },
    {
     "name": "stdout",
     "output_type": "stream",
     "text": [
      "[TransNetV2] Processing video frames 7739/7739\n",
      "./SceneJSON_2024/L26/V481.json\n",
      "[TransNetV2] Extracting frames from /media/daoan/T7 Shield2/AI_Challenge_2024_DATA/video_with_audio/Videos_L26/video/L26_V482.mp4\n",
      "[TransNetV2] Processing video frames 5900/7680"
     ]
    },
    {
     "name": "stderr",
     "output_type": "stream",
     "text": [
      "\n",
      " 97%|█████████▋| 481/498 [27:08<00:55,  3.27s/it]\u001B[A"
     ]
    },
    {
     "name": "stdout",
     "output_type": "stream",
     "text": [
      "[TransNetV2] Processing video frames 7680/7680\n",
      "./SceneJSON_2024/L26/V482.json\n",
      "[TransNetV2] Extracting frames from /media/daoan/T7 Shield2/AI_Challenge_2024_DATA/video_with_audio/Videos_L26/video/L26_V483.mp4\n",
      "[TransNetV2] Processing video frames 7739/7739\n"
     ]
    },
    {
     "name": "stderr",
     "output_type": "stream",
     "text": [
      "\n",
      " 97%|█████████▋| 482/498 [27:12<00:54,  3.43s/it]\u001B[A"
     ]
    },
    {
     "name": "stdout",
     "output_type": "stream",
     "text": [
      "./SceneJSON_2024/L26/V483.json\n",
      "[TransNetV2] Extracting frames from /media/daoan/T7 Shield2/AI_Challenge_2024_DATA/video_with_audio/Videos_L26/video/L26_V484.mp4\n",
      "[TransNetV2] Processing video frames 5850/7590"
     ]
    },
    {
     "name": "stderr",
     "output_type": "stream",
     "text": [
      "\n",
      " 97%|█████████▋| 483/498 [27:16<00:51,  3.47s/it]\u001B[A"
     ]
    },
    {
     "name": "stdout",
     "output_type": "stream",
     "text": [
      "[TransNetV2] Processing video frames 7590/7590\n",
      "./SceneJSON_2024/L26/V484.json\n",
      "[TransNetV2] Extracting frames from /media/daoan/T7 Shield2/AI_Challenge_2024_DATA/video_with_audio/Videos_L26/video/L26_V485.mp4\n",
      "[TransNetV2] Processing video frames 7624/7624\n",
      "./SceneJSON_2024/L26/V485.json\n"
     ]
    },
    {
     "name": "stderr",
     "output_type": "stream",
     "text": [
      "\n",
      " 97%|█████████▋| 484/498 [27:19<00:47,  3.42s/it]\u001B[A"
     ]
    },
    {
     "name": "stdout",
     "output_type": "stream",
     "text": [
      "[TransNetV2] Extracting frames from /media/daoan/T7 Shield2/AI_Challenge_2024_DATA/video_with_audio/Videos_L26/video/L26_V486.mp4\n",
      "[TransNetV2] Processing video frames 6950/7697"
     ]
    },
    {
     "name": "stderr",
     "output_type": "stream",
     "text": [
      "\n",
      " 97%|█████████▋| 485/498 [27:22<00:44,  3.42s/it]\u001B[A"
     ]
    },
    {
     "name": "stdout",
     "output_type": "stream",
     "text": [
      "[TransNetV2] Processing video frames 7697/7697\n",
      "./SceneJSON_2024/L26/V486.json\n",
      "[TransNetV2] Extracting frames from /media/daoan/T7 Shield2/AI_Challenge_2024_DATA/video_with_audio/Videos_L26/video/L26_V487.mp4\n",
      "[TransNetV2] Processing video frames 6950/7724"
     ]
    },
    {
     "name": "stderr",
     "output_type": "stream",
     "text": [
      "\n",
      " 98%|█████████▊| 486/498 [27:26<00:41,  3.48s/it]\u001B[A"
     ]
    },
    {
     "name": "stdout",
     "output_type": "stream",
     "text": [
      "[TransNetV2] Processing video frames 7724/7724\n",
      "./SceneJSON_2024/L26/V487.json\n",
      "[TransNetV2] Extracting frames from /media/daoan/T7 Shield2/AI_Challenge_2024_DATA/video_with_audio/Videos_L26/video/L26_V488.mp4\n",
      "[TransNetV2] Processing video frames 7500/7731"
     ]
    },
    {
     "name": "stderr",
     "output_type": "stream",
     "text": [
      "\n",
      " 98%|█████████▊| 487/498 [27:30<00:38,  3.54s/it]\u001B[A"
     ]
    },
    {
     "name": "stdout",
     "output_type": "stream",
     "text": [
      "[TransNetV2] Processing video frames 7731/7731\n",
      "./SceneJSON_2024/L26/V488.json\n",
      "[TransNetV2] Extracting frames from /media/daoan/T7 Shield2/AI_Challenge_2024_DATA/video_with_audio/Videos_L26/video/L26_V489.mp4\n",
      "[TransNetV2] Processing video frames 7000/7409"
     ]
    },
    {
     "name": "stderr",
     "output_type": "stream",
     "text": [
      "\n",
      " 98%|█████████▊| 488/498 [27:33<00:35,  3.57s/it]\u001B[A"
     ]
    },
    {
     "name": "stdout",
     "output_type": "stream",
     "text": [
      "[TransNetV2] Processing video frames 7409/7409\n",
      "./SceneJSON_2024/L26/V489.json\n",
      "[TransNetV2] Extracting frames from /media/daoan/T7 Shield2/AI_Challenge_2024_DATA/video_with_audio/Videos_L26/video/L26_V490.mp4\n",
      "[TransNetV2] Processing video frames 7600/7715"
     ]
    },
    {
     "name": "stderr",
     "output_type": "stream",
     "text": [
      "\n",
      " 98%|█████████▊| 489/498 [27:37<00:31,  3.51s/it]\u001B[A"
     ]
    },
    {
     "name": "stdout",
     "output_type": "stream",
     "text": [
      "[TransNetV2] Processing video frames 7715/7715\n",
      "./SceneJSON_2024/L26/V490.json\n",
      "[TransNetV2] Extracting frames from /media/daoan/T7 Shield2/AI_Challenge_2024_DATA/video_with_audio/Videos_L26/video/L26_V491.mp4\n",
      "[TransNetV2] Processing video frames 7713/7713\n"
     ]
    },
    {
     "name": "stderr",
     "output_type": "stream",
     "text": [
      "\n",
      " 98%|█████████▊| 490/498 [27:40<00:27,  3.43s/it]\u001B[A"
     ]
    },
    {
     "name": "stdout",
     "output_type": "stream",
     "text": [
      "./SceneJSON_2024/L26/V491.json\n",
      "[TransNetV2] Extracting frames from /media/daoan/T7 Shield2/AI_Challenge_2024_DATA/video_with_audio/Videos_L26/video/L26_V492.mp4\n",
      "[TransNetV2] Processing video frames 7721/7721\n"
     ]
    },
    {
     "name": "stderr",
     "output_type": "stream",
     "text": [
      "\n",
      " 99%|█████████▊| 491/498 [27:43<00:23,  3.37s/it]\u001B[A"
     ]
    },
    {
     "name": "stdout",
     "output_type": "stream",
     "text": [
      "./SceneJSON_2024/L26/V492.json\n",
      "[TransNetV2] Extracting frames from /media/daoan/T7 Shield2/AI_Challenge_2024_DATA/video_with_audio/Videos_L26/video/L26_V493.mp4\n",
      "[TransNetV2] Processing video frames 7550/7729"
     ]
    },
    {
     "name": "stderr",
     "output_type": "stream",
     "text": [
      "\n",
      " 99%|█████████▉| 492/498 [27:47<00:20,  3.46s/it]\u001B[A"
     ]
    },
    {
     "name": "stdout",
     "output_type": "stream",
     "text": [
      "[TransNetV2] Processing video frames 7729/7729\n",
      "./SceneJSON_2024/L26/V493.json\n",
      "[TransNetV2] Extracting frames from /media/daoan/T7 Shield2/AI_Challenge_2024_DATA/video_with_audio/Videos_L26/video/L26_V494.mp4\n",
      "[TransNetV2] Processing video frames 7100/7659"
     ]
    },
    {
     "name": "stderr",
     "output_type": "stream",
     "text": [
      "\n",
      " 99%|█████████▉| 493/498 [27:50<00:17,  3.46s/it]\u001B[A"
     ]
    },
    {
     "name": "stdout",
     "output_type": "stream",
     "text": [
      "[TransNetV2] Processing video frames 7659/7659\n",
      "./SceneJSON_2024/L26/V494.json\n",
      "[TransNetV2] Extracting frames from /media/daoan/T7 Shield2/AI_Challenge_2024_DATA/video_with_audio/Videos_L26/video/L26_V495.mp4\n",
      "[TransNetV2] Processing video frames 6500/7741"
     ]
    },
    {
     "name": "stderr",
     "output_type": "stream",
     "text": [
      "\n",
      " 99%|█████████▉| 494/498 [27:54<00:14,  3.66s/it]\u001B[A"
     ]
    },
    {
     "name": "stdout",
     "output_type": "stream",
     "text": [
      "[TransNetV2] Processing video frames 7741/7741\n",
      "./SceneJSON_2024/L26/V495.json\n",
      "[TransNetV2] Extracting frames from /media/daoan/T7 Shield2/AI_Challenge_2024_DATA/video_with_audio/Videos_L26/video/L26_V496.mp4\n",
      "[TransNetV2] Processing video frames 7500/7723"
     ]
    },
    {
     "name": "stderr",
     "output_type": "stream",
     "text": [
      "\n",
      " 99%|█████████▉| 495/498 [27:58<00:10,  3.58s/it]\u001B[A"
     ]
    },
    {
     "name": "stdout",
     "output_type": "stream",
     "text": [
      "[TransNetV2] Processing video frames 7723/7723\n",
      "./SceneJSON_2024/L26/V496.json\n",
      "[TransNetV2] Extracting frames from /media/daoan/T7 Shield2/AI_Challenge_2024_DATA/video_with_audio/Videos_L26/video/L26_V497.mp4\n",
      "[TransNetV2] Processing video frames 7400/7653"
     ]
    },
    {
     "name": "stderr",
     "output_type": "stream",
     "text": [
      "\n",
      "100%|█████████▉| 496/498 [28:01<00:07,  3.51s/it]\u001B[A"
     ]
    },
    {
     "name": "stdout",
     "output_type": "stream",
     "text": [
      "[TransNetV2] Processing video frames 7653/7653\n",
      "./SceneJSON_2024/L26/V497.json\n",
      "[TransNetV2] Extracting frames from /media/daoan/T7 Shield2/AI_Challenge_2024_DATA/video_with_audio/Videos_L26/video/L26_V498.mp4\n",
      "[TransNetV2] Processing video frames 6750/7636"
     ]
    },
    {
     "name": "stderr",
     "output_type": "stream",
     "text": [
      "\n",
      "100%|█████████▉| 497/498 [28:05<00:03,  3.48s/it]\u001B[A"
     ]
    },
    {
     "name": "stdout",
     "output_type": "stream",
     "text": [
      "[TransNetV2] Processing video frames 7636/7636\n",
      "./SceneJSON_2024/L26/V498.json\n",
      "[TransNetV2] Extracting frames from /media/daoan/T7 Shield2/AI_Challenge_2024_DATA/video_with_audio/Videos_L26/video/L26_V499.mp4\n",
      "[TransNetV2] Processing video frames 6700/7696"
     ]
    },
    {
     "name": "stderr",
     "output_type": "stream",
     "text": [
      "\n",
      "100%|██████████| 498/498 [28:08<00:00,  3.39s/it]\u001B[A\n",
      " 33%|███▎      | 2/6 [51:43<1:45:03, 1575.83s/it]"
     ]
    },
    {
     "name": "stdout",
     "output_type": "stream",
     "text": [
      "[TransNetV2] Processing video frames 7696/7696\n",
      "./SceneJSON_2024/L26/V499.json\n"
     ]
    },
    {
     "name": "stderr",
     "output_type": "stream",
     "text": [
      "\n",
      "  0%|          | 0/16 [00:00<?, ?it/s]\u001B[A"
     ]
    },
    {
     "name": "stdout",
     "output_type": "stream",
     "text": [
      "[TransNetV2] Extracting frames from /media/daoan/T7 Shield2/AI_Challenge_2024_DATA/video_with_audio/Videos_L27/video/L27_V001.mp4\n",
      "[TransNetV2] Processing video frames 14450/14962"
     ]
    },
    {
     "name": "stderr",
     "output_type": "stream",
     "text": [
      "\n",
      "  6%|▋         | 1/16 [00:06<01:38,  6.56s/it]\u001B[A"
     ]
    },
    {
     "name": "stdout",
     "output_type": "stream",
     "text": [
      "[TransNetV2] Processing video frames 14962/14962\n",
      "./SceneJSON_2024/L27/V001.json\n",
      "[TransNetV2] Extracting frames from /media/daoan/T7 Shield2/AI_Challenge_2024_DATA/video_with_audio/Videos_L27/video/L27_V002.mp4\n",
      "[TransNetV2] Processing video frames 14688/14688\n"
     ]
    },
    {
     "name": "stderr",
     "output_type": "stream",
     "text": [
      "\n",
      " 12%|█▎        | 2/16 [00:13<01:31,  6.57s/it]\u001B[A"
     ]
    },
    {
     "name": "stdout",
     "output_type": "stream",
     "text": [
      "./SceneJSON_2024/L27/V002.json\n",
      "[TransNetV2] Extracting frames from /media/daoan/T7 Shield2/AI_Challenge_2024_DATA/video_with_audio/Videos_L27/video/L27_V003.mp4\n",
      "[TransNetV2] Processing video frames 13000/14709"
     ]
    },
    {
     "name": "stderr",
     "output_type": "stream",
     "text": [
      "\n",
      " 19%|█▉        | 3/16 [00:19<01:25,  6.55s/it]\u001B[A"
     ]
    },
    {
     "name": "stdout",
     "output_type": "stream",
     "text": [
      "[TransNetV2] Processing video frames 14709/14709\n",
      "./SceneJSON_2024/L27/V003.json\n",
      "[TransNetV2] Extracting frames from /media/daoan/T7 Shield2/AI_Challenge_2024_DATA/video_with_audio/Videos_L27/video/L27_V004.mp4\n",
      "[TransNetV2] Processing video frames 14850/15014"
     ]
    },
    {
     "name": "stderr",
     "output_type": "stream",
     "text": [
      "\n",
      " 25%|██▌       | 4/16 [00:26<01:17,  6.50s/it]\u001B[A"
     ]
    },
    {
     "name": "stdout",
     "output_type": "stream",
     "text": [
      "[TransNetV2] Processing video frames 15014/15014\n",
      "./SceneJSON_2024/L27/V004.json\n",
      "[TransNetV2] Extracting frames from /media/daoan/T7 Shield2/AI_Challenge_2024_DATA/video_with_audio/Videos_L27/video/L27_V005.mp4\n",
      "[TransNetV2] Processing video frames 15148/15148\n"
     ]
    },
    {
     "name": "stderr",
     "output_type": "stream",
     "text": [
      "\n",
      " 31%|███▏      | 5/16 [00:32<01:09,  6.35s/it]\u001B[A"
     ]
    },
    {
     "name": "stdout",
     "output_type": "stream",
     "text": [
      "./SceneJSON_2024/L27/V005.json\n",
      "[TransNetV2] Extracting frames from /media/daoan/T7 Shield2/AI_Challenge_2024_DATA/video_with_audio/Videos_L27/video/L27_V006.mp4\n",
      "[TransNetV2] Processing video frames 13400/14512"
     ]
    },
    {
     "name": "stderr",
     "output_type": "stream",
     "text": [
      "\n",
      " 38%|███▊      | 6/16 [00:38<01:02,  6.29s/it]\u001B[A"
     ]
    },
    {
     "name": "stdout",
     "output_type": "stream",
     "text": [
      "[TransNetV2] Processing video frames 14512/14512\n",
      "./SceneJSON_2024/L27/V006.json\n",
      "[TransNetV2] Extracting frames from /media/daoan/T7 Shield2/AI_Challenge_2024_DATA/video_with_audio/Videos_L27/video/L27_V007.mp4\n",
      "[TransNetV2] Processing video frames 14650/15066"
     ]
    },
    {
     "name": "stderr",
     "output_type": "stream",
     "text": [
      "\n",
      " 44%|████▍     | 7/16 [00:44<00:57,  6.36s/it]\u001B[A"
     ]
    },
    {
     "name": "stdout",
     "output_type": "stream",
     "text": [
      "[TransNetV2] Processing video frames 15066/15066\n",
      "./SceneJSON_2024/L27/V007.json\n",
      "[TransNetV2] Extracting frames from /media/daoan/T7 Shield2/AI_Challenge_2024_DATA/video_with_audio/Videos_L27/video/L27_V008.mp4\n",
      "[TransNetV2] Processing video frames 13650/15037"
     ]
    },
    {
     "name": "stderr",
     "output_type": "stream",
     "text": [
      "\n",
      " 50%|█████     | 8/16 [00:51<00:51,  6.40s/it]\u001B[A"
     ]
    },
    {
     "name": "stdout",
     "output_type": "stream",
     "text": [
      "[TransNetV2] Processing video frames 15037/15037\n",
      "./SceneJSON_2024/L27/V008.json\n",
      "[TransNetV2] Extracting frames from /media/daoan/T7 Shield2/AI_Challenge_2024_DATA/video_with_audio/Videos_L27/video/L27_V009.mp4\n",
      "[TransNetV2] Processing video frames 13100/14469"
     ]
    },
    {
     "name": "stderr",
     "output_type": "stream",
     "text": [
      "\n",
      " 56%|█████▋    | 9/16 [00:57<00:43,  6.27s/it]\u001B[A"
     ]
    },
    {
     "name": "stdout",
     "output_type": "stream",
     "text": [
      "[TransNetV2] Processing video frames 14469/14469\n",
      "./SceneJSON_2024/L27/V009.json\n",
      "[TransNetV2] Extracting frames from /media/daoan/T7 Shield2/AI_Challenge_2024_DATA/video_with_audio/Videos_L27/video/L27_V010.mp4\n",
      "[TransNetV2] Processing video frames 14612/14612\n"
     ]
    },
    {
     "name": "stderr",
     "output_type": "stream",
     "text": [
      "\n",
      " 62%|██████▎   | 10/16 [01:03<00:38,  6.36s/it]\u001B[A"
     ]
    },
    {
     "name": "stdout",
     "output_type": "stream",
     "text": [
      "./SceneJSON_2024/L27/V010.json\n",
      "[TransNetV2] Extracting frames from /media/daoan/T7 Shield2/AI_Challenge_2024_DATA/video_with_audio/Videos_L27/video/L27_V011.mp4\n",
      "[TransNetV2] Processing video frames 14800/14849"
     ]
    },
    {
     "name": "stderr",
     "output_type": "stream",
     "text": [
      "\n",
      " 69%|██████▉   | 11/16 [01:10<00:32,  6.52s/it]\u001B[A"
     ]
    },
    {
     "name": "stdout",
     "output_type": "stream",
     "text": [
      "[TransNetV2] Processing video frames 14849/14849\n",
      "./SceneJSON_2024/L27/V011.json\n",
      "[TransNetV2] Extracting frames from /media/daoan/T7 Shield2/AI_Challenge_2024_DATA/video_with_audio/Videos_L27/video/L27_V012.mp4\n",
      "[TransNetV2] Processing video frames 14900/15021"
     ]
    },
    {
     "name": "stderr",
     "output_type": "stream",
     "text": [
      "\n",
      " 75%|███████▌  | 12/16 [01:17<00:26,  6.53s/it]\u001B[A"
     ]
    },
    {
     "name": "stdout",
     "output_type": "stream",
     "text": [
      "[TransNetV2] Processing video frames 15021/15021\n",
      "./SceneJSON_2024/L27/V012.json\n",
      "[TransNetV2] Extracting frames from /media/daoan/T7 Shield2/AI_Challenge_2024_DATA/video_with_audio/Videos_L27/video/L27_V013.mp4\n",
      "[TransNetV2] Processing video frames 12650/14295"
     ]
    },
    {
     "name": "stderr",
     "output_type": "stream",
     "text": [
      "\n",
      " 81%|████████▏ | 13/16 [01:23<00:19,  6.50s/it]\u001B[A"
     ]
    },
    {
     "name": "stdout",
     "output_type": "stream",
     "text": [
      "[TransNetV2] Processing video frames 14295/14295\n",
      "./SceneJSON_2024/L27/V013.json\n",
      "[TransNetV2] Extracting frames from /media/daoan/T7 Shield2/AI_Challenge_2024_DATA/video_with_audio/Videos_L27/video/L27_V014.mp4\n",
      "[TransNetV2] Processing video frames 12850/14490"
     ]
    },
    {
     "name": "stderr",
     "output_type": "stream",
     "text": [
      "\n",
      " 88%|████████▊ | 14/16 [01:30<00:12,  6.43s/it]\u001B[A"
     ]
    },
    {
     "name": "stdout",
     "output_type": "stream",
     "text": [
      "[TransNetV2] Processing video frames 14490/14490\n",
      "./SceneJSON_2024/L27/V014.json\n",
      "[TransNetV2] Extracting frames from /media/daoan/T7 Shield2/AI_Challenge_2024_DATA/video_with_audio/Videos_L27/video/L27_V015.mp4\n",
      "[TransNetV2] Processing video frames 14600/14684"
     ]
    },
    {
     "name": "stderr",
     "output_type": "stream",
     "text": [
      "\n",
      " 94%|█████████▍| 15/16 [01:36<00:06,  6.43s/it]\u001B[A"
     ]
    },
    {
     "name": "stdout",
     "output_type": "stream",
     "text": [
      "[TransNetV2] Processing video frames 14684/14684\n",
      "./SceneJSON_2024/L27/V015.json\n",
      "[TransNetV2] Extracting frames from /media/daoan/T7 Shield2/AI_Challenge_2024_DATA/video_with_audio/Videos_L27/video/L27_V016.mp4\n",
      "[TransNetV2] Processing video frames 13950/14232"
     ]
    },
    {
     "name": "stderr",
     "output_type": "stream",
     "text": [
      "\n",
      "100%|██████████| 16/16 [01:42<00:00,  6.42s/it]\u001B[A\n",
      " 50%|█████     | 3/6 [53:26<45:09, 903.17s/it]   "
     ]
    },
    {
     "name": "stdout",
     "output_type": "stream",
     "text": [
      "[TransNetV2] Processing video frames 14232/14232\n",
      "./SceneJSON_2024/L27/V016.json\n"
     ]
    },
    {
     "name": "stderr",
     "output_type": "stream",
     "text": [
      "\n",
      "  0%|          | 0/24 [00:00<?, ?it/s]\u001B[A"
     ]
    },
    {
     "name": "stdout",
     "output_type": "stream",
     "text": [
      "[TransNetV2] Extracting frames from /media/daoan/T7 Shield2/AI_Challenge_2024_DATA/video_with_audio/Videos_L28/video/L28_V001.mp4\n",
      "[TransNetV2] Processing video frames 31200/31676"
     ]
    },
    {
     "name": "stderr",
     "output_type": "stream",
     "text": [
      "\n",
      "  4%|▍         | 1/24 [00:14<05:23, 14.05s/it]\u001B[A"
     ]
    },
    {
     "name": "stdout",
     "output_type": "stream",
     "text": [
      "[TransNetV2] Processing video frames 31676/31676\n",
      "./SceneJSON_2024/L28/V001.json\n",
      "[TransNetV2] Extracting frames from /media/daoan/T7 Shield2/AI_Challenge_2024_DATA/video_with_audio/Videos_L28/video/L28_V002.mp4\n",
      "[TransNetV2] Processing video frames 28100/28769"
     ]
    },
    {
     "name": "stderr",
     "output_type": "stream",
     "text": [
      "\n",
      "  8%|▊         | 2/24 [00:25<04:39, 12.71s/it]\u001B[A"
     ]
    },
    {
     "name": "stdout",
     "output_type": "stream",
     "text": [
      "[TransNetV2] Processing video frames 28769/28769\n",
      "./SceneJSON_2024/L28/V002.json\n",
      "[TransNetV2] Extracting frames from /media/daoan/T7 Shield2/AI_Challenge_2024_DATA/video_with_audio/Videos_L28/video/L28_V003.mp4\n",
      "[TransNetV2] Processing video frames 28400/28778"
     ]
    },
    {
     "name": "stderr",
     "output_type": "stream",
     "text": [
      "\n",
      " 12%|█▎        | 3/24 [00:37<04:18, 12.29s/it]\u001B[A"
     ]
    },
    {
     "name": "stdout",
     "output_type": "stream",
     "text": [
      "[TransNetV2] Processing video frames 28778/28778\n",
      "./SceneJSON_2024/L28/V003.json\n",
      "[TransNetV2] Extracting frames from /media/daoan/T7 Shield2/AI_Challenge_2024_DATA/video_with_audio/Videos_L28/video/L28_V004.mp4\n",
      "[TransNetV2] Processing video frames 27650/28067"
     ]
    },
    {
     "name": "stderr",
     "output_type": "stream",
     "text": [
      "\n",
      " 17%|█▋        | 4/24 [00:49<04:02, 12.14s/it]\u001B[A"
     ]
    },
    {
     "name": "stdout",
     "output_type": "stream",
     "text": [
      "[TransNetV2] Processing video frames 28067/28067\n",
      "./SceneJSON_2024/L28/V004.json\n",
      "[TransNetV2] Extracting frames from /media/daoan/T7 Shield2/AI_Challenge_2024_DATA/video_with_audio/Videos_L28/video/L28_V005.mp4\n",
      "[TransNetV2] Processing video frames 27850/28175"
     ]
    },
    {
     "name": "stderr",
     "output_type": "stream",
     "text": [
      "\n",
      " 21%|██        | 5/24 [01:00<03:45, 11.89s/it]\u001B[A"
     ]
    },
    {
     "name": "stdout",
     "output_type": "stream",
     "text": [
      "[TransNetV2] Processing video frames 28175/28175\n",
      "./SceneJSON_2024/L28/V005.json\n",
      "[TransNetV2] Extracting frames from /media/daoan/T7 Shield2/AI_Challenge_2024_DATA/video_with_audio/Videos_L28/video/L28_V006.mp4\n",
      "[TransNetV2] Processing video frames 28000/28432"
     ]
    },
    {
     "name": "stderr",
     "output_type": "stream",
     "text": [
      "\n",
      " 25%|██▌       | 6/24 [01:12<03:34, 11.89s/it]\u001B[A"
     ]
    },
    {
     "name": "stdout",
     "output_type": "stream",
     "text": [
      "[TransNetV2] Processing video frames 28432/28432\n",
      "./SceneJSON_2024/L28/V006.json\n",
      "[TransNetV2] Extracting frames from /media/daoan/T7 Shield2/AI_Challenge_2024_DATA/video_with_audio/Videos_L28/video/L28_V007.mp4\n",
      "[TransNetV2] Processing video frames 28000/28259"
     ]
    },
    {
     "name": "stderr",
     "output_type": "stream",
     "text": [
      "\n",
      " 29%|██▉       | 7/24 [01:25<03:24, 12.05s/it]\u001B[A"
     ]
    },
    {
     "name": "stdout",
     "output_type": "stream",
     "text": [
      "[TransNetV2] Processing video frames 28259/28259\n",
      "./SceneJSON_2024/L28/V007.json\n",
      "[TransNetV2] Extracting frames from /media/daoan/T7 Shield2/AI_Challenge_2024_DATA/video_with_audio/Videos_L28/video/L28_V008.mp4\n",
      "[TransNetV2] Processing video frames 27800/27961"
     ]
    },
    {
     "name": "stderr",
     "output_type": "stream",
     "text": [
      "\n",
      " 33%|███▎      | 8/24 [01:36<03:10, 11.93s/it]\u001B[A"
     ]
    },
    {
     "name": "stdout",
     "output_type": "stream",
     "text": [
      "[TransNetV2] Processing video frames 27961/27961\n",
      "./SceneJSON_2024/L28/V008.json\n",
      "[TransNetV2] Extracting frames from /media/daoan/T7 Shield2/AI_Challenge_2024_DATA/video_with_audio/Videos_L28/video/L28_V009.mp4\n",
      "[TransNetV2] Processing video frames 28150/28475"
     ]
    },
    {
     "name": "stderr",
     "output_type": "stream",
     "text": [
      "\n",
      " 38%|███▊      | 9/24 [01:49<03:01, 12.08s/it]\u001B[A"
     ]
    },
    {
     "name": "stdout",
     "output_type": "stream",
     "text": [
      "[TransNetV2] Processing video frames 28475/28475\n",
      "./SceneJSON_2024/L28/V009.json\n",
      "[TransNetV2] Extracting frames from /media/daoan/T7 Shield2/AI_Challenge_2024_DATA/video_with_audio/Videos_L28/video/L28_V010.mp4\n",
      "[TransNetV2] Processing video frames 27250/28017"
     ]
    },
    {
     "name": "stderr",
     "output_type": "stream",
     "text": [
      "\n",
      " 42%|████▏     | 10/24 [02:01<02:49, 12.09s/it]\u001B[A"
     ]
    },
    {
     "name": "stdout",
     "output_type": "stream",
     "text": [
      "[TransNetV2] Processing video frames 28017/28017\n",
      "./SceneJSON_2024/L28/V010.json\n",
      "[TransNetV2] Extracting frames from /media/daoan/T7 Shield2/AI_Challenge_2024_DATA/video_with_audio/Videos_L28/video/L28_V011.mp4\n",
      "[TransNetV2] Processing video frames 28520/28520\n"
     ]
    },
    {
     "name": "stderr",
     "output_type": "stream",
     "text": [
      "\n",
      " 46%|████▌     | 11/24 [02:14<02:40, 12.32s/it]\u001B[A"
     ]
    },
    {
     "name": "stdout",
     "output_type": "stream",
     "text": [
      "./SceneJSON_2024/L28/V011.json\n",
      "[TransNetV2] Extracting frames from /media/daoan/T7 Shield2/AI_Challenge_2024_DATA/video_with_audio/Videos_L28/video/L28_V012.mp4\n",
      "[TransNetV2] Processing video frames 28411/28411\n",
      "./SceneJSON_2024/L28/V012.json\n"
     ]
    },
    {
     "name": "stderr",
     "output_type": "stream",
     "text": [
      "\n",
      " 50%|█████     | 12/24 [02:27<02:31, 12.59s/it]\u001B[A"
     ]
    },
    {
     "name": "stdout",
     "output_type": "stream",
     "text": [
      "[TransNetV2] Extracting frames from /media/daoan/T7 Shield2/AI_Challenge_2024_DATA/video_with_audio/Videos_L28/video/L28_V013.mp4\n",
      "[TransNetV2] Processing video frames 28200/28250"
     ]
    },
    {
     "name": "stderr",
     "output_type": "stream",
     "text": [
      "\n",
      " 54%|█████▍    | 13/24 [02:39<02:16, 12.39s/it]\u001B[A"
     ]
    },
    {
     "name": "stdout",
     "output_type": "stream",
     "text": [
      "[TransNetV2] Processing video frames 28250/28250\n",
      "./SceneJSON_2024/L28/V013.json\n",
      "[TransNetV2] Extracting frames from /media/daoan/T7 Shield2/AI_Challenge_2024_DATA/video_with_audio/Videos_L28/video/L28_V014.mp4\n",
      "[TransNetV2] Processing video frames 28250/28285"
     ]
    },
    {
     "name": "stderr",
     "output_type": "stream",
     "text": [
      "\n",
      " 58%|█████▊    | 14/24 [02:51<02:01, 12.20s/it]\u001B[A"
     ]
    },
    {
     "name": "stdout",
     "output_type": "stream",
     "text": [
      "[TransNetV2] Processing video frames 28285/28285\n",
      "./SceneJSON_2024/L28/V014.json\n",
      "[TransNetV2] Extracting frames from /media/daoan/T7 Shield2/AI_Challenge_2024_DATA/video_with_audio/Videos_L28/video/L28_V015.mp4\n",
      "[TransNetV2] Processing video frames 28150/28258"
     ]
    },
    {
     "name": "stderr",
     "output_type": "stream",
     "text": [
      "\n",
      " 62%|██████▎   | 15/24 [03:03<01:50, 12.26s/it]\u001B[A"
     ]
    },
    {
     "name": "stdout",
     "output_type": "stream",
     "text": [
      "[TransNetV2] Processing video frames 28258/28258\n",
      "./SceneJSON_2024/L28/V015.json\n",
      "[TransNetV2] Extracting frames from /media/daoan/T7 Shield2/AI_Challenge_2024_DATA/video_with_audio/Videos_L28/video/L28_V016.mp4\n",
      "[TransNetV2] Processing video frames 29000/29230"
     ]
    },
    {
     "name": "stderr",
     "output_type": "stream",
     "text": [
      "\n",
      " 67%|██████▋   | 16/24 [03:17<01:40, 12.62s/it]\u001B[A"
     ]
    },
    {
     "name": "stdout",
     "output_type": "stream",
     "text": [
      "[TransNetV2] Processing video frames 29230/29230\n",
      "./SceneJSON_2024/L28/V016.json\n",
      "[TransNetV2] Extracting frames from /media/daoan/T7 Shield2/AI_Challenge_2024_DATA/video_with_audio/Videos_L28/video/L28_V017.mp4\n",
      "[TransNetV2] Processing video frames 28950/29254"
     ]
    },
    {
     "name": "stderr",
     "output_type": "stream",
     "text": [
      "\n",
      " 71%|███████   | 17/24 [03:30<01:30, 12.92s/it]\u001B[A"
     ]
    },
    {
     "name": "stdout",
     "output_type": "stream",
     "text": [
      "[TransNetV2] Processing video frames 29254/29254\n",
      "./SceneJSON_2024/L28/V017.json\n",
      "[TransNetV2] Extracting frames from /media/daoan/T7 Shield2/AI_Challenge_2024_DATA/video_with_audio/Videos_L28/video/L28_V018.mp4\n",
      "[TransNetV2] Processing video frames 28100/28238"
     ]
    },
    {
     "name": "stderr",
     "output_type": "stream",
     "text": [
      "\n",
      " 75%|███████▌  | 18/24 [03:44<01:18, 13.06s/it]\u001B[A"
     ]
    },
    {
     "name": "stdout",
     "output_type": "stream",
     "text": [
      "[TransNetV2] Processing video frames 28238/28238\n",
      "./SceneJSON_2024/L28/V018.json\n",
      "[TransNetV2] Extracting frames from /media/daoan/T7 Shield2/AI_Challenge_2024_DATA/video_with_audio/Videos_L28/video/L28_V019.mp4\n",
      "[TransNetV2] Processing video frames 28100/28339"
     ]
    },
    {
     "name": "stderr",
     "output_type": "stream",
     "text": [
      "\n",
      " 79%|███████▉  | 19/24 [03:57<01:05, 13.12s/it]\u001B[A"
     ]
    },
    {
     "name": "stdout",
     "output_type": "stream",
     "text": [
      "[TransNetV2] Processing video frames 28339/28339\n",
      "./SceneJSON_2024/L28/V019.json\n",
      "[TransNetV2] Extracting frames from /media/daoan/T7 Shield2/AI_Challenge_2024_DATA/video_with_audio/Videos_L28/video/L28_V020.mp4\n",
      "[TransNetV2] Processing video frames 27465/27465\n"
     ]
    },
    {
     "name": "stderr",
     "output_type": "stream",
     "text": [
      "\n",
      " 83%|████████▎ | 20/24 [04:10<00:52, 13.17s/it]\u001B[A"
     ]
    },
    {
     "name": "stdout",
     "output_type": "stream",
     "text": [
      "./SceneJSON_2024/L28/V020.json\n",
      "[TransNetV2] Extracting frames from /media/daoan/T7 Shield2/AI_Challenge_2024_DATA/video_with_audio/Videos_L28/video/L28_V021.mp4\n",
      "[TransNetV2] Processing video frames 27150/28254"
     ]
    },
    {
     "name": "stderr",
     "output_type": "stream",
     "text": [
      "\n",
      " 88%|████████▊ | 21/24 [04:23<00:39, 13.13s/it]\u001B[A"
     ]
    },
    {
     "name": "stdout",
     "output_type": "stream",
     "text": [
      "[TransNetV2] Processing video frames 28254/28254\n",
      "./SceneJSON_2024/L28/V021.json\n",
      "[TransNetV2] Extracting frames from /media/daoan/T7 Shield2/AI_Challenge_2024_DATA/video_with_audio/Videos_L28/video/L28_V022.mp4\n",
      "[TransNetV2] Processing video frames 26600/27653"
     ]
    },
    {
     "name": "stderr",
     "output_type": "stream",
     "text": [
      "\n",
      " 92%|█████████▏| 22/24 [04:37<00:26, 13.28s/it]\u001B[A"
     ]
    },
    {
     "name": "stdout",
     "output_type": "stream",
     "text": [
      "[TransNetV2] Processing video frames 27653/27653\n",
      "./SceneJSON_2024/L28/V022.json\n",
      "[TransNetV2] Extracting frames from /media/daoan/T7 Shield2/AI_Challenge_2024_DATA/video_with_audio/Videos_L28/video/L28_V023.mp4\n",
      "[TransNetV2] Processing video frames 27100/27353"
     ]
    },
    {
     "name": "stderr",
     "output_type": "stream",
     "text": [
      "\n",
      " 96%|█████████▌| 23/24 [04:50<00:13, 13.22s/it]\u001B[A"
     ]
    },
    {
     "name": "stdout",
     "output_type": "stream",
     "text": [
      "[TransNetV2] Processing video frames 27353/27353\n",
      "./SceneJSON_2024/L28/V023.json\n",
      "[TransNetV2] Extracting frames from /media/daoan/T7 Shield2/AI_Challenge_2024_DATA/video_with_audio/Videos_L28/video/L28_V024.mp4\n",
      "[TransNetV2] Processing video frames 27700/28150"
     ]
    },
    {
     "name": "stderr",
     "output_type": "stream",
     "text": [
      "\n",
      "100%|██████████| 24/24 [05:02<00:00, 12.62s/it]\u001B[A\n",
      " 67%|██████▋   | 4/6 [58:28<22:12, 666.14s/it]"
     ]
    },
    {
     "name": "stdout",
     "output_type": "stream",
     "text": [
      "[TransNetV2] Processing video frames 28150/28150\n",
      "./SceneJSON_2024/L28/V024.json\n"
     ]
    },
    {
     "name": "stderr",
     "output_type": "stream",
     "text": [
      "\n",
      "  0%|          | 0/23 [00:00<?, ?it/s]\u001B[A"
     ]
    },
    {
     "name": "stdout",
     "output_type": "stream",
     "text": [
      "[TransNetV2] Extracting frames from /media/daoan/T7 Shield2/AI_Challenge_2024_DATA/video_with_audio/Videos_L29/video/L29_V001.mp4\n",
      "[TransNetV2] Processing video frames 25700/27076"
     ]
    },
    {
     "name": "stderr",
     "output_type": "stream",
     "text": [
      "\n",
      "  4%|▍         | 1/23 [00:13<04:49, 13.18s/it]\u001B[A"
     ]
    },
    {
     "name": "stdout",
     "output_type": "stream",
     "text": [
      "[TransNetV2] Processing video frames 27076/27076\n",
      "./SceneJSON_2024/L29/V001.json\n",
      "[TransNetV2] Extracting frames from /media/daoan/T7 Shield2/AI_Challenge_2024_DATA/video_with_audio/Videos_L29/video/L29_V002.mp4\n",
      "[TransNetV2] Processing video frames 25650/26177"
     ]
    },
    {
     "name": "stderr",
     "output_type": "stream",
     "text": [
      "\n",
      "  9%|▊         | 2/23 [00:24<04:19, 12.36s/it]\u001B[A"
     ]
    },
    {
     "name": "stdout",
     "output_type": "stream",
     "text": [
      "[TransNetV2] Processing video frames 26177/26177\n",
      "./SceneJSON_2024/L29/V002.json\n",
      "[TransNetV2] Extracting frames from /media/daoan/T7 Shield2/AI_Challenge_2024_DATA/video_with_audio/Videos_L29/video/L29_V003.mp4\n",
      "[TransNetV2] Processing video frames 25700/26176"
     ]
    },
    {
     "name": "stderr",
     "output_type": "stream",
     "text": [
      "\n",
      " 13%|█▎        | 3/23 [00:38<04:14, 12.74s/it]\u001B[A"
     ]
    },
    {
     "name": "stdout",
     "output_type": "stream",
     "text": [
      "[TransNetV2] Processing video frames 26176/26176\n",
      "./SceneJSON_2024/L29/V003.json\n",
      "[TransNetV2] Extracting frames from /media/daoan/T7 Shield2/AI_Challenge_2024_DATA/video_with_audio/Videos_L29/video/L29_V004.mp4\n",
      "[TransNetV2] Processing video frames 25950/26813"
     ]
    },
    {
     "name": "stderr",
     "output_type": "stream",
     "text": [
      "\n",
      " 17%|█▋        | 4/23 [00:50<03:57, 12.51s/it]\u001B[A"
     ]
    },
    {
     "name": "stdout",
     "output_type": "stream",
     "text": [
      "[TransNetV2] Processing video frames 26813/26813\n",
      "./SceneJSON_2024/L29/V004.json\n",
      "[TransNetV2] Extracting frames from /media/daoan/T7 Shield2/AI_Challenge_2024_DATA/video_with_audio/Videos_L29/video/L29_V005.mp4\n",
      "[TransNetV2] Processing video frames 26721/26721\n"
     ]
    },
    {
     "name": "stderr",
     "output_type": "stream",
     "text": [
      "\n",
      " 22%|██▏       | 5/23 [01:02<03:43, 12.41s/it]\u001B[A"
     ]
    },
    {
     "name": "stdout",
     "output_type": "stream",
     "text": [
      "./SceneJSON_2024/L29/V005.json\n",
      "[TransNetV2] Extracting frames from /media/daoan/T7 Shield2/AI_Challenge_2024_DATA/video_with_audio/Videos_L29/video/L29_V006.mp4\n",
      "[TransNetV2] Processing video frames 26903/26903\n"
     ]
    },
    {
     "name": "stderr",
     "output_type": "stream",
     "text": [
      "\n",
      " 26%|██▌       | 6/23 [01:14<03:30, 12.39s/it]\u001B[A"
     ]
    },
    {
     "name": "stdout",
     "output_type": "stream",
     "text": [
      "./SceneJSON_2024/L29/V006.json\n",
      "[TransNetV2] Extracting frames from /media/daoan/T7 Shield2/AI_Challenge_2024_DATA/video_with_audio/Videos_L29/video/L29_V007.mp4\n",
      "[TransNetV2] Processing video frames 26821/26821\n"
     ]
    },
    {
     "name": "stderr",
     "output_type": "stream",
     "text": [
      "\n",
      " 30%|███       | 7/23 [01:28<03:23, 12.71s/it]\u001B[A"
     ]
    },
    {
     "name": "stdout",
     "output_type": "stream",
     "text": [
      "./SceneJSON_2024/L29/V007.json\n",
      "[TransNetV2] Extracting frames from /media/daoan/T7 Shield2/AI_Challenge_2024_DATA/video_with_audio/Videos_L29/video/L29_V008.mp4\n",
      "[TransNetV2] Processing video frames 25550/26538"
     ]
    },
    {
     "name": "stderr",
     "output_type": "stream",
     "text": [
      "\n",
      " 35%|███▍      | 8/23 [01:39<03:05, 12.34s/it]\u001B[A"
     ]
    },
    {
     "name": "stdout",
     "output_type": "stream",
     "text": [
      "[TransNetV2] Processing video frames 26538/26538\n",
      "./SceneJSON_2024/L29/V008.json\n",
      "[TransNetV2] Extracting frames from /media/daoan/T7 Shield2/AI_Challenge_2024_DATA/video_with_audio/Videos_L29/video/L29_V009.mp4\n",
      "[TransNetV2] Processing video frames 25600/26931"
     ]
    },
    {
     "name": "stderr",
     "output_type": "stream",
     "text": [
      "\n",
      " 39%|███▉      | 9/23 [01:52<02:55, 12.57s/it]\u001B[A"
     ]
    },
    {
     "name": "stdout",
     "output_type": "stream",
     "text": [
      "[TransNetV2] Processing video frames 26931/26931\n",
      "./SceneJSON_2024/L29/V009.json\n",
      "[TransNetV2] Extracting frames from /media/daoan/T7 Shield2/AI_Challenge_2024_DATA/video_with_audio/Videos_L29/video/L29_V010.mp4\n",
      "[TransNetV2] Processing video frames 26300/26375"
     ]
    },
    {
     "name": "stderr",
     "output_type": "stream",
     "text": [
      "\n",
      " 43%|████▎     | 10/23 [02:04<02:40, 12.35s/it]\u001B[A"
     ]
    },
    {
     "name": "stdout",
     "output_type": "stream",
     "text": [
      "[TransNetV2] Processing video frames 26375/26375\n",
      "./SceneJSON_2024/L29/V010.json\n",
      "[TransNetV2] Extracting frames from /media/daoan/T7 Shield2/AI_Challenge_2024_DATA/video_with_audio/Videos_L29/video/L29_V011.mp4\n",
      "[TransNetV2] Processing video frames 26893/26893\n"
     ]
    },
    {
     "name": "stderr",
     "output_type": "stream",
     "text": [
      "\n",
      " 48%|████▊     | 11/23 [02:16<02:27, 12.27s/it]\u001B[A"
     ]
    },
    {
     "name": "stdout",
     "output_type": "stream",
     "text": [
      "./SceneJSON_2024/L29/V011.json\n",
      "[TransNetV2] Extracting frames from /media/daoan/T7 Shield2/AI_Challenge_2024_DATA/video_with_audio/Videos_L29/video/L29_V012.mp4\n",
      "[TransNetV2] Processing video frames 26522/26522\n"
     ]
    },
    {
     "name": "stderr",
     "output_type": "stream",
     "text": [
      "\n",
      " 52%|█████▏    | 12/23 [02:29<02:15, 12.31s/it]\u001B[A"
     ]
    },
    {
     "name": "stdout",
     "output_type": "stream",
     "text": [
      "./SceneJSON_2024/L29/V012.json\n",
      "[TransNetV2] Extracting frames from /media/daoan/T7 Shield2/AI_Challenge_2024_DATA/video_with_audio/Videos_L29/video/L29_V013.mp4\n",
      "[TransNetV2] Processing video frames 25850/26829"
     ]
    },
    {
     "name": "stderr",
     "output_type": "stream",
     "text": [
      "\n",
      " 57%|█████▋    | 13/23 [02:42<02:04, 12.48s/it]\u001B[A"
     ]
    },
    {
     "name": "stdout",
     "output_type": "stream",
     "text": [
      "[TransNetV2] Processing video frames 26829/26829\n",
      "./SceneJSON_2024/L29/V013.json\n",
      "[TransNetV2] Extracting frames from /media/daoan/T7 Shield2/AI_Challenge_2024_DATA/video_with_audio/Videos_L29/video/L29_V014.mp4\n",
      "[TransNetV2] Processing video frames 25662/25662\n"
     ]
    },
    {
     "name": "stderr",
     "output_type": "stream",
     "text": [
      "\n",
      " 61%|██████    | 14/23 [02:54<01:52, 12.48s/it]\u001B[A"
     ]
    },
    {
     "name": "stdout",
     "output_type": "stream",
     "text": [
      "./SceneJSON_2024/L29/V014.json\n",
      "[TransNetV2] Extracting frames from /media/daoan/T7 Shield2/AI_Challenge_2024_DATA/video_with_audio/Videos_L29/video/L29_V015.mp4\n",
      "[TransNetV2] Processing video frames 27032/27032\n"
     ]
    },
    {
     "name": "stderr",
     "output_type": "stream",
     "text": [
      "\n",
      " 65%|██████▌   | 15/23 [03:07<01:39, 12.46s/it]\u001B[A"
     ]
    },
    {
     "name": "stdout",
     "output_type": "stream",
     "text": [
      "./SceneJSON_2024/L29/V015.json\n",
      "[TransNetV2] Extracting frames from /media/daoan/T7 Shield2/AI_Challenge_2024_DATA/video_with_audio/Videos_L29/video/L29_V016.mp4\n",
      "[TransNetV2] Processing video frames 26600/26625"
     ]
    },
    {
     "name": "stderr",
     "output_type": "stream",
     "text": [
      "\n",
      " 70%|██████▉   | 16/23 [03:18<01:25, 12.25s/it]\u001B[A"
     ]
    },
    {
     "name": "stdout",
     "output_type": "stream",
     "text": [
      "[TransNetV2] Processing video frames 26625/26625\n",
      "./SceneJSON_2024/L29/V016.json\n",
      "[TransNetV2] Extracting frames from /media/daoan/T7 Shield2/AI_Challenge_2024_DATA/video_with_audio/Videos_L29/video/L29_V017.mp4\n",
      "[TransNetV2] Processing video frames 25850/27069"
     ]
    },
    {
     "name": "stderr",
     "output_type": "stream",
     "text": [
      "\n",
      " 74%|███████▍  | 17/23 [03:31<01:14, 12.48s/it]\u001B[A"
     ]
    },
    {
     "name": "stdout",
     "output_type": "stream",
     "text": [
      "[TransNetV2] Processing video frames 27069/27069\n",
      "./SceneJSON_2024/L29/V017.json\n",
      "[TransNetV2] Extracting frames from /media/daoan/T7 Shield2/AI_Challenge_2024_DATA/video_with_audio/Videos_L29/video/L29_V018.mp4\n",
      "[TransNetV2] Processing video frames 26000/27393"
     ]
    },
    {
     "name": "stderr",
     "output_type": "stream",
     "text": [
      "\n",
      " 78%|███████▊  | 18/23 [03:43<01:01, 12.33s/it]\u001B[A"
     ]
    },
    {
     "name": "stdout",
     "output_type": "stream",
     "text": [
      "[TransNetV2] Processing video frames 27393/27393\n",
      "./SceneJSON_2024/L29/V018.json\n",
      "[TransNetV2] Extracting frames from /media/daoan/T7 Shield2/AI_Challenge_2024_DATA/video_with_audio/Videos_L29/video/L29_V019.mp4\n",
      "[TransNetV2] Processing video frames 26633/26633\n"
     ]
    },
    {
     "name": "stderr",
     "output_type": "stream",
     "text": [
      "\n",
      " 83%|████████▎ | 19/23 [03:55<00:49, 12.26s/it]\u001B[A"
     ]
    },
    {
     "name": "stdout",
     "output_type": "stream",
     "text": [
      "./SceneJSON_2024/L29/V019.json\n",
      "[TransNetV2] Extracting frames from /media/daoan/T7 Shield2/AI_Challenge_2024_DATA/video_with_audio/Videos_L29/video/L29_V020.mp4\n",
      "[TransNetV2] Processing video frames 27100/27218"
     ]
    },
    {
     "name": "stderr",
     "output_type": "stream",
     "text": [
      "\n",
      " 87%|████████▋ | 20/23 [04:08<00:37, 12.36s/it]\u001B[A"
     ]
    },
    {
     "name": "stdout",
     "output_type": "stream",
     "text": [
      "[TransNetV2] Processing video frames 27218/27218\n",
      "./SceneJSON_2024/L29/V020.json\n",
      "[TransNetV2] Extracting frames from /media/daoan/T7 Shield2/AI_Challenge_2024_DATA/video_with_audio/Videos_L29/video/L29_V021.mp4\n",
      "[TransNetV2] Processing video frames 26800/27006"
     ]
    },
    {
     "name": "stderr",
     "output_type": "stream",
     "text": [
      "\n",
      " 91%|█████████▏| 21/23 [04:19<00:24, 12.08s/it]\u001B[A"
     ]
    },
    {
     "name": "stdout",
     "output_type": "stream",
     "text": [
      "[TransNetV2] Processing video frames 27006/27006\n",
      "./SceneJSON_2024/L29/V021.json\n",
      "[TransNetV2] Extracting frames from /media/daoan/T7 Shield2/AI_Challenge_2024_DATA/video_with_audio/Videos_L29/video/L29_V022.mp4\n",
      "[TransNetV2] Processing video frames 26050/27243"
     ]
    },
    {
     "name": "stderr",
     "output_type": "stream",
     "text": [
      "\n",
      " 96%|█████████▌| 22/23 [04:32<00:12, 12.27s/it]\u001B[A"
     ]
    },
    {
     "name": "stdout",
     "output_type": "stream",
     "text": [
      "[TransNetV2] Processing video frames 27243/27243\n",
      "./SceneJSON_2024/L29/V022.json\n",
      "[TransNetV2] Extracting frames from /media/daoan/T7 Shield2/AI_Challenge_2024_DATA/video_with_audio/Videos_L29/video/L29_V023.mp4\n",
      "[TransNetV2] Processing video frames 26350/27057"
     ]
    },
    {
     "name": "stderr",
     "output_type": "stream",
     "text": [
      "\n",
      "100%|██████████| 23/23 [04:45<00:00, 12.41s/it]\u001B[A\n",
      " 83%|████████▎ | 5/6 [1:03:14<08:48, 528.87s/it]"
     ]
    },
    {
     "name": "stdout",
     "output_type": "stream",
     "text": [
      "[TransNetV2] Processing video frames 27057/27057\n",
      "./SceneJSON_2024/L29/V023.json\n"
     ]
    },
    {
     "name": "stderr",
     "output_type": "stream",
     "text": [
      "\n",
      "  0%|          | 0/96 [00:00<?, ?it/s]\u001B[A"
     ]
    },
    {
     "name": "stdout",
     "output_type": "stream",
     "text": [
      "[TransNetV2] Extracting frames from /media/daoan/T7 Shield2/AI_Challenge_2024_DATA/video_with_audio/Videos_L30/video/L30_V001.mp4\n",
      "[TransNetV2] Processing video frames 1850/3162"
     ]
    },
    {
     "name": "stderr",
     "output_type": "stream",
     "text": [
      "\n",
      "  1%|          | 1/96 [00:01<02:31,  1.59s/it]\u001B[A"
     ]
    },
    {
     "name": "stdout",
     "output_type": "stream",
     "text": [
      "[TransNetV2] Processing video frames 3162/3162\n",
      "./SceneJSON_2024/L30/V001.json\n",
      "[TransNetV2] Extracting frames from /media/daoan/T7 Shield2/AI_Challenge_2024_DATA/video_with_audio/Videos_L30/video/L30_V002.mp4\n",
      "[TransNetV2] Processing video frames 3850/4117"
     ]
    },
    {
     "name": "stderr",
     "output_type": "stream",
     "text": [
      "\n",
      "  2%|▏         | 2/96 [00:03<02:39,  1.69s/it]\u001B[A"
     ]
    },
    {
     "name": "stdout",
     "output_type": "stream",
     "text": [
      "[TransNetV2] Processing video frames 4117/4117\n",
      "./SceneJSON_2024/L30/V002.json\n",
      "[TransNetV2] Extracting frames from /media/daoan/T7 Shield2/AI_Challenge_2024_DATA/video_with_audio/Videos_L30/video/L30_V003.mp4\n",
      "[TransNetV2] Processing video frames 6800/8092"
     ]
    },
    {
     "name": "stderr",
     "output_type": "stream",
     "text": [
      "\n",
      "  3%|▎         | 3/96 [00:06<03:50,  2.48s/it]\u001B[A"
     ]
    },
    {
     "name": "stdout",
     "output_type": "stream",
     "text": [
      "[TransNetV2] Processing video frames 8092/8092\n",
      "./SceneJSON_2024/L30/V003.json\n",
      "[TransNetV2] Extracting frames from /media/daoan/T7 Shield2/AI_Challenge_2024_DATA/video_with_audio/Videos_L30/video/L30_V004.mp4\n",
      "[TransNetV2] Processing video frames 5550/6002"
     ]
    },
    {
     "name": "stderr",
     "output_type": "stream",
     "text": [
      "\n",
      "  4%|▍         | 4/96 [00:09<03:39,  2.39s/it]\u001B[A"
     ]
    },
    {
     "name": "stdout",
     "output_type": "stream",
     "text": [
      "[TransNetV2] Processing video frames 6002/6002\n",
      "./SceneJSON_2024/L30/V004.json\n",
      "[TransNetV2] Extracting frames from /media/daoan/T7 Shield2/AI_Challenge_2024_DATA/video_with_audio/Videos_L30/video/L30_V005.mp4\n"
     ]
    },
    {
     "name": "stderr",
     "output_type": "stream",
     "text": [
      "\n",
      "  5%|▌         | 5/96 [00:09<02:46,  1.83s/it]\u001B[A"
     ]
    },
    {
     "name": "stdout",
     "output_type": "stream",
     "text": [
      "[TransNetV2] Processing video frames 1659/1659\n",
      "./SceneJSON_2024/L30/V005.json\n",
      "[TransNetV2] Extracting frames from /media/daoan/T7 Shield2/AI_Challenge_2024_DATA/video_with_audio/Videos_L30/video/L30_V006.mp4\n",
      "[TransNetV2] Processing video frames 3750/4660"
     ]
    },
    {
     "name": "stderr",
     "output_type": "stream",
     "text": [
      "\n",
      "  6%|▋         | 6/96 [00:11<02:52,  1.91s/it]\u001B[A"
     ]
    },
    {
     "name": "stdout",
     "output_type": "stream",
     "text": [
      "[TransNetV2] Processing video frames 4660/4660\n",
      "./SceneJSON_2024/L30/V006.json\n",
      "[TransNetV2] Extracting frames from /media/daoan/T7 Shield2/AI_Challenge_2024_DATA/video_with_audio/Videos_L30/video/L30_V007.mp4\n",
      "[TransNetV2] Processing video frames 7400/7795"
     ]
    },
    {
     "name": "stderr",
     "output_type": "stream",
     "text": [
      "\n",
      "  7%|▋         | 7/96 [00:15<03:32,  2.39s/it]\u001B[A"
     ]
    },
    {
     "name": "stdout",
     "output_type": "stream",
     "text": [
      "[TransNetV2] Processing video frames 7795/7795\n",
      "./SceneJSON_2024/L30/V007.json\n",
      "[TransNetV2] Extracting frames from /media/daoan/T7 Shield2/AI_Challenge_2024_DATA/video_with_audio/Videos_L30/video/L30_V008.mp4\n",
      "[TransNetV2] Processing video frames 3900/5132"
     ]
    },
    {
     "name": "stderr",
     "output_type": "stream",
     "text": [
      "\n",
      "  8%|▊         | 8/96 [00:17<03:26,  2.35s/it]\u001B[A"
     ]
    },
    {
     "name": "stdout",
     "output_type": "stream",
     "text": [
      "[TransNetV2] Processing video frames 5132/5132\n",
      "./SceneJSON_2024/L30/V008.json\n",
      "[TransNetV2] Extracting frames from /media/daoan/T7 Shield2/AI_Challenge_2024_DATA/video_with_audio/Videos_L30/video/L30_V009.mp4\n",
      "[TransNetV2] Processing video frames 9050/10542"
     ]
    },
    {
     "name": "stderr",
     "output_type": "stream",
     "text": [
      "\n",
      "  9%|▉         | 9/96 [00:21<04:14,  2.92s/it]\u001B[A"
     ]
    },
    {
     "name": "stdout",
     "output_type": "stream",
     "text": [
      "[TransNetV2] Processing video frames 10542/10542\n",
      "./SceneJSON_2024/L30/V009.json\n",
      "[TransNetV2] Extracting frames from /media/daoan/T7 Shield2/AI_Challenge_2024_DATA/video_with_audio/Videos_L30/video/L30_V010.mp4\n",
      "[TransNetV2] Processing video frames 3650/4143"
     ]
    },
    {
     "name": "stderr",
     "output_type": "stream",
     "text": [
      "\n",
      " 10%|█         | 10/96 [00:23<03:43,  2.60s/it]\u001B[A"
     ]
    },
    {
     "name": "stdout",
     "output_type": "stream",
     "text": [
      "[TransNetV2] Processing video frames 4143/4143\n",
      "./SceneJSON_2024/L30/V010.json\n",
      "[TransNetV2] Extracting frames from /media/daoan/T7 Shield2/AI_Challenge_2024_DATA/video_with_audio/Videos_L30/video/L30_V011.mp4\n",
      "[TransNetV2] Processing video frames 1800/1882"
     ]
    },
    {
     "name": "stderr",
     "output_type": "stream",
     "text": [
      "\n",
      " 11%|█▏        | 11/96 [00:24<02:57,  2.08s/it]\u001B[A"
     ]
    },
    {
     "name": "stdout",
     "output_type": "stream",
     "text": [
      "[TransNetV2] Processing video frames 1882/1882\n",
      "./SceneJSON_2024/L30/V011.json\n",
      "[TransNetV2] Extracting frames from /media/daoan/T7 Shield2/AI_Challenge_2024_DATA/video_with_audio/Videos_L30/video/L30_V012.mp4\n",
      "[TransNetV2] Processing video frames 7650/7995"
     ]
    },
    {
     "name": "stderr",
     "output_type": "stream",
     "text": [
      "\n",
      " 12%|█▎        | 12/96 [00:28<03:38,  2.60s/it]\u001B[A"
     ]
    },
    {
     "name": "stdout",
     "output_type": "stream",
     "text": [
      "[TransNetV2] Processing video frames 7995/7995\n",
      "./SceneJSON_2024/L30/V012.json\n",
      "[TransNetV2] Extracting frames from /media/daoan/T7 Shield2/AI_Challenge_2024_DATA/video_with_audio/Videos_L30/video/L30_V013.mp4\n",
      "[TransNetV2] Processing video frames 1850/2036"
     ]
    },
    {
     "name": "stderr",
     "output_type": "stream",
     "text": [
      "\n",
      " 14%|█▎        | 13/96 [00:29<02:57,  2.14s/it]\u001B[A"
     ]
    },
    {
     "name": "stdout",
     "output_type": "stream",
     "text": [
      "[TransNetV2] Processing video frames 2036/2036\n",
      "./SceneJSON_2024/L30/V013.json\n",
      "[TransNetV2] Extracting frames from /media/daoan/T7 Shield2/AI_Challenge_2024_DATA/video_with_audio/Videos_L30/video/L30_V014.mp4\n",
      "[TransNetV2] Processing video frames 1150/2858"
     ]
    },
    {
     "name": "stderr",
     "output_type": "stream",
     "text": [
      "\n",
      " 15%|█▍        | 14/96 [00:30<02:39,  1.95s/it]\u001B[A"
     ]
    },
    {
     "name": "stdout",
     "output_type": "stream",
     "text": [
      "[TransNetV2] Processing video frames 2858/2858\n",
      "./SceneJSON_2024/L30/V014.json\n",
      "[TransNetV2] Extracting frames from /media/daoan/T7 Shield2/AI_Challenge_2024_DATA/video_with_audio/Videos_L30/video/L30_V015.mp4\n",
      "[TransNetV2] Processing video frames 5800/6788"
     ]
    },
    {
     "name": "stderr",
     "output_type": "stream",
     "text": [
      "\n",
      " 16%|█▌        | 15/96 [00:34<03:11,  2.36s/it]\u001B[A"
     ]
    },
    {
     "name": "stdout",
     "output_type": "stream",
     "text": [
      "[TransNetV2] Processing video frames 6788/6788\n",
      "./SceneJSON_2024/L30/V015.json\n",
      "[TransNetV2] Extracting frames from /media/daoan/T7 Shield2/AI_Challenge_2024_DATA/video_with_audio/Videos_L30/video/L30_V016.mp4\n",
      "[TransNetV2] Processing video frames 1950/3455"
     ]
    },
    {
     "name": "stderr",
     "output_type": "stream",
     "text": [
      "\n",
      " 17%|█▋        | 16/96 [00:35<02:49,  2.11s/it]\u001B[A"
     ]
    },
    {
     "name": "stdout",
     "output_type": "stream",
     "text": [
      "[TransNetV2] Processing video frames 3455/3455\n",
      "./SceneJSON_2024/L30/V016.json\n",
      "[TransNetV2] Extracting frames from /media/daoan/T7 Shield2/AI_Challenge_2024_DATA/video_with_audio/Videos_L30/video/L30_V017.mp4\n",
      "[TransNetV2] Processing video frames 6950/7265"
     ]
    },
    {
     "name": "stderr",
     "output_type": "stream",
     "text": [
      "\n",
      " 18%|█▊        | 17/96 [00:38<03:13,  2.45s/it]\u001B[A"
     ]
    },
    {
     "name": "stdout",
     "output_type": "stream",
     "text": [
      "[TransNetV2] Processing video frames 7265/7265\n",
      "./SceneJSON_2024/L30/V017.json\n",
      "[TransNetV2] Extracting frames from /media/daoan/T7 Shield2/AI_Challenge_2024_DATA/video_with_audio/Videos_L30/video/L30_V018.mp4\n",
      "[TransNetV2] Processing video frames 9350/9448"
     ]
    },
    {
     "name": "stderr",
     "output_type": "stream",
     "text": [
      "\n",
      " 19%|█▉        | 18/96 [00:42<03:43,  2.87s/it]\u001B[A"
     ]
    },
    {
     "name": "stdout",
     "output_type": "stream",
     "text": [
      "[TransNetV2] Processing video frames 9448/9448\n",
      "./SceneJSON_2024/L30/V018.json\n",
      "[TransNetV2] Extracting frames from /media/daoan/T7 Shield2/AI_Challenge_2024_DATA/video_with_audio/Videos_L30/video/L30_V019.mp4\n",
      "[TransNetV2] Processing video frames 3900/4386"
     ]
    },
    {
     "name": "stderr",
     "output_type": "stream",
     "text": [
      "\n",
      " 20%|█▉        | 19/96 [00:44<03:20,  2.60s/it]\u001B[A"
     ]
    },
    {
     "name": "stdout",
     "output_type": "stream",
     "text": [
      "[TransNetV2] Processing video frames 4386/4386\n",
      "./SceneJSON_2024/L30/V019.json\n",
      "[TransNetV2] Extracting frames from /media/daoan/T7 Shield2/AI_Challenge_2024_DATA/video_with_audio/Videos_L30/video/L30_V020.mp4\n",
      "[TransNetV2] Processing video frames 1950/3526"
     ]
    },
    {
     "name": "stderr",
     "output_type": "stream",
     "text": [
      "\n",
      " 21%|██        | 20/96 [00:46<02:56,  2.32s/it]\u001B[A"
     ]
    },
    {
     "name": "stdout",
     "output_type": "stream",
     "text": [
      "[TransNetV2] Processing video frames 3526/3526\n",
      "./SceneJSON_2024/L30/V020.json\n",
      "[TransNetV2] Extracting frames from /media/daoan/T7 Shield2/AI_Challenge_2024_DATA/video_with_audio/Videos_L30/video/L30_V021.mp4\n",
      "[TransNetV2] Processing video frames 1950/3153"
     ]
    },
    {
     "name": "stderr",
     "output_type": "stream",
     "text": [
      "\n",
      " 22%|██▏       | 21/96 [00:47<02:33,  2.05s/it]\u001B[A"
     ]
    },
    {
     "name": "stdout",
     "output_type": "stream",
     "text": [
      "[TransNetV2] Processing video frames 3153/3153\n",
      "./SceneJSON_2024/L30/V021.json\n",
      "[TransNetV2] Extracting frames from /media/daoan/T7 Shield2/AI_Challenge_2024_DATA/video_with_audio/Videos_L30/video/L30_V022.mp4\n",
      "[TransNetV2] Processing video frames 1950/2914"
     ]
    },
    {
     "name": "stderr",
     "output_type": "stream",
     "text": [
      "\n",
      " 23%|██▎       | 22/96 [00:49<02:15,  1.83s/it]\u001B[A"
     ]
    },
    {
     "name": "stdout",
     "output_type": "stream",
     "text": [
      "[TransNetV2] Processing video frames 2914/2914\n",
      "./SceneJSON_2024/L30/V022.json\n",
      "[TransNetV2] Extracting frames from /media/daoan/T7 Shield2/AI_Challenge_2024_DATA/video_with_audio/Videos_L30/video/L30_V023.mp4\n",
      "[TransNetV2] Processing video frames 5300/5882"
     ]
    },
    {
     "name": "stderr",
     "output_type": "stream",
     "text": [
      "\n",
      " 24%|██▍       | 23/96 [00:51<02:33,  2.11s/it]\u001B[A"
     ]
    },
    {
     "name": "stdout",
     "output_type": "stream",
     "text": [
      "[TransNetV2] Processing video frames 5882/5882\n",
      "./SceneJSON_2024/L30/V023.json\n",
      "[TransNetV2] Extracting frames from /media/daoan/T7 Shield2/AI_Challenge_2024_DATA/video_with_audio/Videos_L30/video/L30_V024.mp4\n",
      "[TransNetV2] Processing video frames 3400/3407"
     ]
    },
    {
     "name": "stderr",
     "output_type": "stream",
     "text": [
      "\n",
      " 25%|██▌       | 24/96 [00:53<02:17,  1.91s/it]\u001B[A"
     ]
    },
    {
     "name": "stdout",
     "output_type": "stream",
     "text": [
      "[TransNetV2] Processing video frames 3407/3407\n",
      "./SceneJSON_2024/L30/V024.json\n",
      "[TransNetV2] Extracting frames from /media/daoan/T7 Shield2/AI_Challenge_2024_DATA/video_with_audio/Videos_L30/video/L30_V025.mp4\n",
      "[TransNetV2] Processing video frames 5600/6189"
     ]
    },
    {
     "name": "stderr",
     "output_type": "stream",
     "text": [
      "\n",
      " 26%|██▌       | 25/96 [00:56<02:35,  2.20s/it]\u001B[A"
     ]
    },
    {
     "name": "stdout",
     "output_type": "stream",
     "text": [
      "[TransNetV2] Processing video frames 6189/6189\n",
      "./SceneJSON_2024/L30/V025.json\n",
      "[TransNetV2] Extracting frames from /media/daoan/T7 Shield2/AI_Challenge_2024_DATA/video_with_audio/Videos_L30/video/L30_V026.mp4\n",
      "[TransNetV2] Processing video frames 3900/4539"
     ]
    },
    {
     "name": "stderr",
     "output_type": "stream",
     "text": [
      "\n",
      " 27%|██▋       | 26/96 [00:58<02:31,  2.17s/it]\u001B[A"
     ]
    },
    {
     "name": "stdout",
     "output_type": "stream",
     "text": [
      "[TransNetV2] Processing video frames 4539/4539\n",
      "./SceneJSON_2024/L30/V026.json\n",
      "[TransNetV2] Extracting frames from /media/daoan/T7 Shield2/AI_Challenge_2024_DATA/video_with_audio/Videos_L30/video/L30_V027.mp4\n",
      "[TransNetV2] Processing video frames 7650/8783"
     ]
    },
    {
     "name": "stderr",
     "output_type": "stream",
     "text": [
      "\n",
      " 28%|██▊       | 27/96 [01:02<03:07,  2.72s/it]\u001B[A"
     ]
    },
    {
     "name": "stdout",
     "output_type": "stream",
     "text": [
      "[TransNetV2] Processing video frames 8783/8783\n",
      "./SceneJSON_2024/L30/V027.json\n",
      "[TransNetV2] Extracting frames from /media/daoan/T7 Shield2/AI_Challenge_2024_DATA/video_with_audio/Videos_L30/video/L30_V028.mp4\n",
      "[TransNetV2] Processing video frames 4900/6123"
     ]
    },
    {
     "name": "stderr",
     "output_type": "stream",
     "text": [
      "\n",
      " 29%|██▉       | 28/96 [01:05<03:06,  2.74s/it]\u001B[A"
     ]
    },
    {
     "name": "stdout",
     "output_type": "stream",
     "text": [
      "[TransNetV2] Processing video frames 6123/6123\n",
      "./SceneJSON_2024/L30/V028.json\n",
      "[TransNetV2] Extracting frames from /media/daoan/T7 Shield2/AI_Challenge_2024_DATA/video_with_audio/Videos_L30/video/L30_V029.mp4\n",
      "[TransNetV2] Processing video frames 6850/7813"
     ]
    },
    {
     "name": "stderr",
     "output_type": "stream",
     "text": [
      "\n",
      " 30%|███       | 29/96 [01:08<03:14,  2.91s/it]\u001B[A"
     ]
    },
    {
     "name": "stdout",
     "output_type": "stream",
     "text": [
      "[TransNetV2] Processing video frames 7813/7813\n",
      "./SceneJSON_2024/L30/V029.json\n",
      "[TransNetV2] Extracting frames from /media/daoan/T7 Shield2/AI_Challenge_2024_DATA/video_with_audio/Videos_L30/video/L30_V030.mp4\n",
      "[TransNetV2] Processing video frames 7400/8592"
     ]
    },
    {
     "name": "stderr",
     "output_type": "stream",
     "text": [
      "\n",
      " 31%|███▏      | 30/96 [01:12<03:25,  3.11s/it]\u001B[A"
     ]
    },
    {
     "name": "stdout",
     "output_type": "stream",
     "text": [
      "[TransNetV2] Processing video frames 8592/8592\n",
      "./SceneJSON_2024/L30/V030.json\n",
      "[TransNetV2] Extracting frames from /media/daoan/T7 Shield2/AI_Challenge_2024_DATA/video_with_audio/Videos_L30/video/L30_V031.mp4\n",
      "[TransNetV2] Processing video frames 1850/3499"
     ]
    },
    {
     "name": "stderr",
     "output_type": "stream",
     "text": [
      "\n",
      " 32%|███▏      | 31/96 [01:13<02:53,  2.67s/it]\u001B[A"
     ]
    },
    {
     "name": "stdout",
     "output_type": "stream",
     "text": [
      "[TransNetV2] Processing video frames 3499/3499\n",
      "./SceneJSON_2024/L30/V031.json\n",
      "[TransNetV2] Extracting frames from /media/daoan/T7 Shield2/AI_Challenge_2024_DATA/video_with_audio/Videos_L30/video/L30_V032.mp4\n",
      "[TransNetV2] Processing video frames 5300/6258"
     ]
    },
    {
     "name": "stderr",
     "output_type": "stream",
     "text": [
      "\n",
      " 33%|███▎      | 32/96 [01:16<02:49,  2.65s/it]\u001B[A"
     ]
    },
    {
     "name": "stdout",
     "output_type": "stream",
     "text": [
      "[TransNetV2] Processing video frames 6258/6258\n",
      "./SceneJSON_2024/L30/V032.json\n",
      "[TransNetV2] Extracting frames from /media/daoan/T7 Shield2/AI_Challenge_2024_DATA/video_with_audio/Videos_L30/video/L30_V033.mp4\n",
      "[TransNetV2] Processing video frames 7100/8579"
     ]
    },
    {
     "name": "stderr",
     "output_type": "stream",
     "text": [
      "\n",
      " 34%|███▍      | 33/96 [01:20<03:08,  3.00s/it]\u001B[A"
     ]
    },
    {
     "name": "stdout",
     "output_type": "stream",
     "text": [
      "[TransNetV2] Processing video frames 8579/8579\n",
      "./SceneJSON_2024/L30/V033.json\n",
      "[TransNetV2] Extracting frames from /media/daoan/T7 Shield2/AI_Challenge_2024_DATA/video_with_audio/Videos_L30/video/L30_V034.mp4\n",
      "[TransNetV2] Processing video frames 5650/6630"
     ]
    },
    {
     "name": "stderr",
     "output_type": "stream",
     "text": [
      "\n",
      " 35%|███▌      | 34/96 [01:22<03:01,  2.92s/it]\u001B[A"
     ]
    },
    {
     "name": "stdout",
     "output_type": "stream",
     "text": [
      "[TransNetV2] Processing video frames 6630/6630\n",
      "./SceneJSON_2024/L30/V034.json\n",
      "[TransNetV2] Extracting frames from /media/daoan/T7 Shield2/AI_Challenge_2024_DATA/video_with_audio/Videos_L30/video/L30_V035.mp4\n",
      "[TransNetV2] Processing video frames 1950/2006"
     ]
    },
    {
     "name": "stderr",
     "output_type": "stream",
     "text": [
      "\n",
      " 36%|███▋      | 35/96 [01:23<02:22,  2.34s/it]\u001B[A"
     ]
    },
    {
     "name": "stdout",
     "output_type": "stream",
     "text": [
      "[TransNetV2] Processing video frames 2006/2006\n",
      "./SceneJSON_2024/L30/V035.json\n",
      "[TransNetV2] Extracting frames from /media/daoan/T7 Shield2/AI_Challenge_2024_DATA/video_with_audio/Videos_L30/video/L30_V036.mp4\n",
      "[TransNetV2] Processing video frames 1950/2081"
     ]
    },
    {
     "name": "stderr",
     "output_type": "stream",
     "text": [
      "\n",
      " 38%|███▊      | 36/96 [01:24<01:56,  1.94s/it]\u001B[A"
     ]
    },
    {
     "name": "stdout",
     "output_type": "stream",
     "text": [
      "[TransNetV2] Processing video frames 2081/2081\n",
      "./SceneJSON_2024/L30/V036.json\n",
      "[TransNetV2] Extracting frames from /media/daoan/T7 Shield2/AI_Challenge_2024_DATA/video_with_audio/Videos_L30/video/L30_V037.mp4\n",
      "[TransNetV2] Processing video frames 5200/5463"
     ]
    },
    {
     "name": "stderr",
     "output_type": "stream",
     "text": [
      "\n",
      " 39%|███▊      | 37/96 [01:27<02:01,  2.07s/it]\u001B[A"
     ]
    },
    {
     "name": "stdout",
     "output_type": "stream",
     "text": [
      "[TransNetV2] Processing video frames 5463/5463\n",
      "./SceneJSON_2024/L30/V037.json\n",
      "[TransNetV2] Extracting frames from /media/daoan/T7 Shield2/AI_Challenge_2024_DATA/video_with_audio/Videos_L30/video/L30_V038.mp4\n",
      "[TransNetV2] Processing video frames 5700/6314"
     ]
    },
    {
     "name": "stderr",
     "output_type": "stream",
     "text": [
      "\n",
      " 40%|███▉      | 38/96 [01:29<02:08,  2.22s/it]\u001B[A"
     ]
    },
    {
     "name": "stdout",
     "output_type": "stream",
     "text": [
      "[TransNetV2] Processing video frames 6314/6314\n",
      "./SceneJSON_2024/L30/V038.json\n",
      "[TransNetV2] Extracting frames from /media/daoan/T7 Shield2/AI_Challenge_2024_DATA/video_with_audio/Videos_L30/video/L30_V039.mp4\n",
      "[TransNetV2] Processing video frames 5200/6819"
     ]
    },
    {
     "name": "stderr",
     "output_type": "stream",
     "text": [
      "\n",
      " 41%|████      | 39/96 [01:32<02:18,  2.43s/it]\u001B[A"
     ]
    },
    {
     "name": "stdout",
     "output_type": "stream",
     "text": [
      "[TransNetV2] Processing video frames 6819/6819\n",
      "./SceneJSON_2024/L30/V039.json\n",
      "[TransNetV2] Extracting frames from /media/daoan/T7 Shield2/AI_Challenge_2024_DATA/video_with_audio/Videos_L30/video/L30_V040.mp4\n"
     ]
    },
    {
     "name": "stderr",
     "output_type": "stream",
     "text": [
      "\n",
      " 42%|████▏     | 40/96 [01:33<01:47,  1.92s/it]\u001B[A"
     ]
    },
    {
     "name": "stdout",
     "output_type": "stream",
     "text": [
      "[TransNetV2] Processing video frames 1628/1628\n",
      "./SceneJSON_2024/L30/V040.json\n",
      "[TransNetV2] Extracting frames from /media/daoan/T7 Shield2/AI_Challenge_2024_DATA/video_with_audio/Videos_L30/video/L30_V041.mp4\n",
      "[TransNetV2] Processing video frames 1600/2103"
     ]
    },
    {
     "name": "stderr",
     "output_type": "stream",
     "text": [
      "\n",
      " 43%|████▎     | 41/96 [01:34<01:30,  1.64s/it]\u001B[A"
     ]
    },
    {
     "name": "stdout",
     "output_type": "stream",
     "text": [
      "[TransNetV2] Processing video frames 2103/2103\n",
      "./SceneJSON_2024/L30/V041.json\n",
      "[TransNetV2] Extracting frames from /media/daoan/T7 Shield2/AI_Challenge_2024_DATA/video_with_audio/Videos_L30/video/L30_V042.mp4\n",
      "[TransNetV2] Processing video frames 1950/2785"
     ]
    },
    {
     "name": "stderr",
     "output_type": "stream",
     "text": [
      "\n",
      " 44%|████▍     | 42/96 [01:35<01:21,  1.50s/it]\u001B[A"
     ]
    },
    {
     "name": "stdout",
     "output_type": "stream",
     "text": [
      "[TransNetV2] Processing video frames 2785/2785\n",
      "./SceneJSON_2024/L30/V042.json\n",
      "[TransNetV2] Extracting frames from /media/daoan/T7 Shield2/AI_Challenge_2024_DATA/video_with_audio/Videos_L30/video/L30_V043.mp4\n",
      "[TransNetV2] Processing video frames 3850/4617"
     ]
    },
    {
     "name": "stderr",
     "output_type": "stream",
     "text": [
      "\n",
      " 45%|████▍     | 43/96 [01:37<01:27,  1.66s/it]\u001B[A"
     ]
    },
    {
     "name": "stdout",
     "output_type": "stream",
     "text": [
      "[TransNetV2] Processing video frames 4617/4617\n",
      "./SceneJSON_2024/L30/V043.json\n",
      "[TransNetV2] Extracting frames from /media/daoan/T7 Shield2/AI_Challenge_2024_DATA/video_with_audio/Videos_L30/video/L30_V044.mp4\n",
      "[TransNetV2] Processing video frames 1950/3318"
     ]
    },
    {
     "name": "stderr",
     "output_type": "stream",
     "text": [
      "\n",
      " 46%|████▌     | 44/96 [01:39<01:24,  1.62s/it]\u001B[A"
     ]
    },
    {
     "name": "stdout",
     "output_type": "stream",
     "text": [
      "[TransNetV2] Processing video frames 3318/3318\n",
      "./SceneJSON_2024/L30/V044.json\n",
      "[TransNetV2] Extracting frames from /media/daoan/T7 Shield2/AI_Challenge_2024_DATA/video_with_audio/Videos_L30/video/L30_V045.mp4\n",
      "[TransNetV2] Processing video frames 6850/8198"
     ]
    },
    {
     "name": "stderr",
     "output_type": "stream",
     "text": [
      "\n",
      " 47%|████▋     | 45/96 [01:42<01:51,  2.18s/it]\u001B[A"
     ]
    },
    {
     "name": "stdout",
     "output_type": "stream",
     "text": [
      "[TransNetV2] Processing video frames 8198/8198\n",
      "./SceneJSON_2024/L30/V045.json\n",
      "[TransNetV2] Extracting frames from /media/daoan/T7 Shield2/AI_Challenge_2024_DATA/video_with_audio/Videos_L30/video/L30_V046.mp4\n",
      "[TransNetV2] Processing video frames 5250/6932"
     ]
    },
    {
     "name": "stderr",
     "output_type": "stream",
     "text": [
      "\n",
      " 48%|████▊     | 46/96 [01:45<02:05,  2.51s/it]\u001B[A"
     ]
    },
    {
     "name": "stdout",
     "output_type": "stream",
     "text": [
      "[TransNetV2] Processing video frames 6932/6932\n",
      "./SceneJSON_2024/L30/V046.json\n",
      "[TransNetV2] Extracting frames from /media/daoan/T7 Shield2/AI_Challenge_2024_DATA/video_with_audio/Videos_L30/video/L30_V047.mp4\n",
      "[TransNetV2] Processing video frames 6900/7189"
     ]
    },
    {
     "name": "stderr",
     "output_type": "stream",
     "text": [
      "\n",
      " 49%|████▉     | 47/96 [01:49<02:19,  2.84s/it]\u001B[A"
     ]
    },
    {
     "name": "stdout",
     "output_type": "stream",
     "text": [
      "[TransNetV2] Processing video frames 7189/7189\n",
      "./SceneJSON_2024/L30/V047.json\n",
      "[TransNetV2] Extracting frames from /media/daoan/T7 Shield2/AI_Challenge_2024_DATA/video_with_audio/Videos_L30/video/L30_V048.mp4\n",
      "[TransNetV2] Processing video frames 9100/9990"
     ]
    },
    {
     "name": "stderr",
     "output_type": "stream",
     "text": [
      "\n",
      " 50%|█████     | 48/96 [01:54<02:44,  3.44s/it]\u001B[A"
     ]
    },
    {
     "name": "stdout",
     "output_type": "stream",
     "text": [
      "[TransNetV2] Processing video frames 9990/9990\n",
      "./SceneJSON_2024/L30/V048.json\n",
      "[TransNetV2] Extracting frames from /media/daoan/T7 Shield2/AI_Challenge_2024_DATA/video_with_audio/Videos_L30/video/L30_V049.mp4\n",
      "[TransNetV2] Processing video frames 3750/4532"
     ]
    },
    {
     "name": "stderr",
     "output_type": "stream",
     "text": [
      "\n",
      " 51%|█████     | 49/96 [01:56<02:22,  3.03s/it]\u001B[A"
     ]
    },
    {
     "name": "stdout",
     "output_type": "stream",
     "text": [
      "[TransNetV2] Processing video frames 4532/4532\n",
      "./SceneJSON_2024/L30/V049.json\n",
      "[TransNetV2] Extracting frames from /media/daoan/T7 Shield2/AI_Challenge_2024_DATA/video_with_audio/Videos_L30/video/L30_V050.mp4\n",
      "[TransNetV2] Processing video frames 1900/3551"
     ]
    },
    {
     "name": "stderr",
     "output_type": "stream",
     "text": [
      "\n",
      " 52%|█████▏    | 50/96 [01:57<01:58,  2.58s/it]\u001B[A"
     ]
    },
    {
     "name": "stdout",
     "output_type": "stream",
     "text": [
      "[TransNetV2] Processing video frames 3551/3551\n",
      "./SceneJSON_2024/L30/V050.json\n",
      "[TransNetV2] Extracting frames from /media/daoan/T7 Shield2/AI_Challenge_2024_DATA/video_with_audio/Videos_L30/video/L30_V051.mp4\n",
      "[TransNetV2] Processing video frames 3800/4669"
     ]
    },
    {
     "name": "stderr",
     "output_type": "stream",
     "text": [
      "\n",
      " 53%|█████▎    | 51/96 [01:59<01:47,  2.38s/it]\u001B[A"
     ]
    },
    {
     "name": "stdout",
     "output_type": "stream",
     "text": [
      "[TransNetV2] Processing video frames 4669/4669\n",
      "./SceneJSON_2024/L30/V051.json\n",
      "[TransNetV2] Extracting frames from /media/daoan/T7 Shield2/AI_Challenge_2024_DATA/video_with_audio/Videos_L30/video/L30_V052.mp4\n",
      "[TransNetV2] Processing video frames 6800/7317"
     ]
    },
    {
     "name": "stderr",
     "output_type": "stream",
     "text": [
      "\n",
      " 54%|█████▍    | 52/96 [02:02<01:53,  2.57s/it]\u001B[A"
     ]
    },
    {
     "name": "stdout",
     "output_type": "stream",
     "text": [
      "[TransNetV2] Processing video frames 7317/7317\n",
      "./SceneJSON_2024/L30/V052.json\n",
      "[TransNetV2] Extracting frames from /media/daoan/T7 Shield2/AI_Challenge_2024_DATA/video_with_audio/Videos_L30/video/L30_V053.mp4\n",
      "[TransNetV2] Processing video frames 7200/7608"
     ]
    },
    {
     "name": "stderr",
     "output_type": "stream",
     "text": [
      "\n",
      " 55%|█████▌    | 53/96 [02:06<01:58,  2.76s/it]\u001B[A"
     ]
    },
    {
     "name": "stdout",
     "output_type": "stream",
     "text": [
      "[TransNetV2] Processing video frames 7608/7608\n",
      "./SceneJSON_2024/L30/V053.json\n",
      "[TransNetV2] Extracting frames from /media/daoan/T7 Shield2/AI_Challenge_2024_DATA/video_with_audio/Videos_L30/video/L30_V054.mp4\n",
      "[TransNetV2] Processing video frames 9100/9148"
     ]
    },
    {
     "name": "stderr",
     "output_type": "stream",
     "text": [
      "\n",
      " 56%|█████▋    | 54/96 [02:09<02:07,  3.05s/it]\u001B[A"
     ]
    },
    {
     "name": "stdout",
     "output_type": "stream",
     "text": [
      "[TransNetV2] Processing video frames 9148/9148\n",
      "./SceneJSON_2024/L30/V054.json\n",
      "[TransNetV2] Extracting frames from /media/daoan/T7 Shield2/AI_Challenge_2024_DATA/video_with_audio/Videos_L30/video/L30_V055.mp4\n",
      "[TransNetV2] Processing video frames 5150/5405"
     ]
    },
    {
     "name": "stderr",
     "output_type": "stream",
     "text": [
      "\n",
      " 57%|█████▋    | 55/96 [02:12<01:55,  2.83s/it]\u001B[A"
     ]
    },
    {
     "name": "stdout",
     "output_type": "stream",
     "text": [
      "[TransNetV2] Processing video frames 5405/5405\n",
      "./SceneJSON_2024/L30/V055.json\n",
      "[TransNetV2] Extracting frames from /media/daoan/T7 Shield2/AI_Challenge_2024_DATA/video_with_audio/Videos_L30/video/L30_V056.mp4\n",
      "[TransNetV2] Processing video frames 7050/7507"
     ]
    },
    {
     "name": "stderr",
     "output_type": "stream",
     "text": [
      "\n",
      " 58%|█████▊    | 56/96 [02:15<02:01,  3.03s/it]\u001B[A"
     ]
    },
    {
     "name": "stdout",
     "output_type": "stream",
     "text": [
      "[TransNetV2] Processing video frames 7507/7507\n",
      "./SceneJSON_2024/L30/V056.json\n",
      "[TransNetV2] Extracting frames from /media/daoan/T7 Shield2/AI_Challenge_2024_DATA/video_with_audio/Videos_L30/video/L30_V057.mp4\n",
      "[TransNetV2] Processing video frames 3700/4665"
     ]
    },
    {
     "name": "stderr",
     "output_type": "stream",
     "text": [
      "\n",
      " 59%|█████▉    | 57/96 [02:17<01:44,  2.69s/it]\u001B[A"
     ]
    },
    {
     "name": "stdout",
     "output_type": "stream",
     "text": [
      "[TransNetV2] Processing video frames 4665/4665\n",
      "./SceneJSON_2024/L30/V057.json\n",
      "[TransNetV2] Extracting frames from /media/daoan/T7 Shield2/AI_Challenge_2024_DATA/video_with_audio/Videos_L30/video/L30_V058.mp4\n",
      "[TransNetV2] Processing video frames 1850/2968"
     ]
    },
    {
     "name": "stderr",
     "output_type": "stream",
     "text": [
      "\n",
      " 60%|██████    | 58/96 [02:19<01:28,  2.34s/it]\u001B[A"
     ]
    },
    {
     "name": "stdout",
     "output_type": "stream",
     "text": [
      "[TransNetV2] Processing video frames 2968/2968\n",
      "./SceneJSON_2024/L30/V058.json\n",
      "[TransNetV2] Extracting frames from /media/daoan/T7 Shield2/AI_Challenge_2024_DATA/video_with_audio/Videos_L30/video/L30_V059.mp4\n",
      "[TransNetV2] Processing video frames 3700/5393"
     ]
    },
    {
     "name": "stderr",
     "output_type": "stream",
     "text": [
      "\n",
      " 61%|██████▏   | 59/96 [02:21<01:28,  2.38s/it]\u001B[A"
     ]
    },
    {
     "name": "stdout",
     "output_type": "stream",
     "text": [
      "[TransNetV2] Processing video frames 5393/5393\n",
      "./SceneJSON_2024/L30/V059.json\n",
      "[TransNetV2] Extracting frames from /media/daoan/T7 Shield2/AI_Challenge_2024_DATA/video_with_audio/Videos_L30/video/L30_V060.mp4\n",
      "[TransNetV2] Processing video frames 3650/3689"
     ]
    },
    {
     "name": "stderr",
     "output_type": "stream",
     "text": [
      "\n",
      " 62%|██████▎   | 60/96 [02:23<01:20,  2.24s/it]\u001B[A"
     ]
    },
    {
     "name": "stdout",
     "output_type": "stream",
     "text": [
      "[TransNetV2] Processing video frames 3689/3689\n",
      "./SceneJSON_2024/L30/V060.json\n",
      "[TransNetV2] Extracting frames from /media/daoan/T7 Shield2/AI_Challenge_2024_DATA/video_with_audio/Videos_L30/video/L30_V061.mp4\n",
      "[TransNetV2] Processing video frames 7300/8312"
     ]
    },
    {
     "name": "stderr",
     "output_type": "stream",
     "text": [
      "\n",
      " 64%|██████▎   | 61/96 [02:27<01:32,  2.64s/it]\u001B[A"
     ]
    },
    {
     "name": "stdout",
     "output_type": "stream",
     "text": [
      "[TransNetV2] Processing video frames 8312/8312\n",
      "./SceneJSON_2024/L30/V061.json\n",
      "[TransNetV2] Extracting frames from /media/daoan/T7 Shield2/AI_Challenge_2024_DATA/video_with_audio/Videos_L30/video/L30_V062.mp4\n",
      "[TransNetV2] Processing video frames 4950/5590"
     ]
    },
    {
     "name": "stderr",
     "output_type": "stream",
     "text": [
      "\n",
      " 65%|██████▍   | 62/96 [02:29<01:27,  2.58s/it]\u001B[A"
     ]
    },
    {
     "name": "stdout",
     "output_type": "stream",
     "text": [
      "[TransNetV2] Processing video frames 5590/5590\n",
      "./SceneJSON_2024/L30/V062.json\n",
      "[TransNetV2] Extracting frames from /media/daoan/T7 Shield2/AI_Challenge_2024_DATA/video_with_audio/Videos_L30/video/L30_V063.mp4\n",
      "[TransNetV2] Processing video frames 5500/6462"
     ]
    },
    {
     "name": "stderr",
     "output_type": "stream",
     "text": [
      "\n",
      " 66%|██████▌   | 63/96 [02:32<01:32,  2.79s/it]\u001B[A"
     ]
    },
    {
     "name": "stdout",
     "output_type": "stream",
     "text": [
      "[TransNetV2] Processing video frames 6462/6462\n",
      "./SceneJSON_2024/L30/V063.json\n",
      "[TransNetV2] Extracting frames from /media/daoan/T7 Shield2/AI_Challenge_2024_DATA/video_with_audio/Videos_L30/video/L30_V064.mp4\n",
      "[TransNetV2] Processing video frames 5850/6854"
     ]
    },
    {
     "name": "stderr",
     "output_type": "stream",
     "text": [
      "\n",
      " 67%|██████▋   | 64/96 [02:35<01:32,  2.88s/it]\u001B[A"
     ]
    },
    {
     "name": "stdout",
     "output_type": "stream",
     "text": [
      "[TransNetV2] Processing video frames 6854/6854\n",
      "./SceneJSON_2024/L30/V064.json\n",
      "[TransNetV2] Extracting frames from /media/daoan/T7 Shield2/AI_Challenge_2024_DATA/video_with_audio/Videos_L30/video/L30_V065.mp4\n",
      "[TransNetV2] Processing video frames 1750/2691"
     ]
    },
    {
     "name": "stderr",
     "output_type": "stream",
     "text": [
      "\n",
      " 68%|██████▊   | 65/96 [02:37<01:14,  2.41s/it]\u001B[A"
     ]
    },
    {
     "name": "stdout",
     "output_type": "stream",
     "text": [
      "[TransNetV2] Processing video frames 2691/2691\n",
      "./SceneJSON_2024/L30/V065.json\n",
      "[TransNetV2] Extracting frames from /media/daoan/T7 Shield2/AI_Challenge_2024_DATA/video_with_audio/Videos_L30/video/L30_V066.mp4\n",
      "[TransNetV2] Processing video frames 5650/7000"
     ]
    },
    {
     "name": "stderr",
     "output_type": "stream",
     "text": [
      "\n",
      " 69%|██████▉   | 66/96 [02:40<01:18,  2.61s/it]\u001B[A"
     ]
    },
    {
     "name": "stdout",
     "output_type": "stream",
     "text": [
      "[TransNetV2] Processing video frames 7000/7000\n",
      "./SceneJSON_2024/L30/V066.json\n",
      "[TransNetV2] Extracting frames from /media/daoan/T7 Shield2/AI_Challenge_2024_DATA/video_with_audio/Videos_L30/video/L30_V067.mp4\n",
      "[TransNetV2] Processing video frames 1900/2765"
     ]
    },
    {
     "name": "stderr",
     "output_type": "stream",
     "text": [
      "\n",
      " 70%|██████▉   | 67/96 [02:41<01:03,  2.19s/it]\u001B[A"
     ]
    },
    {
     "name": "stdout",
     "output_type": "stream",
     "text": [
      "[TransNetV2] Processing video frames 2765/2765\n",
      "./SceneJSON_2024/L30/V067.json\n",
      "[TransNetV2] Extracting frames from /media/daoan/T7 Shield2/AI_Challenge_2024_DATA/video_with_audio/Videos_L30/video/L30_V068.mp4\n",
      "[TransNetV2] Processing video frames 5750/6167"
     ]
    },
    {
     "name": "stderr",
     "output_type": "stream",
     "text": [
      "\n",
      " 71%|███████   | 68/96 [02:44<01:06,  2.37s/it]\u001B[A"
     ]
    },
    {
     "name": "stdout",
     "output_type": "stream",
     "text": [
      "[TransNetV2] Processing video frames 6167/6167\n",
      "./SceneJSON_2024/L30/V068.json\n",
      "[TransNetV2] Extracting frames from /media/daoan/T7 Shield2/AI_Challenge_2024_DATA/video_with_audio/Videos_L30/video/L30_V069.mp4\n",
      "[TransNetV2] Processing video frames 5450/5622"
     ]
    },
    {
     "name": "stderr",
     "output_type": "stream",
     "text": [
      "\n",
      " 72%|███████▏  | 69/96 [02:47<01:07,  2.51s/it]\u001B[A"
     ]
    },
    {
     "name": "stdout",
     "output_type": "stream",
     "text": [
      "[TransNetV2] Processing video frames 5622/5622\n",
      "./SceneJSON_2024/L30/V069.json\n",
      "[TransNetV2] Extracting frames from /media/daoan/T7 Shield2/AI_Challenge_2024_DATA/video_with_audio/Videos_L30/video/L30_V070.mp4\n",
      "[TransNetV2] Processing video frames 2000/2235"
     ]
    },
    {
     "name": "stderr",
     "output_type": "stream",
     "text": [
      "\n",
      " 73%|███████▎  | 70/96 [02:47<00:53,  2.04s/it]\u001B[A"
     ]
    },
    {
     "name": "stdout",
     "output_type": "stream",
     "text": [
      "[TransNetV2] Processing video frames 2235/2235\n",
      "./SceneJSON_2024/L30/V070.json\n",
      "[TransNetV2] Extracting frames from /media/daoan/T7 Shield2/AI_Challenge_2024_DATA/video_with_audio/Videos_L30/video/L30_V071.mp4\n"
     ]
    },
    {
     "name": "stderr",
     "output_type": "stream",
     "text": [
      "\n",
      " 74%|███████▍  | 71/96 [02:48<00:42,  1.71s/it]\u001B[A"
     ]
    },
    {
     "name": "stdout",
     "output_type": "stream",
     "text": [
      "[TransNetV2] Processing video frames 1942/1942\n",
      "./SceneJSON_2024/L30/V071.json\n",
      "[TransNetV2] Extracting frames from /media/daoan/T7 Shield2/AI_Challenge_2024_DATA/video_with_audio/Videos_L30/video/L30_V072.mp4\n",
      "[TransNetV2] Processing video frames 1850/2169"
     ]
    },
    {
     "name": "stderr",
     "output_type": "stream",
     "text": [
      "\n",
      " 75%|███████▌  | 72/96 [02:50<00:36,  1.53s/it]\u001B[A"
     ]
    },
    {
     "name": "stdout",
     "output_type": "stream",
     "text": [
      "[TransNetV2] Processing video frames 2169/2169\n",
      "./SceneJSON_2024/L30/V072.json\n",
      "[TransNetV2] Extracting frames from /media/daoan/T7 Shield2/AI_Challenge_2024_DATA/video_with_audio/Videos_L30/video/L30_V073.mp4\n",
      "[TransNetV2] Processing video frames 5050/5245"
     ]
    },
    {
     "name": "stderr",
     "output_type": "stream",
     "text": [
      "\n",
      " 76%|███████▌  | 73/96 [02:52<00:43,  1.87s/it]\u001B[A"
     ]
    },
    {
     "name": "stdout",
     "output_type": "stream",
     "text": [
      "[TransNetV2] Processing video frames 5245/5245\n",
      "./SceneJSON_2024/L30/V073.json\n",
      "[TransNetV2] Extracting frames from /media/daoan/T7 Shield2/AI_Challenge_2024_DATA/video_with_audio/Videos_L30/video/L30_V074.mp4\n",
      "[TransNetV2] Processing video frames 5350/6426"
     ]
    },
    {
     "name": "stderr",
     "output_type": "stream",
     "text": [
      "\n",
      " 77%|███████▋  | 74/96 [02:55<00:47,  2.17s/it]\u001B[A"
     ]
    },
    {
     "name": "stdout",
     "output_type": "stream",
     "text": [
      "[TransNetV2] Processing video frames 6426/6426\n",
      "./SceneJSON_2024/L30/V074.json\n",
      "[TransNetV2] Extracting frames from /media/daoan/T7 Shield2/AI_Challenge_2024_DATA/video_with_audio/Videos_L30/video/L30_V075.mp4\n",
      "[TransNetV2] Processing video frames 5550/6459"
     ]
    },
    {
     "name": "stderr",
     "output_type": "stream",
     "text": [
      "\n",
      " 78%|███████▊  | 75/96 [02:58<00:49,  2.37s/it]\u001B[A"
     ]
    },
    {
     "name": "stdout",
     "output_type": "stream",
     "text": [
      "[TransNetV2] Processing video frames 6459/6459\n",
      "./SceneJSON_2024/L30/V075.json\n",
      "[TransNetV2] Extracting frames from /media/daoan/T7 Shield2/AI_Challenge_2024_DATA/video_with_audio/Videos_L30/video/L30_V076.mp4\n",
      "[TransNetV2] Processing video frames 3850/4215"
     ]
    },
    {
     "name": "stderr",
     "output_type": "stream",
     "text": [
      "\n",
      " 79%|███████▉  | 76/96 [03:00<00:44,  2.23s/it]\u001B[A"
     ]
    },
    {
     "name": "stdout",
     "output_type": "stream",
     "text": [
      "[TransNetV2] Processing video frames 4215/4215\n",
      "./SceneJSON_2024/L30/V076.json\n",
      "[TransNetV2] Extracting frames from /media/daoan/T7 Shield2/AI_Challenge_2024_DATA/video_with_audio/Videos_L30/video/L30_V077.mp4\n",
      "[TransNetV2] Processing video frames 3850/4964"
     ]
    },
    {
     "name": "stderr",
     "output_type": "stream",
     "text": [
      "\n",
      " 80%|████████  | 77/96 [03:02<00:42,  2.24s/it]\u001B[A"
     ]
    },
    {
     "name": "stdout",
     "output_type": "stream",
     "text": [
      "[TransNetV2] Processing video frames 4964/4964\n",
      "./SceneJSON_2024/L30/V077.json\n",
      "[TransNetV2] Extracting frames from /media/daoan/T7 Shield2/AI_Challenge_2024_DATA/video_with_audio/Videos_L30/video/L30_V078.mp4\n",
      "[TransNetV2] Processing video frames 3900/4947"
     ]
    },
    {
     "name": "stderr",
     "output_type": "stream",
     "text": [
      "\n",
      " 81%|████████▏ | 78/96 [03:04<00:40,  2.22s/it]\u001B[A"
     ]
    },
    {
     "name": "stdout",
     "output_type": "stream",
     "text": [
      "[TransNetV2] Processing video frames 4947/4947\n",
      "./SceneJSON_2024/L30/V078.json\n",
      "[TransNetV2] Extracting frames from /media/daoan/T7 Shield2/AI_Challenge_2024_DATA/video_with_audio/Videos_L30/video/L30_V079.mp4\n",
      "[TransNetV2] Processing video frames 3950/4004"
     ]
    },
    {
     "name": "stderr",
     "output_type": "stream",
     "text": [
      "\n",
      " 82%|████████▏ | 79/96 [03:06<00:37,  2.20s/it]\u001B[A"
     ]
    },
    {
     "name": "stdout",
     "output_type": "stream",
     "text": [
      "[TransNetV2] Processing video frames 4004/4004\n",
      "./SceneJSON_2024/L30/V079.json\n",
      "[TransNetV2] Extracting frames from /media/daoan/T7 Shield2/AI_Challenge_2024_DATA/video_with_audio/Videos_L30/video/L30_V080.mp4\n",
      "[TransNetV2] Processing video frames 5450/6937"
     ]
    },
    {
     "name": "stderr",
     "output_type": "stream",
     "text": [
      "\n",
      " 83%|████████▎ | 80/96 [03:09<00:39,  2.46s/it]\u001B[A"
     ]
    },
    {
     "name": "stdout",
     "output_type": "stream",
     "text": [
      "[TransNetV2] Processing video frames 6937/6937\n",
      "./SceneJSON_2024/L30/V080.json\n",
      "[TransNetV2] Extracting frames from /media/daoan/T7 Shield2/AI_Challenge_2024_DATA/video_with_audio/Videos_L30/video/L30_V081.mp4\n",
      "[TransNetV2] Processing video frames 3850/4605"
     ]
    },
    {
     "name": "stderr",
     "output_type": "stream",
     "text": [
      "\n",
      " 84%|████████▍ | 81/96 [03:11<00:34,  2.30s/it]\u001B[A"
     ]
    },
    {
     "name": "stdout",
     "output_type": "stream",
     "text": [
      "[TransNetV2] Processing video frames 4605/4605\n",
      "./SceneJSON_2024/L30/V081.json\n",
      "[TransNetV2] Extracting frames from /media/daoan/T7 Shield2/AI_Challenge_2024_DATA/video_with_audio/Videos_L30/video/L30_V082.mp4\n",
      "[TransNetV2] Processing video frames 5500/5506"
     ]
    },
    {
     "name": "stderr",
     "output_type": "stream",
     "text": [
      "\n",
      " 85%|████████▌ | 82/96 [03:14<00:33,  2.39s/it]\u001B[A"
     ]
    },
    {
     "name": "stdout",
     "output_type": "stream",
     "text": [
      "[TransNetV2] Processing video frames 5506/5506\n",
      "./SceneJSON_2024/L30/V082.json\n",
      "[TransNetV2] Extracting frames from /media/daoan/T7 Shield2/AI_Challenge_2024_DATA/video_with_audio/Videos_L30/video/L30_V083.mp4\n",
      "[TransNetV2] Processing video frames 7400/7434"
     ]
    },
    {
     "name": "stderr",
     "output_type": "stream",
     "text": [
      "\n",
      " 86%|████████▋ | 83/96 [03:18<00:35,  2.73s/it]\u001B[A"
     ]
    },
    {
     "name": "stdout",
     "output_type": "stream",
     "text": [
      "[TransNetV2] Processing video frames 7434/7434\n",
      "./SceneJSON_2024/L30/V083.json\n",
      "[TransNetV2] Extracting frames from /media/daoan/T7 Shield2/AI_Challenge_2024_DATA/video_with_audio/Videos_L30/video/L30_V084.mp4\n",
      "[TransNetV2] Processing video frames 3800/5163"
     ]
    },
    {
     "name": "stderr",
     "output_type": "stream",
     "text": [
      "\n",
      " 88%|████████▊ | 84/96 [03:20<00:31,  2.61s/it]\u001B[A"
     ]
    },
    {
     "name": "stdout",
     "output_type": "stream",
     "text": [
      "[TransNetV2] Processing video frames 5163/5163\n",
      "./SceneJSON_2024/L30/V084.json\n",
      "[TransNetV2] Extracting frames from /media/daoan/T7 Shield2/AI_Challenge_2024_DATA/video_with_audio/Videos_L30/video/L30_V085.mp4\n",
      "[TransNetV2] Processing video frames 3350/4873"
     ]
    },
    {
     "name": "stderr",
     "output_type": "stream",
     "text": [
      "\n",
      " 89%|████████▊ | 85/96 [03:22<00:27,  2.50s/it]\u001B[A"
     ]
    },
    {
     "name": "stdout",
     "output_type": "stream",
     "text": [
      "[TransNetV2] Processing video frames 4873/4873\n",
      "./SceneJSON_2024/L30/V085.json\n",
      "[TransNetV2] Extracting frames from /media/daoan/T7 Shield2/AI_Challenge_2024_DATA/video_with_audio/Videos_L30/video/L30_V086.mp4\n",
      "[TransNetV2] Processing video frames 3200/4757"
     ]
    },
    {
     "name": "stderr",
     "output_type": "stream",
     "text": [
      "\n",
      " 90%|████████▉ | 86/96 [03:24<00:23,  2.35s/it]\u001B[A"
     ]
    },
    {
     "name": "stdout",
     "output_type": "stream",
     "text": [
      "[TransNetV2] Processing video frames 4757/4757\n",
      "./SceneJSON_2024/L30/V086.json\n",
      "[TransNetV2] Extracting frames from /media/daoan/T7 Shield2/AI_Challenge_2024_DATA/video_with_audio/Videos_L30/video/L30_V087.mp4\n",
      "[TransNetV2] Processing video frames 5644/5644\n",
      "./SceneJSON_2024/L30/V087.json\n"
     ]
    },
    {
     "name": "stderr",
     "output_type": "stream",
     "text": [
      "\n",
      " 91%|█████████ | 87/96 [03:27<00:22,  2.45s/it]\u001B[A"
     ]
    },
    {
     "name": "stdout",
     "output_type": "stream",
     "text": [
      "[TransNetV2] Extracting frames from /media/daoan/T7 Shield2/AI_Challenge_2024_DATA/video_with_audio/Videos_L30/video/L30_V088.mp4\n",
      "[TransNetV2] Processing video frames 3900/5232"
     ]
    },
    {
     "name": "stderr",
     "output_type": "stream",
     "text": [
      "\n",
      " 92%|█████████▏| 88/96 [03:29<00:18,  2.37s/it]\u001B[A"
     ]
    },
    {
     "name": "stdout",
     "output_type": "stream",
     "text": [
      "[TransNetV2] Processing video frames 5232/5232\n",
      "./SceneJSON_2024/L30/V088.json\n",
      "[TransNetV2] Extracting frames from /media/daoan/T7 Shield2/AI_Challenge_2024_DATA/video_with_audio/Videos_L30/video/L30_V089.mp4\n",
      "[TransNetV2] Processing video frames 5100/5281"
     ]
    },
    {
     "name": "stderr",
     "output_type": "stream",
     "text": [
      "\n",
      " 93%|█████████▎| 89/96 [03:31<00:16,  2.42s/it]\u001B[A"
     ]
    },
    {
     "name": "stdout",
     "output_type": "stream",
     "text": [
      "[TransNetV2] Processing video frames 5281/5281\n",
      "./SceneJSON_2024/L30/V089.json\n",
      "[TransNetV2] Extracting frames from /media/daoan/T7 Shield2/AI_Challenge_2024_DATA/video_with_audio/Videos_L30/video/L30_V090.mp4\n",
      "[TransNetV2] Processing video frames 5350/5624"
     ]
    },
    {
     "name": "stderr",
     "output_type": "stream",
     "text": [
      "\n",
      " 94%|█████████▍| 90/96 [03:34<00:14,  2.42s/it]\u001B[A"
     ]
    },
    {
     "name": "stdout",
     "output_type": "stream",
     "text": [
      "[TransNetV2] Processing video frames 5624/5624\n",
      "./SceneJSON_2024/L30/V090.json\n",
      "[TransNetV2] Extracting frames from /media/daoan/T7 Shield2/AI_Challenge_2024_DATA/video_with_audio/Videos_L30/video/L30_V091.mp4\n",
      "[TransNetV2] Processing video frames 7030/7030\n"
     ]
    },
    {
     "name": "stderr",
     "output_type": "stream",
     "text": [
      "\n",
      " 95%|█████████▍| 91/96 [03:37<00:13,  2.64s/it]\u001B[A"
     ]
    },
    {
     "name": "stdout",
     "output_type": "stream",
     "text": [
      "./SceneJSON_2024/L30/V091.json\n",
      "[TransNetV2] Extracting frames from /media/daoan/T7 Shield2/AI_Challenge_2024_DATA/video_with_audio/Videos_L30/video/L30_V092.mp4\n",
      "[TransNetV2] Processing video frames 3350/4335"
     ]
    },
    {
     "name": "stderr",
     "output_type": "stream",
     "text": [
      "\n",
      " 96%|█████████▌| 92/96 [03:39<00:09,  2.47s/it]\u001B[A"
     ]
    },
    {
     "name": "stdout",
     "output_type": "stream",
     "text": [
      "[TransNetV2] Processing video frames 4335/4335\n",
      "./SceneJSON_2024/L30/V092.json\n",
      "[TransNetV2] Extracting frames from /media/daoan/T7 Shield2/AI_Challenge_2024_DATA/video_with_audio/Videos_L30/video/L30_V093.mp4\n",
      "[TransNetV2] Processing video frames 5500/6546"
     ]
    },
    {
     "name": "stderr",
     "output_type": "stream",
     "text": [
      "\n",
      " 97%|█████████▋| 93/96 [03:42<00:07,  2.64s/it]\u001B[A"
     ]
    },
    {
     "name": "stdout",
     "output_type": "stream",
     "text": [
      "[TransNetV2] Processing video frames 6546/6546\n",
      "./SceneJSON_2024/L30/V093.json\n",
      "[TransNetV2] Extracting frames from /media/daoan/T7 Shield2/AI_Challenge_2024_DATA/video_with_audio/Videos_L30/video/L30_V094.mp4\n",
      "[TransNetV2] Processing video frames 5350/5477"
     ]
    },
    {
     "name": "stderr",
     "output_type": "stream",
     "text": [
      "\n",
      " 98%|█████████▊| 94/96 [03:45<00:05,  2.58s/it]\u001B[A"
     ]
    },
    {
     "name": "stdout",
     "output_type": "stream",
     "text": [
      "[TransNetV2] Processing video frames 5477/5477\n",
      "./SceneJSON_2024/L30/V094.json\n",
      "[TransNetV2] Extracting frames from /media/daoan/T7 Shield2/AI_Challenge_2024_DATA/video_with_audio/Videos_L30/video/L30_V095.mp4\n",
      "[TransNetV2] Processing video frames 7500/7739"
     ]
    },
    {
     "name": "stderr",
     "output_type": "stream",
     "text": [
      "\n",
      " 99%|█████████▉| 95/96 [03:48<00:02,  2.88s/it]\u001B[A"
     ]
    },
    {
     "name": "stdout",
     "output_type": "stream",
     "text": [
      "[TransNetV2] Processing video frames 7739/7739\n",
      "./SceneJSON_2024/L30/V095.json\n",
      "[TransNetV2] Extracting frames from /media/daoan/T7 Shield2/AI_Challenge_2024_DATA/video_with_audio/Videos_L30/video/L30_V096.mp4\n",
      "[TransNetV2] Processing video frames 1850/2336"
     ]
    },
    {
     "name": "stderr",
     "output_type": "stream",
     "text": [
      "\n",
      "100%|██████████| 96/96 [03:49<00:00,  2.39s/it]\u001B[A\n",
      "100%|██████████| 6/6 [1:07:04<00:00, 670.68s/it]"
     ]
    },
    {
     "name": "stdout",
     "output_type": "stream",
     "text": [
      "[TransNetV2] Processing video frames 2336/2336\n",
      "./SceneJSON_2024/L30/V096.json\n"
     ]
    },
    {
     "name": "stderr",
     "output_type": "stream",
     "text": [
      "\n"
     ]
    }
   ],
   "execution_count": 5
  },
  {
   "metadata": {
    "ExecuteTime": {
     "end_time": "2024-09-19T13:44:50.331713Z",
     "start_time": "2024-09-19T13:44:49.836656Z"
    }
   },
   "cell_type": "code",
   "source": [
    "import torch\n",
    "torch.backends.cudnn.version()\n",
    "\n"
   ],
   "id": "e152f4ffeb33c92a",
   "outputs": [
    {
     "data": {
      "text/plain": [
       "8907"
      ]
     },
     "execution_count": 1,
     "metadata": {},
     "output_type": "execute_result"
    }
   ],
   "execution_count": 1
  },
  {
   "metadata": {
    "ExecuteTime": {
     "end_time": "2024-08-20T13:07:45.069656Z",
     "start_time": "2024-08-20T13:07:45.059546Z"
    }
   },
   "cell_type": "code",
   "source": "",
   "id": "27d7b8e202ab77",
   "outputs": [
    {
     "ename": "AttributeError",
     "evalue": "module 'tensorflow.python.platform.build_info' has no attribute 'cudnn_version_number'",
     "output_type": "error",
     "traceback": [
      "\u001B[0;31m---------------------------------------------------------------------------\u001B[0m",
      "\u001B[0;31mAttributeError\u001B[0m                            Traceback (most recent call last)",
      "Cell \u001B[0;32mIn[7], line 3\u001B[0m\n\u001B[1;32m      1\u001B[0m \u001B[38;5;28;01mfrom\u001B[39;00m \u001B[38;5;21;01mtensorflow\u001B[39;00m\u001B[38;5;21;01m.\u001B[39;00m\u001B[38;5;21;01mpython\u001B[39;00m\u001B[38;5;21;01m.\u001B[39;00m\u001B[38;5;21;01mplatform\u001B[39;00m \u001B[38;5;28;01mimport\u001B[39;00m build_info \u001B[38;5;28;01mas\u001B[39;00m tf_build_info\n\u001B[0;32m----> 3\u001B[0m \u001B[38;5;28mprint\u001B[39m(\u001B[43mtf_build_info\u001B[49m\u001B[38;5;241;43m.\u001B[39;49m\u001B[43mcudnn_version_number\u001B[49m)\n",
      "\u001B[0;31mAttributeError\u001B[0m: module 'tensorflow.python.platform.build_info' has no attribute 'cudnn_version_number'"
     ]
    }
   ],
   "execution_count": 7
  }
 ],
 "metadata": {
  "kernelspec": {
   "display_name": "Python 3",
   "language": "python",
   "name": "python3"
  },
  "language_info": {
   "codemirror_mode": {
    "name": "ipython",
    "version": 2
   },
   "file_extension": ".py",
   "mimetype": "text/x-python",
   "name": "python",
   "nbconvert_exporter": "python",
   "pygments_lexer": "ipython2",
   "version": "2.7.6"
  }
 },
 "nbformat": 4,
 "nbformat_minor": 5
}
