{
 "cells": [
  {
   "cell_type": "code",
   "id": "initial_id",
   "metadata": {
    "collapsed": true,
    "ExecuteTime": {
     "end_time": "2024-10-13T05:45:34.086761Z",
     "start_time": "2024-10-13T05:45:34.061398Z"
    }
   },
   "source": [
    "from PIL.Image import Resampling\n",
    "from PIL import Image\n",
    "import os\n",
    "\n",
    "def convert_and_resize_jpg_to_webp(input_path, output_path, max_width=640):\n",
    "    # Open the JPG image\n",
    "    with Image.open(input_path) as img:\n",
    "        # Check if the image needs to be resized\n",
    "        if img.width > max_width:\n",
    "            # Calculate the new height to maintain the aspect ratio\n",
    "            new_height = int((max_width / img.width) * img.height)\n",
    "            # Resize the image\n",
    "            img = img.resize((max_width, new_height), Resampling.LANCZOS)\n",
    "        # Save the image in WebP format\n",
    "        img.save(output_path, 'webp')\n"
   ],
   "outputs": [],
   "execution_count": 1
  },
  {
   "metadata": {
    "ExecuteTime": {
     "end_time": "2024-10-13T05:45:34.106109Z",
     "start_time": "2024-10-13T05:45:34.104146Z"
    }
   },
   "cell_type": "code",
   "source": [
    "def get_webp_file_path(keyframe_path):\n",
    "    keyframe_webp_dir = keyframe_path.replace('Keyframes', 'Keyframes_webp').replace('.jpg', '.webp')\n",
    "    os.makedirs(os.path.dirname(keyframe_webp_dir), exist_ok=True)\n",
    "    return keyframe_webp_dir"
   ],
   "id": "e8d1f2ceb4f5929c",
   "outputs": [],
   "execution_count": 2
  },
  {
   "metadata": {
    "ExecuteTime": {
     "end_time": "2024-10-13T05:45:34.168210Z",
     "start_time": "2024-10-13T05:45:34.166233Z"
    }
   },
   "cell_type": "code",
   "source": [
    "import os\n",
    "\n",
    "def find_all_keyframe_files(root_dir, extensions=[\".jpg\"]):\n",
    "    files = []\n",
    "    for dirpath, _, filenames in os.walk(root_dir):\n",
    "        for filename in filenames:\n",
    "            if any(filename.lower().endswith(ext) for ext in extensions):\n",
    "                files.append(os.path.join(dirpath, filename))\n",
    "    return files"
   ],
   "id": "98219e09c6d22f2c",
   "outputs": [],
   "execution_count": 3
  },
  {
   "metadata": {
    "ExecuteTime": {
     "end_time": "2024-10-13T05:45:40.529927Z",
     "start_time": "2024-10-13T05:45:34.210555Z"
    }
   },
   "cell_type": "code",
   "source": [
    "keyframes = find_all_keyframe_files('/media/daoan/T7 Shield2/AI_Challenge_2024_DATA/Keyframes')\n",
    "keywords = [\"L25_extra\", \"L26_extra\", \"L27_extra\", \"L28_extra\", \"L29_extra\", \"L30_extra\"]\n",
    "keyframes = [path for path in keyframes if any(keyword in path for keyword in keywords)]\n",
    "len(keyframes)"
   ],
   "id": "6bec4dbb260e64ec",
   "outputs": [
    {
     "data": {
      "text/plain": [
       "305552"
      ]
     },
     "execution_count": 4,
     "metadata": {},
     "output_type": "execute_result"
    }
   ],
   "execution_count": 4
  },
  {
   "metadata": {
    "ExecuteTime": {
     "end_time": "2024-10-13T05:45:40.593297Z",
     "start_time": "2024-10-13T05:45:40.591245Z"
    }
   },
   "cell_type": "code",
   "source": [
    "def process_keyframe(keyframe):\n",
    "    keyframe_webp = get_webp_file_path(keyframe)\n",
    "    convert_and_resize_jpg_to_webp(keyframe, keyframe_webp)\n"
   ],
   "id": "407b2acd0cf63ab2",
   "outputs": [],
   "execution_count": 5
  },
  {
   "metadata": {
    "ExecuteTime": {
     "end_time": "2024-10-13T06:15:23.543451Z",
     "start_time": "2024-10-13T05:45:40.602628Z"
    }
   },
   "cell_type": "code",
   "source": [
    "import os\n",
    "from PIL.Image import Resampling\n",
    "from PIL import Image\n",
    "from tqdm import tqdm\n",
    "from multiprocessing import Pool, cpu_count\n",
    "\n",
    "with Pool(cpu_count()) as pool:\n",
    "    list(tqdm(pool.imap(process_keyframe, keyframes), total=len(keyframes)))"
   ],
   "id": "2494dd93881b323c",
   "outputs": [
    {
     "name": "stderr",
     "output_type": "stream",
     "text": [
      "100%|██████████| 305552/305552 [29:42<00:00, 171.39it/s]\n"
     ]
    }
   ],
   "execution_count": 6
  }
 ],
 "metadata": {
  "kernelspec": {
   "display_name": "Python 3",
   "language": "python",
   "name": "python3"
  },
  "language_info": {
   "codemirror_mode": {
    "name": "ipython",
    "version": 2
   },
   "file_extension": ".py",
   "mimetype": "text/x-python",
   "name": "python",
   "nbconvert_exporter": "python",
   "pygments_lexer": "ipython2",
   "version": "2.7.6"
  }
 },
 "nbformat": 4,
 "nbformat_minor": 5
}
