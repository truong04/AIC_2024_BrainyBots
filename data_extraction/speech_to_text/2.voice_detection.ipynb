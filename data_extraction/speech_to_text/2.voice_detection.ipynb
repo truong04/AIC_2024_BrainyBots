{
 "cells": [
  {
   "cell_type": "code",
   "execution_count": null,
   "id": "initial_id",
   "metadata": {
    "collapsed": true
   },
   "outputs": [],
   "source": [
    "!pip install pyannote.audio torchvision"
   ]
  },
  {
   "cell_type": "code",
   "execution_count": 5,
   "id": "62aaab1512414bc5",
   "metadata": {
    "ExecuteTime": {
     "end_time": "2024-08-13T17:06:18.242712Z",
     "start_time": "2024-08-13T17:06:15.933783Z"
    }
   },
   "outputs": [],
   "source": [
    "import os\n",
    "import torch\n",
    "import glob\n",
    "import json\n",
    "from tqdm import tqdm\n",
    "from pyannote.audio import Pipeline"
   ]
  },
  {
   "cell_type": "code",
   "execution_count": 6,
   "id": "12db9d3bcade3543",
   "metadata": {
    "ExecuteTime": {
     "end_time": "2024-08-13T17:06:21.707864Z",
     "start_time": "2024-08-13T17:06:21.704166Z"
    }
   },
   "outputs": [],
   "source": [
    "audios_dir = '/media/daoan/T7 Shield2/VN_Multi_User_Video_Search/audios'\n",
    "voice_detection = '/media/daoan/T7 Shield2/VN_Multi_User_Video_Search/audios/voice_detection'"
   ]
  },
  {
   "cell_type": "code",
   "execution_count": 7,
   "id": "6584eaa0e2f8911f",
   "metadata": {
    "ExecuteTime": {
     "end_time": "2024-08-13T17:06:21.883134Z",
     "start_time": "2024-08-13T17:06:21.881097Z"
    }
   },
   "outputs": [],
   "source": [
    "def create_all_folders_if_not_exists(path):\n",
    "    os.makedirs(path, exist_ok=True)"
   ]
  },
  {
   "cell_type": "code",
   "execution_count": 14,
   "id": "a37ea7f0739682d",
   "metadata": {
    "ExecuteTime": {
     "end_time": "2024-08-13T17:08:01.671937Z",
     "start_time": "2024-08-13T17:08:01.669805Z"
    }
   },
   "outputs": [],
   "source": [
    "def find_all_audio_files(root_dir, video_extensions=[\".wav\", \".mp3\"]):\n",
    "    audio_files = []\n",
    "    for dirpath, _, filenames in os.walk(root_dir):\n",
    "        for filename in filenames:\n",
    "            if any(filename.lower().endswith(ext) for ext in video_extensions):\n",
    "                audio_files.append(os.path.join(dirpath, filename))\n",
    "    return audio_files"
   ]
  },
  {
   "cell_type": "code",
   "execution_count": 8,
   "id": "3500de6a3169b55",
   "metadata": {
    "ExecuteTime": {
     "end_time": "2024-08-13T17:06:22.111088Z",
     "start_time": "2024-08-13T17:06:22.108905Z"
    }
   },
   "outputs": [],
   "source": [
    "create_all_folders_if_not_exists(voice_detection)"
   ]
  },
  {
   "cell_type": "code",
   "execution_count": 15,
   "id": "d4c031a2a22c116b",
   "metadata": {
    "ExecuteTime": {
     "end_time": "2024-08-13T17:10:14.651629Z",
     "start_time": "2024-08-13T17:10:14.649250Z"
    }
   },
   "outputs": [],
   "source": [
    "def get_file_name_from_path(path):\n",
    "    return os.path.basename(path)"
   ]
  },
  {
   "cell_type": "code",
   "execution_count": 9,
   "id": "e5377a148ac1744f",
   "metadata": {
    "ExecuteTime": {
     "end_time": "2024-08-13T17:06:25.233927Z",
     "start_time": "2024-08-13T17:06:23.384409Z"
    }
   },
   "outputs": [
    {
     "name": "stderr",
     "output_type": "stream",
     "text": [
      "Lightning automatically upgraded your loaded checkpoint from v1.1.3 to v2.3.3. To apply the upgrade to your files permanently, run `python -m pytorch_lightning.utilities.upgrade_checkpoint ../../../../.cache/torch/pyannote/models--pyannote--segmentation/snapshots/059e96f964841d40f1a5e755bb7223f76666bba4/pytorch_model.bin`\n"
     ]
    },
    {
     "name": "stdout",
     "output_type": "stream",
     "text": [
      "Model was trained with pyannote.audio 0.0.1, yours is 3.3.1. Bad things might happen unless you revert pyannote.audio to 0.x.\n",
      "Model was trained with torch 1.7.1, yours is 2.4.0+cu121. Bad things might happen unless you revert torch to 1.x.\n"
     ]
    }
   ],
   "source": [
    "pipeline = Pipeline.from_pretrained(\"pyannote/voice-activity-detection\")\n",
    "device = torch.device(\"cuda\" if torch.cuda.is_available() else \"cpu\")\n",
    "pipeline=pipeline.to(device)"
   ]
  },
  {
   "cell_type": "code",
   "execution_count": 16,
   "id": "1506d4c1e399a2a7",
   "metadata": {
    "ExecuteTime": {
     "end_time": "2024-08-13T17:10:42.174399Z",
     "start_time": "2024-08-13T17:10:42.171325Z"
    }
   },
   "outputs": [],
   "source": [
    "all_audio_paths = find_all_audio_files(audios_dir)\n"
   ]
  },
  {
   "cell_type": "code",
   "execution_count": 17,
   "id": "45ee752398142204",
   "metadata": {
    "ExecuteTime": {
     "end_time": "2024-08-13T17:29:32.065617Z",
     "start_time": "2024-08-13T17:10:43.412267Z"
    }
   },
   "outputs": [
    {
     "name": "stderr",
     "output_type": "stream",
     "text": [
      "100%|██████████| 1210/1210 [18:48<00:00,  1.07it/s]\n"
     ]
    }
   ],
   "source": [
    "save_dir_all = voice_detection\n",
    "create_all_folders_if_not_exists(save_dir_all)\n",
    "\n",
    "\n",
    "for audio_path in tqdm(all_audio_paths):\n",
    "    output = pipeline(audio_path)\n",
    "    \n",
    "    result = []\n",
    "    for speech in output.get_timeline().support():\n",
    "        result.append([speech.start, speech.end])\n",
    "    file_name = get_file_name_from_path(audio_path).split(\".\")[0]    \n",
    "    with open(f'{voice_detection}/{file_name}.json', 'w') as f:\n",
    "        json.dump(result, f)"
   ]
  },
  {
   "cell_type": "code",
   "execution_count": null,
   "id": "cf51f1c8f42712ba",
   "metadata": {},
   "outputs": [],
   "source": []
  }
 ],
 "metadata": {
  "kernelspec": {
   "display_name": "Python 3",
   "language": "python",
   "name": "python3"
  },
  "language_info": {
   "codemirror_mode": {
    "name": "ipython",
    "version": 2
   },
   "file_extension": ".py",
   "mimetype": "text/x-python",
   "name": "python",
   "nbconvert_exporter": "python",
   "pygments_lexer": "ipython2",
   "version": "2.7.6"
  }
 },
 "nbformat": 4,
 "nbformat_minor": 5
}
