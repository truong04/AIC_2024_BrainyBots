{
 "cells": [
  {
   "cell_type": "code",
   "id": "initial_id",
   "metadata": {
    "collapsed": true,
    "ExecuteTime": {
     "end_time": "2024-08-13T16:32:07.731560Z",
     "start_time": "2024-08-13T16:32:07.729218Z"
    }
   },
   "source": [
    "video_dir = \"/media/daoan/T7 Shield2/VN_Multi_User_Video_Search/videos/\"\n",
    "save_dir = \"/media/daoan/T7 Shield2/VN_Multi_User_Video_Search/audios\""
   ],
   "outputs": [],
   "execution_count": 75
  },
  {
   "metadata": {
    "ExecuteTime": {
     "end_time": "2024-08-13T16:32:08.530101Z",
     "start_time": "2024-08-13T16:32:08.527209Z"
    }
   },
   "cell_type": "code",
   "source": [
    "import os\n",
    "import sys\n",
    "import subprocess\n",
    "from tqdm import tqdm\n",
    "\n",
    "def convert_video_to_audio_ffmpeg(video_file, save_path, output_ext=\"wav\"):\n",
    "    \"\"\"Converts video to audio directly using `ffmpeg` command\n",
    "    with the help of subprocess module\"\"\"\n",
    "    subprocess.call([\n",
    "        \"ffmpeg\", \"-y\", \"-i\", video_file, \n",
    "        \"-ac\", \"1\",  # Convert to mono\n",
    "        \"-ar\", \"16000\",  # Convert to 16kHz\n",
    "        f\"{save_path}.{output_ext}\"\n",
    "    ], stdout=subprocess.DEVNULL, stderr=subprocess.STDOUT)"
   ],
   "id": "e826b8d3051d9ba2",
   "outputs": [],
   "execution_count": 76
  },
  {
   "metadata": {
    "ExecuteTime": {
     "end_time": "2024-08-13T16:32:08.814155Z",
     "start_time": "2024-08-13T16:32:08.811402Z"
    }
   },
   "cell_type": "code",
   "source": [
    "def find_all_video_files(root_dir, video_extensions=[\".mp4\", \".avi\", \".mov\", \".mkv\"]):\n",
    "    video_files = []\n",
    "    for dirpath, _, filenames in os.walk(root_dir):\n",
    "        for filename in filenames:\n",
    "            if any(filename.lower().endswith(ext) for ext in video_extensions):\n",
    "                video_files.append(os.path.join(dirpath, filename))\n",
    "    return video_files"
   ],
   "id": "dfa2d8699fd43254",
   "outputs": [],
   "execution_count": 77
  },
  {
   "metadata": {
    "ExecuteTime": {
     "end_time": "2024-08-13T16:32:09.257875Z",
     "start_time": "2024-08-13T16:32:09.255873Z"
    }
   },
   "cell_type": "code",
   "source": [
    "def get_file_name_from_path(path):\n",
    "    return os.path.basename(path)"
   ],
   "id": "37fa7488fed5ebb5",
   "outputs": [],
   "execution_count": 78
  },
  {
   "metadata": {
    "ExecuteTime": {
     "end_time": "2024-08-13T16:32:09.631988Z",
     "start_time": "2024-08-13T16:32:09.630064Z"
    }
   },
   "cell_type": "code",
   "source": [
    "def create_all_folders_if_not_exists(path):\n",
    "    os.makedirs(path, exist_ok=True)"
   ],
   "id": "d7dfe3c978097714",
   "outputs": [],
   "execution_count": 79
  },
  {
   "metadata": {
    "ExecuteTime": {
     "end_time": "2024-08-13T16:32:10.074618Z",
     "start_time": "2024-08-13T16:32:10.072332Z"
    }
   },
   "cell_type": "code",
   "source": [
    "def convert_all_videos_to_audio_ffmpeg(video_dir, save_dir, output_ext=\"wav\"):\n",
    "   # find all video files in nested folder\n",
    "    video_files = find_all_video_files(video_dir)\n",
    "    create_all_folders_if_not_exists(save_dir)\n",
    "    print(f\"Found {len(video_files)} video files\")\n",
    "    for video_file in tqdm(video_files):\n",
    "        file_name = get_file_name_from_path(video_file).split(\".\")[0]\n",
    "        save_path = os.path.join(save_dir, file_name)\n",
    "        convert_video_to_audio_ffmpeg(video_file, save_path, output_ext)"
   ],
   "id": "2d3b448635bdb352",
   "outputs": [],
   "execution_count": 80
  },
  {
   "metadata": {
    "ExecuteTime": {
     "end_time": "2024-08-13T17:03:55.644215Z",
     "start_time": "2024-08-13T16:32:11.168428Z"
    }
   },
   "cell_type": "code",
   "source": [
    "# Convert all videos in a directory to audio\n",
    "convert_all_videos_to_audio_ffmpeg(video_dir, save_dir)"
   ],
   "id": "9756be65ec39a13f",
   "outputs": [
    {
     "name": "stdout",
     "output_type": "stream",
     "text": [
      "Found 1210 video files\n"
     ]
    },
    {
     "name": "stderr",
     "output_type": "stream",
     "text": [
      "100%|██████████| 1210/1210 [31:44<00:00,  1.57s/it]\n"
     ]
    }
   ],
   "execution_count": 81
  },
  {
   "metadata": {},
   "cell_type": "code",
   "outputs": [],
   "execution_count": null,
   "source": "",
   "id": "9d8ac1e60bb44cd4"
  }
 ],
 "metadata": {
  "kernelspec": {
   "display_name": "Python 3",
   "language": "python",
   "name": "python3"
  },
  "language_info": {
   "codemirror_mode": {
    "name": "ipython",
    "version": 2
   },
   "file_extension": ".py",
   "mimetype": "text/x-python",
   "name": "python",
   "nbconvert_exporter": "python",
   "pygments_lexer": "ipython2",
   "version": "2.7.6"
  }
 },
 "nbformat": 4,
 "nbformat_minor": 5
}
