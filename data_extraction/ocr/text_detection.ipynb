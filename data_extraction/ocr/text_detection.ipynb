{
 "cells": [
  {
   "cell_type": "code",
   "id": "initial_id",
   "metadata": {
    "collapsed": true,
    "ExecuteTime": {
     "end_time": "2024-08-17T15:09:27.883492Z",
     "start_time": "2024-08-17T15:08:01.525091Z"
    }
   },
   "source": [
    "!pip install paddlepaddle-gpu\n",
    "!pip install paddleocr"
   ],
   "outputs": [
    {
     "name": "stdout",
     "output_type": "stream",
     "text": [
      "Looking in indexes: https://pypi.org/simple, https://pypi.ngc.nvidia.com\r\n",
      "Collecting paddlepaddle\r\n",
      "  Obtaining dependency information for paddlepaddle from https://files.pythonhosted.org/packages/ce/8c/e0003e2cbc79211d7758c395f335e3d27270e7b55c5a9387cfaf4815c919/paddlepaddle-2.6.1-cp310-cp310-manylinux1_x86_64.whl.metadata\r\n",
      "  Downloading paddlepaddle-2.6.1-cp310-cp310-manylinux1_x86_64.whl.metadata (8.6 kB)\r\n",
      "Requirement already satisfied: httpx in /home/daoan/Projects/AI_Challenge_HCMC_2024/.venv/lib/python3.10/site-packages (from paddlepaddle) (0.24.1)\r\n",
      "Requirement already satisfied: numpy>=1.13 in /home/daoan/Projects/AI_Challenge_HCMC_2024/.venv/lib/python3.10/site-packages (from paddlepaddle) (1.24.4)\r\n",
      "Requirement already satisfied: Pillow in /home/daoan/Projects/AI_Challenge_HCMC_2024/.venv/lib/python3.10/site-packages (from paddlepaddle) (10.4.0)\r\n",
      "Requirement already satisfied: decorator in /home/daoan/Projects/AI_Challenge_HCMC_2024/.venv/lib/python3.10/site-packages (from paddlepaddle) (4.4.2)\r\n",
      "Collecting astor (from paddlepaddle)\r\n",
      "  Obtaining dependency information for astor from https://files.pythonhosted.org/packages/c3/88/97eef84f48fa04fbd6750e62dcceafba6c63c81b7ac1420856c8dcc0a3f9/astor-0.8.1-py2.py3-none-any.whl.metadata\r\n",
      "  Downloading astor-0.8.1-py2.py3-none-any.whl.metadata (4.2 kB)\r\n",
      "Requirement already satisfied: opt-einsum==3.3.0 in /home/daoan/Projects/AI_Challenge_HCMC_2024/.venv/lib/python3.10/site-packages (from paddlepaddle) (3.3.0)\r\n",
      "Requirement already satisfied: protobuf>=3.20.2 in /home/daoan/Projects/AI_Challenge_HCMC_2024/.venv/lib/python3.10/site-packages (from paddlepaddle) (4.25.4)\r\n",
      "Requirement already satisfied: certifi in /home/daoan/Projects/AI_Challenge_HCMC_2024/.venv/lib/python3.10/site-packages (from httpx->paddlepaddle) (2024.7.4)\r\n",
      "Requirement already satisfied: httpcore<0.18.0,>=0.15.0 in /home/daoan/Projects/AI_Challenge_HCMC_2024/.venv/lib/python3.10/site-packages (from httpx->paddlepaddle) (0.17.3)\r\n",
      "Requirement already satisfied: idna in /home/daoan/Projects/AI_Challenge_HCMC_2024/.venv/lib/python3.10/site-packages (from httpx->paddlepaddle) (3.7)\r\n",
      "Requirement already satisfied: sniffio in /home/daoan/Projects/AI_Challenge_HCMC_2024/.venv/lib/python3.10/site-packages (from httpx->paddlepaddle) (1.3.1)\r\n",
      "Requirement already satisfied: h11<0.15,>=0.13 in /home/daoan/Projects/AI_Challenge_HCMC_2024/.venv/lib/python3.10/site-packages (from httpcore<0.18.0,>=0.15.0->httpx->paddlepaddle) (0.14.0)\r\n",
      "Requirement already satisfied: anyio<5.0,>=3.0 in /home/daoan/Projects/AI_Challenge_HCMC_2024/.venv/lib/python3.10/site-packages (from httpcore<0.18.0,>=0.15.0->httpx->paddlepaddle) (4.4.0)\r\n",
      "Requirement already satisfied: exceptiongroup>=1.0.2 in /home/daoan/Projects/AI_Challenge_HCMC_2024/.venv/lib/python3.10/site-packages (from anyio<5.0,>=3.0->httpcore<0.18.0,>=0.15.0->httpx->paddlepaddle) (1.2.2)\r\n",
      "Requirement already satisfied: typing-extensions>=4.1 in /home/daoan/Projects/AI_Challenge_HCMC_2024/.venv/lib/python3.10/site-packages (from anyio<5.0,>=3.0->httpcore<0.18.0,>=0.15.0->httpx->paddlepaddle) (4.12.2)\r\n",
      "Downloading paddlepaddle-2.6.1-cp310-cp310-manylinux1_x86_64.whl (125.9 MB)\r\n",
      "\u001B[2K   \u001B[90m━━━━━━━━━━━━━━━━━━━━━━━━━━━━━━━━━━━━━━━━\u001B[0m \u001B[32m125.9/125.9 MB\u001B[0m \u001B[31m4.6 MB/s\u001B[0m eta \u001B[36m0:00:00\u001B[0m00:01\u001B[0m00:01\u001B[0m\r\n",
      "\u001B[?25hDownloading astor-0.8.1-py2.py3-none-any.whl (27 kB)\r\n",
      "Installing collected packages: astor, paddlepaddle\r\n",
      "Successfully installed astor-0.8.1 paddlepaddle-2.6.1\r\n",
      "\r\n",
      "\u001B[1m[\u001B[0m\u001B[34;49mnotice\u001B[0m\u001B[1;39;49m]\u001B[0m\u001B[39;49m A new release of pip is available: \u001B[0m\u001B[31;49m23.2.1\u001B[0m\u001B[39;49m -> \u001B[0m\u001B[32;49m24.2\u001B[0m\r\n",
      "\u001B[1m[\u001B[0m\u001B[34;49mnotice\u001B[0m\u001B[1;39;49m]\u001B[0m\u001B[39;49m To update, run: \u001B[0m\u001B[32;49mpip install --upgrade pip\u001B[0m\r\n",
      "Looking in indexes: https://pypi.org/simple, https://pypi.ngc.nvidia.com\r\n",
      "Collecting paddleocr\r\n",
      "  Obtaining dependency information for paddleocr from https://files.pythonhosted.org/packages/2f/ae/11ad6f1663f57d4df18a5ffbf9568340b23a8042d31eccb644f8a43a59ff/paddleocr-2.8.1-py3-none-any.whl.metadata\r\n",
      "  Downloading paddleocr-2.8.1-py3-none-any.whl.metadata (19 kB)\r\n",
      "Collecting shapely (from paddleocr)\r\n",
      "  Obtaining dependency information for shapely from https://files.pythonhosted.org/packages/a0/b6/8cbd3674fdbd235ef9b82e055b884034ae9526a26a119dd4b7636303cd39/shapely-2.0.5-cp310-cp310-manylinux_2_17_x86_64.manylinux2014_x86_64.whl.metadata\r\n",
      "  Downloading shapely-2.0.5-cp310-cp310-manylinux_2_17_x86_64.manylinux2014_x86_64.whl.metadata (7.0 kB)\r\n",
      "Collecting scikit-image (from paddleocr)\r\n",
      "  Obtaining dependency information for scikit-image from https://files.pythonhosted.org/packages/40/2e/8b39cd2c347490dbe10adf21fd50bbddb1dada5bb0512c3a39371285eb62/scikit_image-0.24.0-cp310-cp310-manylinux_2_17_x86_64.manylinux2014_x86_64.whl.metadata\r\n",
      "  Downloading scikit_image-0.24.0-cp310-cp310-manylinux_2_17_x86_64.manylinux2014_x86_64.whl.metadata (14 kB)\r\n",
      "Collecting imgaug (from paddleocr)\r\n",
      "  Obtaining dependency information for imgaug from https://files.pythonhosted.org/packages/66/b1/af3142c4a85cba6da9f4ebb5ff4e21e2616309552caca5e8acefe9840622/imgaug-0.4.0-py2.py3-none-any.whl.metadata\r\n",
      "  Downloading imgaug-0.4.0-py2.py3-none-any.whl.metadata (1.8 kB)\r\n",
      "Collecting pyclipper (from paddleocr)\r\n",
      "  Obtaining dependency information for pyclipper from https://files.pythonhosted.org/packages/1c/81/4aa8403e587a4c60e00b479c11254a6e3200f3b985dcf4caecf0d8c21261/pyclipper-1.3.0.post5-cp310-cp310-manylinux_2_12_x86_64.manylinux2010_x86_64.whl.metadata\r\n",
      "  Downloading pyclipper-1.3.0.post5-cp310-cp310-manylinux_2_12_x86_64.manylinux2010_x86_64.whl.metadata (9.0 kB)\r\n",
      "Collecting lmdb (from paddleocr)\r\n",
      "  Obtaining dependency information for lmdb from https://files.pythonhosted.org/packages/2d/39/24b71e2b10edf46a1bc0c46eaca5c5253bbc7fea059c0626628c0754223c/lmdb-1.5.1-cp310-cp310-manylinux_2_17_x86_64.manylinux2014_x86_64.whl.metadata\r\n",
      "  Downloading lmdb-1.5.1-cp310-cp310-manylinux_2_17_x86_64.manylinux2014_x86_64.whl.metadata (1.1 kB)\r\n",
      "Requirement already satisfied: tqdm in /home/daoan/Projects/AI_Challenge_HCMC_2024/.venv/lib/python3.10/site-packages (from paddleocr) (4.66.5)\r\n",
      "Requirement already satisfied: numpy<2.0 in /home/daoan/Projects/AI_Challenge_HCMC_2024/.venv/lib/python3.10/site-packages (from paddleocr) (1.24.4)\r\n",
      "Collecting rapidfuzz (from paddleocr)\r\n",
      "  Obtaining dependency information for rapidfuzz from https://files.pythonhosted.org/packages/47/d7/38a2e899be0463a0e59e36f7b0f1df1d60fc9fb9f073ac967686fce5c762/rapidfuzz-3.9.6-cp310-cp310-manylinux_2_17_x86_64.manylinux2014_x86_64.whl.metadata\r\n",
      "  Downloading rapidfuzz-3.9.6-cp310-cp310-manylinux_2_17_x86_64.manylinux2014_x86_64.whl.metadata (12 kB)\r\n",
      "Requirement already satisfied: opencv-python in /home/daoan/Projects/AI_Challenge_HCMC_2024/.venv/lib/python3.10/site-packages (from paddleocr) (4.6.0.66)\r\n",
      "Collecting opencv-contrib-python (from paddleocr)\r\n",
      "  Obtaining dependency information for opencv-contrib-python from https://files.pythonhosted.org/packages/b0/e0/8f5d065ebb2e5941d289c5f653f944318f9e418bc5167bc6a346ab5e0f6a/opencv_contrib_python-4.10.0.84-cp37-abi3-manylinux_2_17_x86_64.manylinux2014_x86_64.whl.metadata\r\n",
      "  Downloading opencv_contrib_python-4.10.0.84-cp37-abi3-manylinux_2_17_x86_64.manylinux2014_x86_64.whl.metadata (20 kB)\r\n",
      "Collecting cython (from paddleocr)\r\n",
      "  Obtaining dependency information for cython from https://files.pythonhosted.org/packages/f0/89/b1ae45689abecca777f95462781a76e67ff46b55495a481ec5a73a739994/Cython-3.0.11-cp310-cp310-manylinux_2_17_x86_64.manylinux2014_x86_64.whl.metadata\r\n",
      "  Downloading Cython-3.0.11-cp310-cp310-manylinux_2_17_x86_64.manylinux2014_x86_64.whl.metadata (3.2 kB)\r\n",
      "Requirement already satisfied: Pillow in /home/daoan/Projects/AI_Challenge_HCMC_2024/.venv/lib/python3.10/site-packages (from paddleocr) (10.4.0)\r\n",
      "Requirement already satisfied: pyyaml in /home/daoan/Projects/AI_Challenge_HCMC_2024/.venv/lib/python3.10/site-packages (from paddleocr) (6.0.1)\r\n",
      "Collecting python-docx (from paddleocr)\r\n",
      "  Obtaining dependency information for python-docx from https://files.pythonhosted.org/packages/3e/3d/330d9efbdb816d3f60bf2ad92f05e1708e4a1b9abe80461ac3444c83f749/python_docx-1.1.2-py3-none-any.whl.metadata\r\n",
      "  Downloading python_docx-1.1.2-py3-none-any.whl.metadata (2.0 kB)\r\n",
      "Requirement already satisfied: beautifulsoup4 in /home/daoan/Projects/AI_Challenge_HCMC_2024/.venv/lib/python3.10/site-packages (from paddleocr) (4.12.3)\r\n",
      "Requirement already satisfied: fonttools>=4.24.0 in /home/daoan/Projects/AI_Challenge_HCMC_2024/.venv/lib/python3.10/site-packages (from paddleocr) (4.53.1)\r\n",
      "Collecting fire>=0.3.0 (from paddleocr)\r\n",
      "  Downloading fire-0.6.0.tar.gz (88 kB)\r\n",
      "\u001B[2K     \u001B[90m━━━━━━━━━━━━━━━━━━━━━━━━━━━━━━━━━━━━━━━\u001B[0m \u001B[32m88.4/88.4 kB\u001B[0m \u001B[31m757.2 kB/s\u001B[0m eta \u001B[36m0:00:00\u001B[0ma \u001B[36m0:00:01\u001B[0m\r\n",
      "\u001B[?25h  Preparing metadata (setup.py) ... \u001B[?25ldone\r\n",
      "\u001B[?25hRequirement already satisfied: requests in /home/daoan/Projects/AI_Challenge_HCMC_2024/.venv/lib/python3.10/site-packages (from paddleocr) (2.32.3)\r\n",
      "Requirement already satisfied: six in /home/daoan/Projects/AI_Challenge_HCMC_2024/.venv/lib/python3.10/site-packages (from fire>=0.3.0->paddleocr) (1.16.0)\r\n",
      "Requirement already satisfied: termcolor in /home/daoan/Projects/AI_Challenge_HCMC_2024/.venv/lib/python3.10/site-packages (from fire>=0.3.0->paddleocr) (2.4.0)\r\n",
      "Requirement already satisfied: soupsieve>1.2 in /home/daoan/Projects/AI_Challenge_HCMC_2024/.venv/lib/python3.10/site-packages (from beautifulsoup4->paddleocr) (2.5)\r\n",
      "Requirement already satisfied: scipy in /home/daoan/Projects/AI_Challenge_HCMC_2024/.venv/lib/python3.10/site-packages (from imgaug->paddleocr) (1.14.0)\r\n",
      "Requirement already satisfied: matplotlib in /home/daoan/Projects/AI_Challenge_HCMC_2024/.venv/lib/python3.10/site-packages (from imgaug->paddleocr) (3.9.0)\r\n",
      "Requirement already satisfied: imageio in /home/daoan/Projects/AI_Challenge_HCMC_2024/.venv/lib/python3.10/site-packages (from imgaug->paddleocr) (2.34.0)\r\n",
      "Requirement already satisfied: networkx>=2.8 in /home/daoan/Projects/AI_Challenge_HCMC_2024/.venv/lib/python3.10/site-packages (from scikit-image->paddleocr) (3.3)\r\n",
      "Collecting tifffile>=2022.8.12 (from scikit-image->paddleocr)\r\n",
      "  Obtaining dependency information for tifffile>=2022.8.12 from https://files.pythonhosted.org/packages/fd/3a/6ec0327e238253a2b7adab0e542763fd639c4b3cef63b135a74ef3f454a7/tifffile-2024.8.10-py3-none-any.whl.metadata\r\n",
      "  Downloading tifffile-2024.8.10-py3-none-any.whl.metadata (31 kB)\r\n",
      "Requirement already satisfied: packaging>=21 in /home/daoan/Projects/AI_Challenge_HCMC_2024/.venv/lib/python3.10/site-packages (from scikit-image->paddleocr) (24.1)\r\n",
      "Requirement already satisfied: lazy-loader>=0.4 in /home/daoan/Projects/AI_Challenge_HCMC_2024/.venv/lib/python3.10/site-packages (from scikit-image->paddleocr) (0.4)\r\n",
      "Collecting lxml>=3.1.0 (from python-docx->paddleocr)\r\n",
      "  Obtaining dependency information for lxml>=3.1.0 from https://files.pythonhosted.org/packages/05/9e/87492d03ff604fbf656ed2bf3e2e8d28f5d58ea1f00ff27ac27b06509079/lxml-5.3.0-cp310-cp310-manylinux_2_28_x86_64.whl.metadata\r\n",
      "  Downloading lxml-5.3.0-cp310-cp310-manylinux_2_28_x86_64.whl.metadata (3.8 kB)\r\n",
      "Requirement already satisfied: typing-extensions>=4.9.0 in /home/daoan/Projects/AI_Challenge_HCMC_2024/.venv/lib/python3.10/site-packages (from python-docx->paddleocr) (4.12.2)\r\n",
      "Requirement already satisfied: charset-normalizer<4,>=2 in /home/daoan/Projects/AI_Challenge_HCMC_2024/.venv/lib/python3.10/site-packages (from requests->paddleocr) (3.3.2)\r\n",
      "Requirement already satisfied: idna<4,>=2.5 in /home/daoan/Projects/AI_Challenge_HCMC_2024/.venv/lib/python3.10/site-packages (from requests->paddleocr) (3.7)\r\n",
      "Requirement already satisfied: urllib3<3,>=1.21.1 in /home/daoan/Projects/AI_Challenge_HCMC_2024/.venv/lib/python3.10/site-packages (from requests->paddleocr) (2.2.2)\r\n",
      "Requirement already satisfied: certifi>=2017.4.17 in /home/daoan/Projects/AI_Challenge_HCMC_2024/.venv/lib/python3.10/site-packages (from requests->paddleocr) (2024.7.4)\r\n",
      "Requirement already satisfied: contourpy>=1.0.1 in /home/daoan/Projects/AI_Challenge_HCMC_2024/.venv/lib/python3.10/site-packages (from matplotlib->imgaug->paddleocr) (1.2.1)\r\n",
      "Requirement already satisfied: cycler>=0.10 in /home/daoan/Projects/AI_Challenge_HCMC_2024/.venv/lib/python3.10/site-packages (from matplotlib->imgaug->paddleocr) (0.12.1)\r\n",
      "Requirement already satisfied: kiwisolver>=1.3.1 in /home/daoan/Projects/AI_Challenge_HCMC_2024/.venv/lib/python3.10/site-packages (from matplotlib->imgaug->paddleocr) (1.4.5)\r\n",
      "Requirement already satisfied: pyparsing>=2.3.1 in /home/daoan/Projects/AI_Challenge_HCMC_2024/.venv/lib/python3.10/site-packages (from matplotlib->imgaug->paddleocr) (3.1.2)\r\n",
      "Requirement already satisfied: python-dateutil>=2.7 in /home/daoan/Projects/AI_Challenge_HCMC_2024/.venv/lib/python3.10/site-packages (from matplotlib->imgaug->paddleocr) (2.9.0.post0)\r\n",
      "Downloading paddleocr-2.8.1-py3-none-any.whl (407 kB)\r\n",
      "\u001B[2K   \u001B[90m━━━━━━━━━━━━━━━━━━━━━━━━━━━━━━━━━━━━━━━━\u001B[0m \u001B[32m407.5/407.5 kB\u001B[0m \u001B[31m1.4 MB/s\u001B[0m eta \u001B[36m0:00:00\u001B[0ma \u001B[36m0:00:01\u001B[0mm\r\n",
      "\u001B[?25hDownloading Cython-3.0.11-cp310-cp310-manylinux_2_17_x86_64.manylinux2014_x86_64.whl (3.6 MB)\r\n",
      "\u001B[2K   \u001B[90m━━━━━━━━━━━━━━━━━━━━━━━━━━━━━━━━━━━━━━━━\u001B[0m \u001B[32m3.6/3.6 MB\u001B[0m \u001B[31m2.2 MB/s\u001B[0m eta \u001B[36m0:00:00\u001B[0m00:01\u001B[0m00:01\u001B[0m\r\n",
      "\u001B[?25hDownloading imgaug-0.4.0-py2.py3-none-any.whl (948 kB)\r\n",
      "\u001B[2K   \u001B[90m━━━━━━━━━━━━━━━━━━━━━━━━━━━━━━━━━━━━━━━━\u001B[0m \u001B[32m948.0/948.0 kB\u001B[0m \u001B[31m2.8 MB/s\u001B[0m eta \u001B[36m0:00:00\u001B[0ma \u001B[36m0:00:01\u001B[0m\r\n",
      "\u001B[?25hDownloading scikit_image-0.24.0-cp310-cp310-manylinux_2_17_x86_64.manylinux2014_x86_64.whl (14.9 MB)\r\n",
      "\u001B[2K   \u001B[90m━━━━━━━━━━━━━━━━━━━━━━━━━━━━━━━━━━━━━━━━\u001B[0m \u001B[32m14.9/14.9 MB\u001B[0m \u001B[31m3.5 MB/s\u001B[0m eta \u001B[36m0:00:00\u001B[0m00:01\u001B[0m00:01\u001B[0m\r\n",
      "\u001B[?25hDownloading lmdb-1.5.1-cp310-cp310-manylinux_2_17_x86_64.manylinux2014_x86_64.whl (294 kB)\r\n",
      "\u001B[2K   \u001B[90m━━━━━━━━━━━━━━━━━━━━━━━━━━━━━━━━━━━━━━━━\u001B[0m \u001B[32m294.9/294.9 kB\u001B[0m \u001B[31m4.5 MB/s\u001B[0m eta \u001B[36m0:00:00\u001B[0ma \u001B[36m0:00:01\u001B[0m\r\n",
      "\u001B[?25hDownloading opencv_contrib_python-4.10.0.84-cp37-abi3-manylinux_2_17_x86_64.manylinux2014_x86_64.whl (68.7 MB)\r\n",
      "\u001B[2K   \u001B[90m━━━━━━━━━━━━━━━━━━━━━━━━━━━━━━━━━━━━━━━━\u001B[0m \u001B[32m68.7/68.7 MB\u001B[0m \u001B[31m4.5 MB/s\u001B[0m eta \u001B[36m0:00:00\u001B[0m00:01\u001B[0m00:01\u001B[0m\r\n",
      "\u001B[?25hDownloading pyclipper-1.3.0.post5-cp310-cp310-manylinux_2_12_x86_64.manylinux2010_x86_64.whl (908 kB)\r\n",
      "\u001B[2K   \u001B[90m━━━━━━━━━━━━━━━━━━━━━━━━━━━━━━━━━━━━━━━━\u001B[0m \u001B[32m908.3/908.3 kB\u001B[0m \u001B[31m5.0 MB/s\u001B[0m eta \u001B[36m0:00:00\u001B[0ma \u001B[36m0:00:01\u001B[0m\r\n",
      "\u001B[?25hDownloading python_docx-1.1.2-py3-none-any.whl (244 kB)\r\n",
      "\u001B[2K   \u001B[90m━━━━━━━━━━━━━━━━━━━━━━━━━━━━━━━━━━━━━━━━\u001B[0m \u001B[32m244.3/244.3 kB\u001B[0m \u001B[31m5.0 MB/s\u001B[0m eta \u001B[36m0:00:00\u001B[0ma \u001B[36m0:00:01\u001B[0m\r\n",
      "\u001B[?25hDownloading rapidfuzz-3.9.6-cp310-cp310-manylinux_2_17_x86_64.manylinux2014_x86_64.whl (3.4 MB)\r\n",
      "\u001B[2K   \u001B[90m━━━━━━━━━━━━━━━━━━━━━━━━━━━━━━━━━━━━━━━━\u001B[0m \u001B[32m3.4/3.4 MB\u001B[0m \u001B[31m4.8 MB/s\u001B[0m eta \u001B[36m0:00:00\u001B[0ma \u001B[36m0:00:01\u001B[0m\r\n",
      "\u001B[?25hDownloading shapely-2.0.5-cp310-cp310-manylinux_2_17_x86_64.manylinux2014_x86_64.whl (2.5 MB)\r\n",
      "\u001B[2K   \u001B[90m━━━━━━━━━━━━━━━━━━━━━━━━━━━━━━━━━━━━━━━━\u001B[0m \u001B[32m2.5/2.5 MB\u001B[0m \u001B[31m3.9 MB/s\u001B[0m eta \u001B[36m0:00:00\u001B[0ma \u001B[36m0:00:01\u001B[0m\r\n",
      "\u001B[?25hDownloading lxml-5.3.0-cp310-cp310-manylinux_2_28_x86_64.whl (5.0 MB)\r\n",
      "\u001B[2K   \u001B[90m━━━━━━━━━━━━━━━━━━━━━━━━━━━━━━━━━━━━━━━━\u001B[0m \u001B[32m5.0/5.0 MB\u001B[0m \u001B[31m4.5 MB/s\u001B[0m eta \u001B[36m0:00:00\u001B[0m00:01\u001B[0m00:01\u001B[0m\r\n",
      "\u001B[?25hDownloading tifffile-2024.8.10-py3-none-any.whl (225 kB)\r\n",
      "\u001B[2K   \u001B[90m━━━━━━━━━━━━━━━━━━━━━━━━━━━━━━━━━━━━━━━━\u001B[0m \u001B[32m225.8/225.8 kB\u001B[0m \u001B[31m5.0 MB/s\u001B[0m eta \u001B[36m0:00:00\u001B[0ma \u001B[36m0:00:01\u001B[0m\r\n",
      "\u001B[?25hBuilding wheels for collected packages: fire\r\n",
      "  Building wheel for fire (setup.py) ... \u001B[?25ldone\r\n",
      "\u001B[?25h  Created wheel for fire: filename=fire-0.6.0-py2.py3-none-any.whl size=117033 sha256=2555b1cdd95285574b4bedae2485eecb391c979a07a8c160b1b076660d62588d\r\n",
      "  Stored in directory: /tmp/pip-ephem-wheel-cache-2gd_kh56/wheels/d6/6d/5d/5b73fa0f46d01a793713f8859201361e9e581ced8c75e5c6a3\r\n",
      "Successfully built fire\r\n",
      "Installing collected packages: pyclipper, lmdb, tifffile, shapely, rapidfuzz, opencv-contrib-python, lxml, fire, cython, scikit-image, python-docx, imgaug, paddleocr\r\n",
      "Successfully installed cython-3.0.11 fire-0.6.0 imgaug-0.4.0 lmdb-1.5.1 lxml-5.3.0 opencv-contrib-python-4.10.0.84 paddleocr-2.8.1 pyclipper-1.3.0.post5 python-docx-1.1.2 rapidfuzz-3.9.6 scikit-image-0.24.0 shapely-2.0.5 tifffile-2024.8.10\r\n",
      "\r\n",
      "\u001B[1m[\u001B[0m\u001B[34;49mnotice\u001B[0m\u001B[1;39;49m]\u001B[0m\u001B[39;49m A new release of pip is available: \u001B[0m\u001B[31;49m23.2.1\u001B[0m\u001B[39;49m -> \u001B[0m\u001B[32;49m24.2\u001B[0m\r\n",
      "\u001B[1m[\u001B[0m\u001B[34;49mnotice\u001B[0m\u001B[1;39;49m]\u001B[0m\u001B[39;49m To update, run: \u001B[0m\u001B[32;49mpip install --upgrade pip\u001B[0m\r\n"
     ]
    }
   ],
   "execution_count": 1
  },
  {
   "metadata": {
    "ExecuteTime": {
     "end_time": "2024-09-14T12:34:17.937258Z",
     "start_time": "2024-09-14T12:34:17.934443Z"
    }
   },
   "cell_type": "code",
   "source": [
    "def create_all_folders_if_not_exists(path):\n",
    "    os.makedirs(path, exist_ok=True)"
   ],
   "id": "724c36a9394a8893",
   "outputs": [],
   "execution_count": 1
  },
  {
   "metadata": {
    "ExecuteTime": {
     "end_time": "2024-09-14T12:34:18.709558Z",
     "start_time": "2024-09-14T12:34:18.707181Z"
    }
   },
   "cell_type": "code",
   "source": [
    "def find_all_keyframes(root_dir, extensions=[\".jpg\"]):\n",
    "    keyframes_files = []\n",
    "    for dirpath, _, filenames in os.walk(root_dir):\n",
    "        for filename in filenames:\n",
    "            if any(filename.lower().endswith(ext) for ext in extensions):\n",
    "                keyframes_files.append(os.path.join(dirpath, filename))\n",
    "    return keyframes_files"
   ],
   "id": "bcd7fe8b731c939d",
   "outputs": [],
   "execution_count": 2
  },
  {
   "metadata": {
    "ExecuteTime": {
     "end_time": "2024-09-14T13:29:23.180497Z",
     "start_time": "2024-09-14T12:36:50.629470Z"
    }
   },
   "cell_type": "code",
   "source": [
    "import os\n",
    "import json\n",
    "from paddleocr import PaddleOCR\n",
    "from tqdm import tqdm\n",
    "\n",
    "# Initialize PaddleOCR with Vietnamese language support\n",
    "ocr = PaddleOCR(use_angle_cls=True, lang='vi', use_gpu=True, show_log=False, rec=False, det=True, cls=True)\n",
    "\n",
    "def text_detection(image_path):\n",
    "    # ocr path\n",
    "    ocr_path = image_path.replace('.jpg', '.json').replace('Keyframes', 'Text_detection')\n",
    "    create_all_folders_if_not_exists(os.path.dirname(ocr_path))\n",
    "    if os.path.exists(ocr_path):\n",
    "        return\n",
    "    # Perform text detection\n",
    "    result = ocr.ocr(image_path, cls=True)\n",
    "    # Extract boxes, texts, and scores\n",
    "    boxes = [line[0] for line in result[0]]\n",
    "\n",
    "    # write boxes to json\n",
    "    with open(ocr_path, 'w') as f:\n",
    "        json.dump(boxes, f)\n",
    "        \n",
    "Keyframes = find_all_keyframes('/media/daoan/T7 Shield2/AI_Challenge_2024_DATA/Keyframes')\n",
    "# filter keyframes has L04 L05 L06\n",
    "print(len(Keyframes))\n",
    "Keyframes = [kf for kf in Keyframes if 'L04' in kf or 'L05' in kf or 'L06' in kf]\n",
    "print(len(Keyframes))\n",
    "for image_path in tqdm(Keyframes, desc=\"Processing keyframes\"):\n",
    "    try :\n",
    "        text_detection(image_path)\n",
    "    except Exception as e:\n",
    "        print(f'Error processing {image_path}: {e}')"
   ],
   "id": "f58e0570d459c680",
   "outputs": [
    {
     "name": "stdout",
     "output_type": "stream",
     "text": [
      "478585\n",
      "121298\n"
     ]
    },
    {
     "name": "stderr",
     "output_type": "stream",
     "text": [
      "Processing keyframes:   2%|▏         | 2877/121298 [01:21<46:27, 42.49it/s]  "
     ]
    },
    {
     "name": "stdout",
     "output_type": "stream",
     "text": [
      "Error processing /media/daoan/T7 Shield2/AI_Challenge_2024_DATA/Keyframes/L04_extra/V002/031699.jpg: 'NoneType' object is not iterable\n"
     ]
    },
    {
     "name": "stderr",
     "output_type": "stream",
     "text": [
      "Processing keyframes:   9%|▊         | 10491/121298 [04:39<37:06, 49.77it/s]  "
     ]
    },
    {
     "name": "stdout",
     "output_type": "stream",
     "text": [
      "Error processing /media/daoan/T7 Shield2/AI_Challenge_2024_DATA/Keyframes/L04_extra/V009/000327.jpg: 'NoneType' object is not iterable\n"
     ]
    },
    {
     "name": "stderr",
     "output_type": "stream",
     "text": [
      "Processing keyframes:  13%|█▎        | 15181/121298 [06:39<35:37, 49.65it/s]  "
     ]
    },
    {
     "name": "stdout",
     "output_type": "stream",
     "text": [
      "Error processing /media/daoan/T7 Shield2/AI_Challenge_2024_DATA/Keyframes/L04_extra/V012/027704.jpg: 'NoneType' object is not iterable\n",
      "Error processing /media/daoan/T7 Shield2/AI_Challenge_2024_DATA/Keyframes/L04_extra/V012/027757.jpg: 'NoneType' object is not iterable\n"
     ]
    },
    {
     "name": "stderr",
     "output_type": "stream",
     "text": [
      "Processing keyframes:  25%|██▍       | 30148/121298 [13:11<38:52, 39.09it/s]  "
     ]
    },
    {
     "name": "stdout",
     "output_type": "stream",
     "text": [
      "Error processing /media/daoan/T7 Shield2/AI_Challenge_2024_DATA/Keyframes/L04_extra/V024/000656.jpg: 'NoneType' object is not iterable\n"
     ]
    },
    {
     "name": "stderr",
     "output_type": "stream",
     "text": [
      "Processing keyframes:  33%|███▎      | 40403/121298 [17:34<27:25, 49.16it/s]  "
     ]
    },
    {
     "name": "stdout",
     "output_type": "stream",
     "text": [
      "Error processing /media/daoan/T7 Shield2/AI_Challenge_2024_DATA/Keyframes/L05_extra/V001/028201.jpg: 'NoneType' object is not iterable\n",
      "Error processing /media/daoan/T7 Shield2/AI_Challenge_2024_DATA/Keyframes/L05_extra/V001/028216.jpg: 'NoneType' object is not iterable\n",
      "Error processing /media/daoan/T7 Shield2/AI_Challenge_2024_DATA/Keyframes/L05_extra/V001/028232.jpg: 'NoneType' object is not iterable\n"
     ]
    },
    {
     "name": "stderr",
     "output_type": "stream",
     "text": [
      "Processing keyframes:  52%|█████▏    | 63066/121298 [27:03<19:02, 50.99it/s]  "
     ]
    },
    {
     "name": "stdout",
     "output_type": "stream",
     "text": [
      "Error processing /media/daoan/T7 Shield2/AI_Challenge_2024_DATA/Keyframes/L05_extra/V019/029229.jpg: 'NoneType' object is not iterable\n",
      "Error processing /media/daoan/T7 Shield2/AI_Challenge_2024_DATA/Keyframes/L05_extra/V019/029280.jpg: 'NoneType' object is not iterable\n",
      "Error processing /media/daoan/T7 Shield2/AI_Challenge_2024_DATA/Keyframes/L05_extra/V019/029331.jpg: 'NoneType' object is not iterable\n",
      "Error processing /media/daoan/T7 Shield2/AI_Challenge_2024_DATA/Keyframes/L05_extra/V019/029383.jpg: 'NoneType' object is not iterable\n"
     ]
    },
    {
     "name": "stderr",
     "output_type": "stream",
     "text": [
      "Processing keyframes:  55%|█████▌    | 66750/121298 [28:37<17:57, 50.61it/s]"
     ]
    },
    {
     "name": "stdout",
     "output_type": "stream",
     "text": [
      "Error processing /media/daoan/T7 Shield2/AI_Challenge_2024_DATA/Keyframes/L05_extra/V022/029649.jpg: 'NoneType' object is not iterable\n"
     ]
    },
    {
     "name": "stderr",
     "output_type": "stream",
     "text": [
      "Processing keyframes:  69%|██████▊   | 83349/121298 [35:46<12:47, 49.42it/s]  "
     ]
    },
    {
     "name": "stdout",
     "output_type": "stream",
     "text": [
      "Error processing /media/daoan/T7 Shield2/AI_Challenge_2024_DATA/Keyframes/L06_extra/V005/000385.jpg: 'NoneType' object is not iterable\n"
     ]
    },
    {
     "name": "stderr",
     "output_type": "stream",
     "text": [
      "Processing keyframes:  72%|███████▏  | 87863/121298 [37:45<12:04, 46.14it/s]"
     ]
    },
    {
     "name": "stdout",
     "output_type": "stream",
     "text": [
      "Error processing /media/daoan/T7 Shield2/AI_Challenge_2024_DATA/Keyframes/L06_extra/V008/011736.jpg: 'NoneType' object is not iterable\n"
     ]
    },
    {
     "name": "stderr",
     "output_type": "stream",
     "text": [
      "Processing keyframes:  76%|███████▌  | 92039/121298 [39:35<10:38, 45.79it/s]"
     ]
    },
    {
     "name": "stdout",
     "output_type": "stream",
     "text": [
      "Error processing /media/daoan/T7 Shield2/AI_Challenge_2024_DATA/Keyframes/L06_extra/V011/008238.jpg: 'NoneType' object is not iterable\n",
      "Error processing /media/daoan/T7 Shield2/AI_Challenge_2024_DATA/Keyframes/L06_extra/V011/008251.jpg: 'NoneType' object is not iterable\n",
      "Error processing /media/daoan/T7 Shield2/AI_Challenge_2024_DATA/Keyframes/L06_extra/V011/008265.jpg: 'NoneType' object is not iterable\n",
      "Error processing /media/daoan/T7 Shield2/AI_Challenge_2024_DATA/Keyframes/L06_extra/V011/008279.jpg: 'NoneType' object is not iterable\n"
     ]
    },
    {
     "name": "stderr",
     "output_type": "stream",
     "text": [
      "Processing keyframes:  83%|████████▎ | 100679/121298 [43:27<07:35, 45.25it/s]"
     ]
    },
    {
     "name": "stdout",
     "output_type": "stream",
     "text": [
      "Error processing /media/daoan/T7 Shield2/AI_Challenge_2024_DATA/Keyframes/L06_extra/V017/009300.jpg: 'NoneType' object is not iterable\n"
     ]
    },
    {
     "name": "stderr",
     "output_type": "stream",
     "text": [
      "Processing keyframes:  83%|████████▎ | 100977/121298 [43:35<07:46, 43.58it/s]"
     ]
    },
    {
     "name": "stdout",
     "output_type": "stream",
     "text": [
      "Error processing /media/daoan/T7 Shield2/AI_Challenge_2024_DATA/Keyframes/L06_extra/V017/017579.jpg: 'NoneType' object is not iterable\n"
     ]
    },
    {
     "name": "stderr",
     "output_type": "stream",
     "text": [
      "Processing keyframes:  84%|████████▎ | 101432/121298 [43:47<06:51, 48.28it/s]"
     ]
    },
    {
     "name": "stdout",
     "output_type": "stream",
     "text": [
      "Error processing /media/daoan/T7 Shield2/AI_Challenge_2024_DATA/Keyframes/L06_extra/V017/030623.jpg: 'NoneType' object is not iterable\n"
     ]
    },
    {
     "name": "stderr",
     "output_type": "stream",
     "text": [
      "Processing keyframes:  85%|████████▍ | 102928/121298 [44:27<06:59, 43.76it/s]"
     ]
    },
    {
     "name": "stdout",
     "output_type": "stream",
     "text": [
      "Error processing /media/daoan/T7 Shield2/AI_Challenge_2024_DATA/Keyframes/L06_extra/V019/000462.jpg: 'NoneType' object is not iterable\n"
     ]
    },
    {
     "name": "stderr",
     "output_type": "stream",
     "text": [
      "Processing keyframes:  86%|████████▌ | 104200/121298 [45:00<05:54, 48.21it/s]"
     ]
    },
    {
     "name": "stdout",
     "output_type": "stream",
     "text": [
      "Error processing /media/daoan/T7 Shield2/AI_Challenge_2024_DATA/Keyframes/L06_extra/V019/028444.jpg: 'NoneType' object is not iterable\n",
      "Error processing /media/daoan/T7 Shield2/AI_Challenge_2024_DATA/Keyframes/L06_extra/V019/028454.jpg: 'NoneType' object is not iterable\n",
      "Error processing /media/daoan/T7 Shield2/AI_Challenge_2024_DATA/Keyframes/L06_extra/V019/028465.jpg: 'NoneType' object is not iterable\n"
     ]
    },
    {
     "name": "stderr",
     "output_type": "stream",
     "text": [
      "Processing keyframes:  86%|████████▌ | 104211/121298 [45:00<05:56, 47.93it/s]"
     ]
    },
    {
     "name": "stdout",
     "output_type": "stream",
     "text": [
      "Error processing /media/daoan/T7 Shield2/AI_Challenge_2024_DATA/Keyframes/L06_extra/V019/028880.jpg: 'NoneType' object is not iterable\n"
     ]
    },
    {
     "name": "stderr",
     "output_type": "stream",
     "text": [
      "Processing keyframes:  86%|████████▋ | 104877/121298 [45:18<06:11, 44.25it/s]"
     ]
    },
    {
     "name": "stdout",
     "output_type": "stream",
     "text": [
      "Error processing /media/daoan/T7 Shield2/AI_Challenge_2024_DATA/Keyframes/L06_extra/V020/012937.jpg: 'NoneType' object is not iterable\n"
     ]
    },
    {
     "name": "stderr",
     "output_type": "stream",
     "text": [
      "Processing keyframes:  91%|█████████▏| 110704/121298 [47:55<04:03, 43.45it/s]"
     ]
    },
    {
     "name": "stdout",
     "output_type": "stream",
     "text": [
      "Error processing /media/daoan/T7 Shield2/AI_Challenge_2024_DATA/Keyframes/L06_extra/V024/010961.jpg: 'NoneType' object is not iterable\n"
     ]
    },
    {
     "name": "stderr",
     "output_type": "stream",
     "text": [
      "Processing keyframes: 100%|██████████| 121298/121298 [52:31<00:00, 38.49it/s]\n"
     ]
    }
   ],
   "execution_count": 6
  },
  {
   "metadata": {},
   "cell_type": "code",
   "outputs": [],
   "execution_count": null,
   "source": "",
   "id": "2ec1f43ae3f45b59"
  }
 ],
 "metadata": {
  "kernelspec": {
   "display_name": "Python 3",
   "language": "python",
   "name": "python3"
  },
  "language_info": {
   "codemirror_mode": {
    "name": "ipython",
    "version": 2
   },
   "file_extension": ".py",
   "mimetype": "text/x-python",
   "name": "python",
   "nbconvert_exporter": "python",
   "pygments_lexer": "ipython2",
   "version": "2.7.6"
  }
 },
 "nbformat": 4,
 "nbformat_minor": 5
}
