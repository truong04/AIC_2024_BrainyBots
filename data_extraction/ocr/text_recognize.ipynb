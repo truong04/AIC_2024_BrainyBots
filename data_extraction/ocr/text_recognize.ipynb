{
 "cells": [
  {
   "cell_type": "code",
   "id": "initial_id",
   "metadata": {
    "collapsed": true,
    "ExecuteTime": {
     "end_time": "2024-08-17T16:25:53.740783Z",
     "start_time": "2024-08-17T16:25:06.381541Z"
    }
   },
   "source": "!pip install --quiet vietocr",
   "outputs": [
    {
     "name": "stdout",
     "output_type": "stream",
     "text": [
      "\u001B[31mERROR: pip's dependency resolver does not currently take into account all the packages that are installed. This behaviour is the source of the following dependency conflicts.\r\n",
      "einops-exts 0.0.4 requires einops>=0.4, but you have einops 0.2.0 which is incompatible.\r\n",
      "pyannote-audio 3.3.1 requires einops>=0.6.0, but you have einops 0.2.0 which is incompatible.\u001B[0m\u001B[31m\r\n",
      "\u001B[0m\r\n",
      "\u001B[1m[\u001B[0m\u001B[34;49mnotice\u001B[0m\u001B[1;39;49m]\u001B[0m\u001B[39;49m A new release of pip is available: \u001B[0m\u001B[31;49m23.2.1\u001B[0m\u001B[39;49m -> \u001B[0m\u001B[32;49m24.2\u001B[0m\r\n",
      "\u001B[1m[\u001B[0m\u001B[34;49mnotice\u001B[0m\u001B[1;39;49m]\u001B[0m\u001B[39;49m To update, run: \u001B[0m\u001B[32;49mpip install --upgrade pip\u001B[0m\r\n"
     ]
    }
   ],
   "execution_count": 1
  },
  {
   "metadata": {
    "ExecuteTime": {
     "end_time": "2024-09-14T15:56:05.985997Z",
     "start_time": "2024-09-14T15:56:05.887111Z"
    }
   },
   "cell_type": "code",
   "source": [
    "import os\n",
    "import cv2\n",
    "import numpy as np\n",
    "\n",
    "def crop_bounding_boxes(image_path, boxes, output_folder):\n",
    "    # Load the image\n",
    "    image = cv2.imread(image_path)\n",
    "\n",
    "    # Create the output folder\n",
    "    if not os.path.exists(output_folder):\n",
    "        os.makedirs(output_folder)\n",
    "\n",
    "    # Crop the bounding boxes\n",
    "    for i, box in enumerate(boxes):\n",
    "        # Convert box coordinates to integer\n",
    "        box = np.array(box).astype(int)\n",
    "        \n",
    "        # Calculate width and height of the bounding box\n",
    "        width = int(np.linalg.norm(box[0] - box[1]))\n",
    "        height = int(np.linalg.norm(box[0] - box[3]))\n",
    "        \n",
    "        # Ensure the text is always horizontal\n",
    "        src_pts = box.astype(\"float32\")\n",
    "        dst_pts = np.array([[0, 0], [width, 0], [width, height], [0, height]], dtype=\"float32\")\n",
    "        M = cv2.getPerspectiveTransform(src_pts, dst_pts)\n",
    "        \n",
    "        # Apply the perspective transformation\n",
    "        cropped_image = cv2.warpPerspective(image, M, (width, height))\n",
    "        \n",
    "        if height * 1.0 / width >= 1.5:\n",
    "            cropped_image = cv2.rotate(cropped_image, cv2.ROTATE_90_CLOCKWISE)            \n",
    "        \n",
    "        # Save the cropped image\n",
    "        cv2.imwrite(f'{output_folder}/{i}.png', cropped_image)\n"
   ],
   "id": "f079e266ea29909f",
   "outputs": [],
   "execution_count": 1
  },
  {
   "metadata": {
    "ExecuteTime": {
     "end_time": "2024-09-14T15:56:08.802622Z",
     "start_time": "2024-09-14T15:56:08.800784Z"
    }
   },
   "cell_type": "code",
   "source": [
    "def create_all_folders_if_not_exists(path):\n",
    "    os.makedirs(path, exist_ok=True)"
   ],
   "id": "28a3913d96964658",
   "outputs": [],
   "execution_count": 2
  },
  {
   "metadata": {
    "ExecuteTime": {
     "end_time": "2024-09-14T15:56:11.035237Z",
     "start_time": "2024-09-14T15:56:11.032265Z"
    }
   },
   "cell_type": "code",
   "source": [
    "def find_all_text_detection(root_dir, extensions=[\".json\"]):\n",
    "    text_detection_files = []\n",
    "    for dirpath, _, filenames in os.walk(root_dir):\n",
    "        for filename in filenames:\n",
    "            if any(filename.lower().endswith(ext) for ext in extensions):\n",
    "                text_detection_files.append(os.path.join(dirpath, filename))\n",
    "    return text_detection_files"
   ],
   "id": "38b1567674a7cef1",
   "outputs": [],
   "execution_count": 3
  },
  {
   "metadata": {
    "ExecuteTime": {
     "end_time": "2024-09-14T15:56:43.107218Z",
     "start_time": "2024-09-14T15:56:42.673025Z"
    }
   },
   "cell_type": "code",
   "source": "text_detections = find_all_text_detection(\"/media/daoan/T7 Shield2/AI_Challenge_2024_DATA/Text_detection\")",
   "id": "e367a9d740cd2b28",
   "outputs": [],
   "execution_count": 4
  },
  {
   "metadata": {
    "ExecuteTime": {
     "end_time": "2024-09-14T15:57:57.399750Z",
     "start_time": "2024-09-14T15:56:48.779130Z"
    }
   },
   "cell_type": "code",
   "source": [
    "import torch\n",
    "# Import necessary libraries\n",
    "from vietocr.tool.predictor import Predictor\n",
    "from vietocr.tool.config import Cfg\n",
    "from PIL import Image\n",
    "\n",
    "# Load the pre-trained VietOCR model\n",
    "config = Cfg.load_config_from_name('vgg_seq2seq')\n",
    "config['device'] = 'cuda' if torch.cuda.is_available() else 'cpu'\n",
    "detector = Predictor(config)"
   ],
   "id": "c5332d011262cbf6",
   "outputs": [
    {
     "name": "stderr",
     "output_type": "stream",
     "text": [
      "10935it [01:04, 169.46it/s]\n"
     ]
    }
   ],
   "execution_count": 5
  },
  {
   "metadata": {
    "ExecuteTime": {
     "end_time": "2024-09-14T15:58:02.253378Z",
     "start_time": "2024-09-14T15:58:02.251055Z"
    }
   },
   "cell_type": "code",
   "source": [
    "import json\n",
    "\n",
    "def recognize_text(image_path):\n",
    "    # Load the image\n",
    "    image = Image.open(image_path)\n",
    "\n",
    "    # Perform text recognition\n",
    "    text = detector.predict(image)\n",
    "\n",
    "    return text"
   ],
   "id": "eadd5c57e70a17d",
   "outputs": [],
   "execution_count": 6
  },
  {
   "metadata": {
    "ExecuteTime": {
     "end_time": "2024-09-14T17:58:00.024883Z",
     "start_time": "2024-09-14T15:58:06.033615Z"
    }
   },
   "cell_type": "code",
   "source": [
    "import json\n",
    "from tqdm import tqdm\n",
    "\n",
    "for text_detection in tqdm(text_detections, desc=\"Processing text_recognition\"):\n",
    "    text_reg = text_detection.replace(\".json\", \".txt\").replace(\"Text_detection\", \"Text_reg\")\n",
    "    if os.path.exists(text_reg):\n",
    "        continue\n",
    "    create_all_folders_if_not_exists(os.path.dirname(text_reg))\n",
    "    keyframe = text_detection.replace(\".json\", \".jpg\").replace(\"Text_detection\", \"Keyframes\")\n",
    "    \n",
    "    if not os.path.exists(keyframe):\n",
    "        continue\n",
    "    with open(text_detection, \"r\") as f:\n",
    "        data = json.load(f)\n",
    "        # check tmp folder exists\n",
    "        if os.path.exists(\"tmp\"):\n",
    "            os.system(f\"rm -rf tmp\")\n",
    "        crop_bounding_boxes(keyframe, data, \"tmp\")\n",
    "        total_text = \"\"\n",
    "        for i, file in enumerate(os.listdir(\"tmp\")):\n",
    "            text = recognize_text(f\"tmp/{file}\")\n",
    "            total_text += text + \" \"\n",
    "        total_text = total_text.strip()\n",
    "        if len(total_text) > 0:\n",
    "            with open(text_reg, \"w\", encoding=\"utf-8\") as f:\n",
    "                f.write(total_text)\n",
    "     "
   ],
   "id": "bd0d9e59a1fdbc45",
   "outputs": [
    {
     "name": "stderr",
     "output_type": "stream",
     "text": [
      "Processing text_recognition:  28%|██▊       | 33681/121269 [34:07<1:23:25, 17.50it/s] /home/daoan/Projects/AI_Challenge_HCMC_2024/.venv/lib/python3.10/site-packages/vietocr/tool/translate.py:115: RuntimeWarning: invalid value encountered in divide\n",
      "  char_probs = np.sum(char_probs, axis=-1)/(char_probs>0).sum(-1)\n",
      "Processing text_recognition: 100%|██████████| 121269/121269 [1:59:53<00:00, 16.86it/s]  \n"
     ]
    }
   ],
   "execution_count": 7
  },
  {
   "metadata": {},
   "cell_type": "code",
   "outputs": [],
   "execution_count": null,
   "source": "",
   "id": "eeeb61f6d74c43a0"
  }
 ],
 "metadata": {
  "kernelspec": {
   "display_name": "Python 3",
   "language": "python",
   "name": "python3"
  },
  "language_info": {
   "codemirror_mode": {
    "name": "ipython",
    "version": 2
   },
   "file_extension": ".py",
   "mimetype": "text/x-python",
   "name": "python",
   "nbconvert_exporter": "python",
   "pygments_lexer": "ipython2",
   "version": "2.7.6"
  }
 },
 "nbformat": 4,
 "nbformat_minor": 5
}
